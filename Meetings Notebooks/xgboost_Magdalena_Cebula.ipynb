{
  "nbformat": 4,
  "nbformat_minor": 0,
  "metadata": {
    "colab": {
      "name": "xgboost - Magdalena Cebula",
      "provenance": [],
      "collapsed_sections": []
    },
    "kernelspec": {
      "name": "python3",
      "display_name": "Python 3"
    },
    "accelerator": "GPU"
  },
  "cells": [
    {
      "cell_type": "code",
      "metadata": {
        "id": "Rb7jKMkfyOTE"
      },
      "source": [
        "import pandas as pd\n",
        "import numpy as np\n",
        "\n",
        "\n",
        "from sklearn.metrics import make_scorer, f1_score, precision_score, recall_score, accuracy_score, roc_curve, roc_auc_score\n",
        "from sklearn.model_selection import cross_val_score, KFold\n",
        "from sklearn.tree import DecisionTreeClassifier\n",
        "\n",
        "from time import time\n",
        "import scipy.stats as stats\n",
        "from sklearn.utils.fixes import loguniform\n",
        "from scipy.stats import uniform\n",
        "import matplotlib.pyplot as plt\n",
        "\n",
        "from hyperopt import fmin, tpe, hp, STATUS_OK, Trials\n",
        "\n",
        "import xgboost as xgb"
      ],
      "execution_count": 1,
      "outputs": []
    },
    {
      "cell_type": "code",
      "metadata": {
        "id": "IpmYTs8yycaC"
      },
      "source": [
        "raw_train = pd.read_csv('/content/drive/My Drive/Colab Notebooks/Cancellation/data/datasets/Train_raw.csv')\n",
        "raw_test = pd.read_csv('/content/drive/My Drive/Colab Notebooks/Cancellation/data/datasets/Test_raw.csv')\n",
        "\n",
        "Adasyn_train = pd.read_csv('/content/drive/My Drive/Colab Notebooks/Cancellation/data/datasets/Adasyn_train.csv')\n",
        "Adasyn_test = pd.read_csv('/content/drive/My Drive/Colab Notebooks/Cancellation/data/datasets/Adasyn_test.csv')\n",
        "\n",
        "Nearmiss_train = pd.read_csv('/content/drive/My Drive/Colab Notebooks/Cancellation/data/datasets/Nearmiss_train.csv')\n",
        "Nearmiss_test = pd.read_csv('/content/drive/My Drive/Colab Notebooks/Cancellation/data/datasets/Nearmiss_test.csv')\n",
        "\n",
        "ROS_train = pd.read_csv('/content/drive/My Drive/Colab Notebooks/Cancellation/data/datasets/ROS_train.csv')\n",
        "ROS_test = pd.read_csv('/content/drive/My Drive/Colab Notebooks/Cancellation/data/datasets/ROS_test.csv')\n",
        "\n",
        "RUS_train = pd.read_csv('/content/drive/My Drive/Colab Notebooks/Cancellation/data/datasets/RUS_train.csv')\n",
        "RUS_test = pd.read_csv('/content/drive/My Drive/Colab Notebooks/Cancellation/data/datasets/RUS_test.csv')\n",
        "\n",
        "SMOTETomek_train = pd.read_csv('/content/drive/My Drive/Colab Notebooks/Cancellation/data/datasets/SMOTETomek_train.csv')\n",
        "SMOTETomek_test = pd.read_csv('/content/drive/My Drive/Colab Notebooks/Cancellation/data/datasets/SMOTETomek_test.csv')"
      ],
      "execution_count": 2,
      "outputs": []
    },
    {
      "cell_type": "code",
      "metadata": {
        "id": "49su-rUEMe0S",
        "colab": {
          "base_uri": "https://localhost:8080/"
        },
        "outputId": "aa09840f-0571-4884-9f7f-391f1a86b0d2"
      },
      "source": [
        "pip install neptune-client"
      ],
      "execution_count": 3,
      "outputs": [
        {
          "output_type": "stream",
          "text": [
            "Requirement already satisfied: neptune-client in /usr/local/lib/python3.6/dist-packages (0.4.129)\n",
            "Requirement already satisfied: oauthlib>=2.1.0 in /usr/local/lib/python3.6/dist-packages (from neptune-client) (3.1.0)\n",
            "Requirement already satisfied: py3nvml in /usr/local/lib/python3.6/dist-packages (from neptune-client) (0.2.6)\n",
            "Requirement already satisfied: future>=0.17.1 in /usr/local/lib/python3.6/dist-packages (from neptune-client) (0.18.2)\n",
            "Requirement already satisfied: requests-oauthlib>=1.0.0 in /usr/local/lib/python3.6/dist-packages (from neptune-client) (1.3.0)\n",
            "Requirement already satisfied: websocket-client>=0.35.0 in /usr/local/lib/python3.6/dist-packages (from neptune-client) (0.57.0)\n",
            "Requirement already satisfied: GitPython>=2.0.8 in /usr/local/lib/python3.6/dist-packages (from neptune-client) (3.1.11)\n",
            "Requirement already satisfied: requests>=2.20.0 in /usr/local/lib/python3.6/dist-packages (from neptune-client) (2.23.0)\n",
            "Requirement already satisfied: six>=1.12.0 in /usr/local/lib/python3.6/dist-packages (from neptune-client) (1.15.0)\n",
            "Requirement already satisfied: PyJWT in /usr/local/lib/python3.6/dist-packages (from neptune-client) (1.7.1)\n",
            "Requirement already satisfied: packaging in /usr/local/lib/python3.6/dist-packages (from neptune-client) (20.7)\n",
            "Requirement already satisfied: click>=7.0 in /usr/local/lib/python3.6/dist-packages (from neptune-client) (7.1.2)\n",
            "Requirement already satisfied: pandas in /usr/local/lib/python3.6/dist-packages (from neptune-client) (1.1.5)\n",
            "Requirement already satisfied: Pillow>=1.1.6 in /usr/local/lib/python3.6/dist-packages (from neptune-client) (7.0.0)\n",
            "Requirement already satisfied: bravado in /usr/local/lib/python3.6/dist-packages (from neptune-client) (11.0.2)\n",
            "Requirement already satisfied: xmltodict in /usr/local/lib/python3.6/dist-packages (from py3nvml->neptune-client) (0.12.0)\n",
            "Requirement already satisfied: gitdb<5,>=4.0.1 in /usr/local/lib/python3.6/dist-packages (from GitPython>=2.0.8->neptune-client) (4.0.5)\n",
            "Requirement already satisfied: urllib3!=1.25.0,!=1.25.1,<1.26,>=1.21.1 in /usr/local/lib/python3.6/dist-packages (from requests>=2.20.0->neptune-client) (1.24.3)\n",
            "Requirement already satisfied: idna<3,>=2.5 in /usr/local/lib/python3.6/dist-packages (from requests>=2.20.0->neptune-client) (2.10)\n",
            "Requirement already satisfied: certifi>=2017.4.17 in /usr/local/lib/python3.6/dist-packages (from requests>=2.20.0->neptune-client) (2020.12.5)\n",
            "Requirement already satisfied: chardet<4,>=3.0.2 in /usr/local/lib/python3.6/dist-packages (from requests>=2.20.0->neptune-client) (3.0.4)\n",
            "Requirement already satisfied: pyparsing>=2.0.2 in /usr/local/lib/python3.6/dist-packages (from packaging->neptune-client) (2.4.7)\n",
            "Requirement already satisfied: pytz>=2017.2 in /usr/local/lib/python3.6/dist-packages (from pandas->neptune-client) (2018.9)\n",
            "Requirement already satisfied: numpy>=1.15.4 in /usr/local/lib/python3.6/dist-packages (from pandas->neptune-client) (1.18.5)\n",
            "Requirement already satisfied: python-dateutil>=2.7.3 in /usr/local/lib/python3.6/dist-packages (from pandas->neptune-client) (2.8.1)\n",
            "Requirement already satisfied: simplejson in /usr/local/lib/python3.6/dist-packages (from bravado->neptune-client) (3.17.2)\n",
            "Requirement already satisfied: msgpack in /usr/local/lib/python3.6/dist-packages (from bravado->neptune-client) (1.0.0)\n",
            "Requirement already satisfied: typing-extensions in /usr/local/lib/python3.6/dist-packages (from bravado->neptune-client) (3.7.4.3)\n",
            "Requirement already satisfied: bravado-core>=5.16.1 in /usr/local/lib/python3.6/dist-packages (from bravado->neptune-client) (5.17.0)\n",
            "Requirement already satisfied: pyyaml in /usr/local/lib/python3.6/dist-packages (from bravado->neptune-client) (3.13)\n",
            "Requirement already satisfied: monotonic in /usr/local/lib/python3.6/dist-packages (from bravado->neptune-client) (1.5)\n",
            "Requirement already satisfied: smmap<4,>=3.0.1 in /usr/local/lib/python3.6/dist-packages (from gitdb<5,>=4.0.1->GitPython>=2.0.8->neptune-client) (3.0.4)\n",
            "Requirement already satisfied: jsonref in /usr/local/lib/python3.6/dist-packages (from bravado-core>=5.16.1->bravado->neptune-client) (0.2)\n",
            "Requirement already satisfied: swagger-spec-validator>=2.0.1 in /usr/local/lib/python3.6/dist-packages (from bravado-core>=5.16.1->bravado->neptune-client) (2.7.3)\n",
            "Requirement already satisfied: jsonschema[format]>=2.5.1 in /usr/local/lib/python3.6/dist-packages (from bravado-core>=5.16.1->bravado->neptune-client) (2.6.0)\n",
            "Requirement already satisfied: webcolors; extra == \"format\" in /usr/local/lib/python3.6/dist-packages (from jsonschema[format]>=2.5.1->bravado-core>=5.16.1->bravado->neptune-client) (1.11.1)\n",
            "Requirement already satisfied: strict-rfc3339; extra == \"format\" in /usr/local/lib/python3.6/dist-packages (from jsonschema[format]>=2.5.1->bravado-core>=5.16.1->bravado->neptune-client) (0.7)\n",
            "Requirement already satisfied: rfc3987; extra == \"format\" in /usr/local/lib/python3.6/dist-packages (from jsonschema[format]>=2.5.1->bravado-core>=5.16.1->bravado->neptune-client) (1.3.8)\n"
          ],
          "name": "stdout"
        }
      ]
    },
    {
      "cell_type": "code",
      "metadata": {
        "id": "qnnJcNN-Mgkp",
        "colab": {
          "base_uri": "https://localhost:8080/"
        },
        "outputId": "c4a84605-4fde-44f4-9e0f-6c1f88a38f6c"
      },
      "source": [
        "import neptune\n",
        "\n",
        "API_TOKEN='' #@param {type:\"string\"}\n",
        "\n",
        "PROJEKT_NAME = 'DataWorkshop-Foundation/Predicting-cancellation-of-visit' \n",
        "\n",
        "neptune.init(\n",
        "   api_token=API_TOKEN,\n",
        "   project_qualified_name=PROJEKT_NAME\n",
        ")"
      ],
      "execution_count": 4,
      "outputs": [
        {
          "output_type": "execute_result",
          "data": {
            "text/plain": [
              "Project(DataWorkshop-Foundation/Predicting-cancellation-of-visit)"
            ]
          },
          "metadata": {
            "tags": []
          },
          "execution_count": 4
        }
      ]
    },
    {
      "cell_type": "code",
      "metadata": {
        "id": "IoTVg-9IsUIZ",
        "colab": {
          "base_uri": "https://localhost:8080/",
          "height": 226
        },
        "outputId": "ecd31166-a38d-4c23-a757-2e44e39e9e55"
      },
      "source": [
        "raw_train.head()"
      ],
      "execution_count": 5,
      "outputs": [
        {
          "output_type": "execute_result",
          "data": {
            "text/html": [
              "<div>\n",
              "<style scoped>\n",
              "    .dataframe tbody tr th:only-of-type {\n",
              "        vertical-align: middle;\n",
              "    }\n",
              "\n",
              "    .dataframe tbody tr th {\n",
              "        vertical-align: top;\n",
              "    }\n",
              "\n",
              "    .dataframe thead th {\n",
              "        text-align: right;\n",
              "    }\n",
              "</style>\n",
              "<table border=\"1\" class=\"dataframe\">\n",
              "  <thead>\n",
              "    <tr style=\"text-align: right;\">\n",
              "      <th></th>\n",
              "      <th>PatientId</th>\n",
              "      <th>Gender</th>\n",
              "      <th>Age</th>\n",
              "      <th>Neighbourhood_0</th>\n",
              "      <th>Neighbourhood_1</th>\n",
              "      <th>Neighbourhood_2</th>\n",
              "      <th>Neighbourhood_3</th>\n",
              "      <th>Neighbourhood_4</th>\n",
              "      <th>Neighbourhood_5</th>\n",
              "      <th>Neighbourhood_6</th>\n",
              "      <th>Neighbourhood_7</th>\n",
              "      <th>Scholarship</th>\n",
              "      <th>Hypertension</th>\n",
              "      <th>Diabetes</th>\n",
              "      <th>Alcoholism</th>\n",
              "      <th>Handicap</th>\n",
              "      <th>SMSReceived</th>\n",
              "      <th>MonthBookingDate_0</th>\n",
              "      <th>MonthBookingDate_1</th>\n",
              "      <th>MonthBookingDate_2</th>\n",
              "      <th>MonthBookingDate_3</th>\n",
              "      <th>DayBookingDate_0</th>\n",
              "      <th>DayBookingDate_1</th>\n",
              "      <th>DayBookingDate_2</th>\n",
              "      <th>DayBookingDate_3</th>\n",
              "      <th>DayBookingDate_4</th>\n",
              "      <th>DayBookingDate_5</th>\n",
              "      <th>MonthAppointmentDate_0</th>\n",
              "      <th>MonthAppointmentDate_1</th>\n",
              "      <th>MonthAppointmentDate_2</th>\n",
              "      <th>DayAppointmentDate_0</th>\n",
              "      <th>DayAppointmentDate_1</th>\n",
              "      <th>DayAppointmentDate_2</th>\n",
              "      <th>DayAppointmentDate_3</th>\n",
              "      <th>DayAppointmentDate_4</th>\n",
              "      <th>DayAppointmentDate_5</th>\n",
              "      <th>HourOfDayBooking_0</th>\n",
              "      <th>DaysToAppointment</th>\n",
              "      <th>AppointmentWeekDay_0</th>\n",
              "      <th>AppointmentWeekDay_1</th>\n",
              "      <th>AppointmentWeekDay_2</th>\n",
              "      <th>AppointmentWeekDay_3</th>\n",
              "      <th>NoShow</th>\n",
              "    </tr>\n",
              "  </thead>\n",
              "  <tbody>\n",
              "    <tr>\n",
              "      <th>0</th>\n",
              "      <td>4652519881919</td>\n",
              "      <td>0</td>\n",
              "      <td>8</td>\n",
              "      <td>0</td>\n",
              "      <td>0</td>\n",
              "      <td>0</td>\n",
              "      <td>1</td>\n",
              "      <td>0</td>\n",
              "      <td>1</td>\n",
              "      <td>1</td>\n",
              "      <td>0</td>\n",
              "      <td>0</td>\n",
              "      <td>0</td>\n",
              "      <td>0</td>\n",
              "      <td>0</td>\n",
              "      <td>0</td>\n",
              "      <td>0</td>\n",
              "      <td>0</td>\n",
              "      <td>1</td>\n",
              "      <td>0</td>\n",
              "      <td>1</td>\n",
              "      <td>0</td>\n",
              "      <td>1</td>\n",
              "      <td>1</td>\n",
              "      <td>1</td>\n",
              "      <td>0</td>\n",
              "      <td>1</td>\n",
              "      <td>0</td>\n",
              "      <td>1</td>\n",
              "      <td>0</td>\n",
              "      <td>0</td>\n",
              "      <td>0</td>\n",
              "      <td>0</td>\n",
              "      <td>0</td>\n",
              "      <td>1</td>\n",
              "      <td>0</td>\n",
              "      <td>1</td>\n",
              "      <td>1</td>\n",
              "      <td>0</td>\n",
              "      <td>0</td>\n",
              "      <td>1</td>\n",
              "      <td>0</td>\n",
              "      <td>0</td>\n",
              "    </tr>\n",
              "    <tr>\n",
              "      <th>1</th>\n",
              "      <td>81431485833737</td>\n",
              "      <td>0</td>\n",
              "      <td>74</td>\n",
              "      <td>0</td>\n",
              "      <td>0</td>\n",
              "      <td>1</td>\n",
              "      <td>0</td>\n",
              "      <td>1</td>\n",
              "      <td>0</td>\n",
              "      <td>0</td>\n",
              "      <td>1</td>\n",
              "      <td>0</td>\n",
              "      <td>0</td>\n",
              "      <td>0</td>\n",
              "      <td>0</td>\n",
              "      <td>0</td>\n",
              "      <td>0</td>\n",
              "      <td>0</td>\n",
              "      <td>0</td>\n",
              "      <td>0</td>\n",
              "      <td>1</td>\n",
              "      <td>0</td>\n",
              "      <td>0</td>\n",
              "      <td>0</td>\n",
              "      <td>0</td>\n",
              "      <td>1</td>\n",
              "      <td>0</td>\n",
              "      <td>0</td>\n",
              "      <td>1</td>\n",
              "      <td>0</td>\n",
              "      <td>0</td>\n",
              "      <td>1</td>\n",
              "      <td>0</td>\n",
              "      <td>0</td>\n",
              "      <td>0</td>\n",
              "      <td>1</td>\n",
              "      <td>1</td>\n",
              "      <td>12</td>\n",
              "      <td>0</td>\n",
              "      <td>0</td>\n",
              "      <td>1</td>\n",
              "      <td>1</td>\n",
              "      <td>0</td>\n",
              "    </tr>\n",
              "    <tr>\n",
              "      <th>2</th>\n",
              "      <td>555956674526286</td>\n",
              "      <td>0</td>\n",
              "      <td>50</td>\n",
              "      <td>0</td>\n",
              "      <td>0</td>\n",
              "      <td>1</td>\n",
              "      <td>0</td>\n",
              "      <td>1</td>\n",
              "      <td>0</td>\n",
              "      <td>1</td>\n",
              "      <td>0</td>\n",
              "      <td>0</td>\n",
              "      <td>0</td>\n",
              "      <td>0</td>\n",
              "      <td>0</td>\n",
              "      <td>0</td>\n",
              "      <td>0</td>\n",
              "      <td>0</td>\n",
              "      <td>0</td>\n",
              "      <td>1</td>\n",
              "      <td>0</td>\n",
              "      <td>0</td>\n",
              "      <td>0</td>\n",
              "      <td>0</td>\n",
              "      <td>0</td>\n",
              "      <td>0</td>\n",
              "      <td>1</td>\n",
              "      <td>0</td>\n",
              "      <td>0</td>\n",
              "      <td>1</td>\n",
              "      <td>0</td>\n",
              "      <td>0</td>\n",
              "      <td>0</td>\n",
              "      <td>0</td>\n",
              "      <td>0</td>\n",
              "      <td>1</td>\n",
              "      <td>1</td>\n",
              "      <td>31</td>\n",
              "      <td>0</td>\n",
              "      <td>0</td>\n",
              "      <td>0</td>\n",
              "      <td>1</td>\n",
              "      <td>0</td>\n",
              "    </tr>\n",
              "    <tr>\n",
              "      <th>3</th>\n",
              "      <td>14559326134688</td>\n",
              "      <td>0</td>\n",
              "      <td>21</td>\n",
              "      <td>0</td>\n",
              "      <td>0</td>\n",
              "      <td>1</td>\n",
              "      <td>0</td>\n",
              "      <td>1</td>\n",
              "      <td>0</td>\n",
              "      <td>0</td>\n",
              "      <td>1</td>\n",
              "      <td>0</td>\n",
              "      <td>0</td>\n",
              "      <td>0</td>\n",
              "      <td>0</td>\n",
              "      <td>0</td>\n",
              "      <td>0</td>\n",
              "      <td>0</td>\n",
              "      <td>1</td>\n",
              "      <td>0</td>\n",
              "      <td>1</td>\n",
              "      <td>0</td>\n",
              "      <td>0</td>\n",
              "      <td>1</td>\n",
              "      <td>1</td>\n",
              "      <td>0</td>\n",
              "      <td>0</td>\n",
              "      <td>0</td>\n",
              "      <td>1</td>\n",
              "      <td>0</td>\n",
              "      <td>0</td>\n",
              "      <td>0</td>\n",
              "      <td>0</td>\n",
              "      <td>1</td>\n",
              "      <td>0</td>\n",
              "      <td>0</td>\n",
              "      <td>1</td>\n",
              "      <td>5</td>\n",
              "      <td>0</td>\n",
              "      <td>0</td>\n",
              "      <td>1</td>\n",
              "      <td>0</td>\n",
              "      <td>0</td>\n",
              "    </tr>\n",
              "    <tr>\n",
              "      <th>4</th>\n",
              "      <td>16796474433112</td>\n",
              "      <td>0</td>\n",
              "      <td>39</td>\n",
              "      <td>0</td>\n",
              "      <td>0</td>\n",
              "      <td>1</td>\n",
              "      <td>0</td>\n",
              "      <td>0</td>\n",
              "      <td>1</td>\n",
              "      <td>1</td>\n",
              "      <td>0</td>\n",
              "      <td>0</td>\n",
              "      <td>0</td>\n",
              "      <td>0</td>\n",
              "      <td>0</td>\n",
              "      <td>0</td>\n",
              "      <td>0</td>\n",
              "      <td>0</td>\n",
              "      <td>1</td>\n",
              "      <td>0</td>\n",
              "      <td>1</td>\n",
              "      <td>0</td>\n",
              "      <td>1</td>\n",
              "      <td>1</td>\n",
              "      <td>1</td>\n",
              "      <td>1</td>\n",
              "      <td>1</td>\n",
              "      <td>0</td>\n",
              "      <td>1</td>\n",
              "      <td>0</td>\n",
              "      <td>0</td>\n",
              "      <td>1</td>\n",
              "      <td>0</td>\n",
              "      <td>0</td>\n",
              "      <td>0</td>\n",
              "      <td>0</td>\n",
              "      <td>1</td>\n",
              "      <td>4</td>\n",
              "      <td>0</td>\n",
              "      <td>0</td>\n",
              "      <td>0</td>\n",
              "      <td>1</td>\n",
              "      <td>1</td>\n",
              "    </tr>\n",
              "  </tbody>\n",
              "</table>\n",
              "</div>"
            ],
            "text/plain": [
              "         PatientId  Gender  ...  AppointmentWeekDay_3  NoShow\n",
              "0    4652519881919       0  ...                     0       0\n",
              "1   81431485833737       0  ...                     1       0\n",
              "2  555956674526286       0  ...                     1       0\n",
              "3   14559326134688       0  ...                     0       0\n",
              "4   16796474433112       0  ...                     1       1\n",
              "\n",
              "[5 rows x 43 columns]"
            ]
          },
          "metadata": {
            "tags": []
          },
          "execution_count": 5
        }
      ]
    },
    {
      "cell_type": "code",
      "metadata": {
        "id": "gCwfu7JdtRIw",
        "colab": {
          "base_uri": "https://localhost:8080/"
        },
        "outputId": "a6dc04d2-588a-499e-ef16-591aee62944d"
      },
      "source": [
        "!pip install eli5\n",
        "!pip install hyperopt"
      ],
      "execution_count": 6,
      "outputs": [
        {
          "output_type": "stream",
          "text": [
            "Collecting eli5\n",
            "\u001b[?25l  Downloading https://files.pythonhosted.org/packages/97/2f/c85c7d8f8548e460829971785347e14e45fa5c6617da374711dec8cb38cc/eli5-0.10.1-py2.py3-none-any.whl (105kB)\n",
            "\r\u001b[K     |███                             | 10kB 26.3MB/s eta 0:00:01\r\u001b[K     |██████▏                         | 20kB 33.9MB/s eta 0:00:01\r\u001b[K     |█████████▎                      | 30kB 25.1MB/s eta 0:00:01\r\u001b[K     |████████████▍                   | 40kB 19.6MB/s eta 0:00:01\r\u001b[K     |███████████████▌                | 51kB 14.3MB/s eta 0:00:01\r\u001b[K     |██████████████████▋             | 61kB 13.7MB/s eta 0:00:01\r\u001b[K     |█████████████████████▊          | 71kB 13.9MB/s eta 0:00:01\r\u001b[K     |████████████████████████▊       | 81kB 13.7MB/s eta 0:00:01\r\u001b[K     |███████████████████████████▉    | 92kB 13.4MB/s eta 0:00:01\r\u001b[K     |███████████████████████████████ | 102kB 12.3MB/s eta 0:00:01\r\u001b[K     |████████████████████████████████| 112kB 12.3MB/s \n",
            "\u001b[?25hRequirement already satisfied: scikit-learn>=0.18 in /usr/local/lib/python3.6/dist-packages (from eli5) (0.22.2.post1)\n",
            "Requirement already satisfied: numpy>=1.9.0 in /usr/local/lib/python3.6/dist-packages (from eli5) (1.18.5)\n",
            "Requirement already satisfied: scipy in /usr/local/lib/python3.6/dist-packages (from eli5) (1.4.1)\n",
            "Requirement already satisfied: attrs>16.0.0 in /usr/local/lib/python3.6/dist-packages (from eli5) (20.3.0)\n",
            "Requirement already satisfied: jinja2 in /usr/local/lib/python3.6/dist-packages (from eli5) (2.11.2)\n",
            "Requirement already satisfied: six in /usr/local/lib/python3.6/dist-packages (from eli5) (1.15.0)\n",
            "Requirement already satisfied: graphviz in /usr/local/lib/python3.6/dist-packages (from eli5) (0.10.1)\n",
            "Requirement already satisfied: tabulate>=0.7.7 in /usr/local/lib/python3.6/dist-packages (from eli5) (0.8.7)\n",
            "Requirement already satisfied: joblib>=0.11 in /usr/local/lib/python3.6/dist-packages (from scikit-learn>=0.18->eli5) (0.17.0)\n",
            "Requirement already satisfied: MarkupSafe>=0.23 in /usr/local/lib/python3.6/dist-packages (from jinja2->eli5) (1.1.1)\n",
            "Installing collected packages: eli5\n",
            "Successfully installed eli5-0.10.1\n",
            "Requirement already satisfied: hyperopt in /usr/local/lib/python3.6/dist-packages (0.1.2)\n",
            "Requirement already satisfied: tqdm in /usr/local/lib/python3.6/dist-packages (from hyperopt) (4.41.1)\n",
            "Requirement already satisfied: networkx in /usr/local/lib/python3.6/dist-packages (from hyperopt) (2.5)\n",
            "Requirement already satisfied: pymongo in /usr/local/lib/python3.6/dist-packages (from hyperopt) (3.11.2)\n",
            "Requirement already satisfied: numpy in /usr/local/lib/python3.6/dist-packages (from hyperopt) (1.18.5)\n",
            "Requirement already satisfied: scipy in /usr/local/lib/python3.6/dist-packages (from hyperopt) (1.4.1)\n",
            "Requirement already satisfied: six in /usr/local/lib/python3.6/dist-packages (from hyperopt) (1.15.0)\n",
            "Requirement already satisfied: future in /usr/local/lib/python3.6/dist-packages (from hyperopt) (0.18.2)\n",
            "Requirement already satisfied: decorator>=4.3.0 in /usr/local/lib/python3.6/dist-packages (from networkx->hyperopt) (4.4.2)\n"
          ],
          "name": "stdout"
        }
      ]
    },
    {
      "cell_type": "code",
      "metadata": {
        "id": "uboLVudjqvoD"
      },
      "source": [
        "def get_feats(df):\n",
        "    feats = df.select_dtypes(include=[np.int, np.float]).columns \n",
        "    return feats[ (feats != 'NoShow')].values\n",
        "\n",
        "def get_X(df):\n",
        "    return df[ get_feats(df) ].values\n",
        "\n",
        "def get_y(df, target_var='NoShow'):\n",
        "    return df[target_var].values"
      ],
      "execution_count": 7,
      "outputs": []
    },
    {
      "cell_type": "code",
      "metadata": {
        "id": "2OuEtXajvbgn"
      },
      "source": [
        "feats = ['PatientId',\n",
        " \t'Gender',\n",
        "  'Age', \t\n",
        "  'Neighbourhood_0', \t\n",
        "  'Neighbourhood_1', \t\n",
        "  'Neighbourhood_2', \t\n",
        "  'Neighbourhood_3',\t\n",
        "  'Neighbourhood_4', \t\n",
        "  'Neighbourhood_5', \n",
        "  'Neighbourhood_6', \n",
        "  'Neighbourhood_7',\t\n",
        "  'Scholarship', \t\n",
        "  'Hypertension', \t\n",
        "  'Diabetes', \t\n",
        "  'Alcoholism', \t\n",
        "  'Handicap', \t\n",
        "  'SMSReceived', \t\n",
        "  'MonthBookingDate_0', \t\n",
        "  'MonthBookingDate_1',\t\n",
        "  'MonthBookingDate_2', \t\n",
        "  'MonthBookingDate_3', \t\n",
        "  'DayBookingDate_0', \t\n",
        "  'DayBookingDate_1',\t\n",
        "  'DayBookingDate_2',\t\n",
        "  'DayBookingDate_3', \t\n",
        "  'DayBookingDate_4', \t\n",
        "  'DayBookingDate_5', \t\n",
        "  'MonthAppointmentDate_0', \t\n",
        "  'MonthAppointmentDate_1', \t\n",
        "  'MonthAppointmentDate_2', \t\n",
        "  'DayAppointmentDate_0',\t\n",
        "  'DayAppointmentDate_1',\t\n",
        "  'DayAppointmentDate_2',\t\n",
        "  'DayAppointmentDate_3', \t\n",
        "  'DayAppointmentDate_4',\n",
        "  'DayAppointmentDate_5', \t\n",
        "  'HourOfDayBooking_0', \t\n",
        "  'DaysToAppointment', \t\n",
        "  'AppointmentWeekDay_0', \t\n",
        "  'AppointmentWeekDay_1', \t\n",
        "  'AppointmentWeekDay_2', \t\n",
        "  'AppointmentWeekDay_3']"
      ],
      "execution_count": 8,
      "outputs": []
    },
    {
      "cell_type": "code",
      "metadata": {
        "id": "FNM-qw5LxTkz"
      },
      "source": [
        "X_raw = get_X(raw_train)\n",
        "y_raw = get_y(raw_train)"
      ],
      "execution_count": 9,
      "outputs": []
    },
    {
      "cell_type": "code",
      "metadata": {
        "id": "wrqBM3mqzTHz",
        "colab": {
          "base_uri": "https://localhost:8080/"
        },
        "outputId": "2242f054-dd9b-416c-8af1-77d5659f4b0d"
      },
      "source": [
        "len(feats)"
      ],
      "execution_count": 10,
      "outputs": [
        {
          "output_type": "execute_result",
          "data": {
            "text/plain": [
              "42"
            ]
          },
          "metadata": {
            "tags": []
          },
          "execution_count": 10
        }
      ]
    },
    {
      "cell_type": "code",
      "metadata": {
        "id": "-L4wHMncoHsI"
      },
      "source": [
        "xgb_reg_params = {\n",
        "    'learning_rate':    hp.choice('learning_rate',    np.arange(0.05, 0.31, 0.05)),\n",
        "    'max_depth':        hp.choice('max_depth',        np.arange(5, 16, 1, dtype=int)),\n",
        "    'min_child_weight': hp.choice('min_child_weight', np.arange(1, 8, 1, dtype=int)),\n",
        "    'colsample_bytree': hp.choice('colsample_bytree', np.arange(0.3, 0.8, 0.1)),\n",
        "    'subsample':        hp.uniform('subsample', 0.8, 1),\n",
        "    'n_estimators':     50,\n",
        "}"
      ],
      "execution_count": 11,
      "outputs": []
    },
    {
      "cell_type": "code",
      "metadata": {
        "id": "smDzXPDIth6W",
        "colab": {
          "base_uri": "https://localhost:8080/",
          "height": 241
        },
        "outputId": "8c7d8180-8e3a-4350-8e68-7193bd587d06"
      },
      "source": [
        "def run_model(model):\n",
        "\n",
        "  scores = cross_val_score(model, X_raw, y_raw, cv = 3, scoring='f1')\n",
        "  \n",
        "  return np.mean(scores), np.std(scores)\n",
        "\n",
        "def hyperopt_train_test(params):\n",
        " \n",
        "\n",
        "  print(\"Training with params: \")\n",
        "  print(params)\n",
        "  clf = xgb.XGBClassifier(**params)\n",
        "  mean_f1, score_std = run_model(clf)\n",
        "  print('loss: ',np.abs(mean_f1))\n",
        "  return np.abs(mean_f1)\n",
        "\n",
        "count = 0\n",
        "best = 0\n",
        "\n",
        "def f(params):\n",
        "  f1 = hyperopt_train_test(params)\n",
        "  return {'loss': -f1, 'status': STATUS_OK}\n",
        "\n",
        "trials = Trials()\n",
        "best = fmin(f, xgb_reg_params, algo=partial(tpe.suggest, n_startup_jobs=1), max_evals=50, trials=trials)\n",
        "print('best:')\n",
        "print(best)"
      ],
      "execution_count": 12,
      "outputs": [
        {
          "output_type": "error",
          "ename": "NameError",
          "evalue": "ignored",
          "traceback": [
            "\u001b[0;31m---------------------------------------------------------------------------\u001b[0m",
            "\u001b[0;31mNameError\u001b[0m                                 Traceback (most recent call last)",
            "\u001b[0;32m<ipython-input-12-54158a2b2ed7>\u001b[0m in \u001b[0;36m<module>\u001b[0;34m()\u001b[0m\n\u001b[1;32m     23\u001b[0m \u001b[0;34m\u001b[0m\u001b[0m\n\u001b[1;32m     24\u001b[0m \u001b[0mtrials\u001b[0m \u001b[0;34m=\u001b[0m \u001b[0mTrials\u001b[0m\u001b[0;34m(\u001b[0m\u001b[0;34m)\u001b[0m\u001b[0;34m\u001b[0m\u001b[0;34m\u001b[0m\u001b[0m\n\u001b[0;32m---> 25\u001b[0;31m \u001b[0mbest\u001b[0m \u001b[0;34m=\u001b[0m \u001b[0mfmin\u001b[0m\u001b[0;34m(\u001b[0m\u001b[0mf\u001b[0m\u001b[0;34m,\u001b[0m \u001b[0mxgb_reg_params\u001b[0m\u001b[0;34m,\u001b[0m \u001b[0malgo\u001b[0m\u001b[0;34m=\u001b[0m\u001b[0mpartial\u001b[0m\u001b[0;34m(\u001b[0m\u001b[0mtpe\u001b[0m\u001b[0;34m.\u001b[0m\u001b[0msuggest\u001b[0m\u001b[0;34m,\u001b[0m \u001b[0mn_startup_jobs\u001b[0m\u001b[0;34m=\u001b[0m\u001b[0;36m1\u001b[0m\u001b[0;34m)\u001b[0m\u001b[0;34m,\u001b[0m \u001b[0mmax_evals\u001b[0m\u001b[0;34m=\u001b[0m\u001b[0;36m50\u001b[0m\u001b[0;34m,\u001b[0m \u001b[0mtrials\u001b[0m\u001b[0;34m=\u001b[0m\u001b[0mtrials\u001b[0m\u001b[0;34m)\u001b[0m\u001b[0;34m\u001b[0m\u001b[0;34m\u001b[0m\u001b[0m\n\u001b[0m\u001b[1;32m     26\u001b[0m \u001b[0mprint\u001b[0m\u001b[0;34m(\u001b[0m\u001b[0;34m'best:'\u001b[0m\u001b[0;34m)\u001b[0m\u001b[0;34m\u001b[0m\u001b[0;34m\u001b[0m\u001b[0m\n\u001b[1;32m     27\u001b[0m \u001b[0mprint\u001b[0m\u001b[0;34m(\u001b[0m\u001b[0mbest\u001b[0m\u001b[0;34m)\u001b[0m\u001b[0;34m\u001b[0m\u001b[0;34m\u001b[0m\u001b[0m\n",
            "\u001b[0;31mNameError\u001b[0m: name 'partial' is not defined"
          ]
        }
      ]
    },
    {
      "cell_type": "code",
      "metadata": {
        "id": "TSMQdhUJxue2"
      },
      "source": [
        "best"
      ],
      "execution_count": null,
      "outputs": []
    },
    {
      "cell_type": "code",
      "metadata": {
        "id": "OwPHQ4DgCNsq"
      },
      "source": [
        "parameters = ['max_depth', 'colsample_bytree', 'learning_rate', 'min_child_weight', 'subsample'] # decision tree\n",
        "cols = len(parameters)\n",
        "\n",
        "f, axes = plt.subplots(nrows=1, ncols=cols, figsize=(20,5))\n",
        "\n",
        "cmap = plt.cm.jet \n",
        "\n",
        "for i, val in enumerate(parameters):\n",
        "    xs = np.array([t['misc']['vals'][val] for t in trials.trials]).ravel()\n",
        "    ys = [-t['result']['loss'] for t in trials.trials]\n",
        "   # xs, ys = zip(\\*sorted(zip(xs, ys))\n",
        "    ys = np.array(ys)\n",
        "    axes[i].scatter(xs, ys, s=20, linewidth=0.01, alpha=0.5, c=cmap(float(i)/len(parameters)))\n",
        "    axes[i].set_title(val)\n",
        "    #axes[i].set_ylim([0.9,1.0])"
      ],
      "execution_count": null,
      "outputs": []
    },
    {
      "cell_type": "code",
      "metadata": {
        "id": "arZfv9mF8rwn"
      },
      "source": [
        "clf =  xgb.XGBClassifier(**best)"
      ],
      "execution_count": null,
      "outputs": []
    },
    {
      "cell_type": "code",
      "metadata": {
        "id": "9g2UW9IW7yOC"
      },
      "source": [
        "clf"
      ],
      "execution_count": null,
      "outputs": []
    },
    {
      "cell_type": "code",
      "metadata": {
        "id": "34elEvkQzhC1"
      },
      "source": [
        "def model(train, test, search, name, tags):\n",
        "  \n",
        "  #print(search.get_params())\n",
        "  y_train = train[\"NoShow\"]\n",
        "  y_test = test[\"NoShow\"]\n",
        "\n",
        "  X_train = train.loc[:, train.columns != 'NoShow']\n",
        "  X_test = test.loc[:, test.columns != 'NoShow']\n",
        "                \n",
        "  search = search.fit(X_train, y_train)\n",
        "\n",
        "  #search.best_params_\n",
        "\n",
        "  y_pred = search.predict(X_test)\n",
        "  print(y_pred)\n",
        "  accuracy = accuracy_score(y_test, y_pred)\n",
        "  print(\"Accuracy: %.2f%%\" % (accuracy * 100.0))\n",
        "  print(' f1 ', f1_score(y_test, y_pred), '\\n',\n",
        "        'recall', recall_score(y_test, y_pred), '\\n',\n",
        "        'precision', precision_score(y_test, y_pred) )\n",
        "\n",
        "  neptune.create_experiment(\n",
        "      name=name\n",
        "  )\n",
        "\n",
        "  neptune.log_metric('accuracy', accuracy)\n",
        "  neptune.log_metric('f1', f1_score(y_test, y_pred))\n",
        "  neptune.log_metric('recall', recall_score(y_test, y_pred))\n",
        "  neptune.log_metric('precision', precision_score(y_test, y_pred))\n",
        "  neptune.append_tags(tags)\n",
        "  neptune.append_tags([str(best),\"Magdalena Cebula\"])\n",
        "  neptune.append_tags([str(feats)])\n",
        "  #neptune.append_tags([str(space4dt)])\n",
        "  from sklearn.metrics import confusion_matrix\n",
        "\n",
        "  conf_mat = confusion_matrix(y_true=y_test, y_pred=y_pred)\n",
        "  print('Confusion matrix:\\n', conf_mat)\n",
        "\n",
        "  from matplotlib import pyplot as plt\n",
        "\n",
        "  labels = ['Class 0', 'Class 1']\n",
        "  fig = plt.figure()\n",
        "  ax = fig.add_subplot()\n",
        "  cax = ax.matshow(conf_mat, cmap=plt.cm.Blues)\n",
        "  fig.colorbar(cax)\n",
        "  ax.set_xticklabels([''] + labels)\n",
        "  ax.set_yticklabels([''] + labels)\n",
        "  plt.xlabel('Predicted')\n",
        "  plt.ylabel('Expected')\n",
        "  plt.show()\n",
        "\n",
        "  neptune.log_image('Confusion_matrix ' + name, fig)\n",
        "  \n",
        "  false_positive_rate, true_positive_rate, thresholds = roc_curve(y_test, search.predict(X_test))\n",
        "  print(false_positive_rate, true_positive_rate, thresholds)\n",
        "\n",
        "\n",
        "  roc_auc_score(y_test, y_pred)\n",
        "  auc = roc_auc_score(y_test, y_pred)\n",
        "  neptune.log_metric('roc_auc', auc)\n",
        "  fig = plt.figure()\n",
        "  plt.plot(false_positive_rate,true_positive_rate,label=\"data 1, auc=\"+str(auc))\n",
        "  plt.legend(loc=4)\n",
        "  plt.show()\n",
        "  neptune.log_image('ROC AUC ' + name, fig)\n",
        "  neptune.stop()"
      ],
      "execution_count": null,
      "outputs": []
    },
    {
      "cell_type": "code",
      "metadata": {
        "id": "Ul0ZUbIyN1iM"
      },
      "source": [
        "model(raw_train, raw_test, clf, 'XGBClassifier', ['XGBClassifier', 'Raw'])"
      ],
      "execution_count": null,
      "outputs": []
    },
    {
      "cell_type": "code",
      "metadata": {
        "id": "UUfiowyAMEfy"
      },
      "source": [
        "X_neamiss = get_X(Nearmiss_train)\n",
        "y_neamiss = get_y(Nearmiss_train)\n",
        "\n",
        "def run_model(model):\n",
        "\n",
        "  scores = cross_val_score(model, X_neamiss, y_neamiss, cv = 3, scoring='f1')\n",
        "  \n",
        "  return np.mean(scores), np.std(scores)"
      ],
      "execution_count": null,
      "outputs": []
    },
    {
      "cell_type": "code",
      "metadata": {
        "id": "jvOM--KYPGke"
      },
      "source": [
        "def hyperopt_train_test(params):\n",
        "  print(\"Training with params: \")\n",
        "  print(params)\n",
        "\n",
        "  mean_mae, score_std = run_model(xgb.XGBClassifier(**params))\n",
        "  print('loss: ',np.abs(mean_mae))\n",
        "  return np.abs(mean_mae)\n",
        "\n",
        "def f(params):\n",
        "  f1 = hyperopt_train_test(params)\n",
        "  return {'loss': -f1, 'status': STATUS_OK}\n",
        "  \n",
        "trials = Trials()\n",
        "\n",
        "best = fmin(f, xgb_reg_params, algo=tpe.suggest, max_evals=50, trials=trials)"
      ],
      "execution_count": null,
      "outputs": []
    },
    {
      "cell_type": "code",
      "metadata": {
        "id": "nTH03aYiMP2a"
      },
      "source": [
        "print('best:')\n",
        "print(best)"
      ],
      "execution_count": null,
      "outputs": []
    },
    {
      "cell_type": "code",
      "metadata": {
        "id": "pAlhDiMeYAM2"
      },
      "source": [
        "clf = criterion(best)"
      ],
      "execution_count": null,
      "outputs": []
    },
    {
      "cell_type": "code",
      "metadata": {
        "id": "sbN0FIgtZMQJ"
      },
      "source": [
        "model(Nearmiss_train, Nearmiss_test,clf, 'XGBClassifier', ['XGBClassifier', 'Nearmiss'])"
      ],
      "execution_count": null,
      "outputs": []
    },
    {
      "cell_type": "code",
      "metadata": {
        "id": "EfWwGBomZao3"
      },
      "source": [
        "X_ros = get_X(ROS_train)\n",
        "y_ros = get_y(ROS_train)\n",
        "\n",
        "def run_model(model):\n",
        "\n",
        "  scores = cross_val_score(model, X_ros, y_ros, cv = 3, scoring='f1')\n",
        "  \n",
        "  return np.mean(scores), np.std(scores)\n",
        "\n",
        "def hyperopt_train_test(params):\n",
        "  print(\"Training with params: \")\n",
        "  print(params)\n",
        "\n",
        "  mean_mae, score_std = run_model(xgb.XGBClassifier(**params))\n",
        "  print('loss: ',np.abs(mean_mae))\n",
        "  return np.abs(mean_mae)\n",
        "\n",
        "def f(params):\n",
        "  f1 = hyperopt_train_test(params)\n",
        "  return {'loss': -f1, 'status': STATUS_OK}\n",
        "  \n",
        "trials = Trials()\n",
        "\n",
        "best = fmin(f, xgb_reg_params, algo=tpe.suggest, max_evals=50, trials=trials)"
      ],
      "execution_count": null,
      "outputs": []
    },
    {
      "cell_type": "code",
      "metadata": {
        "id": "XCnH69jvFqVG"
      },
      "source": [
        "print(best)"
      ],
      "execution_count": null,
      "outputs": []
    },
    {
      "cell_type": "code",
      "metadata": {
        "id": "H5TIy8GtZp5G"
      },
      "source": [
        "clf = criterion(best)"
      ],
      "execution_count": null,
      "outputs": []
    },
    {
      "cell_type": "code",
      "metadata": {
        "id": "vYk1qT1-ZqnE"
      },
      "source": [
        "model(ROS_train, ROS_test,clf, 'XGBClassifier', ['XGBClassifier', 'ROS'])"
      ],
      "execution_count": null,
      "outputs": []
    },
    {
      "cell_type": "code",
      "metadata": {
        "id": "gL80G9PBbagD"
      },
      "source": [
        "X_rus = get_X(RUS_train)\n",
        "y_rus = get_y(RUS_train)\n",
        "\n",
        "def run_model(model):\n",
        "\n",
        "  scores = cross_val_score(model, X_rus, y_rus, cv = 3, scoring='f1')\n",
        "  \n",
        "  return np.mean(scores), np.std(scores)\n",
        "\n",
        "def hyperopt_train_test(params):\n",
        "  print(\"Training with params: \")\n",
        "  print(params)\n",
        "\n",
        "  mean_mae, score_std = run_model(xgb.XGBClassifier(**params))\n",
        "  print('loss: ',np.abs(mean_mae))\n",
        "  return np.abs(mean_mae)\n",
        "\n",
        "def f(params):\n",
        "  f1 = hyperopt_train_test(params)\n",
        "  return {'loss': -f1, 'status': STATUS_OK}\n",
        "  \n",
        "trials = Trials()\n",
        "\n",
        "best = fmin(f, xgb_reg_params, algo=tpe.suggest, max_evals=50, trials=trials)"
      ],
      "execution_count": null,
      "outputs": []
    },
    {
      "cell_type": "code",
      "metadata": {
        "id": "3JC680j7HiIP"
      },
      "source": [
        "print(best)"
      ],
      "execution_count": null,
      "outputs": []
    },
    {
      "cell_type": "code",
      "metadata": {
        "id": "mWz2QBeVbtFz"
      },
      "source": [
        "clf = criterion(best)"
      ],
      "execution_count": null,
      "outputs": []
    },
    {
      "cell_type": "code",
      "metadata": {
        "id": "F_YLwh3-bw1e"
      },
      "source": [
        "model(RUS_train, RUS_test,clf, 'XGBClassifier', ['XGBClassifier', 'RUS'])"
      ],
      "execution_count": null,
      "outputs": []
    },
    {
      "cell_type": "code",
      "metadata": {
        "id": "bXRGzx2CcX7j"
      },
      "source": [
        "X_tomek = get_X(SMOTETomek_train)\n",
        "y_tomek = get_y(SMOTETomek_train)\n",
        "\n",
        "def run_model(model):\n",
        "\n",
        "  scores = cross_val_score(model, X_tomek, y_tomek, cv = 3, scoring='f1')\n",
        "  \n",
        "  return np.mean(scores), np.std(scores)\n",
        "\n",
        "def hyperopt_train_test(params):\n",
        "  print(\"Training with params: \")\n",
        "  print(params)\n",
        "\n",
        "  mean_mae, score_std = run_model(xgb.XGBClassifier(**params))\n",
        "  print('loss: ',np.abs(mean_mae))\n",
        "  return np.abs(mean_mae)\n",
        "\n",
        "def f(params):\n",
        "  f1 = hyperopt_train_test(params)\n",
        "  return {'loss': -f1, 'status': STATUS_OK}\n",
        "  \n",
        "trials = Trials()\n",
        "best = None\n",
        "best = fmin(f, xgb_reg_params, algo=tpe.suggest, max_evals=50, trials=trials)"
      ],
      "execution_count": null,
      "outputs": []
    },
    {
      "cell_type": "code",
      "metadata": {
        "id": "U_bpI4RrMKMX"
      },
      "source": [
        "print(best)"
      ],
      "execution_count": null,
      "outputs": []
    },
    {
      "cell_type": "code",
      "metadata": {
        "id": "84v5UDT4dOYD"
      },
      "source": [
        "clf = xgb.XGBClassifier(best)"
      ],
      "execution_count": null,
      "outputs": []
    },
    {
      "cell_type": "code",
      "metadata": {
        "id": "7PH28WMMdQuk"
      },
      "source": [
        "model(SMOTETomek_train, SMOTETomek_test,clf, 'XGBClassifier', ['XGBClassifier', 'SMOTETomek'])"
      ],
      "execution_count": null,
      "outputs": []
    },
    {
      "cell_type": "code",
      "metadata": {
        "id": "U_mqRARje033"
      },
      "source": [
        "X_adasyn  = get_X(Adasyn_train)\n",
        "y_adasyn = get_y(Adasyn_train)\n",
        "\n",
        "def run_model(model):\n",
        "\n",
        "  scores = cross_val_score(model, X_adasyn, y_adasyn, cv = 3, scoring='f1')\n",
        "  \n",
        "  return np.mean(scores), np.std(scores)\n",
        "\n",
        "def hyperopt_train_test(params):\n",
        "  print(\"Training with params: \")\n",
        "  print(params)\n",
        "\n",
        "  mean_mae, score_std = run_model(xgb.XGBClassifier(**params))\n",
        "  print('loss: ',np.abs(mean_mae))\n",
        "  return np.abs(mean_mae)\n",
        "\n",
        "def f(params):\n",
        "  f1 = hyperopt_train_test(params)\n",
        "  return {'loss': -f1, 'status': STATUS_OK}\n",
        "  \n",
        "trials = Trials()\n",
        "\n",
        "best = fmin(f, xgb_reg_params, algo=tpe.suggest, max_evals=50, trials=trials)"
      ],
      "execution_count": null,
      "outputs": []
    },
    {
      "cell_type": "code",
      "metadata": {
        "id": "oo1EMDy8e6uO"
      },
      "source": [
        "clf = criterion(best2)"
      ],
      "execution_count": null,
      "outputs": []
    },
    {
      "cell_type": "code",
      "metadata": {
        "id": "KOgMMyC6e_DO"
      },
      "source": [
        "model(Adasyn_train, Adasyn_test,clf,'XGBClassifier', ['XGBClassifier', 'Adasyn'])"
      ],
      "execution_count": null,
      "outputs": []
    }
  ]
}