{
 "cells": [
  {
   "cell_type": "code",
   "execution_count": 1,
   "metadata": {},
   "outputs": [],
   "source": [
    "## Importing Libraries\n",
    "import numpy as np\n",
    "import pandas as pd"
   ]
  },
  {
   "cell_type": "code",
   "execution_count": 2,
   "metadata": {},
   "outputs": [],
   "source": [
    "# Reading data from hair_salon_no_show_wrangled_df.csv file\n",
    "raw_data = pd.read_csv(\"/home/john/Documents/Jupyter/SMOG_DW_git/My_No_shows/Hair_Data/hair_salon_no_show_wrangled_df.csv\")"
   ]
  },
  {
   "cell_type": "code",
   "execution_count": 3,
   "metadata": {
    "scrolled": true
   },
   "outputs": [
    {
     "data": {
      "text/html": [
       "<div>\n",
       "<style scoped>\n",
       "    .dataframe tbody tr th:only-of-type {\n",
       "        vertical-align: middle;\n",
       "    }\n",
       "\n",
       "    .dataframe tbody tr th {\n",
       "        vertical-align: top;\n",
       "    }\n",
       "\n",
       "    .dataframe thead th {\n",
       "        text-align: right;\n",
       "    }\n",
       "</style>\n",
       "<table border=\"1\" class=\"dataframe\">\n",
       "  <thead>\n",
       "    <tr style=\"text-align: right;\">\n",
       "      <th></th>\n",
       "      <th>Unnamed: 0</th>\n",
       "      <th>book_tod</th>\n",
       "      <th>book_dow</th>\n",
       "      <th>book_category</th>\n",
       "      <th>book_staff</th>\n",
       "      <th>last_category</th>\n",
       "      <th>last_staff</th>\n",
       "      <th>last_day_services</th>\n",
       "      <th>last_receipt_tot</th>\n",
       "      <th>last_dow</th>\n",
       "      <th>...</th>\n",
       "      <th>last_prod_flag</th>\n",
       "      <th>last_cumrev</th>\n",
       "      <th>last_cumbook</th>\n",
       "      <th>last_cumstyle</th>\n",
       "      <th>last_cumcolor</th>\n",
       "      <th>last_cumprod</th>\n",
       "      <th>last_cumcancel</th>\n",
       "      <th>last_cumnoshow</th>\n",
       "      <th>noshow</th>\n",
       "      <th>recency</th>\n",
       "    </tr>\n",
       "  </thead>\n",
       "  <tbody>\n",
       "    <tr>\n",
       "      <td>0</td>\n",
       "      <td>0</td>\n",
       "      <td>afternoon</td>\n",
       "      <td>Wednesday</td>\n",
       "      <td>STYLE</td>\n",
       "      <td>JJ</td>\n",
       "      <td>NaN</td>\n",
       "      <td>NaN</td>\n",
       "      <td>0</td>\n",
       "      <td>0.0</td>\n",
       "      <td>NaN</td>\n",
       "      <td>...</td>\n",
       "      <td>0</td>\n",
       "      <td>0</td>\n",
       "      <td>0</td>\n",
       "      <td>0</td>\n",
       "      <td>0</td>\n",
       "      <td>0</td>\n",
       "      <td>0</td>\n",
       "      <td>0</td>\n",
       "      <td>0</td>\n",
       "      <td>0</td>\n",
       "    </tr>\n",
       "    <tr>\n",
       "      <td>1</td>\n",
       "      <td>1</td>\n",
       "      <td>morning</td>\n",
       "      <td>Wednesday</td>\n",
       "      <td>COLOR</td>\n",
       "      <td>JOANNE</td>\n",
       "      <td>NaN</td>\n",
       "      <td>NaN</td>\n",
       "      <td>0</td>\n",
       "      <td>0.0</td>\n",
       "      <td>NaN</td>\n",
       "      <td>...</td>\n",
       "      <td>0</td>\n",
       "      <td>0</td>\n",
       "      <td>0</td>\n",
       "      <td>0</td>\n",
       "      <td>0</td>\n",
       "      <td>0</td>\n",
       "      <td>0</td>\n",
       "      <td>0</td>\n",
       "      <td>0</td>\n",
       "      <td>0</td>\n",
       "    </tr>\n",
       "    <tr>\n",
       "      <td>2</td>\n",
       "      <td>2</td>\n",
       "      <td>NaN</td>\n",
       "      <td>Wednesday</td>\n",
       "      <td>STYLE</td>\n",
       "      <td>JJ</td>\n",
       "      <td>COLOR</td>\n",
       "      <td>JOANNE</td>\n",
       "      <td>2</td>\n",
       "      <td>262.0</td>\n",
       "      <td>Wednesday</td>\n",
       "      <td>...</td>\n",
       "      <td>1</td>\n",
       "      <td>262</td>\n",
       "      <td>2</td>\n",
       "      <td>1</td>\n",
       "      <td>1</td>\n",
       "      <td>2</td>\n",
       "      <td>0</td>\n",
       "      <td>0</td>\n",
       "      <td>0</td>\n",
       "      <td>35</td>\n",
       "    </tr>\n",
       "    <tr>\n",
       "      <td>3</td>\n",
       "      <td>3</td>\n",
       "      <td>afternoon</td>\n",
       "      <td>Thursday</td>\n",
       "      <td>STYLE</td>\n",
       "      <td>KELLY</td>\n",
       "      <td>NaN</td>\n",
       "      <td>NaN</td>\n",
       "      <td>0</td>\n",
       "      <td>0.0</td>\n",
       "      <td>NaN</td>\n",
       "      <td>...</td>\n",
       "      <td>0</td>\n",
       "      <td>0</td>\n",
       "      <td>0</td>\n",
       "      <td>0</td>\n",
       "      <td>0</td>\n",
       "      <td>0</td>\n",
       "      <td>0</td>\n",
       "      <td>0</td>\n",
       "      <td>0</td>\n",
       "      <td>0</td>\n",
       "    </tr>\n",
       "    <tr>\n",
       "      <td>4</td>\n",
       "      <td>4</td>\n",
       "      <td>evening</td>\n",
       "      <td>Saturday</td>\n",
       "      <td>STYLE</td>\n",
       "      <td>KELLY</td>\n",
       "      <td>STYLE</td>\n",
       "      <td>KELLY</td>\n",
       "      <td>1</td>\n",
       "      <td>35.0</td>\n",
       "      <td>Thursday</td>\n",
       "      <td>...</td>\n",
       "      <td>0</td>\n",
       "      <td>35</td>\n",
       "      <td>1</td>\n",
       "      <td>1</td>\n",
       "      <td>0</td>\n",
       "      <td>0</td>\n",
       "      <td>0</td>\n",
       "      <td>0</td>\n",
       "      <td>0</td>\n",
       "      <td>9</td>\n",
       "    </tr>\n",
       "  </tbody>\n",
       "</table>\n",
       "<p>5 rows × 22 columns</p>\n",
       "</div>"
      ],
      "text/plain": [
       "   Unnamed: 0   book_tod   book_dow book_category book_staff last_category  \\\n",
       "0           0  afternoon  Wednesday         STYLE         JJ           NaN   \n",
       "1           1    morning  Wednesday         COLOR     JOANNE           NaN   \n",
       "2           2        NaN  Wednesday         STYLE         JJ         COLOR   \n",
       "3           3  afternoon   Thursday         STYLE      KELLY           NaN   \n",
       "4           4    evening   Saturday         STYLE      KELLY         STYLE   \n",
       "\n",
       "  last_staff  last_day_services  last_receipt_tot   last_dow  ...  \\\n",
       "0        NaN                  0               0.0        NaN  ...   \n",
       "1        NaN                  0               0.0        NaN  ...   \n",
       "2     JOANNE                  2             262.0  Wednesday  ...   \n",
       "3        NaN                  0               0.0        NaN  ...   \n",
       "4      KELLY                  1              35.0   Thursday  ...   \n",
       "\n",
       "  last_prod_flag  last_cumrev  last_cumbook  last_cumstyle  last_cumcolor  \\\n",
       "0              0            0             0              0              0   \n",
       "1              0            0             0              0              0   \n",
       "2              1          262             2              1              1   \n",
       "3              0            0             0              0              0   \n",
       "4              0           35             1              1              0   \n",
       "\n",
       "   last_cumprod  last_cumcancel  last_cumnoshow  noshow  recency  \n",
       "0             0               0               0       0        0  \n",
       "1             0               0               0       0        0  \n",
       "2             2               0               0       0       35  \n",
       "3             0               0               0       0        0  \n",
       "4             0               0               0       0        9  \n",
       "\n",
       "[5 rows x 22 columns]"
      ]
     },
     "execution_count": 3,
     "metadata": {},
     "output_type": "execute_result"
    }
   ],
   "source": [
    "raw_data.head()"
   ]
  },
  {
   "cell_type": "code",
   "execution_count": 4,
   "metadata": {},
   "outputs": [],
   "source": [
    "# Dropping old index column \"Unnamed: 0\"\n",
    "raw_data.drop('Unnamed: 0', axis=1, inplace=True)"
   ]
  },
  {
   "cell_type": "code",
   "execution_count": 5,
   "metadata": {},
   "outputs": [
    {
     "data": {
      "text/plain": [
       "(1952, 21)"
      ]
     },
     "execution_count": 5,
     "metadata": {},
     "output_type": "execute_result"
    }
   ],
   "source": [
    "# Checking shape of raw_data DataFrame\n",
    "raw_data.shape"
   ]
  },
  {
   "cell_type": "code",
   "execution_count": 6,
   "metadata": {
    "scrolled": true
   },
   "outputs": [
    {
     "data": {
      "text/plain": [
       "Index(['book_tod', 'book_dow', 'book_category', 'book_staff', 'last_category',\n",
       "       'last_staff', 'last_day_services', 'last_receipt_tot', 'last_dow',\n",
       "       'last_tod', 'last_noshow', 'last_prod_flag', 'last_cumrev',\n",
       "       'last_cumbook', 'last_cumstyle', 'last_cumcolor', 'last_cumprod',\n",
       "       'last_cumcancel', 'last_cumnoshow', 'noshow', 'recency'],\n",
       "      dtype='object')"
      ]
     },
     "execution_count": 6,
     "metadata": {},
     "output_type": "execute_result"
    }
   ],
   "source": [
    "# Listing columns within DataFrame\n",
    "raw_data.columns"
   ]
  },
  {
   "cell_type": "markdown",
   "metadata": {},
   "source": [
    "## Description of columns:\n",
    "\n",
    "\n",
    "**book_tod** The booking time of day.\n",
    "\n",
    "**book_dow** The booking day-of-week.\n",
    "\n",
    "**book_category** The booked service category (COLOR or STYLE)\n",
    "\n",
    "**book_staff** The staff member to provide the service.\n",
    "\n",
    "**last_day_services** The number of services provided to the client on their last visit before the current booking or today whichever is greater.\n",
    "\n",
    "**last_noshow** Did the client no-show on their last booking before the current booking or today whichever is greater? (0 - no, 1 - yes)\n",
    "\n",
    "**last_prod_flag** Did the client buy a retail product on their last booking before the current booking or today whichever is greater? (0 - no, 1 - yes)\n",
    "\n",
    "**last_category** The client's last booked service category before the current booking or today whichever is greater.\n",
    "\n",
    "**last_cumrev** The client’s cumulative service revenue as of their last booking before the current booking or today whichever is greater.\n",
    "\n",
    "**last_cumbook** The client’s cumulative number of bookings as of their last booking before the current booking or today whichever is greater.\n",
    "\n",
    "**last_cumstyle** The client’s cumulative number of STYLE bookings as of their last booking before the current booking or today whichever is greater.\n",
    "\n",
    "**last_cumcolor** The client’s cumulative number of COLOR bookings as of their last booking before the current booking or today whichever is greater.\n",
    "\n",
    "**last_cumprod** The client’s cumulative number of bookings with retail product purchases as of their last booking before the current booking or today whichever is greater.\n",
    "\n",
    "**last_cumcancel** The client’s cumulative number of appointment cancellations as of their last booking before the current booking or today whichever is greater.\n",
    "\n",
    "**last_cumnoshow** The client’s cumulative number of no-shows as of their last booking before the current booking or today whichever is greater.\n",
    "\n",
    "**last_dow** The day-of-week of the client's last booking before before the current booking or today whichever is greater.\n",
    "\n",
    "**last_receipt_tot** The amount paid by the client on their last visit before the current booking or today whichever is greater.\n",
    "\n",
    "**last_staff** The staff member who provided the client's last service before the current booking or today whichever is greater.\n",
    "\n",
    "**last_tod** The time-of-day of the client's last booking before the current booking or today whichever is greater.\n",
    "\n",
    "**noshow** Did the client no-show or execute an out-of-policy cancellation for this booking? (0 - no, 1 - yes) \n",
    "\n",
    "**recency**The number of days since the client’s last booking before the current booking or today whichever is greater.\n"
   ]
  },
  {
   "cell_type": "markdown",
   "metadata": {},
   "source": [
    "---\n",
    "\n",
    "## Missing Data"
   ]
  },
  {
   "cell_type": "code",
   "execution_count": 7,
   "metadata": {},
   "outputs": [
    {
     "data": {
      "text/plain": [
       "True"
      ]
     },
     "execution_count": 7,
     "metadata": {},
     "output_type": "execute_result"
    }
   ],
   "source": [
    "# Checking if there are any null values in DataFrame\n",
    "raw_data.isnull().values.any()"
   ]
  },
  {
   "cell_type": "code",
   "execution_count": 8,
   "metadata": {},
   "outputs": [
    {
     "name": "stdout",
     "output_type": "stream",
     "text": [
      "Missing values in data frame \n",
      "\n",
      "book_tod : 235\n",
      "last_category : 949\n",
      "last_staff : 949\n",
      "last_dow : 949\n",
      "last_tod : 1094\n",
      "------------------------------\n",
      "Total number of missing values in DataFrame: 4176\n"
     ]
    }
   ],
   "source": [
    "# Printing nmissing values per column\n",
    "print('Missing values in data frame \\n')\n",
    "for i in raw_data.columns: \n",
    "    if raw_data[i].isnull().sum() != 0:\n",
    "        print(i, \":\",raw_data[i].isnull().sum())\n",
    "print('------------------------------\\nTotal number of missing values in DataFrame:',raw_data.isnull().sum().sum())"
   ]
  },
  {
   "cell_type": "code",
   "execution_count": 9,
   "metadata": {},
   "outputs": [
    {
     "data": {
      "text/html": [
       "<div>\n",
       "<style scoped>\n",
       "    .dataframe tbody tr th:only-of-type {\n",
       "        vertical-align: middle;\n",
       "    }\n",
       "\n",
       "    .dataframe tbody tr th {\n",
       "        vertical-align: top;\n",
       "    }\n",
       "\n",
       "    .dataframe thead th {\n",
       "        text-align: right;\n",
       "    }\n",
       "</style>\n",
       "<table border=\"1\" class=\"dataframe\">\n",
       "  <thead>\n",
       "    <tr style=\"text-align: right;\">\n",
       "      <th></th>\n",
       "      <th>Total</th>\n",
       "      <th>Percent</th>\n",
       "    </tr>\n",
       "  </thead>\n",
       "  <tbody>\n",
       "    <tr>\n",
       "      <td>last_tod</td>\n",
       "      <td>1094</td>\n",
       "      <td>0.560451</td>\n",
       "    </tr>\n",
       "    <tr>\n",
       "      <td>last_category</td>\n",
       "      <td>949</td>\n",
       "      <td>0.486168</td>\n",
       "    </tr>\n",
       "    <tr>\n",
       "      <td>last_staff</td>\n",
       "      <td>949</td>\n",
       "      <td>0.486168</td>\n",
       "    </tr>\n",
       "    <tr>\n",
       "      <td>last_dow</td>\n",
       "      <td>949</td>\n",
       "      <td>0.486168</td>\n",
       "    </tr>\n",
       "    <tr>\n",
       "      <td>book_tod</td>\n",
       "      <td>235</td>\n",
       "      <td>0.120389</td>\n",
       "    </tr>\n",
       "    <tr>\n",
       "      <td>book_dow</td>\n",
       "      <td>0</td>\n",
       "      <td>0.000000</td>\n",
       "    </tr>\n",
       "    <tr>\n",
       "      <td>book_category</td>\n",
       "      <td>0</td>\n",
       "      <td>0.000000</td>\n",
       "    </tr>\n",
       "    <tr>\n",
       "      <td>book_staff</td>\n",
       "      <td>0</td>\n",
       "      <td>0.000000</td>\n",
       "    </tr>\n",
       "    <tr>\n",
       "      <td>last_day_services</td>\n",
       "      <td>0</td>\n",
       "      <td>0.000000</td>\n",
       "    </tr>\n",
       "    <tr>\n",
       "      <td>last_receipt_tot</td>\n",
       "      <td>0</td>\n",
       "      <td>0.000000</td>\n",
       "    </tr>\n",
       "    <tr>\n",
       "      <td>recency</td>\n",
       "      <td>0</td>\n",
       "      <td>0.000000</td>\n",
       "    </tr>\n",
       "    <tr>\n",
       "      <td>noshow</td>\n",
       "      <td>0</td>\n",
       "      <td>0.000000</td>\n",
       "    </tr>\n",
       "    <tr>\n",
       "      <td>last_prod_flag</td>\n",
       "      <td>0</td>\n",
       "      <td>0.000000</td>\n",
       "    </tr>\n",
       "    <tr>\n",
       "      <td>last_cumrev</td>\n",
       "      <td>0</td>\n",
       "      <td>0.000000</td>\n",
       "    </tr>\n",
       "    <tr>\n",
       "      <td>last_cumbook</td>\n",
       "      <td>0</td>\n",
       "      <td>0.000000</td>\n",
       "    </tr>\n",
       "    <tr>\n",
       "      <td>last_cumstyle</td>\n",
       "      <td>0</td>\n",
       "      <td>0.000000</td>\n",
       "    </tr>\n",
       "    <tr>\n",
       "      <td>last_cumcolor</td>\n",
       "      <td>0</td>\n",
       "      <td>0.000000</td>\n",
       "    </tr>\n",
       "    <tr>\n",
       "      <td>last_cumprod</td>\n",
       "      <td>0</td>\n",
       "      <td>0.000000</td>\n",
       "    </tr>\n",
       "    <tr>\n",
       "      <td>last_cumcancel</td>\n",
       "      <td>0</td>\n",
       "      <td>0.000000</td>\n",
       "    </tr>\n",
       "    <tr>\n",
       "      <td>last_cumnoshow</td>\n",
       "      <td>0</td>\n",
       "      <td>0.000000</td>\n",
       "    </tr>\n",
       "    <tr>\n",
       "      <td>last_noshow</td>\n",
       "      <td>0</td>\n",
       "      <td>0.000000</td>\n",
       "    </tr>\n",
       "  </tbody>\n",
       "</table>\n",
       "</div>"
      ],
      "text/plain": [
       "                   Total   Percent\n",
       "last_tod            1094  0.560451\n",
       "last_category        949  0.486168\n",
       "last_staff           949  0.486168\n",
       "last_dow             949  0.486168\n",
       "book_tod             235  0.120389\n",
       "book_dow               0  0.000000\n",
       "book_category          0  0.000000\n",
       "book_staff             0  0.000000\n",
       "last_day_services      0  0.000000\n",
       "last_receipt_tot       0  0.000000\n",
       "recency                0  0.000000\n",
       "noshow                 0  0.000000\n",
       "last_prod_flag         0  0.000000\n",
       "last_cumrev            0  0.000000\n",
       "last_cumbook           0  0.000000\n",
       "last_cumstyle          0  0.000000\n",
       "last_cumcolor          0  0.000000\n",
       "last_cumprod           0  0.000000\n",
       "last_cumcancel         0  0.000000\n",
       "last_cumnoshow         0  0.000000\n",
       "last_noshow            0  0.000000"
      ]
     },
     "execution_count": 9,
     "metadata": {},
     "output_type": "execute_result"
    }
   ],
   "source": [
    "total = raw_data.isnull().sum().sort_values(ascending=False)\n",
    "percent = (raw_data.isnull().sum()/raw_data.isnull().count()).sort_values(ascending=False)\n",
    "missing_data = pd.concat([total, percent], axis=1, keys=['Total', 'Percent'])\n",
    "missing_data.head(22)"
   ]
  },
  {
   "cell_type": "markdown",
   "metadata": {},
   "source": [
    "**book_category** The booked service category (COLOR or STYLE)\n",
    "\n",
    "**last_dow** The day-of-week of the client's last booking before before the current booking or today whichever is greater.\n",
    "\n",
    "**last_staff** The staff member who provided the client's last service before the current booking or today whichever is greater.\n",
    "\n",
    "**last_tod** The time-of-day of the client's last booking before the current booking or today whichever is greater."
   ]
  },
  {
   "cell_type": "code",
   "execution_count": 10,
   "metadata": {},
   "outputs": [
    {
     "data": {
      "text/plain": [
       "True"
      ]
     },
     "execution_count": 10,
     "metadata": {},
     "output_type": "execute_result"
    }
   ],
   "source": [
    "# Checking if there are rows with all values being NaN\n",
    "# .dropna(how='all') removes rows where all values are missing\n",
    "\n",
    "raw_data.dropna(how='all').shape[0] == raw_data.shape[0]\n",
    "\n",
    "# True - both shapes are equal, meaning there are no rows containing only missing values"
   ]
  },
  {
   "cell_type": "markdown",
   "metadata": {},
   "source": [
    "---"
   ]
  },
  {
   "cell_type": "markdown",
   "metadata": {},
   "source": [
    "## Examining dependednt variable - noshow"
   ]
  },
  {
   "cell_type": "code",
   "execution_count": 11,
   "metadata": {},
   "outputs": [
    {
     "data": {
      "text/plain": [
       "0    1728\n",
       "1     224\n",
       "Name: noshow, dtype: int64"
      ]
     },
     "execution_count": 11,
     "metadata": {},
     "output_type": "execute_result"
    }
   ],
   "source": [
    "# Number of no-shows (1)\n",
    "raw_data.noshow.value_counts()"
   ]
  },
  {
   "cell_type": "code",
   "execution_count": 12,
   "metadata": {},
   "outputs": [
    {
     "data": {
      "text/plain": [
       "0    0.885246\n",
       "1    0.114754\n",
       "Name: noshow, dtype: float64"
      ]
     },
     "execution_count": 12,
     "metadata": {},
     "output_type": "execute_result"
    }
   ],
   "source": [
    "raw_data.noshow.value_counts(normalize=True)"
   ]
  },
  {
   "cell_type": "code",
   "execution_count": 13,
   "metadata": {},
   "outputs": [],
   "source": [
    "# We can see here that we have unbalanced data set (like fraud data sets)\n",
    "# 0    0.885246 - showed to appointment\n",
    "# 1    0.114754 - didn't show to appointment\n",
    "\n",
    "# We will have to use techniques that deal with such data sets like:\n",
    "# oversampling, undersampling \n",
    "# and hybrid techniques like SMOTE (Synthetic Minority Over-sampling Technique) or ENN ( Edited Nearest Neighbors)"
   ]
  },
  {
   "cell_type": "code",
   "execution_count": 14,
   "metadata": {
    "scrolled": true
   },
   "outputs": [
    {
     "data": {
      "text/plain": [
       "<matplotlib.axes._subplots.AxesSubplot at 0x7f11180f1c18>"
      ]
     },
     "execution_count": 14,
     "metadata": {},
     "output_type": "execute_result"
    }
   ],
   "source": [
    "raw_data.noshow.hist(bins=2)"
   ]
  },
  {
   "cell_type": "code",
   "execution_count": 15,
   "metadata": {},
   "outputs": [
    {
     "data": {
      "image/png": "[encoded data removed]",
      "text/plain": [
       "<Figure size 432x288 with 1 Axes>"
      ]
     },
     "metadata": {},
     "output_type": "display_data"
    }
   ],
   "source": [
    "import matplotlib.pyplot as plt\n",
    "\n",
    "# Data to plot\n",
    "labels = raw_data['noshow'].unique()\n",
    "sizes = raw_data['noshow'].value_counts().values\n",
    "colors = ['green', 'red']\n",
    "explode = (0.1, 0.1)  # explode 1st slice\n",
    "\n",
    "# Plot\n",
    "plt.pie(sizes, explode=explode, labels=labels, colors=colors,\n",
    "autopct='%1.1f%%', shadow=True, startangle=140)\n",
    "\n",
    "plt.axis('equal')\n",
    "plt.show()"
   ]
  },
  {
   "cell_type": "markdown",
   "metadata": {},
   "source": [
    "---\n",
    "\n",
    "## No-shows: daytime / weekday"
   ]
  },
  {
   "cell_type": "code",
   "execution_count": 16,
   "metadata": {},
   "outputs": [
    {
     "data": {
      "text/plain": [
       "Thursday     417\n",
       "Friday       405\n",
       "Saturday     393\n",
       "Tuesday      391\n",
       "Wednesday    291\n",
       "Sunday        54\n",
       "Monday         1\n",
       "Name: book_dow, dtype: int64"
      ]
     },
     "execution_count": 16,
     "metadata": {},
     "output_type": "execute_result"
    }
   ],
   "source": [
    "# Examining the booking day-of-week\n",
    "raw_data.book_dow.value_counts()"
   ]
  },
  {
   "cell_type": "code",
   "execution_count": 17,
   "metadata": {},
   "outputs": [
    {
     "data": {
      "text/plain": [
       "afternoon    735\n",
       "morning      548\n",
       "evening      434\n",
       "Name: book_tod, dtype: int64"
      ]
     },
     "execution_count": 17,
     "metadata": {},
     "output_type": "execute_result"
    }
   ],
   "source": [
    "# Examining the booking time-of-day\n",
    "raw_data.book_tod.value_counts()"
   ]
  },
  {
   "cell_type": "code",
   "execution_count": 18,
   "metadata": {},
   "outputs": [
    {
     "data": {
      "text/plain": [
       "['afternoon', 'morning', 'evening']"
      ]
     },
     "execution_count": 18,
     "metadata": {},
     "output_type": "execute_result"
    }
   ],
   "source": [
    "day_time_labels = raw_data.book_tod.value_counts().index.tolist()\n",
    "# sort_key = {'morning':1, 'afternoon':2, 'evening':3}\n",
    "# day_time_labels.sort(key=sort_key.get)\n",
    "day_time_labels"
   ]
  },
  {
   "cell_type": "code",
   "execution_count": 19,
   "metadata": {},
   "outputs": [
    {
     "data": {
      "text/plain": [
       "['Thursday', 'Friday', 'Saturday', 'Tuesday', 'Wednesday', 'Sunday', 'Monday']"
      ]
     },
     "execution_count": 19,
     "metadata": {},
     "output_type": "execute_result"
    }
   ],
   "source": [
    "day_of_week = raw_data.book_dow.value_counts().index.tolist()\n",
    "day_of_week # unsorted weekdays\n"
   ]
  },
  {
   "cell_type": "code",
   "execution_count": 20,
   "metadata": {},
   "outputs": [
    {
     "data": {
      "text/plain": [
       "['Mon', 'Tue', 'Wed', 'Thu', 'Fri', 'Sat', 'Sun']"
      ]
     },
     "execution_count": 20,
     "metadata": {},
     "output_type": "execute_result"
    }
   ],
   "source": [
    "# Getting sorted weekdays\n",
    "import calendar as cal\n",
    "\n",
    "day_of_week_labels = [day[:3] for day in cal.day_name]\n",
    "day_of_week_labels"
   ]
  },
  {
   "cell_type": "code",
   "execution_count": 21,
   "metadata": {},
   "outputs": [
    {
     "data": {
      "text/html": [
       "<div>\n",
       "<style scoped>\n",
       "    .dataframe tbody tr th:only-of-type {\n",
       "        vertical-align: middle;\n",
       "    }\n",
       "\n",
       "    .dataframe tbody tr th {\n",
       "        vertical-align: top;\n",
       "    }\n",
       "\n",
       "    .dataframe thead th {\n",
       "        text-align: right;\n",
       "    }\n",
       "</style>\n",
       "<table border=\"1\" class=\"dataframe\">\n",
       "  <thead>\n",
       "    <tr style=\"text-align: right;\">\n",
       "      <th></th>\n",
       "      <th></th>\n",
       "      <th>noshow</th>\n",
       "    </tr>\n",
       "    <tr>\n",
       "      <th>book_dow</th>\n",
       "      <th>book_tod</th>\n",
       "      <th></th>\n",
       "    </tr>\n",
       "  </thead>\n",
       "  <tbody>\n",
       "    <tr>\n",
       "      <td rowspan=\"3\" valign=\"top\">Friday</td>\n",
       "      <td>afternoon</td>\n",
       "      <td>145</td>\n",
       "    </tr>\n",
       "    <tr>\n",
       "      <td>evening</td>\n",
       "      <td>104</td>\n",
       "    </tr>\n",
       "    <tr>\n",
       "      <td>morning</td>\n",
       "      <td>110</td>\n",
       "    </tr>\n",
       "    <tr>\n",
       "      <td>Monday</td>\n",
       "      <td>morning</td>\n",
       "      <td>1</td>\n",
       "    </tr>\n",
       "    <tr>\n",
       "      <td rowspan=\"3\" valign=\"top\">Saturday</td>\n",
       "      <td>afternoon</td>\n",
       "      <td>171</td>\n",
       "    </tr>\n",
       "    <tr>\n",
       "      <td>evening</td>\n",
       "      <td>11</td>\n",
       "    </tr>\n",
       "    <tr>\n",
       "      <td>morning</td>\n",
       "      <td>160</td>\n",
       "    </tr>\n",
       "    <tr>\n",
       "      <td rowspan=\"3\" valign=\"top\">Sunday</td>\n",
       "      <td>afternoon</td>\n",
       "      <td>29</td>\n",
       "    </tr>\n",
       "    <tr>\n",
       "      <td>evening</td>\n",
       "      <td>5</td>\n",
       "    </tr>\n",
       "    <tr>\n",
       "      <td>morning</td>\n",
       "      <td>14</td>\n",
       "    </tr>\n",
       "    <tr>\n",
       "      <td rowspan=\"3\" valign=\"top\">Thursday</td>\n",
       "      <td>afternoon</td>\n",
       "      <td>152</td>\n",
       "    </tr>\n",
       "    <tr>\n",
       "      <td>evening</td>\n",
       "      <td>116</td>\n",
       "    </tr>\n",
       "    <tr>\n",
       "      <td>morning</td>\n",
       "      <td>99</td>\n",
       "    </tr>\n",
       "    <tr>\n",
       "      <td rowspan=\"3\" valign=\"top\">Tuesday</td>\n",
       "      <td>afternoon</td>\n",
       "      <td>117</td>\n",
       "    </tr>\n",
       "    <tr>\n",
       "      <td>evening</td>\n",
       "      <td>134</td>\n",
       "    </tr>\n",
       "    <tr>\n",
       "      <td>morning</td>\n",
       "      <td>90</td>\n",
       "    </tr>\n",
       "    <tr>\n",
       "      <td rowspan=\"3\" valign=\"top\">Wednesday</td>\n",
       "      <td>afternoon</td>\n",
       "      <td>121</td>\n",
       "    </tr>\n",
       "    <tr>\n",
       "      <td>evening</td>\n",
       "      <td>64</td>\n",
       "    </tr>\n",
       "    <tr>\n",
       "      <td>morning</td>\n",
       "      <td>74</td>\n",
       "    </tr>\n",
       "  </tbody>\n",
       "</table>\n",
       "</div>"
      ],
      "text/plain": [
       "                     noshow\n",
       "book_dow  book_tod         \n",
       "Friday    afternoon     145\n",
       "          evening       104\n",
       "          morning       110\n",
       "Monday    morning         1\n",
       "Saturday  afternoon     171\n",
       "          evening        11\n",
       "          morning       160\n",
       "Sunday    afternoon      29\n",
       "          evening         5\n",
       "          morning        14\n",
       "Thursday  afternoon     152\n",
       "          evening       116\n",
       "          morning        99\n",
       "Tuesday   afternoon     117\n",
       "          evening       134\n",
       "          morning        90\n",
       "Wednesday afternoon     121\n",
       "          evening        64\n",
       "          morning        74"
      ]
     },
     "execution_count": 21,
     "metadata": {},
     "output_type": "execute_result"
    }
   ],
   "source": [
    "pivot_heatmap_data = pd.pivot_table(raw_data[['book_dow','book_tod','noshow']], index=['book_dow','book_tod'], aggfunc='count')\n",
    "pivot_heatmap_data"
   ]
  },
  {
   "cell_type": "code",
   "execution_count": 22,
   "metadata": {},
   "outputs": [
    {
     "data": {
      "text/html": [
       "<div>\n",
       "<style scoped>\n",
       "    .dataframe tbody tr th:only-of-type {\n",
       "        vertical-align: middle;\n",
       "    }\n",
       "\n",
       "    .dataframe tbody tr th {\n",
       "        vertical-align: top;\n",
       "    }\n",
       "\n",
       "    .dataframe thead tr th {\n",
       "        text-align: left;\n",
       "    }\n",
       "\n",
       "    .dataframe thead tr:last-of-type th {\n",
       "        text-align: right;\n",
       "    }\n",
       "</style>\n",
       "<table border=\"1\" class=\"dataframe\">\n",
       "  <thead>\n",
       "    <tr>\n",
       "      <th></th>\n",
       "      <th colspan=\"7\" halign=\"left\">noshow</th>\n",
       "    </tr>\n",
       "    <tr>\n",
       "      <th>book_dow</th>\n",
       "      <th>Friday</th>\n",
       "      <th>Monday</th>\n",
       "      <th>Saturday</th>\n",
       "      <th>Sunday</th>\n",
       "      <th>Thursday</th>\n",
       "      <th>Tuesday</th>\n",
       "      <th>Wednesday</th>\n",
       "    </tr>\n",
       "    <tr>\n",
       "      <th>book_tod</th>\n",
       "      <th></th>\n",
       "      <th></th>\n",
       "      <th></th>\n",
       "      <th></th>\n",
       "      <th></th>\n",
       "      <th></th>\n",
       "      <th></th>\n",
       "    </tr>\n",
       "  </thead>\n",
       "  <tbody>\n",
       "    <tr>\n",
       "      <td>afternoon</td>\n",
       "      <td>145.0</td>\n",
       "      <td>NaN</td>\n",
       "      <td>171.0</td>\n",
       "      <td>29.0</td>\n",
       "      <td>152.0</td>\n",
       "      <td>117.0</td>\n",
       "      <td>121.0</td>\n",
       "    </tr>\n",
       "    <tr>\n",
       "      <td>evening</td>\n",
       "      <td>104.0</td>\n",
       "      <td>NaN</td>\n",
       "      <td>11.0</td>\n",
       "      <td>5.0</td>\n",
       "      <td>116.0</td>\n",
       "      <td>134.0</td>\n",
       "      <td>64.0</td>\n",
       "    </tr>\n",
       "    <tr>\n",
       "      <td>morning</td>\n",
       "      <td>110.0</td>\n",
       "      <td>1.0</td>\n",
       "      <td>160.0</td>\n",
       "      <td>14.0</td>\n",
       "      <td>99.0</td>\n",
       "      <td>90.0</td>\n",
       "      <td>74.0</td>\n",
       "    </tr>\n",
       "  </tbody>\n",
       "</table>\n",
       "</div>"
      ],
      "text/plain": [
       "          noshow                                                  \n",
       "book_dow  Friday Monday Saturday Sunday Thursday Tuesday Wednesday\n",
       "book_tod                                                          \n",
       "afternoon  145.0    NaN    171.0   29.0    152.0   117.0     121.0\n",
       "evening    104.0    NaN     11.0    5.0    116.0   134.0      64.0\n",
       "morning    110.0    1.0    160.0   14.0     99.0    90.0      74.0"
      ]
     },
     "execution_count": 22,
     "metadata": {},
     "output_type": "execute_result"
    }
   ],
   "source": [
    "pivot_heatmap_data_unstack = pivot_heatmap_data.unstack(level=0)\n",
    "pivot_heatmap_data_unstack"
   ]
  },
  {
   "cell_type": "code",
   "execution_count": 23,
   "metadata": {},
   "outputs": [
    {
     "data": {
      "text/html": [
       "<div>\n",
       "<style scoped>\n",
       "    .dataframe tbody tr th:only-of-type {\n",
       "        vertical-align: middle;\n",
       "    }\n",
       "\n",
       "    .dataframe tbody tr th {\n",
       "        vertical-align: top;\n",
       "    }\n",
       "\n",
       "    .dataframe thead tr th {\n",
       "        text-align: left;\n",
       "    }\n",
       "\n",
       "    .dataframe thead tr:last-of-type th {\n",
       "        text-align: right;\n",
       "    }\n",
       "</style>\n",
       "<table border=\"1\" class=\"dataframe\">\n",
       "  <thead>\n",
       "    <tr>\n",
       "      <th></th>\n",
       "      <th colspan=\"7\" halign=\"left\">noshow</th>\n",
       "    </tr>\n",
       "    <tr>\n",
       "      <th>book_dow</th>\n",
       "      <th>Monday</th>\n",
       "      <th>Tuesday</th>\n",
       "      <th>Wednesday</th>\n",
       "      <th>Thursday</th>\n",
       "      <th>Friday</th>\n",
       "      <th>Saturday</th>\n",
       "      <th>Sunday</th>\n",
       "    </tr>\n",
       "    <tr>\n",
       "      <th>book_tod</th>\n",
       "      <th></th>\n",
       "      <th></th>\n",
       "      <th></th>\n",
       "      <th></th>\n",
       "      <th></th>\n",
       "      <th></th>\n",
       "      <th></th>\n",
       "    </tr>\n",
       "  </thead>\n",
       "  <tbody>\n",
       "    <tr>\n",
       "      <td>afternoon</td>\n",
       "      <td>NaN</td>\n",
       "      <td>117.0</td>\n",
       "      <td>121.0</td>\n",
       "      <td>152.0</td>\n",
       "      <td>145.0</td>\n",
       "      <td>171.0</td>\n",
       "      <td>29.0</td>\n",
       "    </tr>\n",
       "    <tr>\n",
       "      <td>evening</td>\n",
       "      <td>NaN</td>\n",
       "      <td>134.0</td>\n",
       "      <td>64.0</td>\n",
       "      <td>116.0</td>\n",
       "      <td>104.0</td>\n",
       "      <td>11.0</td>\n",
       "      <td>5.0</td>\n",
       "    </tr>\n",
       "    <tr>\n",
       "      <td>morning</td>\n",
       "      <td>1.0</td>\n",
       "      <td>90.0</td>\n",
       "      <td>74.0</td>\n",
       "      <td>99.0</td>\n",
       "      <td>110.0</td>\n",
       "      <td>160.0</td>\n",
       "      <td>14.0</td>\n",
       "    </tr>\n",
       "  </tbody>\n",
       "</table>\n",
       "</div>"
      ],
      "text/plain": [
       "          noshow                                                  \n",
       "book_dow  Monday Tuesday Wednesday Thursday Friday Saturday Sunday\n",
       "book_tod                                                          \n",
       "afternoon    NaN   117.0     121.0    152.0  145.0    171.0   29.0\n",
       "evening      NaN   134.0      64.0    116.0  104.0     11.0    5.0\n",
       "morning      1.0    90.0      74.0     99.0  110.0    160.0   14.0"
      ]
     },
     "execution_count": 23,
     "metadata": {},
     "output_type": "execute_result"
    }
   ],
   "source": [
    "# Changing the order of days of the week - reindex\n",
    "pivot_heatmap_data_unstack = pivot_heatmap_data_unstack.reindex(labels=['Monday', 'Tuesday', 'Wednesday', 'Thursday', 'Friday', 'Saturday', 'Sunday'], axis=1, level=1)\n",
    "pivot_heatmap_data_unstack"
   ]
  },
  {
   "cell_type": "code",
   "execution_count": 24,
   "metadata": {},
   "outputs": [
    {
     "data": {
      "text/plain": [
       "['morning', 'afternoon', 'evening']"
      ]
     },
     "execution_count": 24,
     "metadata": {},
     "output_type": "execute_result"
    }
   ],
   "source": [
    "# Sorting list  of daytime in desired manner\n",
    "sort_key = {'morning':1, 'afternoon':2, 'evening':3}\n",
    "index_order = raw_data.book_tod.value_counts().index.tolist()\n",
    "index_order.sort(key=sort_key.get)\n",
    "index_order"
   ]
  },
  {
   "cell_type": "code",
   "execution_count": 25,
   "metadata": {},
   "outputs": [],
   "source": [
    "# Changing the order of time of day - reindex\n",
    "pivot_heatmap_data_unstack.index = pd.CategoricalIndex(pivot_heatmap_data_unstack.index, categories=index_order)\n",
    "pivot_heatmap_data_unstack.sort_index(level=0, inplace=True)"
   ]
  },
  {
   "cell_type": "code",
   "execution_count": 35,
   "metadata": {},
   "outputs": [
    {
     "data": {
      "image/png": "[encoded data removed]",
      "text/plain": [
       "<Figure size 1080x360 with 2 Axes>"
      ]
     },
     "metadata": {},
     "output_type": "display_data"
    }
   ],
   "source": [
    "import seaborn as sns\n",
    "\n",
    "sns.set_context(\"talk\")\n",
    "\n",
    "f, ax = plt.subplots(figsize=(15, 5))\n",
    "\n",
    "ax = sns.heatmap(pivot_heatmap_data_unstack,\n",
    "                 annot=True,\n",
    "                 fmt=\"n\",\n",
    "                 linewidths=.5,\n",
    "                 ax=ax,\n",
    "                 xticklabels=day_of_week_labels,\n",
    "                 yticklabels=index_order, cmap=\"YlGnBu\")\n",
    "\n",
    "ax.axes.set_title(\"No-shows: daytime / weekday\",\n",
    "                  fontsize=24,\n",
    "                  y=1.01,\n",
    "                  pad=20)\n",
    "\n",
    "ax.set(xlabel=None, ylabel=None)\n",
    "\n",
    "plt.yticks(rotation = 0);"
   ]
  },
  {
   "cell_type": "markdown",
   "metadata": {},
   "source": [
    "---"
   ]
  },
  {
   "cell_type": "markdown",
   "metadata": {},
   "source": [
    "## No-shows per staff"
   ]
  },
  {
   "cell_type": "code",
   "execution_count": 27,
   "metadata": {},
   "outputs": [
    {
     "data": {
      "image/png": "[encoded data removed]",
      "text/plain": [
       "<Figure size 720x432 with 1 Axes>"
      ]
     },
     "metadata": {},
     "output_type": "display_data"
    }
   ],
   "source": [
    "# Number of services provided per staff person\n",
    "\n",
    "sns.set(style=\"darkgrid\")\n",
    "plt.figure(figsize=(10, 6))\n",
    "ax = sns.countplot(x=\"book_staff\", hue=\"noshow\", data=raw_data)"
   ]
  },
  {
   "cell_type": "code",
   "execution_count": 28,
   "metadata": {},
   "outputs": [
    {
     "data": {
      "text/html": [
       "<div>\n",
       "<style scoped>\n",
       "    .dataframe tbody tr th:only-of-type {\n",
       "        vertical-align: middle;\n",
       "    }\n",
       "\n",
       "    .dataframe tbody tr th {\n",
       "        vertical-align: top;\n",
       "    }\n",
       "\n",
       "    .dataframe thead th {\n",
       "        text-align: right;\n",
       "    }\n",
       "</style>\n",
       "<table border=\"1\" class=\"dataframe\">\n",
       "  <thead>\n",
       "    <tr style=\"text-align: right;\">\n",
       "      <th></th>\n",
       "      <th>count</th>\n",
       "    </tr>\n",
       "    <tr>\n",
       "      <th>book_staff</th>\n",
       "      <th></th>\n",
       "    </tr>\n",
       "  </thead>\n",
       "  <tbody>\n",
       "    <tr>\n",
       "      <td>BECKY</td>\n",
       "      <td>436</td>\n",
       "    </tr>\n",
       "    <tr>\n",
       "      <td>HOUSE</td>\n",
       "      <td>20</td>\n",
       "    </tr>\n",
       "    <tr>\n",
       "      <td>JJ</td>\n",
       "      <td>722</td>\n",
       "    </tr>\n",
       "    <tr>\n",
       "      <td>JOANNE</td>\n",
       "      <td>260</td>\n",
       "    </tr>\n",
       "    <tr>\n",
       "      <td>KELLY</td>\n",
       "      <td>301</td>\n",
       "    </tr>\n",
       "    <tr>\n",
       "      <td>SINEAD</td>\n",
       "      <td>196</td>\n",
       "    </tr>\n",
       "    <tr>\n",
       "      <td>TANYA</td>\n",
       "      <td>17</td>\n",
       "    </tr>\n",
       "  </tbody>\n",
       "</table>\n",
       "</div>"
      ],
      "text/plain": [
       "            count\n",
       "book_staff       \n",
       "BECKY         436\n",
       "HOUSE          20\n",
       "JJ            722\n",
       "JOANNE        260\n",
       "KELLY         301\n",
       "SINEAD        196\n",
       "TANYA          17"
      ]
     },
     "execution_count": 28,
     "metadata": {},
     "output_type": "execute_result"
    }
   ],
   "source": [
    "# Total bookings for each staff person\n",
    "total_staff_book = raw_data[['book_staff','noshow']].groupby(['book_staff']).agg(['count'])\n",
    "total_staff_book['noshow']"
   ]
  },
  {
   "cell_type": "code",
   "execution_count": 29,
   "metadata": {},
   "outputs": [
    {
     "data": {
      "text/html": [
       "<div>\n",
       "<style scoped>\n",
       "    .dataframe tbody tr th:only-of-type {\n",
       "        vertical-align: middle;\n",
       "    }\n",
       "\n",
       "    .dataframe tbody tr th {\n",
       "        vertical-align: top;\n",
       "    }\n",
       "\n",
       "    .dataframe thead th {\n",
       "        text-align: right;\n",
       "    }\n",
       "</style>\n",
       "<table border=\"1\" class=\"dataframe\">\n",
       "  <thead>\n",
       "    <tr style=\"text-align: right;\">\n",
       "      <th></th>\n",
       "      <th>noshow</th>\n",
       "    </tr>\n",
       "    <tr>\n",
       "      <th>book_staff</th>\n",
       "      <th></th>\n",
       "    </tr>\n",
       "  </thead>\n",
       "  <tbody>\n",
       "    <tr>\n",
       "      <td>BECKY</td>\n",
       "      <td>68</td>\n",
       "    </tr>\n",
       "    <tr>\n",
       "      <td>HOUSE</td>\n",
       "      <td>1</td>\n",
       "    </tr>\n",
       "    <tr>\n",
       "      <td>JJ</td>\n",
       "      <td>69</td>\n",
       "    </tr>\n",
       "    <tr>\n",
       "      <td>JOANNE</td>\n",
       "      <td>25</td>\n",
       "    </tr>\n",
       "    <tr>\n",
       "      <td>KELLY</td>\n",
       "      <td>34</td>\n",
       "    </tr>\n",
       "    <tr>\n",
       "      <td>SINEAD</td>\n",
       "      <td>24</td>\n",
       "    </tr>\n",
       "    <tr>\n",
       "      <td>TANYA</td>\n",
       "      <td>3</td>\n",
       "    </tr>\n",
       "  </tbody>\n",
       "</table>\n",
       "</div>"
      ],
      "text/plain": [
       "            noshow\n",
       "book_staff        \n",
       "BECKY           68\n",
       "HOUSE            1\n",
       "JJ              69\n",
       "JOANNE          25\n",
       "KELLY           34\n",
       "SINEAD          24\n",
       "TANYA            3"
      ]
     },
     "execution_count": 29,
     "metadata": {},
     "output_type": "execute_result"
    }
   ],
   "source": [
    "# Total no-shows for each staff person\n",
    "noshow_staff = raw_data[['book_staff','noshow']].groupby(['book_staff']).sum()\n",
    "noshow_staff"
   ]
  },
  {
   "cell_type": "markdown",
   "metadata": {},
   "source": [
    "---\n",
    "\n",
    "## Feature: last_staff"
   ]
  },
  {
   "cell_type": "code",
   "execution_count": 30,
   "metadata": {},
   "outputs": [
    {
     "data": {
      "text/plain": [
       "NaN       0.486168\n",
       "JJ        0.181865\n",
       "BECKY     0.116803\n",
       "JOANNE    0.086578\n",
       "SINEAD    0.068648\n",
       "KELLY     0.049693\n",
       "HOUSE     0.008197\n",
       "TANYA     0.002049\n",
       "Name: last_staff, dtype: float64"
      ]
     },
     "execution_count": 30,
     "metadata": {},
     "output_type": "execute_result"
    }
   ],
   "source": [
    "raw_data['last_staff'].value_counts(normalize=True, dropna = False)"
   ]
  },
  {
   "cell_type": "code",
   "execution_count": 31,
   "metadata": {},
   "outputs": [
    {
     "data": {
      "text/html": [
       "<div>\n",
       "<style scoped>\n",
       "    .dataframe tbody tr th:only-of-type {\n",
       "        vertical-align: middle;\n",
       "    }\n",
       "\n",
       "    .dataframe tbody tr th {\n",
       "        vertical-align: top;\n",
       "    }\n",
       "\n",
       "    .dataframe thead tr th {\n",
       "        text-align: left;\n",
       "    }\n",
       "\n",
       "    .dataframe thead tr:last-of-type th {\n",
       "        text-align: right;\n",
       "    }\n",
       "</style>\n",
       "<table border=\"1\" class=\"dataframe\">\n",
       "  <thead>\n",
       "    <tr>\n",
       "      <th></th>\n",
       "      <th colspan=\"2\" halign=\"left\">noshow</th>\n",
       "    </tr>\n",
       "    <tr>\n",
       "      <th></th>\n",
       "      <th>mean</th>\n",
       "      <th>count</th>\n",
       "    </tr>\n",
       "    <tr>\n",
       "      <th>last_staff</th>\n",
       "      <th></th>\n",
       "      <th></th>\n",
       "    </tr>\n",
       "  </thead>\n",
       "  <tbody>\n",
       "    <tr>\n",
       "      <td>BECKY</td>\n",
       "      <td>0.210526</td>\n",
       "      <td>228</td>\n",
       "    </tr>\n",
       "    <tr>\n",
       "      <td>HOUSE</td>\n",
       "      <td>0.562500</td>\n",
       "      <td>16</td>\n",
       "    </tr>\n",
       "    <tr>\n",
       "      <td>JJ</td>\n",
       "      <td>0.098592</td>\n",
       "      <td>355</td>\n",
       "    </tr>\n",
       "    <tr>\n",
       "      <td>JOANNE</td>\n",
       "      <td>0.106509</td>\n",
       "      <td>169</td>\n",
       "    </tr>\n",
       "    <tr>\n",
       "      <td>KELLY</td>\n",
       "      <td>0.144330</td>\n",
       "      <td>97</td>\n",
       "    </tr>\n",
       "    <tr>\n",
       "      <td>SINEAD</td>\n",
       "      <td>0.126866</td>\n",
       "      <td>134</td>\n",
       "    </tr>\n",
       "    <tr>\n",
       "      <td>TANYA</td>\n",
       "      <td>0.000000</td>\n",
       "      <td>4</td>\n",
       "    </tr>\n",
       "  </tbody>\n",
       "</table>\n",
       "</div>"
      ],
      "text/plain": [
       "              noshow      \n",
       "                mean count\n",
       "last_staff                \n",
       "BECKY       0.210526   228\n",
       "HOUSE       0.562500    16\n",
       "JJ          0.098592   355\n",
       "JOANNE      0.106509   169\n",
       "KELLY       0.144330    97\n",
       "SINEAD      0.126866   134\n",
       "TANYA       0.000000     4"
      ]
     },
     "execution_count": 31,
     "metadata": {},
     "output_type": "execute_result"
    }
   ],
   "source": [
    "raw_data[['last_staff','noshow']].groupby(['last_staff']).agg(['mean','count'])"
   ]
  },
  {
   "cell_type": "markdown",
   "metadata": {},
   "source": [
    "---\n",
    "\n",
    "## Feature: book_category"
   ]
  },
  {
   "cell_type": "code",
   "execution_count": 32,
   "metadata": {},
   "outputs": [
    {
     "data": {
      "text/plain": [
       "STYLE    1531\n",
       "COLOR     347\n",
       "MISC       74\n",
       "Name: book_category, dtype: int64"
      ]
     },
     "execution_count": 32,
     "metadata": {},
     "output_type": "execute_result"
    }
   ],
   "source": [
    "raw_data['book_category'].value_counts()"
   ]
  },
  {
   "cell_type": "code",
   "execution_count": 33,
   "metadata": {},
   "outputs": [
    {
     "data": {
      "text/plain": [
       "<matplotlib.axes._subplots.AxesSubplot at 0x7f1115bcd240>"
      ]
     },
     "execution_count": 33,
     "metadata": {},
     "output_type": "execute_result"
    },
    {
     "data": {
      "image/png": "[encoded data removed]",
      "text/plain": [
       "<Figure size 432x288 with 1 Axes>"
      ]
     },
     "metadata": {},
     "output_type": "display_data"
    }
   ],
   "source": [
    "raw_data['book_category'].hist(bins=3)"
   ]
  },
  {
   "cell_type": "markdown",
   "metadata": {},
   "source": [
    "---\n",
    "\n",
    "## Feature correlation"
   ]
  },
  {
   "cell_type": "code",
   "execution_count": 34,
   "metadata": {},
   "outputs": [
    {
     "data": {
      "image/png": "[encoded data removed]",
      "text/plain": [
       "<Figure size 1296x1296 with 2 Axes>"
      ]
     },
     "metadata": {},
     "output_type": "display_data"
    }
   ],
   "source": [
    "import seaborn as sns\n",
    "\n",
    "# Creating heatmap feature correlation\n",
    "sns.set(style=\"darkgrid\")\n",
    "corr = raw_data.corr()\n",
    "\n",
    "# Generating a mask to cover the upper triangle\n",
    "mask = np.zeros_like(corr, dtype=np.bool)\n",
    "mask[np.triu_indices_from(mask)] = True\n",
    "\n",
    "# Setting the size of the figure\n",
    "f, ax = plt.subplots(figsize=(18,18))\n",
    "\n",
    "# Custom color map\n",
    "cmap = sns.diverging_palette(220, 10, as_cmap=True)\n",
    "\n",
    "# Heatmap\n",
    "sns.heatmap(corr, mask=mask, cmap=cmap, vmin=-1, vmax=1,\n",
    "            square=True, xticklabels=1, yticklabels=1,\n",
    "            linewidths=0.5, cbar_kws={\"shrink\": 0.5}, ax=ax)\n",
    "\n",
    "plt.xticks(rotation = 45)\n",
    "plt.show()"
   ]
  }
 ],
 "metadata": {
  "kernelspec": {
   "display_name": "Python 3",
   "language": "python",
   "name": "python3"
  },
  "language_info": {
   "codemirror_mode": {
    "name": "ipython",
    "version": 3
   },
   "file_extension": ".py",
   "mimetype": "text/x-python",
   "name": "python",
   "nbconvert_exporter": "python",
   "pygments_lexer": "ipython3",
   "version": "3.7.3"
  }
 },
 "nbformat": 4,
 "nbformat_minor": 2
}
