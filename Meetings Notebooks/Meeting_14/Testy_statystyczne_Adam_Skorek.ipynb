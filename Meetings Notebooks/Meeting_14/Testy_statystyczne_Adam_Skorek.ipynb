{
  "nbformat": 4,
  "nbformat_minor": 0,
  "metadata": {
    "colab": {
      "name": "DWF-Waw-stat_tests.ipynb",
      "provenance": [],
      "collapsed_sections": []
    },
    "kernelspec": {
      "name": "python3",
      "display_name": "Python 3"
    }
  },
  "cells": [
    {
      "cell_type": "markdown",
      "metadata": {
        "id": "LuCy2LDR5Wzi"
      },
      "source": [
        "# **Wstęp teoretyczny - po co nam testowanie?**\r\n",
        "\r\n",
        "## **Historyjka**\r\n",
        "\r\n",
        "\r\n",
        "Hipotetyczna sytuacja - jesteśmy dyrektorem w firmie zajmującej się produkcją części samochodowych. Mamy dwa zakłady produkcyjne A i B, oba produkują między innymi alternatory. Chcemy się dowiedzieć jak wygląda jakość produkowanych części, więc pobieramy po kilka sztuk z każdego zakładu i okazuje się że w zakładzie A 20% ma wady, w zakładzie B 30% ma wady.\r\n",
        "\r\n",
        "$p_A = 0,2$\r\n",
        "\r\n",
        "$p_B = 0,3$\r\n",
        "\r\n",
        "\r\n",
        "Wypadało by zaplanować jakieś działania naprawcze w zakładzie B. Na przykład dodatkowe szkolenia, albo  wizytę pracowników z zakładu B w zakładzie A, żeby sobie zobaczyli jak robić dobre alternatory.\r\n",
        "\r\n",
        "Ale chwila - czy ta różnica w ilości wadliwych egzemplarzy jest na prawdę taka duża? Co jeśli wylosowaliśmy tylko 10 sztuk części z każdego zakładu? Czyli z zakładu A były 2 sztuki wadliwe, z zakładu B 3 wadliwe. Może akurat tak się trafiło, że dla B przypadkiem wylosowaliśmy jeden niesprawny więcej niż w A. Różnicy w udziale procentowym niesprawnych części może tak na prawdę nie być, wypadało by zbadać więcej sztuk.\r\n",
        "\r\n",
        "Gdyby tych losowanych sztuk było 10000, szansa że fabryki mają taką samą jakość, a my przypadkowo wylosowaliśmy 1000 niesprawnych sztuk więcej w B jest oczywiście mniejsza.\r\n",
        "\r\n",
        "A co jak losowanych sztuk było 100? Albo 20? Gdzie jest ta granica, gdy możemy stwierdzić, że jest istotna różnica w odsetku braków? Na takie pytania odpowiadają testy istotności.\r\n",
        "\r\n",
        "## Wyjaśnienie\r\n",
        "\r\n",
        "Wynik każdego losowania z populacji (a nasze dane to też losowanie, bo nie mamy dostępu do wszystkich przeszłych i przyszłych rezerwacji wizyt) to zmienna losowa, która ma jakąś wartość i jakąś niepewność. Wielkości te można przedstawić graficznie:\r\n",
        "![stat_t1.gif](data:image/gif;base64,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) \r\n",
        "Obrazki kradzione z https://conjointly.com/kb/statistical-student-t-test/\r\n",
        "\r\n",
        "Maksimum każdej krzywej to nasz odsetek, a to jak bardzo krzywa jest \"rozstrzelona\" świadczy o niepewności pomiaru. Widzimy, że jest pewien zakres, w którym te krzywe się pokrywają. **Prawdopodobieństwo, że pomiędzy dwoma grupami nie ma istotnej różnicy** jest proporcjonalne do pola powierzchni wspólnego dla tych krzywych. Tą wartość nazywamy **p-value** i to jest właśnie to, co otrzymamy z testów statystycznych. (rysunki przedstawiają testy dla wartości średnich, ale dla odsetka jest podobnie)\r\n",
        "\r\n",
        "Im większa różnica pomiędzy grupami, tym wspólne pole będzie mniejsze. Im większa niepewność wartości w poszczególnych grupach, tym wykresy będą szersze a pole większe. Można to zobaczyć na rysunkach:\r\n",
        "\r\n",
        "![stat_t2.gif](data:image/gif;base64,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)\r\n",
        "\r\n",
        "Można też testowanie porównać do określania stosunku sygnału do szumu - im większy sygnał, tym bardziej jesteśmy pewni że to prawdziwy sygnał a nie fluktuacja szumu. W tym przypadku sygnałem jest różnica między odsetkami a szumem niepewność tej różnicy.\r\n",
        "\r\n",
        "![stat_t3.gif](data:image/gif;base64,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)\r\n",
        "\r\n",
        "Dla testów odsetka zamiast t-value będziemy mieć statystykę Z\r\n",
        "\r\n",
        "## Jak to policzyć?\r\n",
        "Wzór w Wikipedii:\r\n",
        "https://pl.wikipedia.org/wiki/Test_dla_proporcji#Test_dla_dw%C3%B3ch_pr%C3%B3b_du%C5%BCych\r\n",
        "\r\n",
        "![Przechwytywanie.PNG](data:image/png;base64,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)\r\n",
        "\r\n",
        "na podstawie liczebności obu grup i ilości wystąpień poszczególnej cechy w każdej grupie (cecha to popsuty alternator, nieprzyjście na wizyte) obliczamy wartość statystyki Z. Następnie z tablic rozkładu normalnego, albo z gotowych funkcji wyznaczamy p-value i tyle. Mamy prawdopodobieństwo z jakim poziom cechy w danych grupach jest różny.\r\n",
        "\r\n",
        "## Co z tego mamy?\r\n",
        "W kontekście ML raczej nie wiele. Możemy sprawdzić czy jakaś zmienna ma wpływ na interesującą nas zmienną. Jeśli statystycznie prawdopodobieństwo na to jest małe, raczej nie spodziewałbym się, że ta zmienna pojawi się jako istotna dla modelu. Ale mogą istnieć jakieś zależności drugiego i dalszego poziomu, które sprawią, że ta zmienna i tak nam wskoczy do modelu.\r\n",
        "\r\n",
        "Jeśli uzyskamy wynik, że jakaś zmienna bardzo istotnie różnicuje, to nie oznacza też, że pojawi się ona jako istotna w modelu. \r\n",
        "\r\n",
        "Do czego mogą się więc te testy przydać? Wymyśliłem dwa zastosowania:\r\n",
        "- wstępna analiza - sprawdzamy, czy różnica, którą widzimy na wykresie i na którą się bardzo napaliliśmy, jest tak naprawdę jakąś znaczącą różnicą\r\n",
        "- bardzo duża ilość cech - jeśli mamy tyle zmiennych, że modele się krztuszą, można porobić testy i wywalić część z nich, ten z największym p-value, dlatego że on raczej wiele nie wnosi\r\n",
        "\r\n",
        "## Jakie p-value jest dobre?\r\n",
        "W statystyce przyjęły się trzy poziomy:\r\n",
        "- **p_value < 0,1** - no od biedy można powiedzieć, że dwie grupy się różnią\r\n",
        "- **p_value < 0,05** - na 95% grupy się różnią, czyli już jesteśmy dość pewni\r\n",
        "- **p_value < 0,01** - tutaj to już prawie na pewno poziom cechy w obu grupach jest różny. Jest mniej niż 1% szansy, że różnica wynika z przypadku (czyli źle się wylosowało)\r\n",
        "\r\n",
        "Aha nie mylcie p (odsetek) z p_value, to są kompletnie różne rzeczy :)"
      ]
    },
    {
      "cell_type": "code",
      "metadata": {
        "id": "PX67CLq3FVrh"
      },
      "source": [
        "def z_test_for_two_fractions(m1, m2, n1, n2):\r\n",
        "  '''\r\n",
        "  To jest implementacja funkcji z Wikipedii. Bierze liczebności i zwraca p-value,\r\n",
        "  czyli prawdopodobieństwo że grupy są takie same. \r\n",
        "  '''\r\n",
        "  if n1 == 0 or n2 == 0:\r\n",
        "    print(\"can't perform test, one group is empty\")\r\n",
        "    return -1\r\n",
        "  if n1 < 20 or n2 < 20:\r\n",
        "    print(\"Samples are small: ({} and {}), risk that results will be not accurate\"\r\n",
        "    .format(n1, n2))\r\n",
        "\r\n",
        "  p = (m1+m2)/(n1+n2)\r\n",
        "  p1 = m1/n1\r\n",
        "  p2 = m2/n2\r\n",
        "  z = abs((p1 - p2) / np.sqrt(p*(1-p)*((1/n1) + (1/n2))))\r\n",
        "  p_value = (1- stats.norm.cdf(z))/2\r\n",
        "\r\n",
        "# wypiszemy sobie jakiś słowny opis co ten wynik znaczy\r\n",
        "  if p_value < 0.01:\r\n",
        "    result = \"Very signigicant difference\"\r\n",
        "  elif p_value < 0.05:\r\n",
        "    result = \"Some significant difference\"\r\n",
        "  elif p_value < 0.1:\r\n",
        "    result = \"Weak significant difference\"\r\n",
        "  else:\r\n",
        "    result = \"No significant difference\"\r\n",
        "\r\n",
        "# wypisuje wszystkie mniej lub bardziej ważne parametry, które się liczyły\r\n",
        "  print(f\"p1 = {p1:.3}, p2 = {p2:.3}, z={z:{.2}}, p-value = {p_value:.3}, {result}\")\r\n",
        " \r\n",
        "  return p_value"
      ],
      "execution_count": 8,
      "outputs": []
    },
    {
      "cell_type": "code",
      "metadata": {
        "id": "iwmXl99fJYRj"
      },
      "source": [
        "def test_proportion(df, grouping_variable, tested_variable):\r\n",
        "  '''\r\n",
        "  Ta funkcja bierze df i nazwy dwóch zmiennych, grouping_variable to ta, której \r\n",
        "  wpływ chcemy zbadać (np Alkoholizm w pytaniu czy alkoholizm wpływa na szansę\r\n",
        "  no-showa?), czyli zmienna definiujące dwie lub więcej grup. Tested-variable to\r\n",
        "  ta zmienna, dla której chcemy sprawdzić, czy jest różnica pomiędzy grupami (u\r\n",
        "  nas No-show) \r\n",
        "  '''\r\n",
        "  print(grouping_variable),\r\n",
        "\r\n",
        "  # zmienna testowa powinna mieć max dwie wartości\r\n",
        "  assert len(df[tested_variable].value_counts()) <= 2\r\n",
        "\r\n",
        "  # zmienna grupująca może mieć więcej niż dwie wartości (np Neighberhood), \r\n",
        "  # ale test można zrobićtylko jeśli ma dwie. Sprawdzam czy jest więcej niż\r\n",
        "  # dwie wartości, jeśli tak to robie one-hot-encoding i sprawdzam wpływ każdej \r\n",
        "  # oddzielnie - np Neighbourhood_AEROPORTO vs No-Show, potem Neighbourhood_ANDORINHAS\r\n",
        "  # vs No-Show itd\r\n",
        "\r\n",
        "  if len(df[grouping_variable].value_counts()) > 2:\r\n",
        "     dummies = pd.get_dummies(df[grouping_variable], \r\n",
        "                              prefix = grouping_variable)\r\n",
        "     for column in dummies.columns:\r\n",
        "       temp_df = pd.concat([dummies[column], df[tested_variable]], axis=1)\r\n",
        "       test_proportion(temp_df, column, tested_variable) # requrently calling again\r\n",
        "     return # exit from requrency\r\n",
        "\r\n",
        "  \r\n",
        "  df_copy = df.copy()  \r\n",
        "\r\n",
        "  df_copy[grouping_variable] = df_copy[grouping_variable].factorize()[0] # to change yes/no tak/nie into 0/1\r\n",
        "  df_copy[tested_variable] = df_copy[tested_variable].factorize()[0]\r\n",
        "\r\n",
        "  n1 = df_copy[grouping_variable].sum()  # how many from grouping are ones\r\n",
        "  n2 = len(df_copy) - n1                 # how many from grouping are zeros\r\n",
        "\r\n",
        "  m2 = df_copy[df_copy[grouping_variable]==0][tested_variable].sum()  # tested ones when grouping zero\r\n",
        "  m1 = df_copy[df_copy[grouping_variable]==1][tested_variable].sum()  # tested ones when grouping one\r\n",
        "\r\n",
        "  \r\n",
        "  return z_test_for_two_fractions(m1, m2, n1, n2)\r\n",
        "  \r\n"
      ],
      "execution_count": 9,
      "outputs": []
    },
    {
      "cell_type": "code",
      "metadata": {
        "id": "QKd9cNvmJZU0"
      },
      "source": [
        "import pandas as pd\r\n",
        "import numpy as np\r\n",
        "from scipy import stats\r\n",
        "pd.set_option(\"display.precision\", 2)"
      ],
      "execution_count": 24,
      "outputs": []
    },
    {
      "cell_type": "code",
      "metadata": {
        "colab": {
          "base_uri": "https://localhost:8080/"
        },
        "id": "1TFLNBO2JRCw",
        "outputId": "b5ba75ab-4393-47d4-cb80-918a20426b46"
      },
      "source": [
        "# wczytuje oryginalne dane (bo będę sprawdzał oryginalne Neighberhood)\r\n",
        "%cd '/content/drive/MyDrive/Colab Notebooks/dwf_warszawa/'\r\n",
        "df = pd.read_csv(\"/content/drive/MyDrive/Colab Notebooks/dwf_warszawa/KaggleV2-May-2016.csv\")"
      ],
      "execution_count": 11,
      "outputs": [
        {
          "output_type": "stream",
          "text": [
            "/content/drive/MyDrive/Colab Notebooks/dwf_warszawa\n"
          ],
          "name": "stdout"
        }
      ]
    },
    {
      "cell_type": "code",
      "metadata": {
        "colab": {
          "base_uri": "https://localhost:8080/"
        },
        "id": "44AOVNsLiu9p",
        "outputId": "22065f04-94ff-411d-b490-e9b397f72809"
      },
      "source": [
        "# wybrani odpowiednich kolumn, wywaleni zmiennych ciągłych\r\n",
        "all_numeric = list(df.select_dtypes(include=np.number).columns)\r\n",
        "all_numeric.remove('PatientId')\r\n",
        "all_numeric.remove('Age')\r\n",
        "all_numeric.remove('AppointmentID')\r\n",
        "all_numeric.remove('Handcap')\r\n",
        "\r\n",
        "significant = {}\r\n",
        "not_significant = {}\r\n",
        "for variable in all_numeric:\r\n",
        "  p_value = test_proportion(df, variable, \"No-show\")\r\n",
        "  if p_value < 0.1 and p_value > -0.5: # to drugie porównanie, bo jak nie może przetestować to zwraca -1\r\n",
        "    significant[variable] = p_value\r\n",
        "  else:\r\n",
        "    not_significant[variable] = p_value\r\n"
      ],
      "execution_count": 12,
      "outputs": [
        {
          "output_type": "stream",
          "text": [
            "Scholarship\n",
            "p1 = 0.237, p2 = 0.198, z=9.7, p-value = 0.0, Very signigicant difference\n",
            "Hipertension\n",
            "p1 = 0.209, p2 = 0.173, z=1.2e+01, p-value = 0.0, Very signigicant difference\n",
            "Diabetes\n",
            "p1 = 0.18, p2 = 0.204, z=5.0, p-value = 1.12e-07, Very signigicant difference\n",
            "Alcoholism\n",
            "p1 = 0.201, p2 = 0.202, z=0.065, p-value = 0.237, No significant difference\n",
            "SMS_received\n",
            "p1 = 0.276, p2 = 0.167, z=4.2e+01, p-value = 0.0, Very signigicant difference\n"
          ],
          "name": "stdout"
        }
      ]
    },
    {
      "cell_type": "markdown",
      "metadata": {
        "id": "GL2ZdLK1IoZG"
      },
      "source": [
        "##Uwaga\r\n",
        "Wartość p-value = 0.0 oznacza, że ułamek jest tak mały że zabrakło precyzji żeby go pokazać. Prawdopodobieństwo, że grupy się różnią to w zasadzie 100%"
      ]
    },
    {
      "cell_type": "code",
      "metadata": {
        "colab": {
          "base_uri": "https://localhost:8080/",
          "height": 80
        },
        "id": "XZBFgsegHm3Z",
        "outputId": "9af58a45-1961-4b5e-b76e-5e3990fe86b8"
      },
      "source": [
        "pd.DataFrame(significant, index=[\"p-value\"])"
      ],
      "execution_count": 25,
      "outputs": [
        {
          "output_type": "execute_result",
          "data": {
            "text/html": [
              "<div>\n",
              "<style scoped>\n",
              "    .dataframe tbody tr th:only-of-type {\n",
              "        vertical-align: middle;\n",
              "    }\n",
              "\n",
              "    .dataframe tbody tr th {\n",
              "        vertical-align: top;\n",
              "    }\n",
              "\n",
              "    .dataframe thead th {\n",
              "        text-align: right;\n",
              "    }\n",
              "</style>\n",
              "<table border=\"1\" class=\"dataframe\">\n",
              "  <thead>\n",
              "    <tr style=\"text-align: right;\">\n",
              "      <th></th>\n",
              "      <th>Scholarship</th>\n",
              "      <th>Hipertension</th>\n",
              "      <th>Diabetes</th>\n",
              "      <th>SMS_received</th>\n",
              "    </tr>\n",
              "  </thead>\n",
              "  <tbody>\n",
              "    <tr>\n",
              "      <th>p-value</th>\n",
              "      <td>0.0</td>\n",
              "      <td>0.0</td>\n",
              "      <td>1.12e-07</td>\n",
              "      <td>0.0</td>\n",
              "    </tr>\n",
              "  </tbody>\n",
              "</table>\n",
              "</div>"
            ],
            "text/plain": [
              "         Scholarship  Hipertension  Diabetes  SMS_received\n",
              "p-value          0.0           0.0  1.12e-07           0.0"
            ]
          },
          "metadata": {
            "tags": []
          },
          "execution_count": 25
        }
      ]
    },
    {
      "cell_type": "code",
      "metadata": {
        "colab": {
          "base_uri": "https://localhost:8080/"
        },
        "id": "MGxQzAYt5RQ8",
        "outputId": "97619ff6-4b1d-40a9-cf9c-0fdb7e316cef"
      },
      "source": [
        "test_proportion(df, \"Handcap\", \"No-show\")"
      ],
      "execution_count": 23,
      "outputs": [
        {
          "output_type": "stream",
          "text": [
            "Handcap\n",
            "Handcap_0\n",
            "p1 = 0.182, p2 = 0.202, z=2.4, p-value = 0.00387, Very signigicant difference\n",
            "Handcap_1\n",
            "p1 = 0.179, p2 = 0.202, z=2.6, p-value = 0.00248, Very signigicant difference\n",
            "Handcap_2\n",
            "p1 = 0.202, p2 = 0.202, z=0.0085, p-value = 0.248, No significant difference\n",
            "Handcap_3\n",
            "Samples are small: (13 and 110514), risk that results will be not accurate\n",
            "p1 = 0.231, p2 = 0.202, z=0.26, p-value = 0.199, No significant difference\n",
            "Handcap_4\n",
            "Samples are small: (3 and 110524), risk that results will be not accurate\n",
            "p1 = 0.333, p2 = 0.202, z=0.57, p-value = 0.143, No significant difference\n",
            "Empty DataFrame\n",
            "Columns: []\n",
            "Index: []\n"
          ],
          "name": "stdout"
        }
      ]
    },
    {
      "cell_type": "code",
      "metadata": {
        "colab": {
          "base_uri": "https://localhost:8080/"
        },
        "id": "dl1WePdzdq5W",
        "outputId": "644a6d4e-ed2f-4abd-ee6d-69db50982454"
      },
      "source": [
        "test_proportion(df, \"Neighbourhood\", \"No-show\")"
      ],
      "execution_count": 27,
      "outputs": [
        {
          "output_type": "stream",
          "text": [
            "Neighbourhood\n",
            "Neighbourhood_AEROPORTO\n",
            "Samples are small: (8 and 110519), risk that results will be not accurate\n",
            "p1 = 0.125, p2 = 0.202, z=0.54, p-value = 0.147, No significant difference\n",
            "Neighbourhood_ANDORINHAS\n",
            "p1 = 0.23, p2 = 0.201, z=3.4, p-value = 0.000169, Very signigicant difference\n",
            "Neighbourhood_ANTÔNIO HONÓRIO\n",
            "p1 = 0.185, p2 = 0.202, z=0.72, p-value = 0.119, No significant difference\n",
            "Neighbourhood_ARIOVALDO FAVALESSA\n",
            "p1 = 0.22, p2 = 0.202, z=0.75, p-value = 0.113, No significant difference\n",
            "Neighbourhood_BARRO VERMELHO\n",
            "p1 = 0.215, p2 = 0.202, z=0.68, p-value = 0.125, No significant difference\n",
            "Neighbourhood_BELA VISTA\n",
            "p1 = 0.201, p2 = 0.202, z=0.062, p-value = 0.238, No significant difference\n",
            "Neighbourhood_BENTO FERREIRA\n",
            "p1 = 0.225, p2 = 0.202, z=1.7, p-value = 0.023, Some significant difference\n",
            "Neighbourhood_BOA VISTA\n",
            "p1 = 0.186, p2 = 0.202, z=0.71, p-value = 0.12, No significant difference\n",
            "Neighbourhood_BONFIM\n",
            "p1 = 0.198, p2 = 0.202, z=0.48, p-value = 0.158, No significant difference\n",
            "Neighbourhood_CARATOÍRA\n",
            "p1 = 0.23, p2 = 0.201, z=3.6, p-value = 6.95e-05, Very signigicant difference\n",
            "Neighbourhood_CENTRO\n",
            "p1 = 0.211, p2 = 0.202, z=1.3, p-value = 0.0481, Some significant difference\n",
            "Neighbourhood_COMDUSA\n",
            "p1 = 0.181, p2 = 0.202, z=0.93, p-value = 0.0875, Weak significant difference\n",
            "Neighbourhood_CONQUISTA\n",
            "p1 = 0.188, p2 = 0.202, z=0.98, p-value = 0.0815, Weak significant difference\n",
            "Neighbourhood_CONSOLAÇÃO\n",
            "p1 = 0.172, p2 = 0.202, z=2.8, p-value = 0.00144, Very signigicant difference\n",
            "Neighbourhood_CRUZAMENTO\n",
            "p1 = 0.217, p2 = 0.202, z=1.5, p-value = 0.0364, Some significant difference\n",
            "Neighbourhood_DA PENHA\n",
            "p1 = 0.194, p2 = 0.202, z=1.0, p-value = 0.0795, Weak significant difference\n",
            "Neighbourhood_DE LOURDES\n",
            "p1 = 0.154, p2 = 0.202, z=2.1, p-value = 0.00929, Very signigicant difference\n",
            "Neighbourhood_DO CABRAL\n",
            "p1 = 0.157, p2 = 0.202, z=2.6, p-value = 0.00203, Very signigicant difference\n",
            "Neighbourhood_DO MOSCOSO\n",
            "p1 = 0.223, p2 = 0.202, z=1.1, p-value = 0.0727, Weak significant difference\n",
            "Neighbourhood_DO QUADRO\n",
            "p1 = 0.165, p2 = 0.202, z=2.7, p-value = 0.00174, Very signigicant difference\n",
            "Neighbourhood_ENSEADA DO SUÁ\n",
            "p1 = 0.221, p2 = 0.202, z=0.74, p-value = 0.115, No significant difference\n",
            "Neighbourhood_ESTRELINHA\n",
            "p1 = 0.197, p2 = 0.202, z=0.28, p-value = 0.194, No significant difference\n",
            "Neighbourhood_FONTE GRANDE\n",
            "p1 = 0.218, p2 = 0.202, z=1.1, p-value = 0.0701, Weak significant difference\n",
            "Neighbourhood_FORTE SÃO JOÃO\n",
            "p1 = 0.183, p2 = 0.202, z=2.0, p-value = 0.0101, Some significant difference\n",
            "Neighbourhood_FRADINHOS\n",
            "p1 = 0.186, p2 = 0.202, z=0.64, p-value = 0.131, No significant difference\n",
            "Neighbourhood_GOIABEIRAS\n",
            "p1 = 0.196, p2 = 0.202, z=0.41, p-value = 0.17, No significant difference\n",
            "Neighbourhood_GRANDE VITÓRIA\n",
            "p1 = 0.203, p2 = 0.202, z=0.056, p-value = 0.239, No significant difference\n",
            "Neighbourhood_GURIGICA\n",
            "p1 = 0.226, p2 = 0.201, z=2.7, p-value = 0.00166, Very signigicant difference\n",
            "Neighbourhood_HORTO\n",
            "p1 = 0.24, p2 = 0.202, z=1.3, p-value = 0.0523, Weak significant difference\n",
            "Neighbourhood_ILHA DAS CAIEIRAS\n",
            "p1 = 0.219, p2 = 0.202, z=1.4, p-value = 0.038, Some significant difference\n",
            "Neighbourhood_ILHA DE SANTA MARIA\n",
            "p1 = 0.192, p2 = 0.202, z=1.1, p-value = 0.0639, Weak significant difference\n",
            "Neighbourhood_ILHA DO BOI\n",
            "p1 = 0.0857, p2 = 0.202, z=1.7, p-value = 0.0217, Some significant difference\n",
            "Neighbourhood_ILHA DO FRADE\n",
            "Samples are small: (10 and 110517), risk that results will be not accurate\n",
            "p1 = 0.2, p2 = 0.202, z=0.015, p-value = 0.247, No significant difference\n",
            "Neighbourhood_ILHA DO PRÍNCIPE\n",
            "p1 = 0.235, p2 = 0.201, z=3.9, p-value = 2.08e-05, Very signigicant difference\n",
            "Neighbourhood_ILHAS OCEÂNICAS DE TRINDADE\n",
            "Samples are small: (2 and 110525), risk that results will be not accurate\n",
            "p1 = 1.0, p2 = 0.202, z=2.8, p-value = 0.00123, Very signigicant difference\n",
            "Neighbourhood_INHANGUETÁ\n",
            "p1 = 0.191, p2 = 0.202, z=0.88, p-value = 0.0946, Weak significant difference\n",
            "Neighbourhood_ITARARÉ\n",
            "p1 = 0.263, p2 = 0.2, z=9.1, p-value = 0.0, Very signigicant difference\n",
            "Neighbourhood_JABOUR\n",
            "p1 = 0.18, p2 = 0.202, z=2.8, p-value = 0.00128, Very signigicant difference\n",
            "Neighbourhood_JARDIM CAMBURI\n",
            "p1 = 0.19, p2 = 0.203, z=2.7, p-value = 0.00152, Very signigicant difference\n",
            "Neighbourhood_JARDIM DA PENHA\n",
            "p1 = 0.203, p2 = 0.163, z=6.2, p-value = 1.54e-10, Very signigicant difference\n",
            "Neighbourhood_JESUS DE NAZARETH\n",
            "p1 = 0.244, p2 = 0.201, z=5.7, p-value = 3.68e-09, Very signigicant difference\n",
            "Neighbourhood_JOANA D´ARC\n",
            "p1 = 0.181, p2 = 0.202, z=2.0, p-value = 0.0113, Some significant difference\n",
            "Neighbourhood_JUCUTUQUARA\n",
            "p1 = 0.192, p2 = 0.202, z=0.68, p-value = 0.125, No significant difference\n",
            "Neighbourhood_MARIA ORTIZ\n",
            "p1 = 0.21, p2 = 0.201, z=1.6, p-value = 0.029, Some significant difference\n",
            "Neighbourhood_MARUÍPE\n",
            "p1 = 0.223, p2 = 0.202, z=2.3, p-value = 0.00536, Very signigicant difference\n",
            "Neighbourhood_MATA DA PRAIA\n",
            "p1 = 0.171, p2 = 0.202, z=2.0, p-value = 0.0121, Some significant difference\n",
            "Neighbourhood_MONTE BELO\n",
            "p1 = 0.201, p2 = 0.202, z=0.034, p-value = 0.243, No significant difference\n",
            "Neighbourhood_MORADA DE CAMBURI\n",
            "p1 = 0.167, p2 = 0.202, z=0.86, p-value = 0.0973, Weak significant difference\n",
            "Neighbourhood_MÁRIO CYPRESTE\n",
            "p1 = 0.146, p2 = 0.202, z=2.7, p-value = 0.00168, Very signigicant difference\n",
            "Neighbourhood_NAZARETH\n",
            "p1 = 0.215, p2 = 0.202, z=0.37, p-value = 0.177, No significant difference\n",
            "Neighbourhood_NOVA PALESTINA\n",
            "p1 = 0.178, p2 = 0.202, z=2.9, p-value = 0.000879, Very signigicant difference\n",
            "Neighbourhood_PARQUE INDUSTRIAL\n",
            "Samples are small: (1 and 110526), risk that results will be not accurate\n",
            "p1 = 0.0, p2 = 0.202, z=0.5, p-value = 0.154, No significant difference\n",
            "Neighbourhood_PARQUE MOSCOSO\n",
            "p1 = 0.223, p2 = 0.202, z=1.5, p-value = 0.0331, Some significant difference\n",
            "Neighbourhood_PIEDADE\n",
            "p1 = 0.195, p2 = 0.202, z=0.38, p-value = 0.175, No significant difference\n",
            "Neighbourhood_PONTAL DE CAMBURI\n",
            "p1 = 0.174, p2 = 0.202, z=0.58, p-value = 0.14, No significant difference\n",
            "Neighbourhood_PRAIA DO CANTO\n",
            "p1 = 0.184, p2 = 0.202, z=1.5, p-value = 0.0348, Some significant difference\n",
            "Neighbourhood_PRAIA DO SUÁ\n",
            "p1 = 0.228, p2 = 0.202, z=2.4, p-value = 0.00448, Very signigicant difference\n",
            "Neighbourhood_REDENÇÃO\n",
            "p1 = 0.177, p2 = 0.202, z=2.5, p-value = 0.0035, Very signigicant difference\n",
            "Neighbourhood_REPÚBLICA\n",
            "p1 = 0.171, p2 = 0.202, z=2.2, p-value = 0.00667, Very signigicant difference\n",
            "Neighbourhood_RESISTÊNCIA\n",
            "p1 = 0.204, p2 = 0.202, z=0.43, p-value = 0.167, No significant difference\n",
            "Neighbourhood_ROMÃO\n",
            "p1 = 0.214, p2 = 0.202, z=1.4, p-value = 0.0383, Some significant difference\n",
            "Neighbourhood_SANTA CECÍLIA\n",
            "p1 = 0.275, p2 = 0.202, z=3.8, p-value = 3.12e-05, Very signigicant difference\n",
            "Neighbourhood_SANTA CLARA\n",
            "p1 = 0.265, p2 = 0.202, z=3.5, p-value = 0.000103, Very signigicant difference\n",
            "Neighbourhood_SANTA HELENA\n",
            "p1 = 0.208, p2 = 0.202, z=0.2, p-value = 0.211, No significant difference\n",
            "Neighbourhood_SANTA LUÍZA\n",
            "p1 = 0.18, p2 = 0.202, z=1.1, p-value = 0.0639, Weak significant difference\n",
            "Neighbourhood_SANTA LÚCIA\n",
            "p1 = 0.196, p2 = 0.202, z=0.29, p-value = 0.193, No significant difference\n",
            "Neighbourhood_SANTA MARTHA\n",
            "p1 = 0.158, p2 = 0.203, z=6.2, p-value = 1.9e-10, Very signigicant difference\n",
            "Neighbourhood_SANTA TEREZA\n",
            "p1 = 0.204, p2 = 0.202, z=0.21, p-value = 0.209, No significant difference\n",
            "Neighbourhood_SANTO ANDRÉ\n",
            "p1 = 0.198, p2 = 0.202, z=0.56, p-value = 0.145, No significant difference\n",
            "Neighbourhood_SANTO ANTÔNIO\n",
            "p1 = 0.176, p2 = 0.203, z=3.4, p-value = 0.000172, Very signigicant difference\n",
            "Neighbourhood_SANTOS DUMONT\n",
            "p1 = 0.289, p2 = 0.201, z=7.8, p-value = 1.44e-15, Very signigicant difference\n",
            "Neighbourhood_SANTOS REIS\n",
            "p1 = 0.205, p2 = 0.202, z=0.16, p-value = 0.217, No significant difference\n",
            "Neighbourhood_SEGURANÇA DO LAR\n",
            "p1 = 0.193, p2 = 0.202, z=0.27, p-value = 0.198, No significant difference\n",
            "Neighbourhood_SOLON BORGES\n",
            "p1 = 0.147, p2 = 0.202, z=3.0, p-value = 0.000761, Very signigicant difference\n",
            "Neighbourhood_SÃO BENEDITO\n",
            "p1 = 0.199, p2 = 0.202, z=0.24, p-value = 0.203, No significant difference\n",
            "Neighbourhood_SÃO CRISTÓVÃO\n",
            "p1 = 0.198, p2 = 0.202, z=0.45, p-value = 0.162, No significant difference\n",
            "Neighbourhood_SÃO JOSÉ\n",
            "p1 = 0.216, p2 = 0.202, z=1.6, p-value = 0.0259, Some significant difference\n",
            "Neighbourhood_SÃO PEDRO\n",
            "p1 = 0.21, p2 = 0.202, z=1.1, p-value = 0.0732, Weak significant difference\n",
            "Neighbourhood_TABUAZEIRO\n",
            "p1 = 0.183, p2 = 0.202, z=2.7, p-value = 0.00182, Very signigicant difference\n",
            "Neighbourhood_UNIVERSITÁRIO\n",
            "p1 = 0.211, p2 = 0.202, z=0.26, p-value = 0.198, No significant difference\n",
            "Neighbourhood_VILA RUBIM\n",
            "p1 = 0.166, p2 = 0.202, z=2.6, p-value = 0.00205, Very signigicant difference\n"
          ],
          "name": "stdout"
        }
      ]
    }
  ]
}