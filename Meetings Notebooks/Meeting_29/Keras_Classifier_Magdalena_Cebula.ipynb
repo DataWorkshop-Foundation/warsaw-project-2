{
  "nbformat": 4,
  "nbformat_minor": 0,
  "metadata": {
    "kernelspec": {
      "display_name": "Python 3",
      "language": "python",
      "name": "python3"
    },
    "language_info": {
      "codemirror_mode": {
        "name": "ipython",
        "version": 3
      },
      "file_extension": ".py",
      "mimetype": "text/x-python",
      "name": "python",
      "nbconvert_exporter": "python",
      "pygments_lexer": "ipython3",
      "version": "3.8.3"
    },
    "colab": {
      "name": "Keras Classifier Magdalena Cebula.ipynb",
      "provenance": [],
      "collapsed_sections": []
    }
  },
  "cells": [
    {
      "cell_type": "markdown",
      "metadata": {
        "id": "nXGp4N5Tz8B0"
      },
      "source": [
        "# Medical Appointment No Shows\n",
        "Why do 30% of patients miss their scheduled appointments?\n",
        "\n",
        "https://www.kaggle.com/joniarroba/noshowappointments#\n",
        "\n",
        "**Author: Małgorzata Stolarska**\n",
        "\n",
        "[under-construction]"
      ]
    },
    {
      "cell_type": "markdown",
      "metadata": {
        "id": "k-MSbIHLz8B2"
      },
      "source": [
        "### Table of Contents\n",
        "\n",
        "* [Data Dictionary](#data_dictionary)\n",
        "* [Imports, parameters and initializations](#imports)\n",
        "* [Data loading and initial checks](#loading)\n",
        "* [Initial preprocessing](#preprocessing)\n",
        "* [Split data set into training, validation and test parts](#split)\n",
        "* [Data review on the training set](#data_review)\n",
        "* [Data transformation](#data_transformation)\n",
        "    * [Visualization of correlations](#visualization)\n",
        "    * [Pipeline building](#pipeline)\n",
        "* [Data transformation](#data_transformation)\n",
        "* [Model building and evaluation](#models)\n",
        "    * [Auxiliary classes and function](#classes)\n",
        "    * [...](#...)\n",
        "* [Final evaluation](#final)\n",
        "* [Summary](#summary)"
      ]
    },
    {
      "cell_type": "markdown",
      "metadata": {
        "id": "-JY4sV3sz8B4"
      },
      "source": [
        "## Data Dictionary <a class=\"anchor\" id=\"data_dictionary\"></a>\n",
        "- **PatientId**: Identification of a patient\n",
        "- **AppointmentID**: Identification of each appointment\n",
        "- **Gender**: \n",
        "Male or Female (female is the greater proportion, woman takes way more care of they health in comparison to man).\n",
        "- **ScheduledDay**: \n",
        "The day of the actuall appointment, when they have to visit the doctor.\n",
        "- **AppointmentDay**: \n",
        "The day someone called or registered the appointment, this is before appointment of course.\n",
        "- **Age**: \n",
        "How old is the patient.\n",
        "- **Neighbourhood**: \n",
        "Where the appointment takes place.\n",
        "- **Scholarship**: True of False \n",
        "- **Hipertension**: True or False\n",
        "- **Diabetes**: True or False\n",
        "- **Alcoholism**: True or False\n",
        "- **Handcap**: Number of disabilities (0 = a person without disability, 1 and more = a person with disabilities)\n",
        "- **SMS_received**: Messages sent to the patient.\n",
        "- **No-show (target variable)**: True or False."
      ]
    },
    {
      "cell_type": "markdown",
      "metadata": {
        "id": "MbuMhacuz8B6"
      },
      "source": [
        "## Imports, parameters and initializations <a class=\"anchor\" id=\"imports\"></a>"
      ]
    },
    {
      "cell_type": "code",
      "metadata": {
        "colab": {
          "base_uri": "https://localhost:8080/"
        },
        "id": "JVijmdfMz8B7",
        "outputId": "c026fb4b-5085-4f6b-cd61-ee9c8fc31bff"
      },
      "source": [
        "!python --version"
      ],
      "execution_count": null,
      "outputs": [
        {
          "output_type": "stream",
          "name": "stdout",
          "text": [
            "Python 3.7.12\n"
          ]
        }
      ]
    },
    {
      "cell_type": "code",
      "metadata": {
        "id": "HJa_xLoDz8B8",
        "colab": {
          "base_uri": "https://localhost:8080/"
        },
        "outputId": "b87f1c62-0f06-4485-ffcd-b026e1e36aa4"
      },
      "source": [
        "!pip install --upgrade neptune-client \n",
        "!pip install --upgrade neptune"
      ],
      "execution_count": null,
      "outputs": [
        {
          "output_type": "stream",
          "name": "stdout",
          "text": [
            "Collecting neptune-client\n",
            "  Downloading neptune-client-0.13.0.tar.gz (278 kB)\n",
            "\u001b[K     |████████████████████████████████| 278 kB 6.8 MB/s \n",
            "\u001b[?25hCollecting bravado\n",
            "  Downloading bravado-11.0.3-py2.py3-none-any.whl (38 kB)\n",
            "Requirement already satisfied: click>=7.0 in /usr/local/lib/python3.7/dist-packages (from neptune-client) (7.1.2)\n",
            "Collecting future>=0.17.1\n",
            "  Downloading future-0.18.2.tar.gz (829 kB)\n",
            "\u001b[K     |████████████████████████████████| 829 kB 44.8 MB/s \n",
            "\u001b[?25hRequirement already satisfied: oauthlib>=2.1.0 in /usr/local/lib/python3.7/dist-packages (from neptune-client) (3.1.1)\n",
            "Requirement already satisfied: pandas in /usr/local/lib/python3.7/dist-packages (from neptune-client) (1.1.5)\n",
            "Requirement already satisfied: Pillow>=1.1.6 in /usr/local/lib/python3.7/dist-packages (from neptune-client) (7.1.2)\n",
            "Collecting PyJWT\n",
            "  Downloading PyJWT-2.3.0-py3-none-any.whl (16 kB)\n",
            "Requirement already satisfied: requests>=2.20.0 in /usr/local/lib/python3.7/dist-packages (from neptune-client) (2.23.0)\n",
            "Requirement already satisfied: requests-oauthlib>=1.0.0 in /usr/local/lib/python3.7/dist-packages (from neptune-client) (1.3.0)\n",
            "Requirement already satisfied: six>=1.12.0 in /usr/local/lib/python3.7/dist-packages (from neptune-client) (1.15.0)\n",
            "Collecting websocket-client!=1.0.0,>=0.35.0\n",
            "  Downloading websocket_client-1.2.1-py2.py3-none-any.whl (52 kB)\n",
            "\u001b[K     |████████████████████████████████| 52 kB 1.6 MB/s \n",
            "\u001b[?25hCollecting GitPython>=2.0.8\n",
            "  Downloading GitPython-3.1.24-py3-none-any.whl (180 kB)\n",
            "\u001b[K     |████████████████████████████████| 180 kB 71.0 MB/s \n",
            "\u001b[?25hCollecting boto3>=1.16.0\n",
            "  Downloading boto3-1.18.64-py3-none-any.whl (131 kB)\n",
            "\u001b[K     |████████████████████████████████| 131 kB 54.3 MB/s \n",
            "\u001b[?25hRequirement already satisfied: packaging in /usr/local/lib/python3.7/dist-packages (from neptune-client) (21.0)\n",
            "Requirement already satisfied: urllib3 in /usr/local/lib/python3.7/dist-packages (from neptune-client) (1.24.3)\n",
            "Requirement already satisfied: jsonschema<4 in /usr/local/lib/python3.7/dist-packages (from neptune-client) (2.6.0)\n",
            "Requirement already satisfied: psutil in /usr/local/lib/python3.7/dist-packages (from neptune-client) (5.4.8)\n",
            "Collecting botocore<1.22.0,>=1.21.64\n",
            "  Downloading botocore-1.21.64-py3-none-any.whl (8.0 MB)\n",
            "\u001b[K     |████████████████████████████████| 8.0 MB 43.5 MB/s \n",
            "\u001b[?25hCollecting jmespath<1.0.0,>=0.7.1\n",
            "  Downloading jmespath-0.10.0-py2.py3-none-any.whl (24 kB)\n",
            "Collecting s3transfer<0.6.0,>=0.5.0\n",
            "  Downloading s3transfer-0.5.0-py3-none-any.whl (79 kB)\n",
            "\u001b[K     |████████████████████████████████| 79 kB 8.1 MB/s \n",
            "\u001b[?25hRequirement already satisfied: python-dateutil<3.0.0,>=2.1 in /usr/local/lib/python3.7/dist-packages (from botocore<1.22.0,>=1.21.64->boto3>=1.16.0->neptune-client) (2.8.2)\n",
            "Collecting urllib3\n",
            "  Downloading urllib3-1.26.7-py2.py3-none-any.whl (138 kB)\n",
            "\u001b[K     |████████████████████████████████| 138 kB 58.7 MB/s \n",
            "\u001b[?25hRequirement already satisfied: typing-extensions>=3.7.4.3 in /usr/local/lib/python3.7/dist-packages (from GitPython>=2.0.8->neptune-client) (3.7.4.3)\n",
            "Collecting gitdb<5,>=4.0.1\n",
            "  Downloading gitdb-4.0.7-py3-none-any.whl (63 kB)\n",
            "\u001b[K     |████████████████████████████████| 63 kB 2.0 MB/s \n",
            "\u001b[?25hCollecting smmap<5,>=3.0.1\n",
            "  Downloading smmap-4.0.0-py2.py3-none-any.whl (24 kB)\n",
            "Collecting urllib3\n",
            "  Downloading urllib3-1.25.11-py2.py3-none-any.whl (127 kB)\n",
            "\u001b[K     |████████████████████████████████| 127 kB 45.1 MB/s \n",
            "\u001b[?25hRequirement already satisfied: chardet<4,>=3.0.2 in /usr/local/lib/python3.7/dist-packages (from requests>=2.20.0->neptune-client) (3.0.4)\n",
            "Requirement already satisfied: certifi>=2017.4.17 in /usr/local/lib/python3.7/dist-packages (from requests>=2.20.0->neptune-client) (2021.5.30)\n",
            "Requirement already satisfied: idna<3,>=2.5 in /usr/local/lib/python3.7/dist-packages (from requests>=2.20.0->neptune-client) (2.10)\n",
            "Requirement already satisfied: msgpack in /usr/local/lib/python3.7/dist-packages (from bravado->neptune-client) (1.0.2)\n",
            "Requirement already satisfied: pyyaml in /usr/local/lib/python3.7/dist-packages (from bravado->neptune-client) (3.13)\n",
            "Collecting monotonic\n",
            "  Downloading monotonic-1.6-py2.py3-none-any.whl (8.2 kB)\n",
            "Collecting bravado-core>=5.16.1\n",
            "  Downloading bravado_core-5.17.0-py2.py3-none-any.whl (67 kB)\n",
            "\u001b[K     |████████████████████████████████| 67 kB 5.8 MB/s \n",
            "\u001b[?25hCollecting simplejson\n",
            "  Downloading simplejson-3.17.5-cp37-cp37m-manylinux_2_5_x86_64.manylinux1_x86_64.manylinux_2_12_x86_64.manylinux2010_x86_64.whl (129 kB)\n",
            "\u001b[K     |████████████████████████████████| 129 kB 57.0 MB/s \n",
            "\u001b[?25hCollecting swagger-spec-validator>=2.0.1\n",
            "  Downloading swagger_spec_validator-2.7.3-py2.py3-none-any.whl (27 kB)\n",
            "Requirement already satisfied: pytz in /usr/local/lib/python3.7/dist-packages (from bravado-core>=5.16.1->bravado->neptune-client) (2018.9)\n",
            "Collecting jsonref\n",
            "  Downloading jsonref-0.2-py3-none-any.whl (9.3 kB)\n",
            "Collecting webcolors\n",
            "  Downloading webcolors-1.11.1-py3-none-any.whl (9.9 kB)\n",
            "Collecting rfc3987\n",
            "  Downloading rfc3987-1.3.8-py2.py3-none-any.whl (13 kB)\n",
            "Collecting strict-rfc3339\n",
            "  Downloading strict-rfc3339-0.7.tar.gz (17 kB)\n",
            "Requirement already satisfied: pyparsing>=2.0.2 in /usr/local/lib/python3.7/dist-packages (from packaging->neptune-client) (2.4.7)\n",
            "Requirement already satisfied: numpy>=1.15.4 in /usr/local/lib/python3.7/dist-packages (from pandas->neptune-client) (1.19.5)\n",
            "Building wheels for collected packages: neptune-client, future, strict-rfc3339\n",
            "  Building wheel for neptune-client (setup.py) ... \u001b[?25l\u001b[?25hdone\n",
            "  Created wheel for neptune-client: filename=neptune_client-0.13.0-py2.py3-none-any.whl size=482068 sha256=288b7313753e567f1fee49da674c8fb4e814487cd9ff5e5b0856a0a751a1f0df\n",
            "  Stored in directory: /root/.cache/pip/wheels/66/62/8a/356e365defb466fb97dd3bf11b45004138549cef8bdd2cf7b7\n",
            "  Building wheel for future (setup.py) ... \u001b[?25l\u001b[?25hdone\n",
            "  Created wheel for future: filename=future-0.18.2-py3-none-any.whl size=491070 sha256=b6817821be67c8b80d0526e917098f3183862763126f1e3e36074da7179a0e5d\n",
            "  Stored in directory: /root/.cache/pip/wheels/56/b0/fe/4410d17b32f1f0c3cf54cdfb2bc04d7b4b8f4ae377e2229ba0\n",
            "  Building wheel for strict-rfc3339 (setup.py) ... \u001b[?25l\u001b[?25hdone\n",
            "  Created wheel for strict-rfc3339: filename=strict_rfc3339-0.7-py3-none-any.whl size=18149 sha256=f89c642fd9e81d31c1d9756eb449723161b6eb3ea4d227d0d3f2e7d29547fd1b\n",
            "  Stored in directory: /root/.cache/pip/wheels/f3/1d/9f/2a74caecb81b8beb9a4fbe1754203d4b7cf42ef5d39e0d2311\n",
            "Successfully built neptune-client future strict-rfc3339\n",
            "Installing collected packages: webcolors, urllib3, strict-rfc3339, rfc3987, jmespath, swagger-spec-validator, smmap, simplejson, jsonref, botocore, s3transfer, monotonic, gitdb, bravado-core, websocket-client, PyJWT, GitPython, future, bravado, boto3, neptune-client\n",
            "  Attempting uninstall: urllib3\n",
            "    Found existing installation: urllib3 1.24.3\n",
            "    Uninstalling urllib3-1.24.3:\n",
            "      Successfully uninstalled urllib3-1.24.3\n",
            "  Attempting uninstall: future\n",
            "    Found existing installation: future 0.16.0\n",
            "    Uninstalling future-0.16.0:\n",
            "      Successfully uninstalled future-0.16.0\n",
            "\u001b[31mERROR: pip's dependency resolver does not currently take into account all the packages that are installed. This behaviour is the source of the following dependency conflicts.\n",
            "datascience 0.10.6 requires folium==0.2.1, but you have folium 0.8.3 which is incompatible.\u001b[0m\n",
            "Successfully installed GitPython-3.1.24 PyJWT-2.3.0 boto3-1.18.64 botocore-1.21.64 bravado-11.0.3 bravado-core-5.17.0 future-0.18.2 gitdb-4.0.7 jmespath-0.10.0 jsonref-0.2 monotonic-1.6 neptune-client-0.13.0 rfc3987-1.3.8 s3transfer-0.5.0 simplejson-3.17.5 smmap-4.0.0 strict-rfc3339-0.7 swagger-spec-validator-2.7.3 urllib3-1.25.11 webcolors-1.11.1 websocket-client-1.2.1\n",
            "\u001b[31mERROR: Could not find a version that satisfies the requirement neptune (from versions: none)\u001b[0m\n",
            "\u001b[31mERROR: No matching distribution found for neptune\u001b[0m\n"
          ]
        }
      ]
    },
    {
      "cell_type": "code",
      "metadata": {
        "id": "LKh3S1NN3MDb",
        "colab": {
          "base_uri": "https://localhost:8080/"
        },
        "outputId": "eafb6d7b-d66a-4cfb-d42d-985e8a2438d0"
      },
      "source": [
        "!pip install opendatasets --upgrade"
      ],
      "execution_count": null,
      "outputs": [
        {
          "output_type": "stream",
          "name": "stdout",
          "text": [
            "Collecting opendatasets\n",
            "  Downloading opendatasets-0.1.20-py3-none-any.whl (14 kB)\n",
            "Requirement already satisfied: kaggle in /usr/local/lib/python3.7/dist-packages (from opendatasets) (1.5.12)\n",
            "Requirement already satisfied: click in /usr/local/lib/python3.7/dist-packages (from opendatasets) (7.1.2)\n",
            "Requirement already satisfied: tqdm in /usr/local/lib/python3.7/dist-packages (from opendatasets) (4.62.3)\n",
            "Requirement already satisfied: requests in /usr/local/lib/python3.7/dist-packages (from kaggle->opendatasets) (2.23.0)\n",
            "Requirement already satisfied: certifi in /usr/local/lib/python3.7/dist-packages (from kaggle->opendatasets) (2021.5.30)\n",
            "Requirement already satisfied: urllib3 in /usr/local/lib/python3.7/dist-packages (from kaggle->opendatasets) (1.25.11)\n",
            "Requirement already satisfied: python-slugify in /usr/local/lib/python3.7/dist-packages (from kaggle->opendatasets) (5.0.2)\n",
            "Requirement already satisfied: python-dateutil in /usr/local/lib/python3.7/dist-packages (from kaggle->opendatasets) (2.8.2)\n",
            "Requirement already satisfied: six>=1.10 in /usr/local/lib/python3.7/dist-packages (from kaggle->opendatasets) (1.15.0)\n",
            "Requirement already satisfied: text-unidecode>=1.3 in /usr/local/lib/python3.7/dist-packages (from python-slugify->kaggle->opendatasets) (1.3)\n",
            "Requirement already satisfied: chardet<4,>=3.0.2 in /usr/local/lib/python3.7/dist-packages (from requests->kaggle->opendatasets) (3.0.4)\n",
            "Requirement already satisfied: idna<3,>=2.5 in /usr/local/lib/python3.7/dist-packages (from requests->kaggle->opendatasets) (2.10)\n",
            "Installing collected packages: opendatasets\n",
            "Successfully installed opendatasets-0.1.20\n"
          ]
        }
      ]
    },
    {
      "cell_type": "code",
      "metadata": {
        "id": "WplLACSFAOQX",
        "colab": {
          "base_uri": "https://localhost:8080/"
        },
        "outputId": "c45d8361-243a-404a-b979-855cdb2c82f0"
      },
      "source": [
        "!pip install imblearn --upgrade"
      ],
      "execution_count": null,
      "outputs": [
        {
          "output_type": "stream",
          "name": "stdout",
          "text": [
            "Requirement already satisfied: imblearn in /usr/local/lib/python3.7/dist-packages (0.0)\n",
            "Requirement already satisfied: imbalanced-learn in /usr/local/lib/python3.7/dist-packages (from imblearn) (0.4.3)\n",
            "Requirement already satisfied: numpy>=1.8.2 in /usr/local/lib/python3.7/dist-packages (from imbalanced-learn->imblearn) (1.19.5)\n",
            "Requirement already satisfied: scipy>=0.13.3 in /usr/local/lib/python3.7/dist-packages (from imbalanced-learn->imblearn) (1.4.1)\n",
            "Requirement already satisfied: scikit-learn>=0.20 in /usr/local/lib/python3.7/dist-packages (from imbalanced-learn->imblearn) (0.22.2.post1)\n",
            "Requirement already satisfied: joblib>=0.11 in /usr/local/lib/python3.7/dist-packages (from scikit-learn>=0.20->imbalanced-learn->imblearn) (1.0.1)\n"
          ]
        }
      ]
    },
    {
      "cell_type": "code",
      "metadata": {
        "id": "Rw5UqThhScTz",
        "colab": {
          "base_uri": "https://localhost:8080/"
        },
        "outputId": "74fd0d3e-5bb9-48d6-fb30-916267f2d6c2"
      },
      "source": [
        "!pip install catboost --upgrade"
      ],
      "execution_count": null,
      "outputs": [
        {
          "output_type": "stream",
          "name": "stdout",
          "text": [
            "Collecting catboost\n",
            "  Downloading catboost-1.0.0-cp37-none-manylinux1_x86_64.whl (76.4 MB)\n",
            "\u001b[K     |████████████████████████████████| 76.4 MB 24 kB/s \n",
            "\u001b[?25hRequirement already satisfied: numpy>=1.16.0 in /usr/local/lib/python3.7/dist-packages (from catboost) (1.19.5)\n",
            "Requirement already satisfied: plotly in /usr/local/lib/python3.7/dist-packages (from catboost) (4.4.1)\n",
            "Requirement already satisfied: six in /usr/local/lib/python3.7/dist-packages (from catboost) (1.15.0)\n",
            "Requirement already satisfied: matplotlib in /usr/local/lib/python3.7/dist-packages (from catboost) (3.2.2)\n",
            "Requirement already satisfied: scipy in /usr/local/lib/python3.7/dist-packages (from catboost) (1.4.1)\n",
            "Requirement already satisfied: pandas>=0.24.0 in /usr/local/lib/python3.7/dist-packages (from catboost) (1.1.5)\n",
            "Requirement already satisfied: graphviz in /usr/local/lib/python3.7/dist-packages (from catboost) (0.10.1)\n",
            "Requirement already satisfied: pytz>=2017.2 in /usr/local/lib/python3.7/dist-packages (from pandas>=0.24.0->catboost) (2018.9)\n",
            "Requirement already satisfied: python-dateutil>=2.7.3 in /usr/local/lib/python3.7/dist-packages (from pandas>=0.24.0->catboost) (2.8.2)\n",
            "Requirement already satisfied: kiwisolver>=1.0.1 in /usr/local/lib/python3.7/dist-packages (from matplotlib->catboost) (1.3.2)\n",
            "Requirement already satisfied: pyparsing!=2.0.4,!=2.1.2,!=2.1.6,>=2.0.1 in /usr/local/lib/python3.7/dist-packages (from matplotlib->catboost) (2.4.7)\n",
            "Requirement already satisfied: cycler>=0.10 in /usr/local/lib/python3.7/dist-packages (from matplotlib->catboost) (0.10.0)\n",
            "Requirement already satisfied: retrying>=1.3.3 in /usr/local/lib/python3.7/dist-packages (from plotly->catboost) (1.3.3)\n",
            "Installing collected packages: catboost\n",
            "Successfully installed catboost-1.0.0\n"
          ]
        }
      ]
    },
    {
      "cell_type": "code",
      "metadata": {
        "id": "EC-BCNtOavvH"
      },
      "source": [
        "# !pip install numpy --upgrade\n",
        "# !pip install pandas --upgrade"
      ],
      "execution_count": null,
      "outputs": []
    },
    {
      "cell_type": "code",
      "metadata": {
        "id": "x8xZ-gWFz8B9",
        "colab": {
          "base_uri": "https://localhost:8080/"
        },
        "outputId": "841287f1-10a6-4ee6-84b8-dbbe02e9f3ac"
      },
      "source": [
        "import pandas as pd\n",
        "import numpy as np\n",
        "import matplotlib.pyplot as plt\n",
        "import seaborn as sns\n",
        "import pickle\n",
        "import json\n",
        "import opendatasets as od  # library for downloading datasets from online sources like Kaggle and Google Drive \n",
        "\n",
        "from sklearn import __version__ as sklearn_version\n",
        "from sklearn import set_config as sklearn_set_config\n",
        "from sklearn.model_selection import train_test_split, GridSearchCV, cross_val_score, StratifiedKFold\n",
        "from sklearn.base import BaseEstimator, TransformerMixin\n",
        "from sklearn.preprocessing import StandardScaler, MinMaxScaler, OneHotEncoder\n",
        "from sklearn.impute import SimpleImputer\n",
        "from sklearn.metrics import classification_report, make_scorer, f1_score, precision_score, recall_score\n",
        "from sklearn.metrics import f1_score, accuracy_score, roc_curve, roc_auc_score, confusion_matrix, plot_confusion_matrix\n",
        "from sklearn.linear_model import LogisticRegression\n",
        "from sklearn.tree import DecisionTreeClassifier\n",
        "from sklearn.ensemble import RandomForestClassifier\n",
        "from xgboost import XGBClassifier\n",
        "from catboost import CatBoostClassifier\n",
        "from imblearn.pipeline import Pipeline  # for imbalanced data\n",
        "from imblearn.over_sampling import SMOTE, ADASYN\n",
        "from imblearn.combine import SMOTETomek\n",
        "from imblearn import __version__ as imblearn_version\n",
        "from tensorflow.keras import Sequential\n",
        "from tensorflow.keras.layers import Dense\n",
        "from tensorflow.keras.callbacks import EarlyStopping\n",
        "from keras import metrics\n",
        "from datetime import time, date, datetime, timezone, timedelta\n",
        "\n",
        "import neptune\n",
        "# import neptune.new as neptun\n",
        "\n",
        "# freeze randomness:\n",
        "from numpy.random import seed\n",
        "from tensorflow.random import set_seed\n",
        "seed(12) \n",
        "set_seed(123)\n",
        "\n",
        "# Sklearn options \n",
        "# sklearn_set_config(display='diagram') # interactive diagrams for pipelines\n",
        "\n",
        "# Pandas options\n",
        "pd.set_option('display.float_format', '{:.4f}'.format) \n",
        "pd.set_option('display.max_columns', None) \n",
        "pd.set_option(\"max_colwidth\", None)\n",
        "\n",
        "# Versions\n",
        "print(\"pandas:\", pd.__version__)\n",
        "print(\"numpy:\", np.__version__)\n",
        "print(\"sklearn:\", sklearn_version)\n",
        "print(\"imblearn\", imblearn_version)\n",
        "print(\"neptune:\", neptune.__version__)\n",
        "\n",
        "from warnings import simplefilter\n",
        "# future warnings show only once\n",
        "simplefilter(action='once', category=FutureWarning)"
      ],
      "execution_count": null,
      "outputs": [
        {
          "output_type": "stream",
          "name": "stderr",
          "text": [
            "/usr/local/lib/python3.7/dist-packages/sklearn/externals/six.py:31: FutureWarning: The module is deprecated in version 0.21 and will be removed in version 0.23 since we've dropped support for Python 2.7. Please rely on the official version of six (https://pypi.org/project/six/).\n",
            "  \"(https://pypi.org/project/six/).\", FutureWarning)\n",
            "/usr/local/lib/python3.7/dist-packages/sklearn/utils/deprecation.py:144: FutureWarning: The sklearn.neighbors.base module is  deprecated in version 0.22 and will be removed in version 0.24. The corresponding classes / functions should instead be imported from sklearn.neighbors. Anything that cannot be imported from sklearn.neighbors is now part of the private API.\n",
            "  warnings.warn(message, FutureWarning)\n"
          ]
        },
        {
          "output_type": "stream",
          "name": "stdout",
          "text": [
            "pandas: 1.1.5\n",
            "numpy: 1.19.5\n",
            "sklearn: 0.22.2.post1\n",
            "imblearn 0.4.3\n",
            "neptune: 0.13.0\n"
          ]
        }
      ]
    },
    {
      "cell_type": "code",
      "metadata": {
        "id": "iEUHSDq889Ug"
      },
      "source": [
        "import neptune\n",
        "\n",
        "API_TOKEN='' #@param {type:\"string\"}\n",
        "\n",
        "PROJEKT_NAME = 'DataWorkshop-Foundation/Predicting-cancellation-of-visit' \n",
        "\n",
        "project = neptune.init(\n",
        "   api_token=API_TOKEN,\n",
        "   project_qualified_name=PROJEKT_NAME\n",
        ")"
      ],
      "execution_count": null,
      "outputs": []
    },
    {
      "cell_type": "code",
      "metadata": {
        "id": "SqkAyV2BNEmf"
      },
      "source": [
        "# Pandas options\n",
        "pd.set_option('display.float_format', '{:.4f}'.format) \n",
        "pd.set_option('display.max_columns', None) \n",
        "pd.set_option(\"max_colwidth\", None)\n",
        "\n",
        "# Sklearn options \n",
        "from sklearn import set_config"
      ],
      "execution_count": null,
      "outputs": []
    },
    {
      "cell_type": "code",
      "metadata": {
        "colab": {
          "base_uri": "https://localhost:8080/"
        },
        "id": "H7wDsKkCz8B-",
        "outputId": "0b0e169b-ba6d-4f35-f386-c72de853201e"
      },
      "source": [
        "from google.colab import drive\n",
        "drive.mount('/content/drive')"
      ],
      "execution_count": null,
      "outputs": [
        {
          "output_type": "stream",
          "name": "stdout",
          "text": [
            "Mounted at /content/drive\n"
          ]
        }
      ]
    },
    {
      "cell_type": "code",
      "metadata": {
        "id": "fawx6oSGz8CB"
      },
      "source": [
        "df = pd.read_csv(r'/content/drive/MyDrive/Colab Notebooks/Cancellation/data/KaggleV2-May-2016.csv')\n",
        "df.head()\n",
        "path = r\".\"  # for saving data\n",
        "author = \"Magdalena Cebula\"  # for Neptune"
      ],
      "execution_count": null,
      "outputs": []
    },
    {
      "cell_type": "markdown",
      "metadata": {
        "id": "39Eh7DO2z8CC"
      },
      "source": [
        "## Data loading and initial checks <a class=\"anchor\" id=\"loading\"></a>"
      ]
    },
    {
      "cell_type": "code",
      "metadata": {
        "colab": {
          "base_uri": "https://localhost:8080/",
          "height": 175
        },
        "id": "E8C8Kvvx2onD",
        "outputId": "a3b61c08-9baf-4fae-b12a-40a77fc16aa8"
      },
      "source": [
        "# Upload directly from Kaggle:\n",
        "od.download(kaggle_url, *kaggle_authorization)"
      ],
      "execution_count": null,
      "outputs": [
        {
          "output_type": "error",
          "ename": "NameError",
          "evalue": "ignored",
          "traceback": [
            "\u001b[0;31m---------------------------------------------------------------------------\u001b[0m",
            "\u001b[0;31mNameError\u001b[0m                                 Traceback (most recent call last)",
            "\u001b[0;32m<ipython-input-12-b4a50a94d046>\u001b[0m in \u001b[0;36m<module>\u001b[0;34m()\u001b[0m\n\u001b[1;32m      1\u001b[0m \u001b[0;31m# Upload directly from Kaggle:\u001b[0m\u001b[0;34m\u001b[0m\u001b[0;34m\u001b[0m\u001b[0;34m\u001b[0m\u001b[0m\n\u001b[0;32m----> 2\u001b[0;31m \u001b[0mod\u001b[0m\u001b[0;34m.\u001b[0m\u001b[0mdownload\u001b[0m\u001b[0;34m(\u001b[0m\u001b[0mkaggle_url\u001b[0m\u001b[0;34m,\u001b[0m \u001b[0;34m*\u001b[0m\u001b[0mkaggle_authorization\u001b[0m\u001b[0;34m)\u001b[0m\u001b[0;34m\u001b[0m\u001b[0;34m\u001b[0m\u001b[0m\n\u001b[0m",
            "\u001b[0;31mNameError\u001b[0m: name 'kaggle_url' is not defined"
          ]
        }
      ]
    },
    {
      "cell_type": "code",
      "metadata": {
        "id": "gY0PZ5_lz8CC",
        "colab": {
          "base_uri": "https://localhost:8080/",
          "height": 232
        },
        "outputId": "b2189f46-8fe2-409b-9670-02e3f6f208b8"
      },
      "source": [
        "print(\"Shape:\", df.shape)\n",
        "print(\"Duplicated:\", df.duplicated().sum())\n",
        "df.head()"
      ],
      "execution_count": null,
      "outputs": [
        {
          "output_type": "stream",
          "name": "stdout",
          "text": [
            "Shape: (110527, 14)\n",
            "Duplicated: 0\n"
          ]
        },
        {
          "output_type": "execute_result",
          "data": {
            "text/html": [
              "<div>\n",
              "<style scoped>\n",
              "    .dataframe tbody tr th:only-of-type {\n",
              "        vertical-align: middle;\n",
              "    }\n",
              "\n",
              "    .dataframe tbody tr th {\n",
              "        vertical-align: top;\n",
              "    }\n",
              "\n",
              "    .dataframe thead th {\n",
              "        text-align: right;\n",
              "    }\n",
              "</style>\n",
              "<table border=\"1\" class=\"dataframe\">\n",
              "  <thead>\n",
              "    <tr style=\"text-align: right;\">\n",
              "      <th></th>\n",
              "      <th>PatientId</th>\n",
              "      <th>AppointmentID</th>\n",
              "      <th>Gender</th>\n",
              "      <th>ScheduledDay</th>\n",
              "      <th>AppointmentDay</th>\n",
              "      <th>Age</th>\n",
              "      <th>Neighbourhood</th>\n",
              "      <th>Scholarship</th>\n",
              "      <th>Hipertension</th>\n",
              "      <th>Diabetes</th>\n",
              "      <th>Alcoholism</th>\n",
              "      <th>Handcap</th>\n",
              "      <th>SMS_received</th>\n",
              "      <th>No-show</th>\n",
              "    </tr>\n",
              "  </thead>\n",
              "  <tbody>\n",
              "    <tr>\n",
              "      <th>0</th>\n",
              "      <td>29872499824296.0000</td>\n",
              "      <td>5642903</td>\n",
              "      <td>F</td>\n",
              "      <td>2016-04-29T18:38:08Z</td>\n",
              "      <td>2016-04-29T00:00:00Z</td>\n",
              "      <td>62</td>\n",
              "      <td>JARDIM DA PENHA</td>\n",
              "      <td>0</td>\n",
              "      <td>1</td>\n",
              "      <td>0</td>\n",
              "      <td>0</td>\n",
              "      <td>0</td>\n",
              "      <td>0</td>\n",
              "      <td>No</td>\n",
              "    </tr>\n",
              "    <tr>\n",
              "      <th>1</th>\n",
              "      <td>558997776694438.0000</td>\n",
              "      <td>5642503</td>\n",
              "      <td>M</td>\n",
              "      <td>2016-04-29T16:08:27Z</td>\n",
              "      <td>2016-04-29T00:00:00Z</td>\n",
              "      <td>56</td>\n",
              "      <td>JARDIM DA PENHA</td>\n",
              "      <td>0</td>\n",
              "      <td>0</td>\n",
              "      <td>0</td>\n",
              "      <td>0</td>\n",
              "      <td>0</td>\n",
              "      <td>0</td>\n",
              "      <td>No</td>\n",
              "    </tr>\n",
              "    <tr>\n",
              "      <th>2</th>\n",
              "      <td>4262962299951.0000</td>\n",
              "      <td>5642549</td>\n",
              "      <td>F</td>\n",
              "      <td>2016-04-29T16:19:04Z</td>\n",
              "      <td>2016-04-29T00:00:00Z</td>\n",
              "      <td>62</td>\n",
              "      <td>MATA DA PRAIA</td>\n",
              "      <td>0</td>\n",
              "      <td>0</td>\n",
              "      <td>0</td>\n",
              "      <td>0</td>\n",
              "      <td>0</td>\n",
              "      <td>0</td>\n",
              "      <td>No</td>\n",
              "    </tr>\n",
              "    <tr>\n",
              "      <th>3</th>\n",
              "      <td>867951213174.0000</td>\n",
              "      <td>5642828</td>\n",
              "      <td>F</td>\n",
              "      <td>2016-04-29T17:29:31Z</td>\n",
              "      <td>2016-04-29T00:00:00Z</td>\n",
              "      <td>8</td>\n",
              "      <td>PONTAL DE CAMBURI</td>\n",
              "      <td>0</td>\n",
              "      <td>0</td>\n",
              "      <td>0</td>\n",
              "      <td>0</td>\n",
              "      <td>0</td>\n",
              "      <td>0</td>\n",
              "      <td>No</td>\n",
              "    </tr>\n",
              "    <tr>\n",
              "      <th>4</th>\n",
              "      <td>8841186448183.0000</td>\n",
              "      <td>5642494</td>\n",
              "      <td>F</td>\n",
              "      <td>2016-04-29T16:07:23Z</td>\n",
              "      <td>2016-04-29T00:00:00Z</td>\n",
              "      <td>56</td>\n",
              "      <td>JARDIM DA PENHA</td>\n",
              "      <td>0</td>\n",
              "      <td>1</td>\n",
              "      <td>1</td>\n",
              "      <td>0</td>\n",
              "      <td>0</td>\n",
              "      <td>0</td>\n",
              "      <td>No</td>\n",
              "    </tr>\n",
              "  </tbody>\n",
              "</table>\n",
              "</div>"
            ],
            "text/plain": [
              "             PatientId  AppointmentID Gender          ScheduledDay  \\\n",
              "0  29872499824296.0000        5642903      F  2016-04-29T18:38:08Z   \n",
              "1 558997776694438.0000        5642503      M  2016-04-29T16:08:27Z   \n",
              "2   4262962299951.0000        5642549      F  2016-04-29T16:19:04Z   \n",
              "3    867951213174.0000        5642828      F  2016-04-29T17:29:31Z   \n",
              "4   8841186448183.0000        5642494      F  2016-04-29T16:07:23Z   \n",
              "\n",
              "         AppointmentDay  Age      Neighbourhood  Scholarship  Hipertension  \\\n",
              "0  2016-04-29T00:00:00Z   62    JARDIM DA PENHA            0             1   \n",
              "1  2016-04-29T00:00:00Z   56    JARDIM DA PENHA            0             0   \n",
              "2  2016-04-29T00:00:00Z   62      MATA DA PRAIA            0             0   \n",
              "3  2016-04-29T00:00:00Z    8  PONTAL DE CAMBURI            0             0   \n",
              "4  2016-04-29T00:00:00Z   56    JARDIM DA PENHA            0             1   \n",
              "\n",
              "   Diabetes  Alcoholism  Handcap  SMS_received No-show  \n",
              "0         0           0        0             0      No  \n",
              "1         0           0        0             0      No  \n",
              "2         0           0        0             0      No  \n",
              "3         0           0        0             0      No  \n",
              "4         1           0        0             0      No  "
            ]
          },
          "metadata": {},
          "execution_count": 13
        }
      ]
    },
    {
      "cell_type": "code",
      "metadata": {
        "id": "yqA_GIAVz8CF",
        "colab": {
          "base_uri": "https://localhost:8080/"
        },
        "outputId": "c2f1d3f2-5cbe-4dd1-9f28-d844fb74c097"
      },
      "source": [
        "# Check types\n",
        "df.info(verbose=True)"
      ],
      "execution_count": null,
      "outputs": [
        {
          "output_type": "stream",
          "name": "stdout",
          "text": [
            "<class 'pandas.core.frame.DataFrame'>\n",
            "RangeIndex: 110527 entries, 0 to 110526\n",
            "Data columns (total 14 columns):\n",
            " #   Column          Non-Null Count   Dtype  \n",
            "---  ------          --------------   -----  \n",
            " 0   PatientId       110527 non-null  float64\n",
            " 1   AppointmentID   110527 non-null  int64  \n",
            " 2   Gender          110527 non-null  object \n",
            " 3   ScheduledDay    110527 non-null  object \n",
            " 4   AppointmentDay  110527 non-null  object \n",
            " 5   Age             110527 non-null  int64  \n",
            " 6   Neighbourhood   110527 non-null  object \n",
            " 7   Scholarship     110527 non-null  int64  \n",
            " 8   Hipertension    110527 non-null  int64  \n",
            " 9   Diabetes        110527 non-null  int64  \n",
            " 10  Alcoholism      110527 non-null  int64  \n",
            " 11  Handcap         110527 non-null  int64  \n",
            " 12  SMS_received    110527 non-null  int64  \n",
            " 13  No-show         110527 non-null  object \n",
            "dtypes: float64(1), int64(8), object(5)\n",
            "memory usage: 11.8+ MB\n"
          ]
        }
      ]
    },
    {
      "cell_type": "code",
      "metadata": {
        "id": "V_E9PqIbz8CF",
        "colab": {
          "base_uri": "https://localhost:8080/"
        },
        "outputId": "b69eb061-3e79-4955-c4f5-b9ce450476cd"
      },
      "source": [
        "# Check target (ratio)\n",
        "df[\"No-show\"].value_counts(normalize=True, dropna=False)"
      ],
      "execution_count": null,
      "outputs": [
        {
          "output_type": "execute_result",
          "data": {
            "text/plain": [
              "No    0.7981\n",
              "Yes   0.2019\n",
              "Name: No-show, dtype: float64"
            ]
          },
          "metadata": {},
          "execution_count": 15
        }
      ]
    },
    {
      "cell_type": "code",
      "metadata": {
        "colab": {
          "base_uri": "https://localhost:8080/"
        },
        "id": "d5liEw4zr8Je",
        "outputId": "fb26adc3-8cf3-438a-fadc-00e07da44aa9"
      },
      "source": [
        "min_appointment_day = df.AppointmentDay.min()\n",
        "print(f\"AppointmentDay: [{min_appointment_day[:10]}, {df.AppointmentDay.max()[:10]}],\",\n",
        "      f\"days = {(pd.to_datetime(df.AppointmentDay.max()) - pd.to_datetime(df.AppointmentDay.min())).days}\")"
      ],
      "execution_count": null,
      "outputs": [
        {
          "output_type": "stream",
          "name": "stdout",
          "text": [
            "AppointmentDay: [2016-04-29, 2016-06-08], days = 40\n"
          ]
        }
      ]
    },
    {
      "cell_type": "markdown",
      "metadata": {
        "id": "DTmy5_B2z8CG"
      },
      "source": [
        "## Initial preprocessing <a class=\"anchor\" id=\"preprocessing\"></a>\n",
        "\n",
        "Assuming that the solution would be deployed in a production environment, I would be able to obtain data about the patient's history, such as the number of previous visits and the number of missed visits. I prepare such data below, i.e. for each appointment, I count data of previous appointments of the same patient.\n",
        "\n",
        "The data don't include the time of appointments. In the case of a production solution, it should be added, but here I assume that sorting by AppointmentDay returns appointments in the correct orders."
      ]
    },
    {
      "cell_type": "code",
      "metadata": {
        "id": "sjohqAyxiEBF"
      },
      "source": [
        "def medicalAppointmentsDataPrepare(df, days_to_count=14):\n",
        "    \"\"\"\n",
        "    Preparing Medical Appointments data\n",
        "    \"\"\"\n",
        "    _window = \"\".join([str(days_to_count), \"D\"])\n",
        "    print(\"Window:\", _window)\n",
        "\n",
        "    _df = df.copy()    \n",
        "\n",
        "    # Change types\n",
        "    _df = _df.astype(dtype={\"PatientId\":\"int64\", \n",
        "                            \"ScheduledDay\":\"datetime64\", \n",
        "                            \"AppointmentDay\":\"datetime64\"})  \n",
        "        \n",
        "    # Change Yes/No to 1/0\n",
        "    _df[\"No-show\"] = _df[\"No-show\"].map({\"Yes\":1, \"No\":0}, na_action='ignore').astype(\"int64\") \n",
        "\n",
        "    # Add time from ScheduledDay to AppointmentDay \n",
        "    # (we need a clear order of visits for technical reasons; this column will be removed later)\n",
        "    _df[\"_appDateTime\"] = pd.to_datetime(_df['AppointmentDay'].astype(str) + ' ' +  \\\n",
        "                                         _df['ScheduledDay'].dt.time.astype(str)) \n",
        "\n",
        "    # Sort by patient and appointment day \n",
        "    _df.sort_values(by=[\"PatientId\",\"_appDateTime\"], inplace=True, ignore_index=True)\n",
        "    _df.reset_index(inplace=True)\n",
        "\n",
        "    # Create technical columns\n",
        "    _df[\"_appPrevCount\"] = _df.groupby(\"PatientId\").agg({\"AppointmentID\":\"cumcount\"})\n",
        "    _df[\"_appDay_NS0\"] = _df.loc[_df[\"No-show\"]==0].AppointmentDay \n",
        "    _df[\"_appDay_NS1\"] = _df.loc[_df[\"No-show\"]==1].AppointmentDay\n",
        "\n",
        "    # Set _lastShow and _lastNoShow\n",
        "    _lastAppDay_NS0 = _df.groupby(\"PatientId\")[\"_appDay_NS0\"].shift(1).rename(\"_lastShow\")\n",
        "    _lastAppDay_NS1 = _df.groupby(\"PatientId\")[\"_appDay_NS1\"].shift(1).rename(\"_lastNoShow\")\n",
        "    _df = _df.join(_lastAppDay_NS0, how=\"left\").join(_lastAppDay_NS1, how=\"left\")\n",
        "    # Fill technical date 1970-01-01 for all first appointments\n",
        "    _df.loc[_df._appPrevCount==0 ,\"_lastShow\"] = pd.Timestamp(0)\n",
        "    _df.loc[_df._appPrevCount==0 ,\"_lastNoShow\"] = pd.Timestamp(0)\n",
        "    # Fill NaN-s using ffill method by using the last known date\n",
        "    _df.loc[:,\"_lastShow\"].fillna(method=\"ffill\", inplace=True)\n",
        "    _df.loc[:,\"_lastNoShow\"].fillna(method=\"ffill\", inplace=True)\n",
        "\n",
        "    # Count waiting time\n",
        "    _df[\"_waitingTime\"] = (_df[\"AppointmentDay\"].dt.date - _df[\"ScheduledDay\"].dt.date).dt.days        \n",
        "    _df.loc[_df._waitingTime < 0, \"_waitingTime\"] = 0\n",
        "    # Count time from last successful visit \n",
        "    _df[\"_lastShowTime\"] = (_df[\"AppointmentDay\"].dt.date - _df[\"_lastShow\"].dt.date).dt.days   \n",
        "    # Set maximum value = days_to_count+1     \n",
        "    _df.loc[_df._lastShowTime > days_to_count, \"_lastShowTime\"] = days_to_count + 1\n",
        "    # Count time from last no-show\n",
        "    _df[\"_lastNoShowTime\"] = (_df[\"AppointmentDay\"].dt.date - _df[\"_lastNoShow\"].dt.date).dt.days\n",
        "    # Set maximum value = days_to_count+1\n",
        "    _df.loc[_df._lastNoShowTime > days_to_count, \"_lastNoShowTime\"] = days_to_count + 1\n",
        "\n",
        "    # Count sequences of recent No-show values \n",
        "    _df['_group'] = _df.groupby([\"PatientId\", (_df['No-show'] != _df['No-show'].shift(1)).cumsum()]).cumcount() + 1\n",
        "    # Set 0 for all No-shows == 0\n",
        "    _df.loc[_df[\"No-show\"] == 0, '_group'] = 0\n",
        "    # Take a value from previous record\n",
        "    _df[\"_sumRecentNoShows\"] = _df['_group'].shift(1).fillna(0).astype(int)\n",
        "    # Correct value if the previous record was for a different patient\n",
        "    _df.loc[_df[\"_sumRecentNoShows\"] > _df[\"_appPrevCount\"], '_sumRecentNoShows'] = _df[\"_appPrevCount\"]\n",
        "\n",
        "    # For rolling with xD window, we need a DatatimeIndex\n",
        "    _df_dt_index = _df.set_index(\"_appDateTime\").sort_index().copy()\n",
        "    _roll = _df_dt_index.groupby(\"PatientId\").rolling(window=_window, min_periods=1, center=False, closed=\"left\")\n",
        "    _sumAppoint_xD = pd.DataFrame(_roll[\"No-show\"].count()).reset_index().rename(columns={\"No-show\":\"_sumAppoint_xD\"})\n",
        "    _sumNoShows_xD = pd.DataFrame(_roll[\"No-show\"].sum()).reset_index().rename(columns={\"No-show\":\"_sumNoShows_xD\"})\n",
        "    _df = _df.join(_sumAppoint_xD[\"_sumAppoint_xD\"].fillna(0).astype(int)).\\\n",
        "              join(_sumNoShows_xD[\"_sumNoShows_xD\"].fillna(0).astype(int))\n",
        "    \n",
        "    # Remove technical columns\n",
        "    _df.drop(columns=[\"index\",\"_appDateTime\",\"_appPrevCount\",\"_appDay_NS0\",\"_appDay_NS1\",\n",
        "                      \"_lastShow\",\"_lastNoShow\",\"_group\"], inplace=True)\n",
        "  \n",
        "    return _df"
      ],
      "execution_count": null,
      "outputs": []
    },
    {
      "cell_type": "code",
      "metadata": {
        "colab": {
          "base_uri": "https://localhost:8080/"
        },
        "id": "O636L3Mypc5E",
        "outputId": "a7f30652-99ea-42b0-e6c8-a4228f2c2438"
      },
      "source": [
        "days_to_count = 14 \n",
        "df_new = medicalAppointmentsDataPrepare(df=df ,days_to_count=days_to_count)"
      ],
      "execution_count": null,
      "outputs": [
        {
          "output_type": "stream",
          "name": "stdout",
          "text": [
            "Window: 14D\n"
          ]
        }
      ]
    },
    {
      "cell_type": "code",
      "metadata": {
        "colab": {
          "base_uri": "https://localhost:8080/",
          "height": 411
        },
        "id": "du8oYZg8rlXd",
        "outputId": "92a7e543-30af-45b9-efac-bb8e651d99e9"
      },
      "source": [
        "# PatientId to test\n",
        "df_new.groupby(\"PatientId\").agg({\"No-show\":[\"count\",\"sum\"]}).sort_values(by=(\"No-show\",\"count\"), ascending=False).\\\n",
        "       head(40).tail(10)"
      ],
      "execution_count": null,
      "outputs": [
        {
          "output_type": "execute_result",
          "data": {
            "text/html": [
              "<div>\n",
              "<style scoped>\n",
              "    .dataframe tbody tr th:only-of-type {\n",
              "        vertical-align: middle;\n",
              "    }\n",
              "\n",
              "    .dataframe tbody tr th {\n",
              "        vertical-align: top;\n",
              "    }\n",
              "\n",
              "    .dataframe thead tr th {\n",
              "        text-align: left;\n",
              "    }\n",
              "\n",
              "    .dataframe thead tr:last-of-type th {\n",
              "        text-align: right;\n",
              "    }\n",
              "</style>\n",
              "<table border=\"1\" class=\"dataframe\">\n",
              "  <thead>\n",
              "    <tr>\n",
              "      <th></th>\n",
              "      <th colspan=\"2\" halign=\"left\">No-show</th>\n",
              "    </tr>\n",
              "    <tr>\n",
              "      <th></th>\n",
              "      <th>count</th>\n",
              "      <th>sum</th>\n",
              "    </tr>\n",
              "    <tr>\n",
              "      <th>PatientId</th>\n",
              "      <th></th>\n",
              "      <th></th>\n",
              "    </tr>\n",
              "  </thead>\n",
              "  <tbody>\n",
              "    <tr>\n",
              "      <th>36994987339512</th>\n",
              "      <td>23</td>\n",
              "      <td>3</td>\n",
              "    </tr>\n",
              "    <tr>\n",
              "      <th>37994336685892</th>\n",
              "      <td>22</td>\n",
              "      <td>3</td>\n",
              "    </tr>\n",
              "    <tr>\n",
              "      <th>17798942295934</th>\n",
              "      <td>21</td>\n",
              "      <td>4</td>\n",
              "    </tr>\n",
              "    <tr>\n",
              "      <th>496777386375</th>\n",
              "      <td>21</td>\n",
              "      <td>2</td>\n",
              "    </tr>\n",
              "    <tr>\n",
              "      <th>725983755516</th>\n",
              "      <td>21</td>\n",
              "      <td>6</td>\n",
              "    </tr>\n",
              "    <tr>\n",
              "      <th>9715135545613</th>\n",
              "      <td>20</td>\n",
              "      <td>11</td>\n",
              "    </tr>\n",
              "    <tr>\n",
              "      <th>787697428886813</th>\n",
              "      <td>20</td>\n",
              "      <td>4</td>\n",
              "    </tr>\n",
              "    <tr>\n",
              "      <th>6383698598534</th>\n",
              "      <td>20</td>\n",
              "      <td>6</td>\n",
              "    </tr>\n",
              "    <tr>\n",
              "      <th>54376659453918</th>\n",
              "      <td>20</td>\n",
              "      <td>3</td>\n",
              "    </tr>\n",
              "    <tr>\n",
              "      <th>69322187574939</th>\n",
              "      <td>20</td>\n",
              "      <td>0</td>\n",
              "    </tr>\n",
              "  </tbody>\n",
              "</table>\n",
              "</div>"
            ],
            "text/plain": [
              "                No-show    \n",
              "                  count sum\n",
              "PatientId                  \n",
              "36994987339512       23   3\n",
              "37994336685892       22   3\n",
              "17798942295934       21   4\n",
              "496777386375         21   2\n",
              "725983755516         21   6\n",
              "9715135545613        20  11\n",
              "787697428886813      20   4\n",
              "6383698598534        20   6\n",
              "54376659453918       20   3\n",
              "69322187574939       20   0"
            ]
          },
          "metadata": {},
          "execution_count": 19
        }
      ]
    },
    {
      "cell_type": "code",
      "metadata": {
        "colab": {
          "base_uri": "https://localhost:8080/",
          "height": 653
        },
        "id": "1I0mSiiuKlCe",
        "outputId": "55517c00-a618-43f6-9a97-367b010941bc"
      },
      "source": [
        "# Test\n",
        "cols = [\"PatientId\", \"ScheduledDay\", \"AppointmentDay\", \"No-show\"] + [col for col in df_new.columns if col[0] == \"_\"]\n",
        "df_new.query(\"PatientId == 9715135545613\")[cols]"
      ],
      "execution_count": null,
      "outputs": [
        {
          "output_type": "execute_result",
          "data": {
            "text/html": [
              "<div>\n",
              "<style scoped>\n",
              "    .dataframe tbody tr th:only-of-type {\n",
              "        vertical-align: middle;\n",
              "    }\n",
              "\n",
              "    .dataframe tbody tr th {\n",
              "        vertical-align: top;\n",
              "    }\n",
              "\n",
              "    .dataframe thead th {\n",
              "        text-align: right;\n",
              "    }\n",
              "</style>\n",
              "<table border=\"1\" class=\"dataframe\">\n",
              "  <thead>\n",
              "    <tr style=\"text-align: right;\">\n",
              "      <th></th>\n",
              "      <th>PatientId</th>\n",
              "      <th>ScheduledDay</th>\n",
              "      <th>AppointmentDay</th>\n",
              "      <th>No-show</th>\n",
              "      <th>_waitingTime</th>\n",
              "      <th>_lastShowTime</th>\n",
              "      <th>_lastNoShowTime</th>\n",
              "      <th>_sumRecentNoShows</th>\n",
              "      <th>_sumAppoint_xD</th>\n",
              "      <th>_sumNoShows_xD</th>\n",
              "    </tr>\n",
              "  </thead>\n",
              "  <tbody>\n",
              "    <tr>\n",
              "      <th>45137</th>\n",
              "      <td>9715135545613</td>\n",
              "      <td>2016-05-04 16:05:24</td>\n",
              "      <td>2016-05-04</td>\n",
              "      <td>1</td>\n",
              "      <td>0</td>\n",
              "      <td>15</td>\n",
              "      <td>15</td>\n",
              "      <td>0</td>\n",
              "      <td>0</td>\n",
              "      <td>0</td>\n",
              "    </tr>\n",
              "    <tr>\n",
              "      <th>45138</th>\n",
              "      <td>9715135545613</td>\n",
              "      <td>2016-05-04 16:08:03</td>\n",
              "      <td>2016-05-04</td>\n",
              "      <td>1</td>\n",
              "      <td>0</td>\n",
              "      <td>15</td>\n",
              "      <td>0</td>\n",
              "      <td>1</td>\n",
              "      <td>1</td>\n",
              "      <td>1</td>\n",
              "    </tr>\n",
              "    <tr>\n",
              "      <th>45139</th>\n",
              "      <td>9715135545613</td>\n",
              "      <td>2016-05-04 16:10:18</td>\n",
              "      <td>2016-05-04</td>\n",
              "      <td>1</td>\n",
              "      <td>0</td>\n",
              "      <td>15</td>\n",
              "      <td>0</td>\n",
              "      <td>2</td>\n",
              "      <td>2</td>\n",
              "      <td>2</td>\n",
              "    </tr>\n",
              "    <tr>\n",
              "      <th>45140</th>\n",
              "      <td>9715135545613</td>\n",
              "      <td>2016-05-06 19:12:17</td>\n",
              "      <td>2016-05-06</td>\n",
              "      <td>0</td>\n",
              "      <td>0</td>\n",
              "      <td>15</td>\n",
              "      <td>2</td>\n",
              "      <td>3</td>\n",
              "      <td>3</td>\n",
              "      <td>3</td>\n",
              "    </tr>\n",
              "    <tr>\n",
              "      <th>45141</th>\n",
              "      <td>9715135545613</td>\n",
              "      <td>2016-05-10 13:31:46</td>\n",
              "      <td>2016-05-10</td>\n",
              "      <td>0</td>\n",
              "      <td>0</td>\n",
              "      <td>4</td>\n",
              "      <td>6</td>\n",
              "      <td>0</td>\n",
              "      <td>4</td>\n",
              "      <td>3</td>\n",
              "    </tr>\n",
              "    <tr>\n",
              "      <th>45142</th>\n",
              "      <td>9715135545613</td>\n",
              "      <td>2016-05-10 13:36:24</td>\n",
              "      <td>2016-05-10</td>\n",
              "      <td>0</td>\n",
              "      <td>0</td>\n",
              "      <td>0</td>\n",
              "      <td>6</td>\n",
              "      <td>0</td>\n",
              "      <td>5</td>\n",
              "      <td>3</td>\n",
              "    </tr>\n",
              "    <tr>\n",
              "      <th>45143</th>\n",
              "      <td>9715135545613</td>\n",
              "      <td>2016-05-11 07:47:24</td>\n",
              "      <td>2016-05-11</td>\n",
              "      <td>1</td>\n",
              "      <td>0</td>\n",
              "      <td>1</td>\n",
              "      <td>7</td>\n",
              "      <td>0</td>\n",
              "      <td>6</td>\n",
              "      <td>3</td>\n",
              "    </tr>\n",
              "    <tr>\n",
              "      <th>45144</th>\n",
              "      <td>9715135545613</td>\n",
              "      <td>2016-05-11 07:55:08</td>\n",
              "      <td>2016-05-11</td>\n",
              "      <td>1</td>\n",
              "      <td>0</td>\n",
              "      <td>1</td>\n",
              "      <td>0</td>\n",
              "      <td>1</td>\n",
              "      <td>7</td>\n",
              "      <td>4</td>\n",
              "    </tr>\n",
              "    <tr>\n",
              "      <th>45145</th>\n",
              "      <td>9715135545613</td>\n",
              "      <td>2016-05-11 16:09:40</td>\n",
              "      <td>2016-05-11</td>\n",
              "      <td>1</td>\n",
              "      <td>0</td>\n",
              "      <td>1</td>\n",
              "      <td>0</td>\n",
              "      <td>2</td>\n",
              "      <td>8</td>\n",
              "      <td>5</td>\n",
              "    </tr>\n",
              "    <tr>\n",
              "      <th>45146</th>\n",
              "      <td>9715135545613</td>\n",
              "      <td>2016-05-12 18:49:20</td>\n",
              "      <td>2016-05-12</td>\n",
              "      <td>0</td>\n",
              "      <td>0</td>\n",
              "      <td>2</td>\n",
              "      <td>1</td>\n",
              "      <td>3</td>\n",
              "      <td>9</td>\n",
              "      <td>6</td>\n",
              "    </tr>\n",
              "    <tr>\n",
              "      <th>45147</th>\n",
              "      <td>9715135545613</td>\n",
              "      <td>2016-05-18 16:39:42</td>\n",
              "      <td>2016-05-18</td>\n",
              "      <td>0</td>\n",
              "      <td>0</td>\n",
              "      <td>6</td>\n",
              "      <td>7</td>\n",
              "      <td>0</td>\n",
              "      <td>7</td>\n",
              "      <td>3</td>\n",
              "    </tr>\n",
              "    <tr>\n",
              "      <th>45148</th>\n",
              "      <td>9715135545613</td>\n",
              "      <td>2016-05-25 16:28:35</td>\n",
              "      <td>2016-05-25</td>\n",
              "      <td>1</td>\n",
              "      <td>0</td>\n",
              "      <td>7</td>\n",
              "      <td>14</td>\n",
              "      <td>0</td>\n",
              "      <td>2</td>\n",
              "      <td>0</td>\n",
              "    </tr>\n",
              "    <tr>\n",
              "      <th>45149</th>\n",
              "      <td>9715135545613</td>\n",
              "      <td>2016-05-25 16:34:32</td>\n",
              "      <td>2016-05-25</td>\n",
              "      <td>1</td>\n",
              "      <td>0</td>\n",
              "      <td>7</td>\n",
              "      <td>0</td>\n",
              "      <td>1</td>\n",
              "      <td>3</td>\n",
              "      <td>1</td>\n",
              "    </tr>\n",
              "    <tr>\n",
              "      <th>45150</th>\n",
              "      <td>9715135545613</td>\n",
              "      <td>2016-05-25 18:28:39</td>\n",
              "      <td>2016-05-25</td>\n",
              "      <td>1</td>\n",
              "      <td>0</td>\n",
              "      <td>7</td>\n",
              "      <td>0</td>\n",
              "      <td>2</td>\n",
              "      <td>4</td>\n",
              "      <td>2</td>\n",
              "    </tr>\n",
              "    <tr>\n",
              "      <th>45151</th>\n",
              "      <td>9715135545613</td>\n",
              "      <td>2016-06-01 10:16:17</td>\n",
              "      <td>2016-06-01</td>\n",
              "      <td>0</td>\n",
              "      <td>0</td>\n",
              "      <td>14</td>\n",
              "      <td>7</td>\n",
              "      <td>3</td>\n",
              "      <td>4</td>\n",
              "      <td>3</td>\n",
              "    </tr>\n",
              "    <tr>\n",
              "      <th>45152</th>\n",
              "      <td>9715135545613</td>\n",
              "      <td>2016-06-01 10:32:44</td>\n",
              "      <td>2016-06-01</td>\n",
              "      <td>0</td>\n",
              "      <td>0</td>\n",
              "      <td>0</td>\n",
              "      <td>7</td>\n",
              "      <td>0</td>\n",
              "      <td>5</td>\n",
              "      <td>3</td>\n",
              "    </tr>\n",
              "    <tr>\n",
              "      <th>45153</th>\n",
              "      <td>9715135545613</td>\n",
              "      <td>2016-06-01 17:50:02</td>\n",
              "      <td>2016-06-01</td>\n",
              "      <td>0</td>\n",
              "      <td>0</td>\n",
              "      <td>0</td>\n",
              "      <td>7</td>\n",
              "      <td>0</td>\n",
              "      <td>5</td>\n",
              "      <td>3</td>\n",
              "    </tr>\n",
              "    <tr>\n",
              "      <th>45154</th>\n",
              "      <td>9715135545613</td>\n",
              "      <td>2016-06-01 17:50:37</td>\n",
              "      <td>2016-06-01</td>\n",
              "      <td>0</td>\n",
              "      <td>0</td>\n",
              "      <td>0</td>\n",
              "      <td>7</td>\n",
              "      <td>0</td>\n",
              "      <td>6</td>\n",
              "      <td>3</td>\n",
              "    </tr>\n",
              "    <tr>\n",
              "      <th>45155</th>\n",
              "      <td>9715135545613</td>\n",
              "      <td>2016-06-08 07:58:17</td>\n",
              "      <td>2016-06-08</td>\n",
              "      <td>1</td>\n",
              "      <td>0</td>\n",
              "      <td>7</td>\n",
              "      <td>14</td>\n",
              "      <td>0</td>\n",
              "      <td>7</td>\n",
              "      <td>3</td>\n",
              "    </tr>\n",
              "    <tr>\n",
              "      <th>45156</th>\n",
              "      <td>9715135545613</td>\n",
              "      <td>2016-06-08 08:03:30</td>\n",
              "      <td>2016-06-08</td>\n",
              "      <td>1</td>\n",
              "      <td>0</td>\n",
              "      <td>7</td>\n",
              "      <td>0</td>\n",
              "      <td>1</td>\n",
              "      <td>8</td>\n",
              "      <td>4</td>\n",
              "    </tr>\n",
              "  </tbody>\n",
              "</table>\n",
              "</div>"
            ],
            "text/plain": [
              "           PatientId        ScheduledDay AppointmentDay  No-show  \\\n",
              "45137  9715135545613 2016-05-04 16:05:24     2016-05-04        1   \n",
              "45138  9715135545613 2016-05-04 16:08:03     2016-05-04        1   \n",
              "45139  9715135545613 2016-05-04 16:10:18     2016-05-04        1   \n",
              "45140  9715135545613 2016-05-06 19:12:17     2016-05-06        0   \n",
              "45141  9715135545613 2016-05-10 13:31:46     2016-05-10        0   \n",
              "45142  9715135545613 2016-05-10 13:36:24     2016-05-10        0   \n",
              "45143  9715135545613 2016-05-11 07:47:24     2016-05-11        1   \n",
              "45144  9715135545613 2016-05-11 07:55:08     2016-05-11        1   \n",
              "45145  9715135545613 2016-05-11 16:09:40     2016-05-11        1   \n",
              "45146  9715135545613 2016-05-12 18:49:20     2016-05-12        0   \n",
              "45147  9715135545613 2016-05-18 16:39:42     2016-05-18        0   \n",
              "45148  9715135545613 2016-05-25 16:28:35     2016-05-25        1   \n",
              "45149  9715135545613 2016-05-25 16:34:32     2016-05-25        1   \n",
              "45150  9715135545613 2016-05-25 18:28:39     2016-05-25        1   \n",
              "45151  9715135545613 2016-06-01 10:16:17     2016-06-01        0   \n",
              "45152  9715135545613 2016-06-01 10:32:44     2016-06-01        0   \n",
              "45153  9715135545613 2016-06-01 17:50:02     2016-06-01        0   \n",
              "45154  9715135545613 2016-06-01 17:50:37     2016-06-01        0   \n",
              "45155  9715135545613 2016-06-08 07:58:17     2016-06-08        1   \n",
              "45156  9715135545613 2016-06-08 08:03:30     2016-06-08        1   \n",
              "\n",
              "       _waitingTime  _lastShowTime  _lastNoShowTime  _sumRecentNoShows  \\\n",
              "45137             0             15               15                  0   \n",
              "45138             0             15                0                  1   \n",
              "45139             0             15                0                  2   \n",
              "45140             0             15                2                  3   \n",
              "45141             0              4                6                  0   \n",
              "45142             0              0                6                  0   \n",
              "45143             0              1                7                  0   \n",
              "45144             0              1                0                  1   \n",
              "45145             0              1                0                  2   \n",
              "45146             0              2                1                  3   \n",
              "45147             0              6                7                  0   \n",
              "45148             0              7               14                  0   \n",
              "45149             0              7                0                  1   \n",
              "45150             0              7                0                  2   \n",
              "45151             0             14                7                  3   \n",
              "45152             0              0                7                  0   \n",
              "45153             0              0                7                  0   \n",
              "45154             0              0                7                  0   \n",
              "45155             0              7               14                  0   \n",
              "45156             0              7                0                  1   \n",
              "\n",
              "       _sumAppoint_xD  _sumNoShows_xD  \n",
              "45137               0               0  \n",
              "45138               1               1  \n",
              "45139               2               2  \n",
              "45140               3               3  \n",
              "45141               4               3  \n",
              "45142               5               3  \n",
              "45143               6               3  \n",
              "45144               7               4  \n",
              "45145               8               5  \n",
              "45146               9               6  \n",
              "45147               7               3  \n",
              "45148               2               0  \n",
              "45149               3               1  \n",
              "45150               4               2  \n",
              "45151               4               3  \n",
              "45152               5               3  \n",
              "45153               5               3  \n",
              "45154               6               3  \n",
              "45155               7               3  \n",
              "45156               8               4  "
            ]
          },
          "metadata": {},
          "execution_count": 20
        }
      ]
    },
    {
      "cell_type": "code",
      "metadata": {
        "colab": {
          "base_uri": "https://localhost:8080/",
          "height": 683
        },
        "id": "9CWDed3nxUK2",
        "outputId": "a23ed994-7f28-4ca6-e849-e39dc978048b"
      },
      "source": [
        "df_new.query(\"PatientId == 17798942295934\")[cols]"
      ],
      "execution_count": null,
      "outputs": [
        {
          "output_type": "execute_result",
          "data": {
            "text/html": [
              "<div>\n",
              "<style scoped>\n",
              "    .dataframe tbody tr th:only-of-type {\n",
              "        vertical-align: middle;\n",
              "    }\n",
              "\n",
              "    .dataframe tbody tr th {\n",
              "        vertical-align: top;\n",
              "    }\n",
              "\n",
              "    .dataframe thead th {\n",
              "        text-align: right;\n",
              "    }\n",
              "</style>\n",
              "<table border=\"1\" class=\"dataframe\">\n",
              "  <thead>\n",
              "    <tr style=\"text-align: right;\">\n",
              "      <th></th>\n",
              "      <th>PatientId</th>\n",
              "      <th>ScheduledDay</th>\n",
              "      <th>AppointmentDay</th>\n",
              "      <th>No-show</th>\n",
              "      <th>_waitingTime</th>\n",
              "      <th>_lastShowTime</th>\n",
              "      <th>_lastNoShowTime</th>\n",
              "      <th>_sumRecentNoShows</th>\n",
              "      <th>_sumAppoint_xD</th>\n",
              "      <th>_sumNoShows_xD</th>\n",
              "    </tr>\n",
              "  </thead>\n",
              "  <tbody>\n",
              "    <tr>\n",
              "      <th>49453</th>\n",
              "      <td>17798942295934</td>\n",
              "      <td>2016-04-27 07:00:57</td>\n",
              "      <td>2016-04-29</td>\n",
              "      <td>0</td>\n",
              "      <td>2</td>\n",
              "      <td>15</td>\n",
              "      <td>15</td>\n",
              "      <td>0</td>\n",
              "      <td>0</td>\n",
              "      <td>0</td>\n",
              "    </tr>\n",
              "    <tr>\n",
              "      <th>49454</th>\n",
              "      <td>17798942295934</td>\n",
              "      <td>2016-04-28 06:42:04</td>\n",
              "      <td>2016-05-02</td>\n",
              "      <td>0</td>\n",
              "      <td>4</td>\n",
              "      <td>3</td>\n",
              "      <td>15</td>\n",
              "      <td>0</td>\n",
              "      <td>1</td>\n",
              "      <td>0</td>\n",
              "    </tr>\n",
              "    <tr>\n",
              "      <th>49455</th>\n",
              "      <td>17798942295934</td>\n",
              "      <td>2016-05-02 06:56:06</td>\n",
              "      <td>2016-05-04</td>\n",
              "      <td>0</td>\n",
              "      <td>2</td>\n",
              "      <td>2</td>\n",
              "      <td>15</td>\n",
              "      <td>0</td>\n",
              "      <td>2</td>\n",
              "      <td>0</td>\n",
              "    </tr>\n",
              "    <tr>\n",
              "      <th>49456</th>\n",
              "      <td>17798942295934</td>\n",
              "      <td>2016-05-04 07:27:04</td>\n",
              "      <td>2016-05-06</td>\n",
              "      <td>0</td>\n",
              "      <td>2</td>\n",
              "      <td>2</td>\n",
              "      <td>15</td>\n",
              "      <td>0</td>\n",
              "      <td>3</td>\n",
              "      <td>0</td>\n",
              "    </tr>\n",
              "    <tr>\n",
              "      <th>49457</th>\n",
              "      <td>17798942295934</td>\n",
              "      <td>2016-05-05 06:53:21</td>\n",
              "      <td>2016-05-09</td>\n",
              "      <td>0</td>\n",
              "      <td>4</td>\n",
              "      <td>3</td>\n",
              "      <td>15</td>\n",
              "      <td>0</td>\n",
              "      <td>4</td>\n",
              "      <td>0</td>\n",
              "    </tr>\n",
              "    <tr>\n",
              "      <th>49458</th>\n",
              "      <td>17798942295934</td>\n",
              "      <td>2016-05-09 07:00:47</td>\n",
              "      <td>2016-05-11</td>\n",
              "      <td>0</td>\n",
              "      <td>2</td>\n",
              "      <td>2</td>\n",
              "      <td>15</td>\n",
              "      <td>0</td>\n",
              "      <td>5</td>\n",
              "      <td>0</td>\n",
              "    </tr>\n",
              "    <tr>\n",
              "      <th>49459</th>\n",
              "      <td>17798942295934</td>\n",
              "      <td>2016-05-04 10:46:13</td>\n",
              "      <td>2016-05-12</td>\n",
              "      <td>0</td>\n",
              "      <td>8</td>\n",
              "      <td>1</td>\n",
              "      <td>15</td>\n",
              "      <td>0</td>\n",
              "      <td>6</td>\n",
              "      <td>0</td>\n",
              "    </tr>\n",
              "    <tr>\n",
              "      <th>49460</th>\n",
              "      <td>17798942295934</td>\n",
              "      <td>2016-05-11 06:37:06</td>\n",
              "      <td>2016-05-13</td>\n",
              "      <td>0</td>\n",
              "      <td>2</td>\n",
              "      <td>1</td>\n",
              "      <td>15</td>\n",
              "      <td>0</td>\n",
              "      <td>7</td>\n",
              "      <td>0</td>\n",
              "    </tr>\n",
              "    <tr>\n",
              "      <th>49461</th>\n",
              "      <td>17798942295934</td>\n",
              "      <td>2016-05-12 06:37:10</td>\n",
              "      <td>2016-05-16</td>\n",
              "      <td>0</td>\n",
              "      <td>4</td>\n",
              "      <td>3</td>\n",
              "      <td>15</td>\n",
              "      <td>0</td>\n",
              "      <td>7</td>\n",
              "      <td>0</td>\n",
              "    </tr>\n",
              "    <tr>\n",
              "      <th>49462</th>\n",
              "      <td>17798942295934</td>\n",
              "      <td>2016-05-16 07:04:55</td>\n",
              "      <td>2016-05-18</td>\n",
              "      <td>0</td>\n",
              "      <td>2</td>\n",
              "      <td>2</td>\n",
              "      <td>15</td>\n",
              "      <td>0</td>\n",
              "      <td>6</td>\n",
              "      <td>0</td>\n",
              "    </tr>\n",
              "    <tr>\n",
              "      <th>49463</th>\n",
              "      <td>17798942295934</td>\n",
              "      <td>2016-05-18 06:36:06</td>\n",
              "      <td>2016-05-20</td>\n",
              "      <td>0</td>\n",
              "      <td>2</td>\n",
              "      <td>2</td>\n",
              "      <td>15</td>\n",
              "      <td>0</td>\n",
              "      <td>7</td>\n",
              "      <td>0</td>\n",
              "    </tr>\n",
              "    <tr>\n",
              "      <th>49464</th>\n",
              "      <td>17798942295934</td>\n",
              "      <td>2016-05-20 07:07:42</td>\n",
              "      <td>2016-05-25</td>\n",
              "      <td>0</td>\n",
              "      <td>5</td>\n",
              "      <td>5</td>\n",
              "      <td>15</td>\n",
              "      <td>0</td>\n",
              "      <td>5</td>\n",
              "      <td>0</td>\n",
              "    </tr>\n",
              "    <tr>\n",
              "      <th>49465</th>\n",
              "      <td>17798942295934</td>\n",
              "      <td>2016-05-25 07:04:53</td>\n",
              "      <td>2016-05-30</td>\n",
              "      <td>0</td>\n",
              "      <td>5</td>\n",
              "      <td>5</td>\n",
              "      <td>15</td>\n",
              "      <td>0</td>\n",
              "      <td>3</td>\n",
              "      <td>0</td>\n",
              "    </tr>\n",
              "    <tr>\n",
              "      <th>49466</th>\n",
              "      <td>17798942295934</td>\n",
              "      <td>2016-05-30 07:10:37</td>\n",
              "      <td>2016-05-30</td>\n",
              "      <td>0</td>\n",
              "      <td>0</td>\n",
              "      <td>0</td>\n",
              "      <td>15</td>\n",
              "      <td>0</td>\n",
              "      <td>4</td>\n",
              "      <td>0</td>\n",
              "    </tr>\n",
              "    <tr>\n",
              "      <th>49467</th>\n",
              "      <td>17798942295934</td>\n",
              "      <td>2016-05-30 08:32:48</td>\n",
              "      <td>2016-06-01</td>\n",
              "      <td>0</td>\n",
              "      <td>2</td>\n",
              "      <td>2</td>\n",
              "      <td>15</td>\n",
              "      <td>0</td>\n",
              "      <td>4</td>\n",
              "      <td>0</td>\n",
              "    </tr>\n",
              "    <tr>\n",
              "      <th>49468</th>\n",
              "      <td>17798942295934</td>\n",
              "      <td>2016-05-30 10:57:10</td>\n",
              "      <td>2016-06-01</td>\n",
              "      <td>1</td>\n",
              "      <td>2</td>\n",
              "      <td>0</td>\n",
              "      <td>15</td>\n",
              "      <td>0</td>\n",
              "      <td>5</td>\n",
              "      <td>0</td>\n",
              "    </tr>\n",
              "    <tr>\n",
              "      <th>49469</th>\n",
              "      <td>17798942295934</td>\n",
              "      <td>2016-06-01 07:51:10</td>\n",
              "      <td>2016-06-03</td>\n",
              "      <td>1</td>\n",
              "      <td>2</td>\n",
              "      <td>2</td>\n",
              "      <td>2</td>\n",
              "      <td>1</td>\n",
              "      <td>5</td>\n",
              "      <td>1</td>\n",
              "    </tr>\n",
              "    <tr>\n",
              "      <th>49470</th>\n",
              "      <td>17798942295934</td>\n",
              "      <td>2016-06-02 06:48:51</td>\n",
              "      <td>2016-06-06</td>\n",
              "      <td>1</td>\n",
              "      <td>4</td>\n",
              "      <td>5</td>\n",
              "      <td>3</td>\n",
              "      <td>2</td>\n",
              "      <td>6</td>\n",
              "      <td>2</td>\n",
              "    </tr>\n",
              "    <tr>\n",
              "      <th>49471</th>\n",
              "      <td>17798942295934</td>\n",
              "      <td>2016-05-25 07:05:52</td>\n",
              "      <td>2016-06-06</td>\n",
              "      <td>1</td>\n",
              "      <td>12</td>\n",
              "      <td>5</td>\n",
              "      <td>0</td>\n",
              "      <td>3</td>\n",
              "      <td>7</td>\n",
              "      <td>3</td>\n",
              "    </tr>\n",
              "    <tr>\n",
              "      <th>49472</th>\n",
              "      <td>17798942295934</td>\n",
              "      <td>2016-06-02 12:35:27</td>\n",
              "      <td>2016-06-07</td>\n",
              "      <td>0</td>\n",
              "      <td>5</td>\n",
              "      <td>6</td>\n",
              "      <td>1</td>\n",
              "      <td>4</td>\n",
              "      <td>8</td>\n",
              "      <td>4</td>\n",
              "    </tr>\n",
              "    <tr>\n",
              "      <th>49473</th>\n",
              "      <td>17798942295934</td>\n",
              "      <td>2016-06-06 09:06:33</td>\n",
              "      <td>2016-06-08</td>\n",
              "      <td>0</td>\n",
              "      <td>2</td>\n",
              "      <td>1</td>\n",
              "      <td>2</td>\n",
              "      <td>0</td>\n",
              "      <td>8</td>\n",
              "      <td>4</td>\n",
              "    </tr>\n",
              "  </tbody>\n",
              "</table>\n",
              "</div>"
            ],
            "text/plain": [
              "            PatientId        ScheduledDay AppointmentDay  No-show  \\\n",
              "49453  17798942295934 2016-04-27 07:00:57     2016-04-29        0   \n",
              "49454  17798942295934 2016-04-28 06:42:04     2016-05-02        0   \n",
              "49455  17798942295934 2016-05-02 06:56:06     2016-05-04        0   \n",
              "49456  17798942295934 2016-05-04 07:27:04     2016-05-06        0   \n",
              "49457  17798942295934 2016-05-05 06:53:21     2016-05-09        0   \n",
              "49458  17798942295934 2016-05-09 07:00:47     2016-05-11        0   \n",
              "49459  17798942295934 2016-05-04 10:46:13     2016-05-12        0   \n",
              "49460  17798942295934 2016-05-11 06:37:06     2016-05-13        0   \n",
              "49461  17798942295934 2016-05-12 06:37:10     2016-05-16        0   \n",
              "49462  17798942295934 2016-05-16 07:04:55     2016-05-18        0   \n",
              "49463  17798942295934 2016-05-18 06:36:06     2016-05-20        0   \n",
              "49464  17798942295934 2016-05-20 07:07:42     2016-05-25        0   \n",
              "49465  17798942295934 2016-05-25 07:04:53     2016-05-30        0   \n",
              "49466  17798942295934 2016-05-30 07:10:37     2016-05-30        0   \n",
              "49467  17798942295934 2016-05-30 08:32:48     2016-06-01        0   \n",
              "49468  17798942295934 2016-05-30 10:57:10     2016-06-01        1   \n",
              "49469  17798942295934 2016-06-01 07:51:10     2016-06-03        1   \n",
              "49470  17798942295934 2016-06-02 06:48:51     2016-06-06        1   \n",
              "49471  17798942295934 2016-05-25 07:05:52     2016-06-06        1   \n",
              "49472  17798942295934 2016-06-02 12:35:27     2016-06-07        0   \n",
              "49473  17798942295934 2016-06-06 09:06:33     2016-06-08        0   \n",
              "\n",
              "       _waitingTime  _lastShowTime  _lastNoShowTime  _sumRecentNoShows  \\\n",
              "49453             2             15               15                  0   \n",
              "49454             4              3               15                  0   \n",
              "49455             2              2               15                  0   \n",
              "49456             2              2               15                  0   \n",
              "49457             4              3               15                  0   \n",
              "49458             2              2               15                  0   \n",
              "49459             8              1               15                  0   \n",
              "49460             2              1               15                  0   \n",
              "49461             4              3               15                  0   \n",
              "49462             2              2               15                  0   \n",
              "49463             2              2               15                  0   \n",
              "49464             5              5               15                  0   \n",
              "49465             5              5               15                  0   \n",
              "49466             0              0               15                  0   \n",
              "49467             2              2               15                  0   \n",
              "49468             2              0               15                  0   \n",
              "49469             2              2                2                  1   \n",
              "49470             4              5                3                  2   \n",
              "49471            12              5                0                  3   \n",
              "49472             5              6                1                  4   \n",
              "49473             2              1                2                  0   \n",
              "\n",
              "       _sumAppoint_xD  _sumNoShows_xD  \n",
              "49453               0               0  \n",
              "49454               1               0  \n",
              "49455               2               0  \n",
              "49456               3               0  \n",
              "49457               4               0  \n",
              "49458               5               0  \n",
              "49459               6               0  \n",
              "49460               7               0  \n",
              "49461               7               0  \n",
              "49462               6               0  \n",
              "49463               7               0  \n",
              "49464               5               0  \n",
              "49465               3               0  \n",
              "49466               4               0  \n",
              "49467               4               0  \n",
              "49468               5               0  \n",
              "49469               5               1  \n",
              "49470               6               2  \n",
              "49471               7               3  \n",
              "49472               8               4  \n",
              "49473               8               4  "
            ]
          },
          "metadata": {},
          "execution_count": 21
        }
      ]
    },
    {
      "cell_type": "code",
      "metadata": {
        "colab": {
          "base_uri": "https://localhost:8080/"
        },
        "id": "snh0QptBFWvU",
        "outputId": "3e458419-3c02-458d-d8fd-3011a292c7c1"
      },
      "source": [
        "# Reduce dataset by removing records from first \"days_to_count\" days\n",
        "new_min_appointment_day = pd.to_datetime(df_new.AppointmentDay.min() + pd.DateOffset(days=days_to_count))\n",
        "df_reduced = df_new.loc[pd.to_datetime(df_new.AppointmentDay) >= new_min_appointment_day]\n",
        "\n",
        "df_reduced.AppointmentDay.min(), df_reduced.AppointmentDay.max(), \\\n",
        "(pd.to_datetime(df_reduced.AppointmentDay.max()) - pd.to_datetime(df_reduced.AppointmentDay.min())).days"
      ],
      "execution_count": null,
      "outputs": [
        {
          "output_type": "execute_result",
          "data": {
            "text/plain": [
              "(Timestamp('2016-05-13 00:00:00'), Timestamp('2016-06-08 00:00:00'), 26)"
            ]
          },
          "metadata": {},
          "execution_count": 22
        }
      ]
    },
    {
      "cell_type": "code",
      "metadata": {
        "id": "LXds__1nz8CK",
        "colab": {
          "base_uri": "https://localhost:8080/",
          "height": 290
        },
        "outputId": "6a15dce1-0dec-477b-cf9b-9722b78df16d"
      },
      "source": [
        "df_new[cols].describe()"
      ],
      "execution_count": null,
      "outputs": [
        {
          "output_type": "execute_result",
          "data": {
            "text/html": [
              "<div>\n",
              "<style scoped>\n",
              "    .dataframe tbody tr th:only-of-type {\n",
              "        vertical-align: middle;\n",
              "    }\n",
              "\n",
              "    .dataframe tbody tr th {\n",
              "        vertical-align: top;\n",
              "    }\n",
              "\n",
              "    .dataframe thead th {\n",
              "        text-align: right;\n",
              "    }\n",
              "</style>\n",
              "<table border=\"1\" class=\"dataframe\">\n",
              "  <thead>\n",
              "    <tr style=\"text-align: right;\">\n",
              "      <th></th>\n",
              "      <th>PatientId</th>\n",
              "      <th>No-show</th>\n",
              "      <th>_waitingTime</th>\n",
              "      <th>_lastShowTime</th>\n",
              "      <th>_lastNoShowTime</th>\n",
              "      <th>_sumRecentNoShows</th>\n",
              "      <th>_sumAppoint_xD</th>\n",
              "      <th>_sumNoShows_xD</th>\n",
              "    </tr>\n",
              "  </thead>\n",
              "  <tbody>\n",
              "    <tr>\n",
              "      <th>count</th>\n",
              "      <td>110527.0000</td>\n",
              "      <td>110527.0000</td>\n",
              "      <td>110527.0000</td>\n",
              "      <td>110527.0000</td>\n",
              "      <td>110527.0000</td>\n",
              "      <td>110527.0000</td>\n",
              "      <td>110527.0000</td>\n",
              "      <td>110527.0000</td>\n",
              "    </tr>\n",
              "    <tr>\n",
              "      <th>mean</th>\n",
              "      <td>147496265710394.0938</td>\n",
              "      <td>0.2019</td>\n",
              "      <td>10.1838</td>\n",
              "      <td>12.0061</td>\n",
              "      <td>14.0747</td>\n",
              "      <td>0.1147</td>\n",
              "      <td>0.7459</td>\n",
              "      <td>0.1202</td>\n",
              "    </tr>\n",
              "    <tr>\n",
              "      <th>std</th>\n",
              "      <td>256094920291739.0625</td>\n",
              "      <td>0.4014</td>\n",
              "      <td>15.2549</td>\n",
              "      <td>5.2032</td>\n",
              "      <td>3.1500</td>\n",
              "      <td>0.4537</td>\n",
              "      <td>2.1617</td>\n",
              "      <td>0.4295</td>\n",
              "    </tr>\n",
              "    <tr>\n",
              "      <th>min</th>\n",
              "      <td>39217.0000</td>\n",
              "      <td>0.0000</td>\n",
              "      <td>0.0000</td>\n",
              "      <td>0.0000</td>\n",
              "      <td>0.0000</td>\n",
              "      <td>0.0000</td>\n",
              "      <td>0.0000</td>\n",
              "      <td>0.0000</td>\n",
              "    </tr>\n",
              "    <tr>\n",
              "      <th>25%</th>\n",
              "      <td>4172614444192.0000</td>\n",
              "      <td>0.0000</td>\n",
              "      <td>0.0000</td>\n",
              "      <td>10.0000</td>\n",
              "      <td>15.0000</td>\n",
              "      <td>0.0000</td>\n",
              "      <td>0.0000</td>\n",
              "      <td>0.0000</td>\n",
              "    </tr>\n",
              "    <tr>\n",
              "      <th>50%</th>\n",
              "      <td>31731838713978.0000</td>\n",
              "      <td>0.0000</td>\n",
              "      <td>4.0000</td>\n",
              "      <td>15.0000</td>\n",
              "      <td>15.0000</td>\n",
              "      <td>0.0000</td>\n",
              "      <td>0.0000</td>\n",
              "      <td>0.0000</td>\n",
              "    </tr>\n",
              "    <tr>\n",
              "      <th>75%</th>\n",
              "      <td>94391720898175.0000</td>\n",
              "      <td>0.0000</td>\n",
              "      <td>15.0000</td>\n",
              "      <td>15.0000</td>\n",
              "      <td>15.0000</td>\n",
              "      <td>0.0000</td>\n",
              "      <td>1.0000</td>\n",
              "      <td>0.0000</td>\n",
              "    </tr>\n",
              "    <tr>\n",
              "      <th>max</th>\n",
              "      <td>999981631772427.0000</td>\n",
              "      <td>1.0000</td>\n",
              "      <td>179.0000</td>\n",
              "      <td>15.0000</td>\n",
              "      <td>15.0000</td>\n",
              "      <td>17.0000</td>\n",
              "      <td>33.0000</td>\n",
              "      <td>9.0000</td>\n",
              "    </tr>\n",
              "  </tbody>\n",
              "</table>\n",
              "</div>"
            ],
            "text/plain": [
              "                 PatientId     No-show  _waitingTime  _lastShowTime  \\\n",
              "count          110527.0000 110527.0000   110527.0000    110527.0000   \n",
              "mean  147496265710394.0938      0.2019       10.1838        12.0061   \n",
              "std   256094920291739.0625      0.4014       15.2549         5.2032   \n",
              "min             39217.0000      0.0000        0.0000         0.0000   \n",
              "25%     4172614444192.0000      0.0000        0.0000        10.0000   \n",
              "50%    31731838713978.0000      0.0000        4.0000        15.0000   \n",
              "75%    94391720898175.0000      0.0000       15.0000        15.0000   \n",
              "max   999981631772427.0000      1.0000      179.0000        15.0000   \n",
              "\n",
              "       _lastNoShowTime  _sumRecentNoShows  _sumAppoint_xD  _sumNoShows_xD  \n",
              "count      110527.0000        110527.0000     110527.0000     110527.0000  \n",
              "mean           14.0747             0.1147          0.7459          0.1202  \n",
              "std             3.1500             0.4537          2.1617          0.4295  \n",
              "min             0.0000             0.0000          0.0000          0.0000  \n",
              "25%            15.0000             0.0000          0.0000          0.0000  \n",
              "50%            15.0000             0.0000          0.0000          0.0000  \n",
              "75%            15.0000             0.0000          1.0000          0.0000  \n",
              "max            15.0000            17.0000         33.0000          9.0000  "
            ]
          },
          "metadata": {},
          "execution_count": 23
        }
      ]
    },
    {
      "cell_type": "code",
      "metadata": {
        "colab": {
          "base_uri": "https://localhost:8080/",
          "height": 443
        },
        "id": "dQF104epAOnb",
        "outputId": "a4da2d91-4705-4319-e496-99431a0fc6b8"
      },
      "source": [
        "fig, axs = plt.subplots(2,3,figsize=(15,7))\n",
        "i, j = 0, 0\n",
        "for col in [c for c in cols if c[0] == \"_\"]:\n",
        "    axs[i,j].hist(df_reduced[col], bins=20) \n",
        "    axs[i,j].set_title(col) \n",
        "    i = (i if j < 2 else i+1)\n",
        "    j = (j+1 if j < 2 else 0)    \n",
        "plt.show()"
      ],
      "execution_count": null,
      "outputs": [
        {
          "output_type": "display_data",
          "data": {
            "image/png": "[encoded data removed]",
            "text/plain": [
              "<Figure size 1080x504 with 6 Axes>"
            ]
          },
          "metadata": {
            "needs_background": "light"
          }
        }
      ]
    },
    {
      "cell_type": "markdown",
      "metadata": {
        "id": "DsBuLZYKz8CM"
      },
      "source": [
        "#### [Save data]"
      ]
    },
    {
      "cell_type": "code",
      "metadata": {
        "id": "QO5aWo62z8CN"
      },
      "source": [
        "# Dump data to pickle\n",
        "with open(\"/\".join([path, \"prepared_NoShows.obj\"]), \"wb\") as fp:\n",
        "    pickle.dump(df_reduced, fp)"
      ],
      "execution_count": null,
      "outputs": []
    },
    {
      "cell_type": "code",
      "metadata": {
        "id": "wRfNAsLzz8CN"
      },
      "source": [
        "# Read data from pickle \n",
        "with open(\"/\".join([path, \"prepared_NoShows.obj\"]), 'rb') as fp:\n",
        "    df_reduced = pickle.load(fp)"
      ],
      "execution_count": null,
      "outputs": []
    },
    {
      "cell_type": "markdown",
      "metadata": {
        "id": "mm2U5qcez8CO"
      },
      "source": [
        "## Split data set into training, validation and test parts <a class=\"anchor\" id=\"split\"></a>"
      ]
    },
    {
      "cell_type": "code",
      "metadata": {
        "id": "k528Cm0Cz8CP"
      },
      "source": [
        "# First, split patients:\n",
        "\n",
        "# Choose unique patients\n",
        "patients = pd.DataFrame(df_reduced[\"PatientId\"].unique(), columns=[\"PatientId\"])\n",
        "\n",
        "# Split patients into training and test subsets\n",
        "p_train, p_test = train_test_split(patients, test_size=0.3, random_state=33)\n",
        "\n",
        "# Split patients from the test data into validation and test subsets\n",
        "p_valid, p_test = train_test_split(p_test, test_size=0.5, random_state=33)"
      ],
      "execution_count": null,
      "outputs": []
    },
    {
      "cell_type": "code",
      "metadata": {
        "id": "0Oar8Dssz8CQ"
      },
      "source": [
        "# Create training data\n",
        "X_train = df_reduced.merge(p_train, on=\"PatientId\", how=\"inner\")\n",
        "y_train = X_train[\"No-show\"]\n",
        "X_train.drop(columns=\"No-show\", inplace=True)"
      ],
      "execution_count": null,
      "outputs": []
    },
    {
      "cell_type": "code",
      "metadata": {
        "id": "RjAVLgsKz8CQ"
      },
      "source": [
        "# Create validation data\n",
        "X_valid = df_reduced.merge(p_valid, on=\"PatientId\", how=\"inner\")\n",
        "y_valid = X_valid[\"No-show\"]\n",
        "X_valid.drop(columns=\"No-show\", inplace=True)"
      ],
      "execution_count": null,
      "outputs": []
    },
    {
      "cell_type": "code",
      "metadata": {
        "id": "2EtAqnKmz8CR"
      },
      "source": [
        "# Create test data\n",
        "X_test = df_reduced.merge(p_test, on=\"PatientId\", how=\"inner\")\n",
        "y_test = X_test[\"No-show\"]\n",
        "X_test.drop(columns=\"No-show\", inplace=True)"
      ],
      "execution_count": null,
      "outputs": []
    },
    {
      "cell_type": "code",
      "metadata": {
        "id": "DM97HEJaz8CR",
        "colab": {
          "base_uri": "https://localhost:8080/"
        },
        "outputId": "587f07a6-ac25-4118-9570-f1820d2a5c3a"
      },
      "source": [
        "# Shape of data sets\n",
        "print(\"Training set:\", X_train.shape, y_train.shape)\n",
        "print(\"Validation set:\", X_valid.shape, y_valid.shape)\n",
        "print(\"Test set:\", X_test.shape, y_test.shape)"
      ],
      "execution_count": null,
      "outputs": [
        {
          "output_type": "stream",
          "name": "stdout",
          "text": [
            "Training set: (48162, 19) (48162,)\n",
            "Validation set: (10238, 19) (10238,)\n",
            "Test set: (10244, 19) (10244,)\n"
          ]
        }
      ]
    },
    {
      "cell_type": "code",
      "metadata": {
        "id": "HWD-N3tGz8CS",
        "colab": {
          "base_uri": "https://localhost:8080/"
        },
        "outputId": "520fd26a-f49c-4227-dc79-31964d32f92d"
      },
      "source": [
        "y_train.value_counts(normalize=True, dropna=False)"
      ],
      "execution_count": null,
      "outputs": [
        {
          "output_type": "execute_result",
          "data": {
            "text/plain": [
              "0   0.8019\n",
              "1   0.1981\n",
              "Name: No-show, dtype: float64"
            ]
          },
          "metadata": {},
          "execution_count": 32
        }
      ]
    },
    {
      "cell_type": "code",
      "metadata": {
        "id": "JXUSH0hoz8CS",
        "colab": {
          "base_uri": "https://localhost:8080/"
        },
        "outputId": "a847480b-3d4f-491a-87e3-fc78fc140f13"
      },
      "source": [
        "y_valid.value_counts(normalize=True, dropna=False)"
      ],
      "execution_count": null,
      "outputs": [
        {
          "output_type": "execute_result",
          "data": {
            "text/plain": [
              "0   0.8020\n",
              "1   0.1980\n",
              "Name: No-show, dtype: float64"
            ]
          },
          "metadata": {},
          "execution_count": 33
        }
      ]
    },
    {
      "cell_type": "code",
      "metadata": {
        "id": "dADuRoASz8CT",
        "colab": {
          "base_uri": "https://localhost:8080/"
        },
        "outputId": "ef273ac4-77b4-483d-e79f-d6221cf844f4"
      },
      "source": [
        "y_test.value_counts(normalize=True, dropna=False)"
      ],
      "execution_count": null,
      "outputs": [
        {
          "output_type": "execute_result",
          "data": {
            "text/plain": [
              "0   0.7933\n",
              "1   0.2067\n",
              "Name: No-show, dtype: float64"
            ]
          },
          "metadata": {},
          "execution_count": 34
        }
      ]
    },
    {
      "cell_type": "markdown",
      "metadata": {
        "id": "tkUXoMeLz8CT"
      },
      "source": [
        "## Data review on the training set <a class=\"anchor\" id=\"data_review\"></a>"
      ]
    },
    {
      "cell_type": "code",
      "metadata": {
        "id": "g860iHRcz8CU",
        "colab": {
          "base_uri": "https://localhost:8080/",
          "height": 200
        },
        "outputId": "9ec45553-b0d2-44fe-ac91-1657ea61da59"
      },
      "source": [
        "X_train.head()"
      ],
      "execution_count": null,
      "outputs": [
        {
          "output_type": "execute_result",
          "data": {
            "text/html": [
              "<div>\n",
              "<style scoped>\n",
              "    .dataframe tbody tr th:only-of-type {\n",
              "        vertical-align: middle;\n",
              "    }\n",
              "\n",
              "    .dataframe tbody tr th {\n",
              "        vertical-align: top;\n",
              "    }\n",
              "\n",
              "    .dataframe thead th {\n",
              "        text-align: right;\n",
              "    }\n",
              "</style>\n",
              "<table border=\"1\" class=\"dataframe\">\n",
              "  <thead>\n",
              "    <tr style=\"text-align: right;\">\n",
              "      <th></th>\n",
              "      <th>PatientId</th>\n",
              "      <th>AppointmentID</th>\n",
              "      <th>Gender</th>\n",
              "      <th>ScheduledDay</th>\n",
              "      <th>AppointmentDay</th>\n",
              "      <th>Age</th>\n",
              "      <th>Neighbourhood</th>\n",
              "      <th>Scholarship</th>\n",
              "      <th>Hipertension</th>\n",
              "      <th>Diabetes</th>\n",
              "      <th>Alcoholism</th>\n",
              "      <th>Handcap</th>\n",
              "      <th>SMS_received</th>\n",
              "      <th>_waitingTime</th>\n",
              "      <th>_lastShowTime</th>\n",
              "      <th>_lastNoShowTime</th>\n",
              "      <th>_sumRecentNoShows</th>\n",
              "      <th>_sumAppoint_xD</th>\n",
              "      <th>_sumNoShows_xD</th>\n",
              "    </tr>\n",
              "  </thead>\n",
              "  <tbody>\n",
              "    <tr>\n",
              "      <th>0</th>\n",
              "      <td>39217</td>\n",
              "      <td>5751990</td>\n",
              "      <td>F</td>\n",
              "      <td>2016-05-31 10:56:41</td>\n",
              "      <td>2016-06-03</td>\n",
              "      <td>44</td>\n",
              "      <td>PRAIA DO SUÁ</td>\n",
              "      <td>0</td>\n",
              "      <td>0</td>\n",
              "      <td>0</td>\n",
              "      <td>0</td>\n",
              "      <td>0</td>\n",
              "      <td>0</td>\n",
              "      <td>3</td>\n",
              "      <td>15</td>\n",
              "      <td>15</td>\n",
              "      <td>0</td>\n",
              "      <td>0</td>\n",
              "      <td>0</td>\n",
              "    </tr>\n",
              "    <tr>\n",
              "      <th>1</th>\n",
              "      <td>43741</td>\n",
              "      <td>5760144</td>\n",
              "      <td>M</td>\n",
              "      <td>2016-06-01 14:22:58</td>\n",
              "      <td>2016-06-01</td>\n",
              "      <td>39</td>\n",
              "      <td>MARIA ORTIZ</td>\n",
              "      <td>0</td>\n",
              "      <td>0</td>\n",
              "      <td>1</td>\n",
              "      <td>0</td>\n",
              "      <td>0</td>\n",
              "      <td>0</td>\n",
              "      <td>0</td>\n",
              "      <td>15</td>\n",
              "      <td>15</td>\n",
              "      <td>0</td>\n",
              "      <td>0</td>\n",
              "      <td>0</td>\n",
              "    </tr>\n",
              "    <tr>\n",
              "      <th>2</th>\n",
              "      <td>5628261</td>\n",
              "      <td>5680449</td>\n",
              "      <td>M</td>\n",
              "      <td>2016-05-10 11:58:18</td>\n",
              "      <td>2016-05-13</td>\n",
              "      <td>13</td>\n",
              "      <td>PARQUE MOSCOSO</td>\n",
              "      <td>0</td>\n",
              "      <td>0</td>\n",
              "      <td>0</td>\n",
              "      <td>0</td>\n",
              "      <td>0</td>\n",
              "      <td>0</td>\n",
              "      <td>3</td>\n",
              "      <td>15</td>\n",
              "      <td>15</td>\n",
              "      <td>0</td>\n",
              "      <td>0</td>\n",
              "      <td>0</td>\n",
              "    </tr>\n",
              "    <tr>\n",
              "      <th>3</th>\n",
              "      <td>52168938</td>\n",
              "      <td>5704816</td>\n",
              "      <td>F</td>\n",
              "      <td>2016-05-16 16:42:19</td>\n",
              "      <td>2016-05-16</td>\n",
              "      <td>28</td>\n",
              "      <td>JARDIM DA PENHA</td>\n",
              "      <td>0</td>\n",
              "      <td>0</td>\n",
              "      <td>0</td>\n",
              "      <td>0</td>\n",
              "      <td>0</td>\n",
              "      <td>0</td>\n",
              "      <td>0</td>\n",
              "      <td>15</td>\n",
              "      <td>15</td>\n",
              "      <td>0</td>\n",
              "      <td>0</td>\n",
              "      <td>0</td>\n",
              "    </tr>\n",
              "    <tr>\n",
              "      <th>4</th>\n",
              "      <td>52168938</td>\n",
              "      <td>5607220</td>\n",
              "      <td>F</td>\n",
              "      <td>2016-04-20 11:22:15</td>\n",
              "      <td>2016-05-17</td>\n",
              "      <td>28</td>\n",
              "      <td>JARDIM DA PENHA</td>\n",
              "      <td>0</td>\n",
              "      <td>0</td>\n",
              "      <td>0</td>\n",
              "      <td>0</td>\n",
              "      <td>0</td>\n",
              "      <td>0</td>\n",
              "      <td>27</td>\n",
              "      <td>1</td>\n",
              "      <td>15</td>\n",
              "      <td>0</td>\n",
              "      <td>1</td>\n",
              "      <td>0</td>\n",
              "    </tr>\n",
              "  </tbody>\n",
              "</table>\n",
              "</div>"
            ],
            "text/plain": [
              "   PatientId  AppointmentID Gender        ScheduledDay AppointmentDay  Age  \\\n",
              "0      39217        5751990      F 2016-05-31 10:56:41     2016-06-03   44   \n",
              "1      43741        5760144      M 2016-06-01 14:22:58     2016-06-01   39   \n",
              "2    5628261        5680449      M 2016-05-10 11:58:18     2016-05-13   13   \n",
              "3   52168938        5704816      F 2016-05-16 16:42:19     2016-05-16   28   \n",
              "4   52168938        5607220      F 2016-04-20 11:22:15     2016-05-17   28   \n",
              "\n",
              "     Neighbourhood  Scholarship  Hipertension  Diabetes  Alcoholism  Handcap  \\\n",
              "0     PRAIA DO SUÁ            0             0         0           0        0   \n",
              "1      MARIA ORTIZ            0             0         1           0        0   \n",
              "2   PARQUE MOSCOSO            0             0         0           0        0   \n",
              "3  JARDIM DA PENHA            0             0         0           0        0   \n",
              "4  JARDIM DA PENHA            0             0         0           0        0   \n",
              "\n",
              "   SMS_received  _waitingTime  _lastShowTime  _lastNoShowTime  \\\n",
              "0             0             3             15               15   \n",
              "1             0             0             15               15   \n",
              "2             0             3             15               15   \n",
              "3             0             0             15               15   \n",
              "4             0            27              1               15   \n",
              "\n",
              "   _sumRecentNoShows  _sumAppoint_xD  _sumNoShows_xD  \n",
              "0                  0               0               0  \n",
              "1                  0               0               0  \n",
              "2                  0               0               0  \n",
              "3                  0               0               0  \n",
              "4                  0               1               0  "
            ]
          },
          "metadata": {},
          "execution_count": 35
        }
      ]
    },
    {
      "cell_type": "code",
      "metadata": {
        "id": "z_bOhkKoz8CU",
        "colab": {
          "base_uri": "https://localhost:8080/",
          "height": 290
        },
        "outputId": "70df29f5-53a3-4ba6-b002-a3561ba9409b"
      },
      "source": [
        "X_train.describe()"
      ],
      "execution_count": null,
      "outputs": [
        {
          "output_type": "execute_result",
          "data": {
            "text/html": [
              "<div>\n",
              "<style scoped>\n",
              "    .dataframe tbody tr th:only-of-type {\n",
              "        vertical-align: middle;\n",
              "    }\n",
              "\n",
              "    .dataframe tbody tr th {\n",
              "        vertical-align: top;\n",
              "    }\n",
              "\n",
              "    .dataframe thead th {\n",
              "        text-align: right;\n",
              "    }\n",
              "</style>\n",
              "<table border=\"1\" class=\"dataframe\">\n",
              "  <thead>\n",
              "    <tr style=\"text-align: right;\">\n",
              "      <th></th>\n",
              "      <th>PatientId</th>\n",
              "      <th>AppointmentID</th>\n",
              "      <th>Age</th>\n",
              "      <th>Scholarship</th>\n",
              "      <th>Hipertension</th>\n",
              "      <th>Diabetes</th>\n",
              "      <th>Alcoholism</th>\n",
              "      <th>Handcap</th>\n",
              "      <th>SMS_received</th>\n",
              "      <th>_waitingTime</th>\n",
              "      <th>_lastShowTime</th>\n",
              "      <th>_lastNoShowTime</th>\n",
              "      <th>_sumRecentNoShows</th>\n",
              "      <th>_sumAppoint_xD</th>\n",
              "      <th>_sumNoShows_xD</th>\n",
              "    </tr>\n",
              "  </thead>\n",
              "  <tbody>\n",
              "    <tr>\n",
              "      <th>count</th>\n",
              "      <td>48162.0000</td>\n",
              "      <td>48162.0000</td>\n",
              "      <td>48162.0000</td>\n",
              "      <td>48162.0000</td>\n",
              "      <td>48162.0000</td>\n",
              "      <td>48162.0000</td>\n",
              "      <td>48162.0000</td>\n",
              "      <td>48162.0000</td>\n",
              "      <td>48162.0000</td>\n",
              "      <td>48162.0000</td>\n",
              "      <td>48162.0000</td>\n",
              "      <td>48162.0000</td>\n",
              "      <td>48162.0000</td>\n",
              "      <td>48162.0000</td>\n",
              "      <td>48162.0000</td>\n",
              "    </tr>\n",
              "    <tr>\n",
              "      <th>mean</th>\n",
              "      <td>147228602396700.2812</td>\n",
              "      <td>5702759.4963</td>\n",
              "      <td>37.3201</td>\n",
              "      <td>0.0996</td>\n",
              "      <td>0.1937</td>\n",
              "      <td>0.0700</td>\n",
              "      <td>0.0288</td>\n",
              "      <td>0.0226</td>\n",
              "      <td>0.2896</td>\n",
              "      <td>10.6476</td>\n",
              "      <td>11.7675</td>\n",
              "      <td>14.0098</td>\n",
              "      <td>0.1451</td>\n",
              "      <td>0.9303</td>\n",
              "      <td>0.1410</td>\n",
              "    </tr>\n",
              "    <tr>\n",
              "      <th>std</th>\n",
              "      <td>255685840780355.2500</td>\n",
              "      <td>65304.2216</td>\n",
              "      <td>23.0524</td>\n",
              "      <td>0.2995</td>\n",
              "      <td>0.3952</td>\n",
              "      <td>0.2551</td>\n",
              "      <td>0.1672</td>\n",
              "      <td>0.1625</td>\n",
              "      <td>0.4536</td>\n",
              "      <td>15.7673</td>\n",
              "      <td>5.2456</td>\n",
              "      <td>3.1808</td>\n",
              "      <td>0.5367</td>\n",
              "      <td>2.6334</td>\n",
              "      <td>0.4702</td>\n",
              "    </tr>\n",
              "    <tr>\n",
              "      <th>min</th>\n",
              "      <td>39217.0000</td>\n",
              "      <td>5134197.0000</td>\n",
              "      <td>-1.0000</td>\n",
              "      <td>0.0000</td>\n",
              "      <td>0.0000</td>\n",
              "      <td>0.0000</td>\n",
              "      <td>0.0000</td>\n",
              "      <td>0.0000</td>\n",
              "      <td>0.0000</td>\n",
              "      <td>0.0000</td>\n",
              "      <td>0.0000</td>\n",
              "      <td>0.0000</td>\n",
              "      <td>0.0000</td>\n",
              "      <td>0.0000</td>\n",
              "      <td>0.0000</td>\n",
              "    </tr>\n",
              "    <tr>\n",
              "      <th>25%</th>\n",
              "      <td>4197364929749.7500</td>\n",
              "      <td>5679362.2500</td>\n",
              "      <td>18.0000</td>\n",
              "      <td>0.0000</td>\n",
              "      <td>0.0000</td>\n",
              "      <td>0.0000</td>\n",
              "      <td>0.0000</td>\n",
              "      <td>0.0000</td>\n",
              "      <td>0.0000</td>\n",
              "      <td>0.0000</td>\n",
              "      <td>8.0000</td>\n",
              "      <td>15.0000</td>\n",
              "      <td>0.0000</td>\n",
              "      <td>0.0000</td>\n",
              "      <td>0.0000</td>\n",
              "    </tr>\n",
              "    <tr>\n",
              "      <th>50%</th>\n",
              "      <td>32124224805938.5000</td>\n",
              "      <td>5713749.5000</td>\n",
              "      <td>37.0000</td>\n",
              "      <td>0.0000</td>\n",
              "      <td>0.0000</td>\n",
              "      <td>0.0000</td>\n",
              "      <td>0.0000</td>\n",
              "      <td>0.0000</td>\n",
              "      <td>0.0000</td>\n",
              "      <td>4.0000</td>\n",
              "      <td>15.0000</td>\n",
              "      <td>15.0000</td>\n",
              "      <td>0.0000</td>\n",
              "      <td>0.0000</td>\n",
              "      <td>0.0000</td>\n",
              "    </tr>\n",
              "    <tr>\n",
              "      <th>75%</th>\n",
              "      <td>94311952186456.0000</td>\n",
              "      <td>5747559.5000</td>\n",
              "      <td>56.0000</td>\n",
              "      <td>0.0000</td>\n",
              "      <td>0.0000</td>\n",
              "      <td>0.0000</td>\n",
              "      <td>0.0000</td>\n",
              "      <td>0.0000</td>\n",
              "      <td>1.0000</td>\n",
              "      <td>16.0000</td>\n",
              "      <td>15.0000</td>\n",
              "      <td>15.0000</td>\n",
              "      <td>0.0000</td>\n",
              "      <td>1.0000</td>\n",
              "      <td>0.0000</td>\n",
              "    </tr>\n",
              "    <tr>\n",
              "      <th>max</th>\n",
              "      <td>999968578354866.0000</td>\n",
              "      <td>5790484.0000</td>\n",
              "      <td>115.0000</td>\n",
              "      <td>1.0000</td>\n",
              "      <td>1.0000</td>\n",
              "      <td>1.0000</td>\n",
              "      <td>1.0000</td>\n",
              "      <td>4.0000</td>\n",
              "      <td>1.0000</td>\n",
              "      <td>179.0000</td>\n",
              "      <td>15.0000</td>\n",
              "      <td>15.0000</td>\n",
              "      <td>17.0000</td>\n",
              "      <td>33.0000</td>\n",
              "      <td>9.0000</td>\n",
              "    </tr>\n",
              "  </tbody>\n",
              "</table>\n",
              "</div>"
            ],
            "text/plain": [
              "                 PatientId  AppointmentID        Age  Scholarship  \\\n",
              "count           48162.0000     48162.0000 48162.0000   48162.0000   \n",
              "mean  147228602396700.2812   5702759.4963    37.3201       0.0996   \n",
              "std   255685840780355.2500     65304.2216    23.0524       0.2995   \n",
              "min             39217.0000   5134197.0000    -1.0000       0.0000   \n",
              "25%     4197364929749.7500   5679362.2500    18.0000       0.0000   \n",
              "50%    32124224805938.5000   5713749.5000    37.0000       0.0000   \n",
              "75%    94311952186456.0000   5747559.5000    56.0000       0.0000   \n",
              "max   999968578354866.0000   5790484.0000   115.0000       1.0000   \n",
              "\n",
              "       Hipertension   Diabetes  Alcoholism    Handcap  SMS_received  \\\n",
              "count    48162.0000 48162.0000  48162.0000 48162.0000    48162.0000   \n",
              "mean         0.1937     0.0700      0.0288     0.0226        0.2896   \n",
              "std          0.3952     0.2551      0.1672     0.1625        0.4536   \n",
              "min          0.0000     0.0000      0.0000     0.0000        0.0000   \n",
              "25%          0.0000     0.0000      0.0000     0.0000        0.0000   \n",
              "50%          0.0000     0.0000      0.0000     0.0000        0.0000   \n",
              "75%          0.0000     0.0000      0.0000     0.0000        1.0000   \n",
              "max          1.0000     1.0000      1.0000     4.0000        1.0000   \n",
              "\n",
              "       _waitingTime  _lastShowTime  _lastNoShowTime  _sumRecentNoShows  \\\n",
              "count    48162.0000     48162.0000       48162.0000         48162.0000   \n",
              "mean        10.6476        11.7675          14.0098             0.1451   \n",
              "std         15.7673         5.2456           3.1808             0.5367   \n",
              "min          0.0000         0.0000           0.0000             0.0000   \n",
              "25%          0.0000         8.0000          15.0000             0.0000   \n",
              "50%          4.0000        15.0000          15.0000             0.0000   \n",
              "75%         16.0000        15.0000          15.0000             0.0000   \n",
              "max        179.0000        15.0000          15.0000            17.0000   \n",
              "\n",
              "       _sumAppoint_xD  _sumNoShows_xD  \n",
              "count      48162.0000      48162.0000  \n",
              "mean           0.9303          0.1410  \n",
              "std            2.6334          0.4702  \n",
              "min            0.0000          0.0000  \n",
              "25%            0.0000          0.0000  \n",
              "50%            0.0000          0.0000  \n",
              "75%            1.0000          0.0000  \n",
              "max           33.0000          9.0000  "
            ]
          },
          "metadata": {},
          "execution_count": 36
        }
      ]
    },
    {
      "cell_type": "code",
      "metadata": {
        "id": "bRdBAkPDz8CV",
        "colab": {
          "base_uri": "https://localhost:8080/"
        },
        "outputId": "d555a367-9140-4cb7-e754-ae8217769a92"
      },
      "source": [
        "# Columns with NaN\n",
        "with pd.option_context(\"display.max_rows\", X_train.shape[1]):\n",
        "    print(X_train.isna().any()[X_train.isna().any()])\n",
        "    \n",
        "# No NaNs in data"
      ],
      "execution_count": null,
      "outputs": [
        {
          "output_type": "stream",
          "name": "stdout",
          "text": [
            "Series([], dtype: bool)\n"
          ]
        }
      ]
    },
    {
      "cell_type": "code",
      "metadata": {
        "scrolled": true,
        "id": "7XrS0p6Kz8CV",
        "colab": {
          "base_uri": "https://localhost:8080/"
        },
        "outputId": "d0c4fdfa-2ede-4108-e550-fc960bfde5af"
      },
      "source": [
        "# Counted values in columns\n",
        "for col in X_train.columns:\n",
        "    if X_train[col].dtype in [object, str]:\n",
        "      print(\"Column:\", col)\n",
        "      with pd.option_context(\"display.max_rows\", 20):\n",
        "          print(X_train[col].value_counts(dropna=False))\n",
        "      print(\"-\" * 30)"
      ],
      "execution_count": null,
      "outputs": [
        {
          "output_type": "stream",
          "name": "stdout",
          "text": [
            "Column: Gender\n",
            "F    31457\n",
            "M    16705\n",
            "Name: Gender, dtype: int64\n",
            "------------------------------\n",
            "Column: Neighbourhood\n",
            "JARDIM CAMBURI                 3411\n",
            "MARIA ORTIZ                    2491\n",
            "RESISTÊNCIA                    1972\n",
            "JARDIM DA PENHA                1644\n",
            "SANTA MARTHA                   1479\n",
            "                               ... \n",
            "PONTAL DE CAMBURI                30\n",
            "ILHA DO BOI                      17\n",
            "ILHA DO FRADE                     2\n",
            "ILHAS OCEÂNICAS DE TRINDADE       2\n",
            "AEROPORTO                         2\n",
            "Name: Neighbourhood, Length: 80, dtype: int64\n",
            "------------------------------\n"
          ]
        }
      ]
    },
    {
      "cell_type": "code",
      "metadata": {
        "id": "aAotW4V8z8CW",
        "colab": {
          "base_uri": "https://localhost:8080/",
          "height": 116
        },
        "outputId": "6bcab74f-dab0-47a3-9827-05f2a6f26d7c"
      },
      "source": [
        "plt.figure(figsize=(10,1))\n",
        "ax = sns.boxplot(x=X_train[\"Age\"])\n",
        "plt.show()"
      ],
      "execution_count": null,
      "outputs": [
        {
          "output_type": "display_data",
          "data": {
            "image/png": "[encoded data removed]",
            "text/plain": [
              "<Figure size 720x72 with 1 Axes>"
            ]
          },
          "metadata": {
            "needs_background": "light"
          }
        }
      ]
    },
    {
      "cell_type": "markdown",
      "metadata": {
        "id": "fNzeju3wz8Cl"
      },
      "source": [
        "#### No-shows over time"
      ]
    },
    {
      "cell_type": "code",
      "metadata": {
        "id": "BDhPkPqMz8Cm",
        "colab": {
          "base_uri": "https://localhost:8080/",
          "height": 305
        },
        "outputId": "34a6fe85-3e45-411d-dd0f-91e4227becc2"
      },
      "source": [
        "# Number of no-shows per day\n",
        "X_y_train = X_train.join(y_train)\n",
        "no_shows_in_time = X_y_train.loc[X_y_train[\"No-show\"] == 1].groupby([\"AppointmentDay\"])[\"AppointmentID\"].count()\n",
        "appointment_in_time = X_y_train.groupby([\"AppointmentDay\"])[\"AppointmentID\"].count()\n",
        "# Ratio of no-shows to all appointments per day\n",
        "no_shows_in_time = pd.DataFrame(no_shows_in_time/appointment_in_time).reset_index()\n",
        "no_shows_in_time.rename(columns={\"AppointmentID\":\"no_show_ratio\"}, inplace=True)\n",
        "\n",
        "no_shows_in_time.plot(x=\"AppointmentDay\", ylim=(0,0.3))"
      ],
      "execution_count": null,
      "outputs": [
        {
          "output_type": "execute_result",
          "data": {
            "text/plain": [
              "<matplotlib.axes._subplots.AxesSubplot at 0x7f1ea18f0f90>"
            ]
          },
          "metadata": {},
          "execution_count": 40
        },
        {
          "output_type": "display_data",
          "data": {
            "image/png": "[encoded data removed]",
            "text/plain": [
              "<Figure size 432x288 with 1 Axes>"
            ]
          },
          "metadata": {
            "needs_background": "light"
          }
        }
      ]
    },
    {
      "cell_type": "markdown",
      "metadata": {
        "id": "uGWYD4Fmz8CX"
      },
      "source": [
        "## Data transformation <a class=\"anchor\" id=\"data_transformation\"></a>"
      ]
    },
    {
      "cell_type": "code",
      "metadata": {
        "id": "5b3ovZYAz8CX"
      },
      "source": [
        "class MedicalAppointmentsTransformer(BaseEstimator, TransformerMixin):\n",
        "    \"\"\"\n",
        "    Transformation of Medical Appointments data\n",
        "    columns - which columns to use\n",
        "    \"\"\"\n",
        "    \n",
        "    def __init__(self, neighbourhood_min_count=200, max_recent_no_shows=3, columns=None): \n",
        "        self.neighbourhood_min_count = neighbourhood_min_count\n",
        "        self.max_recent_no_shows = max_recent_no_shows  \n",
        "        self.columns = columns      \n",
        "        pass\n",
        "            \n",
        "    \n",
        "    def fit(self, X, y=None):   \n",
        "        X_y = X.join(y)\n",
        "        \n",
        "        # Neighbourhoods with numerous visits\n",
        "        neighbourhoods_counts = X_y[\"Neighbourhood\"].value_counts()\n",
        "        self.neighbourhoods_ = neighbourhoods_counts[neighbourhoods_counts > self.neighbourhood_min_count]\n",
        "        # Combine small clinics into one (the model will not learn to predict for small classes)\n",
        "        X_y[\"_Neighbourhood\"] = X_y[\"Neighbourhood\"].apply(lambda x: x if x in self.neighbourhoods_ else \"OTHER\")\n",
        "        no_shows = X_y.loc[X_y[\"No-show\"] == 1].groupby([\"_Neighbourhood\"])[\"AppointmentID\"].count()\n",
        "        # Ratio of no-shows to all appointments for each neighbourhood\n",
        "        self.neighbourhood_ratio_ = pd.DataFrame(no_shows/X_y.groupby([\"_Neighbourhood\"])[\"AppointmentID\"].count()).\\\n",
        "                                    reset_index().rename(columns={\"AppointmentID\":\"_NeighbourhoodRatio\"})  \n",
        "        \n",
        "        # Number of no-shows per day of week    \n",
        "        X_y[\"_DayOfWeek\"] = X_y[\"AppointmentDay\"].dt.day_name()\n",
        "        no_shows = X_y.loc[X_y[\"No-show\"] == 1].groupby([\"_DayOfWeek\"])[\"AppointmentID\"].count()\n",
        "        # Ratio of no-shows to all appointments on each day of week\n",
        "        self.day_of_week_ratio_ = pd.DataFrame(no_shows/X_y.groupby([\"_DayOfWeek\"])[\"AppointmentID\"].count()).\\\n",
        "                                  reset_index().rename(columns={\"AppointmentID\":\"_DayOfWeekRatio\"})      \n",
        "        \n",
        "        # Mean of age\n",
        "        self.age_ = int(X_y[\"Age\"].mean())\n",
        "\n",
        "        # Moda of gender\n",
        "        self.gender_ = X_y[\"Gender\"].mode()[0]\n",
        "\n",
        "        # Const for handcap\n",
        "        self.handcap_ = 0\n",
        "        \n",
        "        return self\n",
        "\n",
        "    \n",
        "    def transform(self, X, y=None):\n",
        "        X_copy = X.copy()   \n",
        "        \n",
        "        # Combine small clinics into one (the model will not learn to predict for small classes)\n",
        "        X_copy[\"_Neighbourhood\"] = X_copy[\"Neighbourhood\"].apply(lambda x: x if x in self.neighbourhoods_ else \"OTHER\")\n",
        "        # Ratio of no-shows to all appointments for each clinic (the column _NeighbourhoodRatio will be added)    \n",
        "        X_copy = X_copy.merge(self.neighbourhood_ratio_, on=\"_Neighbourhood\", how=\"left\").drop(columns=\"_Neighbourhood\")        \n",
        "        \n",
        "        # Ratio of no-shows to all appointments on each day of week (the column _DayOfWeekRatio will be added)    \n",
        "        X_copy[\"_DayOfWeek\"] = X_copy[\"AppointmentDay\"].dt.day_name()\n",
        "        X_copy = X_copy.merge(self.day_of_week_ratio_, on=\"_DayOfWeek\", how=\"left\").drop(columns=\"_DayOfWeek\")\n",
        "\n",
        "        # No-shows ratio in the last 7 days\n",
        "        X_copy.loc[X_copy[\"_sumAppoint_xD\"] > 0, \"_NoShowsRatio_xD\"] = X_copy[\"_sumNoShows_xD\"]/X_copy[\"_sumAppoint_xD\"]\n",
        "        X_copy[\"_NoShowsRatio_xD\"].fillna(0, inplace=True)\n",
        "        \n",
        "        # _sumRecentNoShow is  strongly correlated with _NoShowsRatio_xD and we transform it to _RecentNoShows\n",
        "        # (additionally, this variable is burdened with an error because is not limited by period days_to_count)\n",
        "        X_copy[\"_RecentNoShows\"] = X_copy[\"_sumRecentNoShows\"]\n",
        "        X_copy.loc[X_copy[\"_sumRecentNoShows\"] > self.max_recent_no_shows, \"_RecentNoShows\"] = self.max_recent_no_shows\n",
        "\n",
        "        # Correct the age by taking the median\n",
        "        X_copy[\"_Age\"] = X_copy[\"Age\"]\n",
        "        X_copy.loc[(X_copy[\"Age\"] < 0) | (X_copy[\"Age\"] > 110), \"_Age\"] = self.age_\n",
        "        X_copy[\"_Age\"].fillna(self.age_, inplace=True)\n",
        "               \n",
        "        # Change Gender F/M/others? to 1/0\n",
        "        X_copy[\"_Gender\"] = X_copy[\"Gender\"]\n",
        "        X_copy.loc[X_copy[\"_Gender\"] == \"M\", \"_Gender\"] = \"0\"\n",
        "        X_copy.loc[X_copy[\"_Gender\"] != \"0\", \"_Gender\"] = \"1\"\n",
        "        X_copy[\"_Gender\"] = X_copy[\"_Gender\"].astype(\"int64\")\n",
        "        X_copy[\"_Gender\"].fillna(self.gender_, inplace=True)\n",
        "        \n",
        "        # Change number of disabilies to flag: 0 = without disability, 1 = with disabilies\n",
        "        X_copy[\"_Handcap\"] = X_copy[\"Handcap\"]\n",
        "        X_copy.loc[X_copy[\"_Handcap\"] > 1, \"_Handcap\"] = 1\n",
        "        X_copy[\"_Handcap\"].fillna(self.handcap_, inplace=True)\n",
        "\n",
        "        if self.columns is None:\n",
        "            # By deafult \"_sumNoShows_xD\", \"_lastNoShowTime\", \"_sumRecentNoShows\" will be removed \n",
        "            # as strong correlated with other columns\n",
        "            X_copy.drop(columns= [\"PatientId\", \"AppointmentID\", \"ScheduledDay\", \"AppointmentDay\", \"Neighbourhood\", \n",
        "                                  \"Handcap\", \"Age\", \"Gender\", \"_sumNoShows_xD\", \"_lastNoShowTime\", \"_sumRecentNoShows\"], \n",
        "                        inplace=True)\n",
        "            self.columns = X_copy.columns\n",
        "        else:\n",
        "            X_copy = X_copy[self.columns]\n",
        "          \n",
        "        return X_copy"
      ],
      "execution_count": null,
      "outputs": []
    },
    {
      "cell_type": "code",
      "metadata": {
        "id": "DXJnayFjz8Ca",
        "colab": {
          "base_uri": "https://localhost:8080/"
        },
        "outputId": "7d664be6-75af-4d1b-8114-c7962d75d6a6"
      },
      "source": [
        "# test (doesn't change X_train)\n",
        "transformer = MedicalAppointmentsTransformer(neighbourhood_min_count=200)\n",
        "t = transformer.fit_transform(X_train, y_train)\n",
        "print(*transformer.columns, sep=\", \")"
      ],
      "execution_count": null,
      "outputs": [
        {
          "output_type": "stream",
          "name": "stdout",
          "text": [
            "Scholarship, Hipertension, Diabetes, Alcoholism, SMS_received, _waitingTime, _lastShowTime, _sumAppoint_xD, _NeighbourhoodRatio, _DayOfWeekRatio, _NoShowsRatio_xD, _RecentNoShows, _Age, _Gender, _Handcap\n"
          ]
        }
      ]
    },
    {
      "cell_type": "code",
      "metadata": {
        "colab": {
          "base_uri": "https://localhost:8080/",
          "height": 267
        },
        "id": "ggx_zKrSa-jL",
        "outputId": "5f91d1d4-8403-46d8-f360-7678f5fb2c57"
      },
      "source": [
        "plt.hist(t._NeighbourhoodRatio, bins=20)\n",
        "plt.show()"
      ],
      "execution_count": null,
      "outputs": [
        {
          "output_type": "display_data",
          "data": {
            "image/png": "[encoded data removed]",
            "text/plain": [
              "<Figure size 432x288 with 1 Axes>"
            ]
          },
          "metadata": {
            "needs_background": "light"
          }
        }
      ]
    },
    {
      "cell_type": "code",
      "metadata": {
        "colab": {
          "base_uri": "https://localhost:8080/",
          "height": 266
        },
        "id": "ZRsHct7Dig8t",
        "outputId": "9fa20d24-06d6-4414-e6b3-487080c2df21"
      },
      "source": [
        "plt.bar(x=transformer.day_of_week_ratio_._DayOfWeek, height=transformer.day_of_week_ratio_._DayOfWeekRatio)\n",
        "plt.show()"
      ],
      "execution_count": null,
      "outputs": [
        {
          "output_type": "display_data",
          "data": {
            "image/png": "[encoded data removed]",
            "text/plain": [
              "<Figure size 432x288 with 1 Axes>"
            ]
          },
          "metadata": {
            "needs_background": "light"
          }
        }
      ]
    },
    {
      "cell_type": "code",
      "metadata": {
        "colab": {
          "base_uri": "https://localhost:8080/"
        },
        "id": "V9rHAkGGP7lS",
        "outputId": "6b697548-b4c9-43dd-9f98-7e8e80b0d3cc"
      },
      "source": [
        "t._NoShowsRatio_xD.describe()"
      ],
      "execution_count": null,
      "outputs": [
        {
          "output_type": "execute_result",
          "data": {
            "text/plain": [
              "count   48162.0000\n",
              "mean        0.0752\n",
              "std         0.2407\n",
              "min         0.0000\n",
              "25%         0.0000\n",
              "50%         0.0000\n",
              "75%         0.0000\n",
              "max         1.0000\n",
              "Name: _NoShowsRatio_xD, dtype: float64"
            ]
          },
          "metadata": {},
          "execution_count": 45
        }
      ]
    },
    {
      "cell_type": "code",
      "metadata": {
        "colab": {
          "base_uri": "https://localhost:8080/"
        },
        "id": "mmGlNGKtlx0C",
        "outputId": "669e6872-b9e5-4f3b-db30-3775a0ab4fa6"
      },
      "source": [
        "t._RecentNoShows.value_counts()"
      ],
      "execution_count": null,
      "outputs": [
        {
          "output_type": "execute_result",
          "data": {
            "text/plain": [
              "0    42924\n",
              "1     4226\n",
              "2      696\n",
              "3      316\n",
              "Name: _RecentNoShows, dtype: int64"
            ]
          },
          "metadata": {},
          "execution_count": 46
        }
      ]
    },
    {
      "cell_type": "code",
      "metadata": {
        "id": "NA-K0yCDz8Cd",
        "colab": {
          "base_uri": "https://localhost:8080/",
          "height": 200
        },
        "outputId": "1d1fe54b-acd7-4db2-ef2a-445b143ed340"
      },
      "source": [
        "t.sample(5, random_state=10)"
      ],
      "execution_count": null,
      "outputs": [
        {
          "output_type": "execute_result",
          "data": {
            "text/html": [
              "<div>\n",
              "<style scoped>\n",
              "    .dataframe tbody tr th:only-of-type {\n",
              "        vertical-align: middle;\n",
              "    }\n",
              "\n",
              "    .dataframe tbody tr th {\n",
              "        vertical-align: top;\n",
              "    }\n",
              "\n",
              "    .dataframe thead th {\n",
              "        text-align: right;\n",
              "    }\n",
              "</style>\n",
              "<table border=\"1\" class=\"dataframe\">\n",
              "  <thead>\n",
              "    <tr style=\"text-align: right;\">\n",
              "      <th></th>\n",
              "      <th>Scholarship</th>\n",
              "      <th>Hipertension</th>\n",
              "      <th>Diabetes</th>\n",
              "      <th>Alcoholism</th>\n",
              "      <th>SMS_received</th>\n",
              "      <th>_waitingTime</th>\n",
              "      <th>_lastShowTime</th>\n",
              "      <th>_sumAppoint_xD</th>\n",
              "      <th>_NeighbourhoodRatio</th>\n",
              "      <th>_DayOfWeekRatio</th>\n",
              "      <th>_NoShowsRatio_xD</th>\n",
              "      <th>_RecentNoShows</th>\n",
              "      <th>_Age</th>\n",
              "      <th>_Gender</th>\n",
              "      <th>_Handcap</th>\n",
              "    </tr>\n",
              "  </thead>\n",
              "  <tbody>\n",
              "    <tr>\n",
              "      <th>14079</th>\n",
              "      <td>0</td>\n",
              "      <td>0</td>\n",
              "      <td>0</td>\n",
              "      <td>0</td>\n",
              "      <td>0</td>\n",
              "      <td>4</td>\n",
              "      <td>15</td>\n",
              "      <td>0</td>\n",
              "      <td>0.2000</td>\n",
              "      <td>0.2031</td>\n",
              "      <td>0.0000</td>\n",
              "      <td>0</td>\n",
              "      <td>69</td>\n",
              "      <td>1</td>\n",
              "      <td>0</td>\n",
              "    </tr>\n",
              "    <tr>\n",
              "      <th>35123</th>\n",
              "      <td>0</td>\n",
              "      <td>0</td>\n",
              "      <td>0</td>\n",
              "      <td>0</td>\n",
              "      <td>1</td>\n",
              "      <td>21</td>\n",
              "      <td>15</td>\n",
              "      <td>0</td>\n",
              "      <td>0.1437</td>\n",
              "      <td>0.1934</td>\n",
              "      <td>0.0000</td>\n",
              "      <td>0</td>\n",
              "      <td>48</td>\n",
              "      <td>1</td>\n",
              "      <td>0</td>\n",
              "    </tr>\n",
              "    <tr>\n",
              "      <th>38786</th>\n",
              "      <td>0</td>\n",
              "      <td>0</td>\n",
              "      <td>0</td>\n",
              "      <td>0</td>\n",
              "      <td>0</td>\n",
              "      <td>0</td>\n",
              "      <td>1</td>\n",
              "      <td>1</td>\n",
              "      <td>0.2055</td>\n",
              "      <td>0.1882</td>\n",
              "      <td>0.0000</td>\n",
              "      <td>0</td>\n",
              "      <td>72</td>\n",
              "      <td>1</td>\n",
              "      <td>0</td>\n",
              "    </tr>\n",
              "    <tr>\n",
              "      <th>2810</th>\n",
              "      <td>0</td>\n",
              "      <td>1</td>\n",
              "      <td>0</td>\n",
              "      <td>0</td>\n",
              "      <td>0</td>\n",
              "      <td>0</td>\n",
              "      <td>0</td>\n",
              "      <td>4</td>\n",
              "      <td>0.2279</td>\n",
              "      <td>0.2149</td>\n",
              "      <td>0.2500</td>\n",
              "      <td>0</td>\n",
              "      <td>81</td>\n",
              "      <td>0</td>\n",
              "      <td>0</td>\n",
              "    </tr>\n",
              "    <tr>\n",
              "      <th>41600</th>\n",
              "      <td>1</td>\n",
              "      <td>0</td>\n",
              "      <td>0</td>\n",
              "      <td>0</td>\n",
              "      <td>0</td>\n",
              "      <td>13</td>\n",
              "      <td>15</td>\n",
              "      <td>0</td>\n",
              "      <td>0.1677</td>\n",
              "      <td>0.2031</td>\n",
              "      <td>0.0000</td>\n",
              "      <td>0</td>\n",
              "      <td>58</td>\n",
              "      <td>0</td>\n",
              "      <td>0</td>\n",
              "    </tr>\n",
              "  </tbody>\n",
              "</table>\n",
              "</div>"
            ],
            "text/plain": [
              "       Scholarship  Hipertension  Diabetes  Alcoholism  SMS_received  \\\n",
              "14079            0             0         0           0             0   \n",
              "35123            0             0         0           0             1   \n",
              "38786            0             0         0           0             0   \n",
              "2810             0             1         0           0             0   \n",
              "41600            1             0         0           0             0   \n",
              "\n",
              "       _waitingTime  _lastShowTime  _sumAppoint_xD  _NeighbourhoodRatio  \\\n",
              "14079             4             15               0               0.2000   \n",
              "35123            21             15               0               0.1437   \n",
              "38786             0              1               1               0.2055   \n",
              "2810              0              0               4               0.2279   \n",
              "41600            13             15               0               0.1677   \n",
              "\n",
              "       _DayOfWeekRatio  _NoShowsRatio_xD  _RecentNoShows  _Age  _Gender  \\\n",
              "14079           0.2031            0.0000               0    69        1   \n",
              "35123           0.1934            0.0000               0    48        1   \n",
              "38786           0.1882            0.0000               0    72        1   \n",
              "2810            0.2149            0.2500               0    81        0   \n",
              "41600           0.2031            0.0000               0    58        0   \n",
              "\n",
              "       _Handcap  \n",
              "14079         0  \n",
              "35123         0  \n",
              "38786         0  \n",
              "2810          0  \n",
              "41600         0  "
            ]
          },
          "metadata": {},
          "execution_count": 47
        }
      ]
    },
    {
      "cell_type": "code",
      "metadata": {
        "colab": {
          "base_uri": "https://localhost:8080/"
        },
        "id": "t578LmbFhPJw",
        "outputId": "da605f26-3328-4039-f753-bfe8a15b9d88"
      },
      "source": [
        "t.info()"
      ],
      "execution_count": null,
      "outputs": [
        {
          "output_type": "stream",
          "name": "stdout",
          "text": [
            "<class 'pandas.core.frame.DataFrame'>\n",
            "Int64Index: 48162 entries, 0 to 48161\n",
            "Data columns (total 15 columns):\n",
            " #   Column               Non-Null Count  Dtype  \n",
            "---  ------               --------------  -----  \n",
            " 0   Scholarship          48162 non-null  int64  \n",
            " 1   Hipertension         48162 non-null  int64  \n",
            " 2   Diabetes             48162 non-null  int64  \n",
            " 3   Alcoholism           48162 non-null  int64  \n",
            " 4   SMS_received         48162 non-null  int64  \n",
            " 5   _waitingTime         48162 non-null  int64  \n",
            " 6   _lastShowTime        48162 non-null  int64  \n",
            " 7   _sumAppoint_xD       48162 non-null  int64  \n",
            " 8   _NeighbourhoodRatio  48162 non-null  float64\n",
            " 9   _DayOfWeekRatio      48162 non-null  float64\n",
            " 10  _NoShowsRatio_xD     48162 non-null  float64\n",
            " 11  _RecentNoShows       48162 non-null  int64  \n",
            " 12  _Age                 48162 non-null  int64  \n",
            " 13  _Gender              48162 non-null  int64  \n",
            " 14  _Handcap             48162 non-null  int64  \n",
            "dtypes: float64(3), int64(12)\n",
            "memory usage: 7.1 MB\n"
          ]
        }
      ]
    },
    {
      "cell_type": "code",
      "metadata": {
        "id": "4gvw6Ww7z8Cf",
        "colab": {
          "base_uri": "https://localhost:8080/",
          "height": 1000
        },
        "outputId": "d6f01554-6b79-4dae-b985-d34c95ad7d30"
      },
      "source": [
        "fig, axs = plt.subplots(5,3,figsize=(15,18))\n",
        "i, j = 0, 0\n",
        "for col in [c for c in t.columns]:\n",
        "    axs[i,j].hist(t[col], bins=20) \n",
        "    axs[i,j].set_title(col) \n",
        "    i = (i if j < 2 else i+1)\n",
        "    j = (j+1 if j < 2 else 0)   \n",
        "plt.show()"
      ],
      "execution_count": null,
      "outputs": [
        {
          "output_type": "display_data",
          "data": {
            "image/png": "[encoded data removed]",
            "text/plain": [
              "<Figure size 1080x1296 with 15 Axes>"
            ]
          },
          "metadata": {
            "needs_background": "light"
          }
        }
      ]
    },
    {
      "cell_type": "code",
      "metadata": {
        "id": "-zQzGLp0z8Cg",
        "colab": {
          "base_uri": "https://localhost:8080/"
        },
        "outputId": "eafd54c3-546b-4cc7-ad0c-ef157e5e6047"
      },
      "source": [
        "print(f\"Shape: {t.shape}\")\n",
        "sumAppoint_xD = t.loc[t['_sumAppoint_xD'] > 0, '_sumAppoint_xD'].count()\n",
        "RecentNoShows = t.loc[t['_RecentNoShows'] > 0, '_RecentNoShows'].count()\n",
        "print(f\"Non-zero appointments in last {days_to_count} days: {sumAppoint_xD}, {100*sumAppoint_xD/t.shape[0]:.2f}%\")\n",
        "print(f\"No-shows for recent appointments: {RecentNoShows}, {100*RecentNoShows/t.shape[0]:.2f}%\")"
      ],
      "execution_count": null,
      "outputs": [
        {
          "output_type": "stream",
          "name": "stdout",
          "text": [
            "Shape: (48162, 15)\n",
            "Non-zero appointments in last 14 days: 18361, 38.12%\n",
            "No-shows for recent appointments: 5238, 10.88%\n"
          ]
        }
      ]
    },
    {
      "cell_type": "markdown",
      "metadata": {
        "id": "f-4PmQ9Zz8Ch"
      },
      "source": [
        "### Visualization of correlations <a class=\"anchor\" id=\"visualization\"></a>"
      ]
    },
    {
      "cell_type": "code",
      "metadata": {
        "id": "9KvR2XbJz8Ci"
      },
      "source": [
        "t_y = t.join(y_train)"
      ],
      "execution_count": null,
      "outputs": []
    },
    {
      "cell_type": "code",
      "metadata": {
        "id": "nFFnZllBz8Ci",
        "colab": {
          "base_uri": "https://localhost:8080/",
          "height": 887
        },
        "outputId": "2eefbf4c-8694-4d09-e31c-9038cbcf8767"
      },
      "source": [
        "# Correlation matrix\n",
        "corr_matr = t_y.corr()\n",
        "f, ax = plt.subplots(figsize=(16,14))\n",
        "sns.heatmap(corr_matr, annot=True, fmt='.4f', vmax=.8, square=True);"
      ],
      "execution_count": null,
      "outputs": [
        {
          "output_type": "display_data",
          "data": {
            "image/png": "[encoded data removed]",
            "text/plain": [
              "<Figure size 1152x1008 with 2 Axes>"
            ]
          },
          "metadata": {
            "needs_background": "light"
          }
        }
      ]
    },
    {
      "cell_type": "markdown",
      "metadata": {
        "id": "MGRzBcZJz8Co"
      },
      "source": [
        "### Pipeline building <a class=\"anchor\" id=\"pipeline\"></a>"
      ]
    },
    {
      "cell_type": "code",
      "metadata": {
        "id": "f7agLXxrzo10"
      },
      "source": [
        "# Transformer with StandardScaler (standardizes all features to normal distribution with mean = 0 and std = 1)\n",
        "custom_transformer_ss = Pipeline([\n",
        "    (\"custom\", MedicalAppointmentsTransformer(neighbourhood_min_count = 200)),\n",
        "    (\"imputer\", SimpleImputer(strategy=\"mean\")),\n",
        "    (\"scaler\", StandardScaler())\n",
        "])"
      ],
      "execution_count": null,
      "outputs": []
    },
    {
      "cell_type": "code",
      "metadata": {
        "id": "uSFc6mWUz8Cs"
      },
      "source": [
        "# Transformer with MinMaxScaler (scales all features to range [0,1])\n",
        "custom_transformer_mm = Pipeline([\n",
        "    (\"custom\", MedicalAppointmentsTransformer(neighbourhood_min_count = 200)),\n",
        "    (\"imputer\", SimpleImputer(strategy=\"mean\")),\n",
        "    (\"scaler\", MinMaxScaler())\n",
        "])"
      ],
      "execution_count": null,
      "outputs": []
    },
    {
      "cell_type": "code",
      "metadata": {
        "id": "aANXUrTPz8Ct",
        "colab": {
          "base_uri": "https://localhost:8080/",
          "height": 216
        },
        "outputId": "53323057-c778-4a55-a605-1e7361130b04"
      },
      "source": [
        "# test (doesn't change X_train)\n",
        "X_train_transformed = custom_transformer_mm.fit_transform(X_train, y_train)\n",
        "X_train_transformed = pd.DataFrame(X_train_transformed, columns=custom_transformer_mm.named_steps[\"custom\"].columns)\n",
        "print(X_train_transformed.shape)\n",
        "X_train_transformed.head()"
      ],
      "execution_count": null,
      "outputs": [
        {
          "output_type": "stream",
          "name": "stdout",
          "text": [
            "(48162, 15)\n"
          ]
        },
        {
          "output_type": "execute_result",
          "data": {
            "text/html": [
              "<div>\n",
              "<style scoped>\n",
              "    .dataframe tbody tr th:only-of-type {\n",
              "        vertical-align: middle;\n",
              "    }\n",
              "\n",
              "    .dataframe tbody tr th {\n",
              "        vertical-align: top;\n",
              "    }\n",
              "\n",
              "    .dataframe thead th {\n",
              "        text-align: right;\n",
              "    }\n",
              "</style>\n",
              "<table border=\"1\" class=\"dataframe\">\n",
              "  <thead>\n",
              "    <tr style=\"text-align: right;\">\n",
              "      <th></th>\n",
              "      <th>Scholarship</th>\n",
              "      <th>Hipertension</th>\n",
              "      <th>Diabetes</th>\n",
              "      <th>Alcoholism</th>\n",
              "      <th>SMS_received</th>\n",
              "      <th>_waitingTime</th>\n",
              "      <th>_lastShowTime</th>\n",
              "      <th>_sumAppoint_xD</th>\n",
              "      <th>_NeighbourhoodRatio</th>\n",
              "      <th>_DayOfWeekRatio</th>\n",
              "      <th>_NoShowsRatio_xD</th>\n",
              "      <th>_RecentNoShows</th>\n",
              "      <th>_Age</th>\n",
              "      <th>_Gender</th>\n",
              "      <th>_Handcap</th>\n",
              "    </tr>\n",
              "  </thead>\n",
              "  <tbody>\n",
              "    <tr>\n",
              "      <th>0</th>\n",
              "      <td>0.0000</td>\n",
              "      <td>0.0000</td>\n",
              "      <td>0.0000</td>\n",
              "      <td>0.0000</td>\n",
              "      <td>0.0000</td>\n",
              "      <td>0.0168</td>\n",
              "      <td>1.0000</td>\n",
              "      <td>0.0000</td>\n",
              "      <td>0.7935</td>\n",
              "      <td>0.5026</td>\n",
              "      <td>0.0000</td>\n",
              "      <td>0.0000</td>\n",
              "      <td>0.4400</td>\n",
              "      <td>1.0000</td>\n",
              "      <td>0.0000</td>\n",
              "    </tr>\n",
              "    <tr>\n",
              "      <th>1</th>\n",
              "      <td>0.0000</td>\n",
              "      <td>0.0000</td>\n",
              "      <td>1.0000</td>\n",
              "      <td>0.0000</td>\n",
              "      <td>0.0000</td>\n",
              "      <td>0.0000</td>\n",
              "      <td>1.0000</td>\n",
              "      <td>0.0000</td>\n",
              "      <td>0.5261</td>\n",
              "      <td>0.0000</td>\n",
              "      <td>0.0000</td>\n",
              "      <td>0.0000</td>\n",
              "      <td>0.3900</td>\n",
              "      <td>0.0000</td>\n",
              "      <td>0.0000</td>\n",
              "    </tr>\n",
              "    <tr>\n",
              "      <th>2</th>\n",
              "      <td>0.0000</td>\n",
              "      <td>0.0000</td>\n",
              "      <td>0.0000</td>\n",
              "      <td>0.0000</td>\n",
              "      <td>0.0000</td>\n",
              "      <td>0.0168</td>\n",
              "      <td>1.0000</td>\n",
              "      <td>0.0000</td>\n",
              "      <td>0.4846</td>\n",
              "      <td>0.5026</td>\n",
              "      <td>0.0000</td>\n",
              "      <td>0.0000</td>\n",
              "      <td>0.1300</td>\n",
              "      <td>0.0000</td>\n",
              "      <td>0.0000</td>\n",
              "    </tr>\n",
              "    <tr>\n",
              "      <th>3</th>\n",
              "      <td>0.0000</td>\n",
              "      <td>0.0000</td>\n",
              "      <td>0.0000</td>\n",
              "      <td>0.0000</td>\n",
              "      <td>0.0000</td>\n",
              "      <td>0.0000</td>\n",
              "      <td>1.0000</td>\n",
              "      <td>0.0000</td>\n",
              "      <td>0.1850</td>\n",
              "      <td>0.2803</td>\n",
              "      <td>0.0000</td>\n",
              "      <td>0.0000</td>\n",
              "      <td>0.2800</td>\n",
              "      <td>1.0000</td>\n",
              "      <td>0.0000</td>\n",
              "    </tr>\n",
              "    <tr>\n",
              "      <th>4</th>\n",
              "      <td>0.0000</td>\n",
              "      <td>0.0000</td>\n",
              "      <td>0.0000</td>\n",
              "      <td>0.0000</td>\n",
              "      <td>0.0000</td>\n",
              "      <td>0.1508</td>\n",
              "      <td>0.0667</td>\n",
              "      <td>0.0303</td>\n",
              "      <td>0.1850</td>\n",
              "      <td>0.0990</td>\n",
              "      <td>0.0000</td>\n",
              "      <td>0.0000</td>\n",
              "      <td>0.2800</td>\n",
              "      <td>1.0000</td>\n",
              "      <td>0.0000</td>\n",
              "    </tr>\n",
              "  </tbody>\n",
              "</table>\n",
              "</div>"
            ],
            "text/plain": [
              "   Scholarship  Hipertension  Diabetes  Alcoholism  SMS_received  \\\n",
              "0       0.0000        0.0000    0.0000      0.0000        0.0000   \n",
              "1       0.0000        0.0000    1.0000      0.0000        0.0000   \n",
              "2       0.0000        0.0000    0.0000      0.0000        0.0000   \n",
              "3       0.0000        0.0000    0.0000      0.0000        0.0000   \n",
              "4       0.0000        0.0000    0.0000      0.0000        0.0000   \n",
              "\n",
              "   _waitingTime  _lastShowTime  _sumAppoint_xD  _NeighbourhoodRatio  \\\n",
              "0        0.0168         1.0000          0.0000               0.7935   \n",
              "1        0.0000         1.0000          0.0000               0.5261   \n",
              "2        0.0168         1.0000          0.0000               0.4846   \n",
              "3        0.0000         1.0000          0.0000               0.1850   \n",
              "4        0.1508         0.0667          0.0303               0.1850   \n",
              "\n",
              "   _DayOfWeekRatio  _NoShowsRatio_xD  _RecentNoShows   _Age  _Gender  _Handcap  \n",
              "0           0.5026            0.0000          0.0000 0.4400   1.0000    0.0000  \n",
              "1           0.0000            0.0000          0.0000 0.3900   0.0000    0.0000  \n",
              "2           0.5026            0.0000          0.0000 0.1300   0.0000    0.0000  \n",
              "3           0.2803            0.0000          0.0000 0.2800   1.0000    0.0000  \n",
              "4           0.0990            0.0000          0.0000 0.2800   1.0000    0.0000  "
            ]
          },
          "metadata": {},
          "execution_count": 55
        }
      ]
    },
    {
      "cell_type": "code",
      "metadata": {
        "colab": {
          "base_uri": "https://localhost:8080/",
          "height": 290
        },
        "id": "IRAejnoms0cr",
        "outputId": "d016c868-597d-43f8-d070-eba58b529f0c"
      },
      "source": [
        "X_train_transformed.describe()"
      ],
      "execution_count": null,
      "outputs": [
        {
          "output_type": "execute_result",
          "data": {
            "text/html": [
              "<div>\n",
              "<style scoped>\n",
              "    .dataframe tbody tr th:only-of-type {\n",
              "        vertical-align: middle;\n",
              "    }\n",
              "\n",
              "    .dataframe tbody tr th {\n",
              "        vertical-align: top;\n",
              "    }\n",
              "\n",
              "    .dataframe thead th {\n",
              "        text-align: right;\n",
              "    }\n",
              "</style>\n",
              "<table border=\"1\" class=\"dataframe\">\n",
              "  <thead>\n",
              "    <tr style=\"text-align: right;\">\n",
              "      <th></th>\n",
              "      <th>Scholarship</th>\n",
              "      <th>Hipertension</th>\n",
              "      <th>Diabetes</th>\n",
              "      <th>Alcoholism</th>\n",
              "      <th>SMS_received</th>\n",
              "      <th>_waitingTime</th>\n",
              "      <th>_lastShowTime</th>\n",
              "      <th>_sumAppoint_xD</th>\n",
              "      <th>_NeighbourhoodRatio</th>\n",
              "      <th>_DayOfWeekRatio</th>\n",
              "      <th>_NoShowsRatio_xD</th>\n",
              "      <th>_RecentNoShows</th>\n",
              "      <th>_Age</th>\n",
              "      <th>_Gender</th>\n",
              "      <th>_Handcap</th>\n",
              "    </tr>\n",
              "  </thead>\n",
              "  <tbody>\n",
              "    <tr>\n",
              "      <th>count</th>\n",
              "      <td>48162.0000</td>\n",
              "      <td>48162.0000</td>\n",
              "      <td>48162.0000</td>\n",
              "      <td>48162.0000</td>\n",
              "      <td>48162.0000</td>\n",
              "      <td>48162.0000</td>\n",
              "      <td>48162.0000</td>\n",
              "      <td>48162.0000</td>\n",
              "      <td>48162.0000</td>\n",
              "      <td>48162.0000</td>\n",
              "      <td>48162.0000</td>\n",
              "      <td>48162.0000</td>\n",
              "      <td>48162.0000</td>\n",
              "      <td>48162.0000</td>\n",
              "      <td>48162.0000</td>\n",
              "    </tr>\n",
              "    <tr>\n",
              "      <th>mean</th>\n",
              "      <td>0.0996</td>\n",
              "      <td>0.1937</td>\n",
              "      <td>0.0700</td>\n",
              "      <td>0.0288</td>\n",
              "      <td>0.2896</td>\n",
              "      <td>0.0595</td>\n",
              "      <td>0.7845</td>\n",
              "      <td>0.0282</td>\n",
              "      <td>0.4706</td>\n",
              "      <td>0.1872</td>\n",
              "      <td>0.0752</td>\n",
              "      <td>0.0454</td>\n",
              "      <td>0.3731</td>\n",
              "      <td>0.6531</td>\n",
              "      <td>0.0206</td>\n",
              "    </tr>\n",
              "    <tr>\n",
              "      <th>std</th>\n",
              "      <td>0.2995</td>\n",
              "      <td>0.3952</td>\n",
              "      <td>0.2551</td>\n",
              "      <td>0.1672</td>\n",
              "      <td>0.4536</td>\n",
              "      <td>0.0881</td>\n",
              "      <td>0.3497</td>\n",
              "      <td>0.0798</td>\n",
              "      <td>0.1858</td>\n",
              "      <td>0.1736</td>\n",
              "      <td>0.2407</td>\n",
              "      <td>0.1438</td>\n",
              "      <td>0.2304</td>\n",
              "      <td>0.4760</td>\n",
              "      <td>0.1421</td>\n",
              "    </tr>\n",
              "    <tr>\n",
              "      <th>min</th>\n",
              "      <td>0.0000</td>\n",
              "      <td>0.0000</td>\n",
              "      <td>0.0000</td>\n",
              "      <td>0.0000</td>\n",
              "      <td>0.0000</td>\n",
              "      <td>0.0000</td>\n",
              "      <td>0.0000</td>\n",
              "      <td>0.0000</td>\n",
              "      <td>0.0000</td>\n",
              "      <td>0.0000</td>\n",
              "      <td>0.0000</td>\n",
              "      <td>0.0000</td>\n",
              "      <td>0.0000</td>\n",
              "      <td>0.0000</td>\n",
              "      <td>0.0000</td>\n",
              "    </tr>\n",
              "    <tr>\n",
              "      <th>25%</th>\n",
              "      <td>0.0000</td>\n",
              "      <td>0.0000</td>\n",
              "      <td>0.0000</td>\n",
              "      <td>0.0000</td>\n",
              "      <td>0.0000</td>\n",
              "      <td>0.0000</td>\n",
              "      <td>0.5333</td>\n",
              "      <td>0.0000</td>\n",
              "      <td>0.3540</td>\n",
              "      <td>0.0000</td>\n",
              "      <td>0.0000</td>\n",
              "      <td>0.0000</td>\n",
              "      <td>0.1800</td>\n",
              "      <td>0.0000</td>\n",
              "      <td>0.0000</td>\n",
              "    </tr>\n",
              "    <tr>\n",
              "      <th>50%</th>\n",
              "      <td>0.0000</td>\n",
              "      <td>0.0000</td>\n",
              "      <td>0.0000</td>\n",
              "      <td>0.0000</td>\n",
              "      <td>0.0000</td>\n",
              "      <td>0.0223</td>\n",
              "      <td>1.0000</td>\n",
              "      <td>0.0000</td>\n",
              "      <td>0.4769</td>\n",
              "      <td>0.1523</td>\n",
              "      <td>0.0000</td>\n",
              "      <td>0.0000</td>\n",
              "      <td>0.3700</td>\n",
              "      <td>1.0000</td>\n",
              "      <td>0.0000</td>\n",
              "    </tr>\n",
              "    <tr>\n",
              "      <th>75%</th>\n",
              "      <td>0.0000</td>\n",
              "      <td>0.0000</td>\n",
              "      <td>0.0000</td>\n",
              "      <td>0.0000</td>\n",
              "      <td>1.0000</td>\n",
              "      <td>0.0894</td>\n",
              "      <td>1.0000</td>\n",
              "      <td>0.0303</td>\n",
              "      <td>0.5754</td>\n",
              "      <td>0.2803</td>\n",
              "      <td>0.0000</td>\n",
              "      <td>0.0000</td>\n",
              "      <td>0.5600</td>\n",
              "      <td>1.0000</td>\n",
              "      <td>0.0000</td>\n",
              "    </tr>\n",
              "    <tr>\n",
              "      <th>max</th>\n",
              "      <td>1.0000</td>\n",
              "      <td>1.0000</td>\n",
              "      <td>1.0000</td>\n",
              "      <td>1.0000</td>\n",
              "      <td>1.0000</td>\n",
              "      <td>1.0000</td>\n",
              "      <td>1.0000</td>\n",
              "      <td>1.0000</td>\n",
              "      <td>1.0000</td>\n",
              "      <td>1.0000</td>\n",
              "      <td>1.0000</td>\n",
              "      <td>1.0000</td>\n",
              "      <td>1.0000</td>\n",
              "      <td>1.0000</td>\n",
              "      <td>1.0000</td>\n",
              "    </tr>\n",
              "  </tbody>\n",
              "</table>\n",
              "</div>"
            ],
            "text/plain": [
              "       Scholarship  Hipertension   Diabetes  Alcoholism  SMS_received  \\\n",
              "count   48162.0000    48162.0000 48162.0000  48162.0000    48162.0000   \n",
              "mean        0.0996        0.1937     0.0700      0.0288        0.2896   \n",
              "std         0.2995        0.3952     0.2551      0.1672        0.4536   \n",
              "min         0.0000        0.0000     0.0000      0.0000        0.0000   \n",
              "25%         0.0000        0.0000     0.0000      0.0000        0.0000   \n",
              "50%         0.0000        0.0000     0.0000      0.0000        0.0000   \n",
              "75%         0.0000        0.0000     0.0000      0.0000        1.0000   \n",
              "max         1.0000        1.0000     1.0000      1.0000        1.0000   \n",
              "\n",
              "       _waitingTime  _lastShowTime  _sumAppoint_xD  _NeighbourhoodRatio  \\\n",
              "count    48162.0000     48162.0000      48162.0000           48162.0000   \n",
              "mean         0.0595         0.7845          0.0282               0.4706   \n",
              "std          0.0881         0.3497          0.0798               0.1858   \n",
              "min          0.0000         0.0000          0.0000               0.0000   \n",
              "25%          0.0000         0.5333          0.0000               0.3540   \n",
              "50%          0.0223         1.0000          0.0000               0.4769   \n",
              "75%          0.0894         1.0000          0.0303               0.5754   \n",
              "max          1.0000         1.0000          1.0000               1.0000   \n",
              "\n",
              "       _DayOfWeekRatio  _NoShowsRatio_xD  _RecentNoShows       _Age  \\\n",
              "count       48162.0000        48162.0000      48162.0000 48162.0000   \n",
              "mean            0.1872            0.0752          0.0454     0.3731   \n",
              "std             0.1736            0.2407          0.1438     0.2304   \n",
              "min             0.0000            0.0000          0.0000     0.0000   \n",
              "25%             0.0000            0.0000          0.0000     0.1800   \n",
              "50%             0.1523            0.0000          0.0000     0.3700   \n",
              "75%             0.2803            0.0000          0.0000     0.5600   \n",
              "max             1.0000            1.0000          1.0000     1.0000   \n",
              "\n",
              "         _Gender   _Handcap  \n",
              "count 48162.0000 48162.0000  \n",
              "mean      0.6531     0.0206  \n",
              "std       0.4760     0.1421  \n",
              "min       0.0000     0.0000  \n",
              "25%       0.0000     0.0000  \n",
              "50%       1.0000     0.0000  \n",
              "75%       1.0000     0.0000  \n",
              "max       1.0000     1.0000  "
            ]
          },
          "metadata": {},
          "execution_count": 56
        }
      ]
    },
    {
      "cell_type": "code",
      "metadata": {
        "id": "ANkzCOEzzYvP"
      },
      "source": [
        "# As options to check\n",
        "columns_set1 = [\"Scholarship\", \"Hipertension\", \"Diabetes\", \"Alcoholism\", \"SMS_received\", \"_waitingTime\", \n",
        "               \"_lastShowTime\", \"_sumAppoint_xD\", \"_NeighbourhoodRatio\", \"_DayOfWeekRatio\", \"_NoShowsRatio_xD\", \n",
        "               \"_RecentNoShows\", \"_Age\", \"_Gender\", \"_Handcap\"]\n",
        "\n",
        "columns_set2 = [\"Scholarship\", \"Hipertension\", \"Diabetes\", \"Alcoholism\", \"SMS_received\", \"_waitingTime\", \n",
        "               \"_lastShowTime\", \"_sumAppoint_xD\", \"_NeighbourhoodRatio\", \"_DayOfWeekRatio\", \"_NoShowsRatio_xD\", \n",
        "               \"_RecentNoShows\", \"_Age\", \"_Gender\", \"_Handcap\", \"_sumNoShows_xD\", \"_lastNoShowTime\", \n",
        "               \"_sumRecentNoShows\"]"
      ],
      "execution_count": null,
      "outputs": []
    },
    {
      "cell_type": "markdown",
      "metadata": {
        "id": "4dvX-zALz8Cu"
      },
      "source": [
        "## Model building and evaluation <a class=\"anchor\" id=\"models\"></a>"
      ]
    },
    {
      "cell_type": "markdown",
      "metadata": {
        "id": "GKQ2KS29z8Cu"
      },
      "source": [
        "### Auxiliary classes and functions <a class=\"anchor\" id=\"classes\"></a>"
      ]
    },
    {
      "cell_type": "code",
      "metadata": {
        "id": "IESd5NDSz8Cv"
      },
      "source": [
        "class ModelMetrics():\n",
        "    \"\"\"\n",
        "    Calculate, print and save metrics\n",
        "    \"\"\"\n",
        "        \n",
        "    def __init__(self, y_true, y_pred):\n",
        "        self.y = y_true\n",
        "        self.y_pred = y_pred\n",
        "        self.metrics_ = {}\n",
        "        \n",
        "        self.metrics_[\"accuracy\"] = accuracy_score(y_true, y_pred)\n",
        "        self.metrics_[\"f1\"] = f1_score(y_true, y_pred)\n",
        "        self.metrics_[\"recall\"] = recall_score(y_true, y_pred)\n",
        "        self.metrics_[\"precision\"] = precision_score(y_true, y_pred)\n",
        "        self.metrics_[\"ROC\"] = roc_auc_score(y_true, y_pred)    \n",
        "\n",
        "        \n",
        "    def print_metrics(self, desc=None, with_header=True): \n",
        "        width_des, width_val = 14, 10\n",
        "        format_lab = [\"{:<\"+str(width_des)+\"}\"] + [\"{:>\"+str(width_val)+\"}\"] * len(self.metrics_)\n",
        "        format_val = [\"{:<\"+str(width_des)+\"}\"] + [\"{:>\"+str(width_val)+\".4f}\"] * len(self.metrics_)\n",
        "        if with_header:            \n",
        "            print(\" | \".join(format_lab).format(\"\", *self.metrics_.keys()))\n",
        "            print(\"---\".join(format_lab).format(\"-\" * width_des, *[\"-\" * width_val] * len(self.metrics_)))\n",
        "        print(\" | \".join(format_val).format(desc, *self.metrics_.values()))"
      ],
      "execution_count": null,
      "outputs": []
    },
    {
      "cell_type": "code",
      "metadata": {
        "id": "_Rv2GQ7UNvy6"
      },
      "source": [
        "def log_experiment(exp, model_metrics, tags=None, pipe=None, columns=None):\n",
        "    if tags is not None: \n",
        "        exp.append_tags(tags)\n",
        "    if pipe is not None: \n",
        "        exp.log_text(\"pipeline steps\", ','.join([step[0] for step in pipeline.steps]))\n",
        "        for step in pipe.steps:\n",
        "            text = ','.join([t.strip() for t in str(step[1]).split(',\\n')])\n",
        "            exp.log_text(f\"_{step[0]}\", text[:1000])      \n",
        "            if len(text) > 1000:\n",
        "                print(f\"Warning: description of step {step[0]} exceeds length limit.\")\n",
        "            if step[0] == \"model\":\n",
        "                exp.log_text(f\"_{step[0]}_params\", str(step[1].get_params())[:1000])\n",
        "    if columns is not None: \n",
        "        exp.log_text(\"columns\", f'[{len(columns)}] ' + ', '.join(columns)[:1000])\n",
        "        if len(text) > 1000:\n",
        "            print(\"Warning: columns list exceeds length limit.\")\n",
        "    for key, val in model_metrics.metrics_.items():\n",
        "        exp.log_metric(key, val) "
      ],
      "execution_count": null,
      "outputs": []
    },
    {
      "cell_type": "code",
      "metadata": {
        "id": "9yYhr11Mz8Cv"
      },
      "source": [
        "def evaluate_model(model, class_report=True, save=True, add_tags=None, final_test=False):\n",
        "    steps = model.named_steps\n",
        "    name = steps[\"model\"].__class__.__name__\n",
        "    scaler_name = steps[\"scaler\"].__class__.__name__ if \"scaler\" in steps.keys() else \"without scaler\"\n",
        "    over_name = steps[\"oversampling\"].__class__.__name__ if \"oversampling\" in steps.keys() else \"without oversampling\"\n",
        "    print(name, scaler_name, over_name, sep=\", \")\n",
        "\n",
        "    if save:\n",
        "        my_exp = project.create_experiment(name=name)\n",
        "\n",
        "    pipe = model.fit(X_train, y_train)        \n",
        "    _y_pred = model.predict(X_train)            \n",
        "    \n",
        "    columns = model.named_steps[\"custom\"].columns\n",
        "    print(*columns, sep=\", \")\n",
        "    ModelMetrics(y_train, _y_pred).print_metrics(desc=\"Training set\", with_header=True)\n",
        "\n",
        "    if final_test:\n",
        "        _X_test, _y_test = X_test, y_test\n",
        "    else:\n",
        "        _X_test, _y_test = X_valid, y_valid\n",
        "\n",
        "    _y_pred = model.predict(_X_test)    \n",
        "    model_metrics = ModelMetrics(_y_test, _y_pred)\n",
        "    model_metrics.print_metrics(desc=\"Validation set\", with_header=False)\n",
        "    \n",
        "    #fig, ax = plt.subplots(figsize=(3, 3))\n",
        "    #plot_confusion_matrix(model, _X_test, _y_test, cmap='Blues', ax=ax, values_format=\".0f\")\n",
        "    #plt.show()\n",
        "    \n",
        "    if class_report:\n",
        "        print(\"-\" * 100)\n",
        "        print(\"Classification report:\")\n",
        "        print(classification_report(_y_test, _y_pred))\n",
        "        \n",
        "    if save:\n",
        "        my_tags = [author, name, scaler_name, over_name]\n",
        "        if add_tags is not None:\n",
        "            my_tags = my_tags + add_tags\n",
        "        log_experiment(my_exp, model_metrics, tags=my_tags, pipe=pipe, columns=columns)\n",
        "        my_exp.stop()"
      ],
      "execution_count": null,
      "outputs": []
    },
    {
      "cell_type": "code",
      "metadata": {
        "id": "ao-77ru1bIS9"
      },
      "source": [
        "def create_model(optimizer='adam',\n",
        "                 dropout=0.1, metrics = 'Accuracy'):\n",
        "    model = Sequential()\n",
        "\n",
        "    # Add an input layer \n",
        "    model.add(Dense(240, activation='relu'))\n",
        "\n",
        "    # Add one hidden layer \n",
        "    model.add(Dense(120, activation='relu'))\n",
        "\n",
        "    # Add one hidden layer \n",
        "    model.add(Dense(120, activation='relu'))\n",
        "\n",
        "    # Add one hidden layer \n",
        "    model.add(Dense(60, activation='relu'))\n",
        "\n",
        "    # Add an output layer \n",
        "    model.add(Dense(1, activation='sigmoid'))\n",
        "    \n",
        "    model.compile(loss='binary_crossentropy',optimizer=optimizer,\n",
        "    metrics=[metrics])\n",
        "    return model"
      ],
      "execution_count": null,
      "outputs": []
    },
    {
      "cell_type": "code",
      "metadata": {
        "id": "G0Glm-h1gHAf"
      },
      "source": [
        "from keras.wrappers.scikit_learn import KerasClassifier"
      ],
      "execution_count": null,
      "outputs": []
    },
    {
      "cell_type": "code",
      "metadata": {
        "colab": {
          "base_uri": "https://localhost:8080/"
        },
        "id": "bAHY_XIgPysW",
        "outputId": "51d9dfc2-6773-47e8-e73b-4135ffdc31d6"
      },
      "source": [
        "# With SMOTETomek\n",
        "pipeline = Pipeline([\n",
        "    (\"custom\", MedicalAppointmentsTransformer(neighbourhood_min_count = 200)),\n",
        "    (\"imputer\", SimpleImputer(strategy=\"mean\")),\n",
        "    (\"scaler\", StandardScaler()),\n",
        "    (\"oversampling\", SMOTETomek()),\n",
        "    (\"model\", KerasClassifier(build_fn=create_model, epochs=10, batch_size=5, verbose=0)),\n",
        "])\n",
        "\n",
        "pipeline.set_params(custom__neighbourhood_min_count = 300)\n",
        "pipeline.set_params(custom__columns = columns_set2)\n",
        "\n",
        "evaluate_model(pipeline, add_tags=[\"nn\"])"
      ],
      "execution_count": null,
      "outputs": [
        {
          "output_type": "stream",
          "name": "stdout",
          "text": [
            "KerasClassifier, StandardScaler, SMOTETomek\n"
          ]
        },
        {
          "output_type": "stream",
          "name": "stderr",
          "text": [
            "Info (NVML): Driver Not Loaded. GPU usage metrics may not be reported. For more information, see https://docs-legacy.neptune.ai/logging-and-managing-experiment-results/logging-experiment-data.html#hardware-consumption \n"
          ]
        },
        {
          "output_type": "stream",
          "name": "stdout",
          "text": [
            "https://app.neptune.ai/DataWorkshop-Foundation/Predicting-cancellation-of-visit/e/PCV-806\n"
          ]
        },
        {
          "output_type": "stream",
          "name": "stderr",
          "text": [
            "/usr/local/lib/python3.7/dist-packages/sklearn/utils/deprecation.py:87: FutureWarning: Function safe_indexing is deprecated; safe_indexing is deprecated in version 0.22 and will be removed in version 0.24.\n",
            "  warnings.warn(msg, category=FutureWarning)\n",
            "/usr/local/lib/python3.7/dist-packages/sklearn/utils/deprecation.py:87: FutureWarning: Function safe_indexing is deprecated; safe_indexing is deprecated in version 0.22 and will be removed in version 0.24.\n",
            "  warnings.warn(msg, category=FutureWarning)\n"
          ]
        },
        {
          "output_type": "stream",
          "name": "stdout",
          "text": [
            "Scholarship, Hipertension, Diabetes, Alcoholism, SMS_received, _waitingTime, _lastShowTime, _sumAppoint_xD, _NeighbourhoodRatio, _DayOfWeekRatio, _NoShowsRatio_xD, _RecentNoShows, _Age, _Gender, _Handcap, _sumNoShows_xD, _lastNoShowTime, _sumRecentNoShows\n",
            "               |   accuracy |         f1 |     recall |  precision |        ROC\n",
            "-------------------------------------------------------------------------------\n",
            "Training set   |     0.6734 |     0.4846 |     0.7749 |     0.3525 |     0.7116\n",
            "Validation set |     0.6464 |     0.4403 |     0.7025 |     0.3206 |     0.6675\n",
            "----------------------------------------------------------------------------------------------------\n",
            "Classification report:\n",
            "              precision    recall  f1-score   support\n",
            "\n",
            "           0       0.90      0.63      0.74      8211\n",
            "           1       0.32      0.70      0.44      2027\n",
            "\n",
            "    accuracy                           0.65     10238\n",
            "   macro avg       0.61      0.67      0.59     10238\n",
            "weighted avg       0.78      0.65      0.68     10238\n",
            "\n"
          ]
        }
      ]
    }
  ]
}
