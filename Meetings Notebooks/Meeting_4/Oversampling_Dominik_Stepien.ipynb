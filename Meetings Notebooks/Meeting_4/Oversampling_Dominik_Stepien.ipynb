{
 "cells": [
  {
   "cell_type": "markdown",
   "metadata": {},
   "source": [
    " Medical Appointment No Shows - https://www.kaggle.com/joniarroba/noshowappointments\n",
    "1. IntroductionFirst impressions\n",
    "2. Basic Data Wranngling\n",
    "3. Basic feature engineering\n",
    "4. Oversampling on predicting Show-Up/No-Show.\n"
   ]
  },
  {
   "cell_type": "markdown",
   "metadata": {},
   "source": [
    "\n",
    "## 1. Introduction and First impression\n",
    "\n",
    "This analysis consist in explore a dataset containing aproximately 100k medial appointments from the Brazilian public health system known as [SUS (Single Health System)](https://en.wikipedia.org/wiki/Sistema_%C3%9Anico_de_Sa%C3%BAde). We're gonna explore the [*no-show appointments dataset*](https://www.kaggle.com/joniarroba/noshowappointments) dataset using this variables:\n",
    "\n",
    "- **PatientId:** Identification of a patient \n",
    "- **AppointmentID:** Identification of each appointment \n",
    "- **Gender:** Male or Female \n",
    "- **ScheduledDay:** The day of the actuall appointment, when they have to visit the doctor \n",
    "- **AppointmentDay:** The day someone called or registered the appointment\n",
    "- **Age:** How old is the patient \n",
    "- **Neighbourhood:** Where the appointment takes place\n",
    "- [**Scholarship:**](https://en.wikipedia.org/wiki/Bolsa_Fam%C3%ADlia) True or False, indicates if the patient is in the *Bolsa Familia* program - +500?\n",
    "- **Hipertension:** True or False\n",
    "- **Diabetes:** True or False \n",
    "- **Alcoholism:** True or False \n",
    "- **Handcap:** True or False \n",
    "- **SMS_received:** 1 or more messages sent to the patient \n",
    "- **No-show** \"No\" indicates if the patient showed up to their appointment and \"Yes\" if they didn't show up\n",
    "\n",
    "We're aiming to find possible reasons for patient no-showing at the scheduled appointments."
   ]
  },
  {
   "cell_type": "code",
   "execution_count": 1,
   "metadata": {
    "_cell_guid": "b1076dfc-b9ad-4769-8c92-a6c4dae69d19",
    "_uuid": "8f2839f25d086af736a60e9eeb907d3b93b6e0e5"
   },
   "outputs": [
    {
     "data": {
      "text/html": [
       "<div>\n",
       "<style scoped>\n",
       "    .dataframe tbody tr th:only-of-type {\n",
       "        vertical-align: middle;\n",
       "    }\n",
       "\n",
       "    .dataframe tbody tr th {\n",
       "        vertical-align: top;\n",
       "    }\n",
       "\n",
       "    .dataframe thead th {\n",
       "        text-align: right;\n",
       "    }\n",
       "</style>\n",
       "<table border=\"1\" class=\"dataframe\">\n",
       "  <thead>\n",
       "    <tr style=\"text-align: right;\">\n",
       "      <th></th>\n",
       "      <th>PatientId</th>\n",
       "      <th>AppointmentID</th>\n",
       "      <th>Gender</th>\n",
       "      <th>ScheduledDay</th>\n",
       "      <th>AppointmentDay</th>\n",
       "      <th>Age</th>\n",
       "      <th>Neighbourhood</th>\n",
       "      <th>Scholarship</th>\n",
       "      <th>Hipertension</th>\n",
       "      <th>Diabetes</th>\n",
       "      <th>Alcoholism</th>\n",
       "      <th>Handcap</th>\n",
       "      <th>SMS_received</th>\n",
       "      <th>No-show</th>\n",
       "    </tr>\n",
       "  </thead>\n",
       "  <tbody>\n",
       "    <tr>\n",
       "      <td>0</td>\n",
       "      <td>2.987250e+13</td>\n",
       "      <td>5642903</td>\n",
       "      <td>F</td>\n",
       "      <td>2016-04-29T18:38:08Z</td>\n",
       "      <td>2016-04-29T00:00:00Z</td>\n",
       "      <td>62</td>\n",
       "      <td>JARDIM DA PENHA</td>\n",
       "      <td>0</td>\n",
       "      <td>1</td>\n",
       "      <td>0</td>\n",
       "      <td>0</td>\n",
       "      <td>0</td>\n",
       "      <td>0</td>\n",
       "      <td>No</td>\n",
       "    </tr>\n",
       "    <tr>\n",
       "      <td>1</td>\n",
       "      <td>5.589978e+14</td>\n",
       "      <td>5642503</td>\n",
       "      <td>M</td>\n",
       "      <td>2016-04-29T16:08:27Z</td>\n",
       "      <td>2016-04-29T00:00:00Z</td>\n",
       "      <td>56</td>\n",
       "      <td>JARDIM DA PENHA</td>\n",
       "      <td>0</td>\n",
       "      <td>0</td>\n",
       "      <td>0</td>\n",
       "      <td>0</td>\n",
       "      <td>0</td>\n",
       "      <td>0</td>\n",
       "      <td>No</td>\n",
       "    </tr>\n",
       "    <tr>\n",
       "      <td>2</td>\n",
       "      <td>4.262962e+12</td>\n",
       "      <td>5642549</td>\n",
       "      <td>F</td>\n",
       "      <td>2016-04-29T16:19:04Z</td>\n",
       "      <td>2016-04-29T00:00:00Z</td>\n",
       "      <td>62</td>\n",
       "      <td>MATA DA PRAIA</td>\n",
       "      <td>0</td>\n",
       "      <td>0</td>\n",
       "      <td>0</td>\n",
       "      <td>0</td>\n",
       "      <td>0</td>\n",
       "      <td>0</td>\n",
       "      <td>No</td>\n",
       "    </tr>\n",
       "    <tr>\n",
       "      <td>3</td>\n",
       "      <td>8.679512e+11</td>\n",
       "      <td>5642828</td>\n",
       "      <td>F</td>\n",
       "      <td>2016-04-29T17:29:31Z</td>\n",
       "      <td>2016-04-29T00:00:00Z</td>\n",
       "      <td>8</td>\n",
       "      <td>PONTAL DE CAMBURI</td>\n",
       "      <td>0</td>\n",
       "      <td>0</td>\n",
       "      <td>0</td>\n",
       "      <td>0</td>\n",
       "      <td>0</td>\n",
       "      <td>0</td>\n",
       "      <td>No</td>\n",
       "    </tr>\n",
       "    <tr>\n",
       "      <td>4</td>\n",
       "      <td>8.841186e+12</td>\n",
       "      <td>5642494</td>\n",
       "      <td>F</td>\n",
       "      <td>2016-04-29T16:07:23Z</td>\n",
       "      <td>2016-04-29T00:00:00Z</td>\n",
       "      <td>56</td>\n",
       "      <td>JARDIM DA PENHA</td>\n",
       "      <td>0</td>\n",
       "      <td>1</td>\n",
       "      <td>1</td>\n",
       "      <td>0</td>\n",
       "      <td>0</td>\n",
       "      <td>0</td>\n",
       "      <td>No</td>\n",
       "    </tr>\n",
       "    <tr>\n",
       "      <td>5</td>\n",
       "      <td>9.598513e+13</td>\n",
       "      <td>5626772</td>\n",
       "      <td>F</td>\n",
       "      <td>2016-04-27T08:36:51Z</td>\n",
       "      <td>2016-04-29T00:00:00Z</td>\n",
       "      <td>76</td>\n",
       "      <td>REPÚBLICA</td>\n",
       "      <td>0</td>\n",
       "      <td>1</td>\n",
       "      <td>0</td>\n",
       "      <td>0</td>\n",
       "      <td>0</td>\n",
       "      <td>0</td>\n",
       "      <td>No</td>\n",
       "    </tr>\n",
       "    <tr>\n",
       "      <td>6</td>\n",
       "      <td>7.336882e+14</td>\n",
       "      <td>5630279</td>\n",
       "      <td>F</td>\n",
       "      <td>2016-04-27T15:05:12Z</td>\n",
       "      <td>2016-04-29T00:00:00Z</td>\n",
       "      <td>23</td>\n",
       "      <td>GOIABEIRAS</td>\n",
       "      <td>0</td>\n",
       "      <td>0</td>\n",
       "      <td>0</td>\n",
       "      <td>0</td>\n",
       "      <td>0</td>\n",
       "      <td>0</td>\n",
       "      <td>Yes</td>\n",
       "    </tr>\n",
       "    <tr>\n",
       "      <td>7</td>\n",
       "      <td>3.449833e+12</td>\n",
       "      <td>5630575</td>\n",
       "      <td>F</td>\n",
       "      <td>2016-04-27T15:39:58Z</td>\n",
       "      <td>2016-04-29T00:00:00Z</td>\n",
       "      <td>39</td>\n",
       "      <td>GOIABEIRAS</td>\n",
       "      <td>0</td>\n",
       "      <td>0</td>\n",
       "      <td>0</td>\n",
       "      <td>0</td>\n",
       "      <td>0</td>\n",
       "      <td>0</td>\n",
       "      <td>Yes</td>\n",
       "    </tr>\n",
       "    <tr>\n",
       "      <td>8</td>\n",
       "      <td>5.639473e+13</td>\n",
       "      <td>5638447</td>\n",
       "      <td>F</td>\n",
       "      <td>2016-04-29T08:02:16Z</td>\n",
       "      <td>2016-04-29T00:00:00Z</td>\n",
       "      <td>21</td>\n",
       "      <td>ANDORINHAS</td>\n",
       "      <td>0</td>\n",
       "      <td>0</td>\n",
       "      <td>0</td>\n",
       "      <td>0</td>\n",
       "      <td>0</td>\n",
       "      <td>0</td>\n",
       "      <td>No</td>\n",
       "    </tr>\n",
       "    <tr>\n",
       "      <td>9</td>\n",
       "      <td>7.812456e+13</td>\n",
       "      <td>5629123</td>\n",
       "      <td>F</td>\n",
       "      <td>2016-04-27T12:48:25Z</td>\n",
       "      <td>2016-04-29T00:00:00Z</td>\n",
       "      <td>19</td>\n",
       "      <td>CONQUISTA</td>\n",
       "      <td>0</td>\n",
       "      <td>0</td>\n",
       "      <td>0</td>\n",
       "      <td>0</td>\n",
       "      <td>0</td>\n",
       "      <td>0</td>\n",
       "      <td>No</td>\n",
       "    </tr>\n",
       "  </tbody>\n",
       "</table>\n",
       "</div>"
      ],
      "text/plain": [
       "      PatientId  AppointmentID Gender          ScheduledDay  \\\n",
       "0  2.987250e+13        5642903      F  2016-04-29T18:38:08Z   \n",
       "1  5.589978e+14        5642503      M  2016-04-29T16:08:27Z   \n",
       "2  4.262962e+12        5642549      F  2016-04-29T16:19:04Z   \n",
       "3  8.679512e+11        5642828      F  2016-04-29T17:29:31Z   \n",
       "4  8.841186e+12        5642494      F  2016-04-29T16:07:23Z   \n",
       "5  9.598513e+13        5626772      F  2016-04-27T08:36:51Z   \n",
       "6  7.336882e+14        5630279      F  2016-04-27T15:05:12Z   \n",
       "7  3.449833e+12        5630575      F  2016-04-27T15:39:58Z   \n",
       "8  5.639473e+13        5638447      F  2016-04-29T08:02:16Z   \n",
       "9  7.812456e+13        5629123      F  2016-04-27T12:48:25Z   \n",
       "\n",
       "         AppointmentDay  Age      Neighbourhood  Scholarship  Hipertension  \\\n",
       "0  2016-04-29T00:00:00Z   62    JARDIM DA PENHA            0             1   \n",
       "1  2016-04-29T00:00:00Z   56    JARDIM DA PENHA            0             0   \n",
       "2  2016-04-29T00:00:00Z   62      MATA DA PRAIA            0             0   \n",
       "3  2016-04-29T00:00:00Z    8  PONTAL DE CAMBURI            0             0   \n",
       "4  2016-04-29T00:00:00Z   56    JARDIM DA PENHA            0             1   \n",
       "5  2016-04-29T00:00:00Z   76          REPÚBLICA            0             1   \n",
       "6  2016-04-29T00:00:00Z   23         GOIABEIRAS            0             0   \n",
       "7  2016-04-29T00:00:00Z   39         GOIABEIRAS            0             0   \n",
       "8  2016-04-29T00:00:00Z   21         ANDORINHAS            0             0   \n",
       "9  2016-04-29T00:00:00Z   19          CONQUISTA            0             0   \n",
       "\n",
       "   Diabetes  Alcoholism  Handcap  SMS_received No-show  \n",
       "0         0           0        0             0      No  \n",
       "1         0           0        0             0      No  \n",
       "2         0           0        0             0      No  \n",
       "3         0           0        0             0      No  \n",
       "4         1           0        0             0      No  \n",
       "5         0           0        0             0      No  \n",
       "6         0           0        0             0     Yes  \n",
       "7         0           0        0             0     Yes  \n",
       "8         0           0        0             0      No  \n",
       "9         0           0        0             0      No  "
      ]
     },
     "execution_count": 1,
     "metadata": {},
     "output_type": "execute_result"
    }
   ],
   "source": [
    "import numpy as np\n",
    "import pandas as pd\n",
    "import matplotlib.pyplot as plt\n",
    "import seaborn as sns\n",
    "%matplotlib inline\n",
    "\n",
    "df = pd.read_csv(\"../input/KaggleV2-May-2016.csv\")\n",
    "df.head(10)"
   ]
  },
  {
   "cell_type": "code",
   "execution_count": 2,
   "metadata": {},
   "outputs": [
    {
     "data": {
      "text/plain": [
       "('2016-04-29T00:00:00Z', '2016-06-08T00:00:00Z')"
      ]
     },
     "execution_count": 2,
     "metadata": {},
     "output_type": "execute_result"
    }
   ],
   "source": [
    "# let's see from which period theese appointments are\n",
    "df.AppointmentDay.min(), df.AppointmentDay.max()"
   ]
  },
  {
   "cell_type": "code",
   "execution_count": 3,
   "metadata": {},
   "outputs": [
    {
     "data": {
      "text/plain": [
       "(110527, 14)"
      ]
     },
     "execution_count": 3,
     "metadata": {},
     "output_type": "execute_result"
    }
   ],
   "source": [
    "df.shape"
   ]
  },
  {
   "cell_type": "code",
   "execution_count": 4,
   "metadata": {},
   "outputs": [
    {
     "data": {
      "text/html": [
       "<div>\n",
       "<style scoped>\n",
       "    .dataframe tbody tr th:only-of-type {\n",
       "        vertical-align: middle;\n",
       "    }\n",
       "\n",
       "    .dataframe tbody tr th {\n",
       "        vertical-align: top;\n",
       "    }\n",
       "\n",
       "    .dataframe thead th {\n",
       "        text-align: right;\n",
       "    }\n",
       "</style>\n",
       "<table border=\"1\" class=\"dataframe\">\n",
       "  <thead>\n",
       "    <tr style=\"text-align: right;\">\n",
       "      <th></th>\n",
       "      <th>PatientId</th>\n",
       "      <th>AppointmentID</th>\n",
       "      <th>Age</th>\n",
       "      <th>Scholarship</th>\n",
       "      <th>Hipertension</th>\n",
       "      <th>Diabetes</th>\n",
       "      <th>Alcoholism</th>\n",
       "      <th>Handcap</th>\n",
       "      <th>SMS_received</th>\n",
       "    </tr>\n",
       "  </thead>\n",
       "  <tbody>\n",
       "    <tr>\n",
       "      <td>count</td>\n",
       "      <td>1.105270e+05</td>\n",
       "      <td>1.105270e+05</td>\n",
       "      <td>110527.000000</td>\n",
       "      <td>110527.000000</td>\n",
       "      <td>110527.000000</td>\n",
       "      <td>110527.000000</td>\n",
       "      <td>110527.000000</td>\n",
       "      <td>110527.000000</td>\n",
       "      <td>110527.000000</td>\n",
       "    </tr>\n",
       "    <tr>\n",
       "      <td>mean</td>\n",
       "      <td>1.474963e+14</td>\n",
       "      <td>5.675305e+06</td>\n",
       "      <td>37.088874</td>\n",
       "      <td>0.098266</td>\n",
       "      <td>0.197246</td>\n",
       "      <td>0.071865</td>\n",
       "      <td>0.030400</td>\n",
       "      <td>0.022248</td>\n",
       "      <td>0.321026</td>\n",
       "    </tr>\n",
       "    <tr>\n",
       "      <td>std</td>\n",
       "      <td>2.560949e+14</td>\n",
       "      <td>7.129575e+04</td>\n",
       "      <td>23.110205</td>\n",
       "      <td>0.297675</td>\n",
       "      <td>0.397921</td>\n",
       "      <td>0.258265</td>\n",
       "      <td>0.171686</td>\n",
       "      <td>0.161543</td>\n",
       "      <td>0.466873</td>\n",
       "    </tr>\n",
       "    <tr>\n",
       "      <td>min</td>\n",
       "      <td>3.921784e+04</td>\n",
       "      <td>5.030230e+06</td>\n",
       "      <td>-1.000000</td>\n",
       "      <td>0.000000</td>\n",
       "      <td>0.000000</td>\n",
       "      <td>0.000000</td>\n",
       "      <td>0.000000</td>\n",
       "      <td>0.000000</td>\n",
       "      <td>0.000000</td>\n",
       "    </tr>\n",
       "    <tr>\n",
       "      <td>25%</td>\n",
       "      <td>4.172614e+12</td>\n",
       "      <td>5.640286e+06</td>\n",
       "      <td>18.000000</td>\n",
       "      <td>0.000000</td>\n",
       "      <td>0.000000</td>\n",
       "      <td>0.000000</td>\n",
       "      <td>0.000000</td>\n",
       "      <td>0.000000</td>\n",
       "      <td>0.000000</td>\n",
       "    </tr>\n",
       "    <tr>\n",
       "      <td>50%</td>\n",
       "      <td>3.173184e+13</td>\n",
       "      <td>5.680573e+06</td>\n",
       "      <td>37.000000</td>\n",
       "      <td>0.000000</td>\n",
       "      <td>0.000000</td>\n",
       "      <td>0.000000</td>\n",
       "      <td>0.000000</td>\n",
       "      <td>0.000000</td>\n",
       "      <td>0.000000</td>\n",
       "    </tr>\n",
       "    <tr>\n",
       "      <td>75%</td>\n",
       "      <td>9.439172e+13</td>\n",
       "      <td>5.725524e+06</td>\n",
       "      <td>55.000000</td>\n",
       "      <td>0.000000</td>\n",
       "      <td>0.000000</td>\n",
       "      <td>0.000000</td>\n",
       "      <td>0.000000</td>\n",
       "      <td>0.000000</td>\n",
       "      <td>1.000000</td>\n",
       "    </tr>\n",
       "    <tr>\n",
       "      <td>max</td>\n",
       "      <td>9.999816e+14</td>\n",
       "      <td>5.790484e+06</td>\n",
       "      <td>115.000000</td>\n",
       "      <td>1.000000</td>\n",
       "      <td>1.000000</td>\n",
       "      <td>1.000000</td>\n",
       "      <td>1.000000</td>\n",
       "      <td>4.000000</td>\n",
       "      <td>1.000000</td>\n",
       "    </tr>\n",
       "  </tbody>\n",
       "</table>\n",
       "</div>"
      ],
      "text/plain": [
       "          PatientId  AppointmentID            Age    Scholarship  \\\n",
       "count  1.105270e+05   1.105270e+05  110527.000000  110527.000000   \n",
       "mean   1.474963e+14   5.675305e+06      37.088874       0.098266   \n",
       "std    2.560949e+14   7.129575e+04      23.110205       0.297675   \n",
       "min    3.921784e+04   5.030230e+06      -1.000000       0.000000   \n",
       "25%    4.172614e+12   5.640286e+06      18.000000       0.000000   \n",
       "50%    3.173184e+13   5.680573e+06      37.000000       0.000000   \n",
       "75%    9.439172e+13   5.725524e+06      55.000000       0.000000   \n",
       "max    9.999816e+14   5.790484e+06     115.000000       1.000000   \n",
       "\n",
       "        Hipertension       Diabetes     Alcoholism        Handcap  \\\n",
       "count  110527.000000  110527.000000  110527.000000  110527.000000   \n",
       "mean        0.197246       0.071865       0.030400       0.022248   \n",
       "std         0.397921       0.258265       0.171686       0.161543   \n",
       "min         0.000000       0.000000       0.000000       0.000000   \n",
       "25%         0.000000       0.000000       0.000000       0.000000   \n",
       "50%         0.000000       0.000000       0.000000       0.000000   \n",
       "75%         0.000000       0.000000       0.000000       0.000000   \n",
       "max         1.000000       1.000000       1.000000       4.000000   \n",
       "\n",
       "        SMS_received  \n",
       "count  110527.000000  \n",
       "mean        0.321026  \n",
       "std         0.466873  \n",
       "min         0.000000  \n",
       "25%         0.000000  \n",
       "50%         0.000000  \n",
       "75%         1.000000  \n",
       "max         1.000000  "
      ]
     },
     "execution_count": 4,
     "metadata": {},
     "output_type": "execute_result"
    }
   ],
   "source": [
    "#  general numeric attributes\n",
    "df.describe()"
   ]
  },
  {
   "cell_type": "code",
   "execution_count": 5,
   "metadata": {},
   "outputs": [
    {
     "data": {
      "text/plain": [
       "No     88208\n",
       "Yes    22319\n",
       "Name: No-show, dtype: int64"
      ]
     },
     "execution_count": 5,
     "metadata": {},
     "output_type": "execute_result"
    }
   ],
   "source": [
    "df['No-show'].value_counts()"
   ]
  },
  {
   "cell_type": "markdown",
   "metadata": {},
   "source": [
    "\n",
    "First of all, we can notice that:\n",
    "- We have 110k+ rows and 14 columns in this dataset \n",
    "- I want to check if the patientId is duplicated since I don't know if they can have more than one appointment\n",
    "- Depending on the analysis, maybe the **PatientId**, **AppointmentID** could be useless for the analysis\n",
    "- It's important to highlight that the **No-show** column value **Yes** means that the pacient didn't show at the appointment\n",
    "\n",
    "Also we can already draw some assumptions:\n",
    "- there are more than 100k appointments scheduled in a period of **~2 months** and that's really impressive\n",
    "- most of the patients have about 37 yeas old with almost no scholarship (9%)\n",
    "- in mean \n",
    "  - 19% of the patients have hipertension\n",
    "  - 7% of the patients have diabetes\n",
    "  - 3% of the patients suffers from alcoholism\n",
    "  - 32% of the patients recived  SMS\n",
    "  \n",
    "\n",
    "## 2. Data Wrangling\n",
    "\n",
    "In this section the data will be analysed and cleaned, dealing with missing values or weird values.\n"
   ]
  },
  {
   "cell_type": "code",
   "execution_count": 6,
   "metadata": {},
   "outputs": [
    {
     "name": "stdout",
     "output_type": "stream",
     "text": [
      "<class 'pandas.core.frame.DataFrame'>\n",
      "RangeIndex: 110527 entries, 0 to 110526\n",
      "Data columns (total 14 columns):\n",
      "PatientId         110527 non-null float64\n",
      "AppointmentID     110527 non-null int64\n",
      "Gender            110527 non-null object\n",
      "ScheduledDay      110527 non-null object\n",
      "AppointmentDay    110527 non-null object\n",
      "Age               110527 non-null int64\n",
      "Neighbourhood     110527 non-null object\n",
      "Scholarship       110527 non-null int64\n",
      "Hipertension      110527 non-null int64\n",
      "Diabetes          110527 non-null int64\n",
      "Alcoholism        110527 non-null int64\n",
      "Handcap           110527 non-null int64\n",
      "SMS_received      110527 non-null int64\n",
      "No-show           110527 non-null object\n",
      "dtypes: float64(1), int64(8), object(5)\n",
      "memory usage: 11.8+ MB\n"
     ]
    }
   ],
   "source": [
    "# checking  information about  missing values and strange types\n",
    "df.info()"
   ]
  },
  {
   "cell_type": "code",
   "execution_count": 7,
   "metadata": {},
   "outputs": [
    {
     "data": {
      "text/plain": [
       "(0, 48228, 0)"
      ]
     },
     "execution_count": 7,
     "metadata": {},
     "output_type": "execute_result"
    }
   ],
   "source": [
    "# checking for general data duplicates\n",
    "df.duplicated().sum(), df.PatientId.duplicated().sum(), df.AppointmentID.duplicated().sum()"
   ]
  },
  {
   "cell_type": "code",
   "execution_count": 8,
   "metadata": {},
   "outputs": [
    {
     "name": "stdout",
     "output_type": "stream",
     "text": [
      "['F' 'M']\n",
      "[-1, 0, 1, 2, 3, 4, 5, 6, 7, 8, 9, 10, 11, 12, 13, 14, 15, 16, 17, 18, 19, 20, 21, 22, 23, 24, 25, 26, 27, 28, 29, 30, 31, 32, 33, 34, 35, 36, 37, 38, 39, 40, 41, 42, 43, 44, 45, 46, 47, 48, 49, 50, 51, 52, 53, 54, 55, 56, 57, 58, 59, 60, 61, 62, 63, 64, 65, 66, 67, 68, 69, 70, 71, 72, 73, 74, 75, 76, 77, 78, 79, 80, 81, 82, 83, 84, 85, 86, 87, 88, 89, 90, 91, 92, 93, 94, 95, 96, 97, 98, 99, 100, 102, 115]\n",
      "['AEROPORTO', 'ANDORINHAS', 'ANTÔNIO HONÓRIO', 'ARIOVALDO FAVALESSA', 'BARRO VERMELHO', 'BELA VISTA', 'BENTO FERREIRA', 'BOA VISTA', 'BONFIM', 'CARATOÍRA', 'CENTRO', 'COMDUSA', 'CONQUISTA', 'CONSOLAÇÃO', 'CRUZAMENTO', 'DA PENHA', 'DE LOURDES', 'DO CABRAL', 'DO MOSCOSO', 'DO QUADRO', 'ENSEADA DO SUÁ', 'ESTRELINHA', 'FONTE GRANDE', 'FORTE SÃO JOÃO', 'FRADINHOS', 'GOIABEIRAS', 'GRANDE VITÓRIA', 'GURIGICA', 'HORTO', 'ILHA DAS CAIEIRAS', 'ILHA DE SANTA MARIA', 'ILHA DO BOI', 'ILHA DO FRADE', 'ILHA DO PRÍNCIPE', 'ILHAS OCEÂNICAS DE TRINDADE', 'INHANGUETÁ', 'ITARARÉ', 'JABOUR', 'JARDIM CAMBURI', 'JARDIM DA PENHA', 'JESUS DE NAZARETH', 'JOANA D´ARC', 'JUCUTUQUARA', 'MARIA ORTIZ', 'MARUÍPE', 'MATA DA PRAIA', 'MONTE BELO', 'MORADA DE CAMBURI', 'MÁRIO CYPRESTE', 'NAZARETH', 'NOVA PALESTINA', 'PARQUE INDUSTRIAL', 'PARQUE MOSCOSO', 'PIEDADE', 'PONTAL DE CAMBURI', 'PRAIA DO CANTO', 'PRAIA DO SUÁ', 'REDENÇÃO', 'REPÚBLICA', 'RESISTÊNCIA', 'ROMÃO', 'SANTA CECÍLIA', 'SANTA CLARA', 'SANTA HELENA', 'SANTA LUÍZA', 'SANTA LÚCIA', 'SANTA MARTHA', 'SANTA TEREZA', 'SANTO ANDRÉ', 'SANTO ANTÔNIO', 'SANTOS DUMONT', 'SANTOS REIS', 'SEGURANÇA DO LAR', 'SOLON BORGES', 'SÃO BENEDITO', 'SÃO CRISTÓVÃO', 'SÃO JOSÉ', 'SÃO PEDRO', 'TABUAZEIRO', 'UNIVERSITÁRIO', 'VILA RUBIM']\n",
      "[0 1]\n",
      "[1 0]\n",
      "[0 1]\n",
      "[0 1]\n",
      "[0 1 2 3 4]\n",
      "[0 1]\n",
      "['No' 'Yes']\n"
     ]
    }
   ],
   "source": [
    "# checking all possible values on some columns\n",
    "print(df.Gender.unique())\n",
    "print(sorted(df.Age.unique()))\n",
    "print(sorted(df.Neighbourhood.unique()))\n",
    "print(df.Scholarship.unique())\n",
    "print(df.Hipertension.unique())\n",
    "print(df.Diabetes.unique())\n",
    "print(df.Alcoholism.unique())\n",
    "print(df.Handcap.unique())\n",
    "print(df.SMS_received.unique())\n",
    "print(df['No-show'].unique())"
   ]
  },
  {
   "cell_type": "markdown",
   "metadata": {},
   "source": [
    "It looks like we have a quite  good dataset: \n",
    "- no missing lines \n",
    "- no duplicaded AppointmentID\n",
    "- **Patient ID** since it seems some patients try to make new appointments\n",
    "- there are no weird values on most columns"
   ]
  },
  {
   "cell_type": "code",
   "execution_count": 9,
   "metadata": {},
   "outputs": [
    {
     "data": {
      "text/plain": [
       "Index(['PatientId', 'Gender', 'ScheduledDay', 'AppointmentDay', 'Age',\n",
       "       'Neighbourhood', 'Scholarship', 'Hipertension', 'Diabetes',\n",
       "       'Alcoholism', 'Handcap', 'SMS_received', 'No-show'],\n",
       "      dtype='object')"
      ]
     },
     "execution_count": 9,
     "metadata": {},
     "output_type": "execute_result"
    }
   ],
   "source": [
    "# let's remove some useless columns\n",
    "df.drop(['AppointmentID'], axis=1, inplace=True)\n",
    "df.columns"
   ]
  },
  {
   "cell_type": "code",
   "execution_count": 10,
   "metadata": {},
   "outputs": [
    {
     "data": {
      "text/plain": [
       "Index(['patient_id', 'gender', 'scheduled_day', 'appointment_day', 'age',\n",
       "       'neighbourhood', 'scholarship', 'hipertension', 'diabetes',\n",
       "       'alcoholism', 'handicap', 'received_sms', 'no_show'],\n",
       "      dtype='object')"
      ]
     },
     "execution_count": 10,
     "metadata": {},
     "output_type": "execute_result"
    }
   ],
   "source": [
    "# renaming all columns to simpler names \n",
    "df.rename(columns={'PatientId': 'patient_id', 'ScheduledDay': 'scheduled_day', 'AppointmentDay': 'appointment_day', 'SMS_received': 'received_sms', 'No-show': 'no_show', 'Handcap': 'handicap' }, inplace=True)\n",
    "df.rename(columns=lambda x: x.lower(), inplace=True)\n",
    "df.columns"
   ]
  },
  {
   "cell_type": "code",
   "execution_count": 11,
   "metadata": {},
   "outputs": [],
   "source": [
    "# formatting the patient_id column as string\n",
    "df.patient_id = df.patient_id.apply(lambda patient: str(int(patient)))"
   ]
  },
  {
   "cell_type": "code",
   "execution_count": 12,
   "metadata": {},
   "outputs": [
    {
     "data": {
      "text/plain": [
       "(0   2016-04-29 18:38:08+00:00\n",
       " Name: scheduled_day, dtype: datetime64[ns, UTC], 0   2016-04-29\n",
       " Name: appointment_day, dtype: datetime64[ns])"
      ]
     },
     "execution_count": 12,
     "metadata": {},
     "output_type": "execute_result"
    }
   ],
   "source": [
    "# formatting the date time 'scheduled_day' and 'appointment_day' columns\n",
    "df.scheduled_day = pd.to_datetime(df.scheduled_day)\n",
    "df.appointment_day = df.appointment_day.apply(np.datetime64)\n",
    "\n",
    "df.scheduled_day.head(1), df.appointment_day.head(1)"
   ]
  },
  {
   "cell_type": "code",
   "execution_count": 13,
   "metadata": {},
   "outputs": [
    {
     "data": {
      "text/plain": [
       "array(['no', 'yes'], dtype=object)"
      ]
     },
     "execution_count": 13,
     "metadata": {},
     "output_type": "execute_result"
    }
   ],
   "source": [
    "# formatting the 'no_show' column with lower cases\n",
    "df.no_show = df.no_show.map({ 'No': 'no', 'Yes': 'yes' })\n",
    "\n",
    "df.no_show.unique()"
   ]
  },
  {
   "cell_type": "code",
   "execution_count": 14,
   "metadata": {},
   "outputs": [
    {
     "data": {
      "image/png": "[encoded data removed]",
      "text/plain": [
       "<Figure size 1080x576 with 1 Axes>"
      ]
     },
     "metadata": {
      "needs_background": "light"
     },
     "output_type": "display_data"
    }
   ],
   "source": [
    "df.age.hist(figsize=(15, 8), bins = 115);"
   ]
  },
  {
   "cell_type": "code",
   "execution_count": 15,
   "metadata": {},
   "outputs": [
    {
     "name": "stdout",
     "output_type": "stream",
     "text": [
      "[0, 1, 2, 3, 4, 5, 6, 7, 8, 9, 10, 11, 12, 13, 14, 15, 16, 17, 18, 19, 20, 21, 22, 23, 24, 25, 26, 27, 28, 29, 30, 31, 32, 33, 34, 35, 36, 37, 38, 39, 40, 41, 42, 43, 44, 45, 46, 47, 48, 49, 50, 51, 52, 53, 54, 55, 56, 57, 58, 59, 60, 61, 62, 63, 64, 65, 66, 67, 68, 69, 70, 71, 72, 73, 74, 75, 76, 77, 78, 79, 80, 81, 82, 83, 84, 85, 86, 87, 88, 89, 90, 91, 92, 93, 94, 95, 96, 97, 98, 99, 100, 102, 115]\n"
     ]
    }
   ],
   "source": [
    "# discart the ages bellow zero\n",
    "df = df.query('age >= 0')\n",
    "print(sorted(df.age.unique()))"
   ]
  },
  {
   "cell_type": "code",
   "execution_count": 16,
   "metadata": {},
   "outputs": [
    {
     "data": {
      "text/plain": [
       "array([0, 1, 2, 3, 4], dtype=int64)"
      ]
     },
     "execution_count": 16,
     "metadata": {},
     "output_type": "execute_result"
    }
   ],
   "source": [
    "df['handicap'].unique()"
   ]
  },
  {
   "cell_type": "code",
   "execution_count": 17,
   "metadata": {},
   "outputs": [
    {
     "data": {
      "text/plain": [
       "0    108285\n",
       "1      2042\n",
       "2       183\n",
       "3        13\n",
       "4         3\n",
       "Name: handicap, dtype: int64"
      ]
     },
     "execution_count": 17,
     "metadata": {},
     "output_type": "execute_result"
    }
   ],
   "source": [
    "df['handicap'].value_counts()"
   ]
  },
  {
   "cell_type": "code",
   "execution_count": 18,
   "metadata": {},
   "outputs": [],
   "source": [
    "# # if we wont categorize handicap into binary - 0/1\n",
    "# df.loc[df.handicap > 1, 'handicap'] = 1\n",
    "# df.handicap.unique()"
   ]
  },
  {
   "cell_type": "code",
   "execution_count": 19,
   "metadata": {},
   "outputs": [
    {
     "data": {
      "text/plain": [
       "0        Friday\n",
       "1        Friday\n",
       "2        Friday\n",
       "3        Friday\n",
       "4        Friday\n",
       "         ...   \n",
       "6995     Friday\n",
       "6996    Tuesday\n",
       "6997    Tuesday\n",
       "6998    Tuesday\n",
       "6999    Tuesday\n",
       "Name: appointment_week_day, Length: 7000, dtype: object"
      ]
     },
     "execution_count": 19,
     "metadata": {},
     "output_type": "execute_result"
    }
   ],
   "source": [
    "# creating the first column \"appointment_week_day\"\n",
    "df['appointment_week_day'] = df.appointment_day.map(lambda day: day.day_name())\n",
    "df.appointment_week_day.head(7000)"
   ]
  },
  {
   "cell_type": "code",
   "execution_count": 20,
   "metadata": {},
   "outputs": [],
   "source": [
    "# solving problem \"DatetimeArray subtraction must have the same timezones or no timezones\"\n",
    "#df['appointment_day'] = df['appointment_day'].dt.tz_convert(None)\n",
    "df['scheduled_day'] = df['scheduled_day'].dt.tz_convert(None)"
   ]
  },
  {
   "cell_type": "code",
   "execution_count": 21,
   "metadata": {},
   "outputs": [
    {
     "data": {
      "text/plain": [
       "0   -1 days +05:21:52\n",
       "1   -1 days +07:51:33\n",
       "2   -1 days +07:40:56\n",
       "3   -1 days +06:30:29\n",
       "4   -1 days +07:52:37\n",
       "5     1 days 15:23:09\n",
       "6     1 days 08:54:48\n",
       "7     1 days 08:20:02\n",
       "8   -1 days +15:57:44\n",
       "9     1 days 11:11:35\n",
       "Name: appointment_waiting_days, dtype: timedelta64[ns]"
      ]
     },
     "execution_count": 21,
     "metadata": {},
     "output_type": "execute_result"
    }
   ],
   "source": [
    "# creating the second column \"appointment_waiting_time\"\n",
    "df[\"appointment_waiting_days\"] = df.appointment_day - df.scheduled_day\n",
    "df.appointment_waiting_days.head(10)"
   ]
  },
  {
   "cell_type": "code",
   "execution_count": 22,
   "metadata": {},
   "outputs": [
    {
     "data": {
      "text/plain": [
       "0    0\n",
       "1    0\n",
       "2    0\n",
       "3    0\n",
       "4    0\n",
       "5    1\n",
       "6    1\n",
       "7    1\n",
       "8    0\n",
       "9    1\n",
       "Name: appointment_waiting_days, dtype: int64"
      ]
     },
     "execution_count": 22,
     "metadata": {},
     "output_type": "execute_result"
    }
   ],
   "source": [
    "# well it seams that some are treated on the same day that they scheduled\n",
    "# we can prevent that weird value by calculating the the \"absolute value\" of this column\n",
    "# and then converting the \"time\" to \"days\"\n",
    "df.appointment_waiting_days = df.appointment_waiting_days.abs().dt.days\n",
    "df.appointment_waiting_days.head(10)"
   ]
  },
  {
   "cell_type": "code",
   "execution_count": 23,
   "metadata": {},
   "outputs": [
    {
     "data": {
      "text/html": [
       "<div>\n",
       "<style scoped>\n",
       "    .dataframe tbody tr th:only-of-type {\n",
       "        vertical-align: middle;\n",
       "    }\n",
       "\n",
       "    .dataframe tbody tr th {\n",
       "        vertical-align: top;\n",
       "    }\n",
       "\n",
       "    .dataframe thead th {\n",
       "        text-align: right;\n",
       "    }\n",
       "</style>\n",
       "<table border=\"1\" class=\"dataframe\">\n",
       "  <thead>\n",
       "    <tr style=\"text-align: right;\">\n",
       "      <th></th>\n",
       "      <th>patient_id</th>\n",
       "      <th>gender</th>\n",
       "      <th>scheduled_day</th>\n",
       "      <th>appointment_day</th>\n",
       "      <th>age</th>\n",
       "      <th>neighbourhood</th>\n",
       "      <th>scholarship</th>\n",
       "      <th>hipertension</th>\n",
       "      <th>diabetes</th>\n",
       "      <th>alcoholism</th>\n",
       "      <th>handicap</th>\n",
       "      <th>received_sms</th>\n",
       "      <th>no_show</th>\n",
       "      <th>appointment_week_day</th>\n",
       "      <th>appointment_waiting_days</th>\n",
       "    </tr>\n",
       "  </thead>\n",
       "  <tbody>\n",
       "    <tr>\n",
       "      <td>0</td>\n",
       "      <td>29872499824296</td>\n",
       "      <td>F</td>\n",
       "      <td>2016-04-29 18:38:08</td>\n",
       "      <td>2016-04-29</td>\n",
       "      <td>62</td>\n",
       "      <td>JARDIM DA PENHA</td>\n",
       "      <td>0</td>\n",
       "      <td>1</td>\n",
       "      <td>0</td>\n",
       "      <td>0</td>\n",
       "      <td>0</td>\n",
       "      <td>0</td>\n",
       "      <td>no</td>\n",
       "      <td>Friday</td>\n",
       "      <td>0</td>\n",
       "    </tr>\n",
       "    <tr>\n",
       "      <td>1</td>\n",
       "      <td>558997776694438</td>\n",
       "      <td>M</td>\n",
       "      <td>2016-04-29 16:08:27</td>\n",
       "      <td>2016-04-29</td>\n",
       "      <td>56</td>\n",
       "      <td>JARDIM DA PENHA</td>\n",
       "      <td>0</td>\n",
       "      <td>0</td>\n",
       "      <td>0</td>\n",
       "      <td>0</td>\n",
       "      <td>0</td>\n",
       "      <td>0</td>\n",
       "      <td>no</td>\n",
       "      <td>Friday</td>\n",
       "      <td>0</td>\n",
       "    </tr>\n",
       "    <tr>\n",
       "      <td>2</td>\n",
       "      <td>4262962299951</td>\n",
       "      <td>F</td>\n",
       "      <td>2016-04-29 16:19:04</td>\n",
       "      <td>2016-04-29</td>\n",
       "      <td>62</td>\n",
       "      <td>MATA DA PRAIA</td>\n",
       "      <td>0</td>\n",
       "      <td>0</td>\n",
       "      <td>0</td>\n",
       "      <td>0</td>\n",
       "      <td>0</td>\n",
       "      <td>0</td>\n",
       "      <td>no</td>\n",
       "      <td>Friday</td>\n",
       "      <td>0</td>\n",
       "    </tr>\n",
       "    <tr>\n",
       "      <td>3</td>\n",
       "      <td>867951213174</td>\n",
       "      <td>F</td>\n",
       "      <td>2016-04-29 17:29:31</td>\n",
       "      <td>2016-04-29</td>\n",
       "      <td>8</td>\n",
       "      <td>PONTAL DE CAMBURI</td>\n",
       "      <td>0</td>\n",
       "      <td>0</td>\n",
       "      <td>0</td>\n",
       "      <td>0</td>\n",
       "      <td>0</td>\n",
       "      <td>0</td>\n",
       "      <td>no</td>\n",
       "      <td>Friday</td>\n",
       "      <td>0</td>\n",
       "    </tr>\n",
       "    <tr>\n",
       "      <td>4</td>\n",
       "      <td>8841186448183</td>\n",
       "      <td>F</td>\n",
       "      <td>2016-04-29 16:07:23</td>\n",
       "      <td>2016-04-29</td>\n",
       "      <td>56</td>\n",
       "      <td>JARDIM DA PENHA</td>\n",
       "      <td>0</td>\n",
       "      <td>1</td>\n",
       "      <td>1</td>\n",
       "      <td>0</td>\n",
       "      <td>0</td>\n",
       "      <td>0</td>\n",
       "      <td>no</td>\n",
       "      <td>Friday</td>\n",
       "      <td>0</td>\n",
       "    </tr>\n",
       "  </tbody>\n",
       "</table>\n",
       "</div>"
      ],
      "text/plain": [
       "        patient_id gender       scheduled_day appointment_day  age  \\\n",
       "0   29872499824296      F 2016-04-29 18:38:08      2016-04-29   62   \n",
       "1  558997776694438      M 2016-04-29 16:08:27      2016-04-29   56   \n",
       "2    4262962299951      F 2016-04-29 16:19:04      2016-04-29   62   \n",
       "3     867951213174      F 2016-04-29 17:29:31      2016-04-29    8   \n",
       "4    8841186448183      F 2016-04-29 16:07:23      2016-04-29   56   \n",
       "\n",
       "       neighbourhood  scholarship  hipertension  diabetes  alcoholism  \\\n",
       "0    JARDIM DA PENHA            0             1         0           0   \n",
       "1    JARDIM DA PENHA            0             0         0           0   \n",
       "2      MATA DA PRAIA            0             0         0           0   \n",
       "3  PONTAL DE CAMBURI            0             0         0           0   \n",
       "4    JARDIM DA PENHA            0             1         1           0   \n",
       "\n",
       "   handicap  received_sms no_show appointment_week_day  \\\n",
       "0         0             0      no               Friday   \n",
       "1         0             0      no               Friday   \n",
       "2         0             0      no               Friday   \n",
       "3         0             0      no               Friday   \n",
       "4         0             0      no               Friday   \n",
       "\n",
       "   appointment_waiting_days  \n",
       "0                         0  \n",
       "1                         0  \n",
       "2                         0  \n",
       "3                         0  \n",
       "4                         0  "
      ]
     },
     "execution_count": 23,
     "metadata": {},
     "output_type": "execute_result"
    }
   ],
   "source": [
    "#  our data looks cleanning\n",
    "df.head(5)"
   ]
  },
  {
   "cell_type": "markdown",
   "metadata": {},
   "source": [
    "\n",
    "## Wide loook on our data\n"
   ]
  },
  {
   "cell_type": "code",
   "execution_count": 24,
   "metadata": {},
   "outputs": [
    {
     "data": {
      "text/html": [
       "<div>\n",
       "<style scoped>\n",
       "    .dataframe tbody tr th:only-of-type {\n",
       "        vertical-align: middle;\n",
       "    }\n",
       "\n",
       "    .dataframe tbody tr th {\n",
       "        vertical-align: top;\n",
       "    }\n",
       "\n",
       "    .dataframe thead th {\n",
       "        text-align: right;\n",
       "    }\n",
       "</style>\n",
       "<table border=\"1\" class=\"dataframe\">\n",
       "  <thead>\n",
       "    <tr style=\"text-align: right;\">\n",
       "      <th></th>\n",
       "      <th>age</th>\n",
       "      <th>scholarship</th>\n",
       "      <th>hipertension</th>\n",
       "      <th>diabetes</th>\n",
       "      <th>alcoholism</th>\n",
       "      <th>handicap</th>\n",
       "      <th>received_sms</th>\n",
       "      <th>appointment_waiting_days</th>\n",
       "    </tr>\n",
       "  </thead>\n",
       "  <tbody>\n",
       "    <tr>\n",
       "      <td>count</td>\n",
       "      <td>110526.000000</td>\n",
       "      <td>110526.000000</td>\n",
       "      <td>110526.000000</td>\n",
       "      <td>110526.000000</td>\n",
       "      <td>110526.000000</td>\n",
       "      <td>110526.000000</td>\n",
       "      <td>110526.000000</td>\n",
       "      <td>110526.000000</td>\n",
       "    </tr>\n",
       "    <tr>\n",
       "      <td>mean</td>\n",
       "      <td>37.089219</td>\n",
       "      <td>0.098266</td>\n",
       "      <td>0.197248</td>\n",
       "      <td>0.071865</td>\n",
       "      <td>0.030400</td>\n",
       "      <td>0.022248</td>\n",
       "      <td>0.321029</td>\n",
       "      <td>9.532915</td>\n",
       "    </tr>\n",
       "    <tr>\n",
       "      <td>std</td>\n",
       "      <td>23.110026</td>\n",
       "      <td>0.297676</td>\n",
       "      <td>0.397923</td>\n",
       "      <td>0.258266</td>\n",
       "      <td>0.171686</td>\n",
       "      <td>0.161543</td>\n",
       "      <td>0.466874</td>\n",
       "      <td>15.027724</td>\n",
       "    </tr>\n",
       "    <tr>\n",
       "      <td>min</td>\n",
       "      <td>0.000000</td>\n",
       "      <td>0.000000</td>\n",
       "      <td>0.000000</td>\n",
       "      <td>0.000000</td>\n",
       "      <td>0.000000</td>\n",
       "      <td>0.000000</td>\n",
       "      <td>0.000000</td>\n",
       "      <td>0.000000</td>\n",
       "    </tr>\n",
       "    <tr>\n",
       "      <td>25%</td>\n",
       "      <td>18.000000</td>\n",
       "      <td>0.000000</td>\n",
       "      <td>0.000000</td>\n",
       "      <td>0.000000</td>\n",
       "      <td>0.000000</td>\n",
       "      <td>0.000000</td>\n",
       "      <td>0.000000</td>\n",
       "      <td>0.000000</td>\n",
       "    </tr>\n",
       "    <tr>\n",
       "      <td>50%</td>\n",
       "      <td>37.000000</td>\n",
       "      <td>0.000000</td>\n",
       "      <td>0.000000</td>\n",
       "      <td>0.000000</td>\n",
       "      <td>0.000000</td>\n",
       "      <td>0.000000</td>\n",
       "      <td>0.000000</td>\n",
       "      <td>3.000000</td>\n",
       "    </tr>\n",
       "    <tr>\n",
       "      <td>75%</td>\n",
       "      <td>55.000000</td>\n",
       "      <td>0.000000</td>\n",
       "      <td>0.000000</td>\n",
       "      <td>0.000000</td>\n",
       "      <td>0.000000</td>\n",
       "      <td>0.000000</td>\n",
       "      <td>1.000000</td>\n",
       "      <td>14.000000</td>\n",
       "    </tr>\n",
       "    <tr>\n",
       "      <td>max</td>\n",
       "      <td>115.000000</td>\n",
       "      <td>1.000000</td>\n",
       "      <td>1.000000</td>\n",
       "      <td>1.000000</td>\n",
       "      <td>1.000000</td>\n",
       "      <td>4.000000</td>\n",
       "      <td>1.000000</td>\n",
       "      <td>178.000000</td>\n",
       "    </tr>\n",
       "  </tbody>\n",
       "</table>\n",
       "</div>"
      ],
      "text/plain": [
       "                 age    scholarship   hipertension       diabetes  \\\n",
       "count  110526.000000  110526.000000  110526.000000  110526.000000   \n",
       "mean       37.089219       0.098266       0.197248       0.071865   \n",
       "std        23.110026       0.297676       0.397923       0.258266   \n",
       "min         0.000000       0.000000       0.000000       0.000000   \n",
       "25%        18.000000       0.000000       0.000000       0.000000   \n",
       "50%        37.000000       0.000000       0.000000       0.000000   \n",
       "75%        55.000000       0.000000       0.000000       0.000000   \n",
       "max       115.000000       1.000000       1.000000       1.000000   \n",
       "\n",
       "          alcoholism       handicap   received_sms  appointment_waiting_days  \n",
       "count  110526.000000  110526.000000  110526.000000             110526.000000  \n",
       "mean        0.030400       0.022248       0.321029                  9.532915  \n",
       "std         0.171686       0.161543       0.466874                 15.027724  \n",
       "min         0.000000       0.000000       0.000000                  0.000000  \n",
       "25%         0.000000       0.000000       0.000000                  0.000000  \n",
       "50%         0.000000       0.000000       0.000000                  3.000000  \n",
       "75%         0.000000       0.000000       1.000000                 14.000000  \n",
       "max         1.000000       4.000000       1.000000                178.000000  "
      ]
     },
     "execution_count": 24,
     "metadata": {},
     "output_type": "execute_result"
    }
   ],
   "source": [
    "# first let's re-see our dataset description\n",
    "df.describe()"
   ]
  },
  {
   "cell_type": "code",
   "execution_count": 25,
   "metadata": {},
   "outputs": [
    {
     "name": "stdout",
     "output_type": "stream",
     "text": [
      "<class 'pandas.core.frame.DataFrame'>\n",
      "Int64Index: 110526 entries, 0 to 110526\n",
      "Data columns (total 15 columns):\n",
      "patient_id                  110526 non-null object\n",
      "gender                      110526 non-null object\n",
      "scheduled_day               110526 non-null datetime64[ns]\n",
      "appointment_day             110526 non-null datetime64[ns]\n",
      "age                         110526 non-null int64\n",
      "neighbourhood               110526 non-null object\n",
      "scholarship                 110526 non-null int64\n",
      "hipertension                110526 non-null int64\n",
      "diabetes                    110526 non-null int64\n",
      "alcoholism                  110526 non-null int64\n",
      "handicap                    110526 non-null int64\n",
      "received_sms                110526 non-null int64\n",
      "no_show                     110526 non-null object\n",
      "appointment_week_day        110526 non-null object\n",
      "appointment_waiting_days    110526 non-null int64\n",
      "dtypes: datetime64[ns](2), int64(8), object(5)\n",
      "memory usage: 13.5+ MB\n"
     ]
    }
   ],
   "source": [
    "df.info() # Waiiting days into int?"
   ]
  },
  {
   "cell_type": "code",
   "execution_count": 26,
   "metadata": {},
   "outputs": [
    {
     "data": {
      "image/png": "[encoded data removed]",
      "text/plain": [
       "<Figure size 1440x1080 with 9 Axes>"
      ]
     },
     "metadata": {
      "needs_background": "light"
     },
     "output_type": "display_data"
    }
   ],
   "source": [
    "# and plot basic histogram charts\n",
    "df.hist(figsize=(20, 15), bins = 20);"
   ]
  },
  {
   "cell_type": "markdown",
   "metadata": {},
   "source": [
    "- most of the patients \n",
    "  - are bellow 60 years old\n",
    "  - doesn't suffer from alcoholism/diabetes/hipertension\n",
    "  - are not handicapped\n",
    "  - doesn't received a reminder sms\n",
    "  - aren't in the \"Bolsa familia\" program\n",
    "  - doesn't missed the appointment\n",
    "\n"
   ]
  },
  {
   "cell_type": "markdown",
   "metadata": {},
   "source": [
    "Well, we can't see too well our data, let's plot a better chart"
   ]
  },
  {
   "cell_type": "markdown",
   "metadata": {},
   "source": [
    "## 3. Basic feature engineering"
   ]
  },
  {
   "cell_type": "code",
   "execution_count": 27,
   "metadata": {},
   "outputs": [
    {
     "data": {
      "text/html": [
       "<div>\n",
       "<style scoped>\n",
       "    .dataframe tbody tr th:only-of-type {\n",
       "        vertical-align: middle;\n",
       "    }\n",
       "\n",
       "    .dataframe tbody tr th {\n",
       "        vertical-align: top;\n",
       "    }\n",
       "\n",
       "    .dataframe thead th {\n",
       "        text-align: right;\n",
       "    }\n",
       "</style>\n",
       "<table border=\"1\" class=\"dataframe\">\n",
       "  <thead>\n",
       "    <tr style=\"text-align: right;\">\n",
       "      <th></th>\n",
       "      <th>patient_id</th>\n",
       "      <th>gender</th>\n",
       "      <th>scheduled_day</th>\n",
       "      <th>appointment_day</th>\n",
       "      <th>age</th>\n",
       "      <th>neighbourhood</th>\n",
       "      <th>scholarship</th>\n",
       "      <th>hipertension</th>\n",
       "      <th>diabetes</th>\n",
       "      <th>alcoholism</th>\n",
       "      <th>handicap</th>\n",
       "      <th>received_sms</th>\n",
       "      <th>no_show</th>\n",
       "      <th>appointment_week_day</th>\n",
       "      <th>appointment_waiting_days</th>\n",
       "    </tr>\n",
       "  </thead>\n",
       "  <tbody>\n",
       "    <tr>\n",
       "      <td>89587</td>\n",
       "      <td>3957599481989</td>\n",
       "      <td>F</td>\n",
       "      <td>2016-04-25 13:32:28</td>\n",
       "      <td>2016-06-01</td>\n",
       "      <td>0</td>\n",
       "      <td>BONFIM</td>\n",
       "      <td>0</td>\n",
       "      <td>0</td>\n",
       "      <td>0</td>\n",
       "      <td>0</td>\n",
       "      <td>0</td>\n",
       "      <td>0</td>\n",
       "      <td>yes</td>\n",
       "      <td>Wednesday</td>\n",
       "      <td>36</td>\n",
       "    </tr>\n",
       "    <tr>\n",
       "      <td>92942</td>\n",
       "      <td>7677448812919</td>\n",
       "      <td>M</td>\n",
       "      <td>2016-05-30 11:33:24</td>\n",
       "      <td>2016-06-08</td>\n",
       "      <td>26</td>\n",
       "      <td>SANTA LÚCIA</td>\n",
       "      <td>0</td>\n",
       "      <td>0</td>\n",
       "      <td>0</td>\n",
       "      <td>0</td>\n",
       "      <td>0</td>\n",
       "      <td>1</td>\n",
       "      <td>yes</td>\n",
       "      <td>Wednesday</td>\n",
       "      <td>8</td>\n",
       "    </tr>\n",
       "    <tr>\n",
       "      <td>103847</td>\n",
       "      <td>342954879</td>\n",
       "      <td>F</td>\n",
       "      <td>2016-06-08 06:57:09</td>\n",
       "      <td>2016-06-08</td>\n",
       "      <td>38</td>\n",
       "      <td>SANTO ANDRÉ</td>\n",
       "      <td>1</td>\n",
       "      <td>0</td>\n",
       "      <td>0</td>\n",
       "      <td>0</td>\n",
       "      <td>0</td>\n",
       "      <td>0</td>\n",
       "      <td>no</td>\n",
       "      <td>Wednesday</td>\n",
       "      <td>0</td>\n",
       "    </tr>\n",
       "    <tr>\n",
       "      <td>28947</td>\n",
       "      <td>98796838771249</td>\n",
       "      <td>M</td>\n",
       "      <td>2016-05-02 08:49:59</td>\n",
       "      <td>2016-05-12</td>\n",
       "      <td>35</td>\n",
       "      <td>ROMÃO</td>\n",
       "      <td>0</td>\n",
       "      <td>0</td>\n",
       "      <td>0</td>\n",
       "      <td>0</td>\n",
       "      <td>0</td>\n",
       "      <td>1</td>\n",
       "      <td>no</td>\n",
       "      <td>Thursday</td>\n",
       "      <td>9</td>\n",
       "    </tr>\n",
       "    <tr>\n",
       "      <td>76572</td>\n",
       "      <td>51271164184928</td>\n",
       "      <td>F</td>\n",
       "      <td>2016-05-13 14:52:07</td>\n",
       "      <td>2016-05-13</td>\n",
       "      <td>41</td>\n",
       "      <td>ANDORINHAS</td>\n",
       "      <td>1</td>\n",
       "      <td>1</td>\n",
       "      <td>0</td>\n",
       "      <td>0</td>\n",
       "      <td>0</td>\n",
       "      <td>0</td>\n",
       "      <td>no</td>\n",
       "      <td>Friday</td>\n",
       "      <td>0</td>\n",
       "    </tr>\n",
       "    <tr>\n",
       "      <td>49338</td>\n",
       "      <td>21212445622584</td>\n",
       "      <td>F</td>\n",
       "      <td>2016-04-25 17:19:46</td>\n",
       "      <td>2016-05-20</td>\n",
       "      <td>8</td>\n",
       "      <td>JARDIM DA PENHA</td>\n",
       "      <td>0</td>\n",
       "      <td>0</td>\n",
       "      <td>0</td>\n",
       "      <td>0</td>\n",
       "      <td>0</td>\n",
       "      <td>0</td>\n",
       "      <td>yes</td>\n",
       "      <td>Friday</td>\n",
       "      <td>24</td>\n",
       "    </tr>\n",
       "    <tr>\n",
       "      <td>63637</td>\n",
       "      <td>624921835131</td>\n",
       "      <td>M</td>\n",
       "      <td>2016-05-03 13:53:59</td>\n",
       "      <td>2016-05-04</td>\n",
       "      <td>3</td>\n",
       "      <td>NOVA PALESTINA</td>\n",
       "      <td>0</td>\n",
       "      <td>0</td>\n",
       "      <td>0</td>\n",
       "      <td>0</td>\n",
       "      <td>0</td>\n",
       "      <td>0</td>\n",
       "      <td>no</td>\n",
       "      <td>Wednesday</td>\n",
       "      <td>0</td>\n",
       "    </tr>\n",
       "    <tr>\n",
       "      <td>11635</td>\n",
       "      <td>92336159128874</td>\n",
       "      <td>M</td>\n",
       "      <td>2016-05-20 14:11:26</td>\n",
       "      <td>2016-05-25</td>\n",
       "      <td>38</td>\n",
       "      <td>MARUÍPE</td>\n",
       "      <td>0</td>\n",
       "      <td>0</td>\n",
       "      <td>0</td>\n",
       "      <td>0</td>\n",
       "      <td>0</td>\n",
       "      <td>1</td>\n",
       "      <td>no</td>\n",
       "      <td>Wednesday</td>\n",
       "      <td>4</td>\n",
       "    </tr>\n",
       "    <tr>\n",
       "      <td>65870</td>\n",
       "      <td>352216741419</td>\n",
       "      <td>F</td>\n",
       "      <td>2016-05-06 11:17:34</td>\n",
       "      <td>2016-05-06</td>\n",
       "      <td>10</td>\n",
       "      <td>SÃO CRISTÓVÃO</td>\n",
       "      <td>0</td>\n",
       "      <td>0</td>\n",
       "      <td>0</td>\n",
       "      <td>0</td>\n",
       "      <td>0</td>\n",
       "      <td>0</td>\n",
       "      <td>no</td>\n",
       "      <td>Friday</td>\n",
       "      <td>0</td>\n",
       "    </tr>\n",
       "    <tr>\n",
       "      <td>43408</td>\n",
       "      <td>692248461344</td>\n",
       "      <td>F</td>\n",
       "      <td>2016-04-26 17:56:37</td>\n",
       "      <td>2016-05-05</td>\n",
       "      <td>74</td>\n",
       "      <td>GOIABEIRAS</td>\n",
       "      <td>0</td>\n",
       "      <td>0</td>\n",
       "      <td>0</td>\n",
       "      <td>0</td>\n",
       "      <td>0</td>\n",
       "      <td>1</td>\n",
       "      <td>no</td>\n",
       "      <td>Thursday</td>\n",
       "      <td>8</td>\n",
       "    </tr>\n",
       "  </tbody>\n",
       "</table>\n",
       "</div>"
      ],
      "text/plain": [
       "            patient_id gender       scheduled_day appointment_day  age  \\\n",
       "89587    3957599481989      F 2016-04-25 13:32:28      2016-06-01    0   \n",
       "92942    7677448812919      M 2016-05-30 11:33:24      2016-06-08   26   \n",
       "103847       342954879      F 2016-06-08 06:57:09      2016-06-08   38   \n",
       "28947   98796838771249      M 2016-05-02 08:49:59      2016-05-12   35   \n",
       "76572   51271164184928      F 2016-05-13 14:52:07      2016-05-13   41   \n",
       "49338   21212445622584      F 2016-04-25 17:19:46      2016-05-20    8   \n",
       "63637     624921835131      M 2016-05-03 13:53:59      2016-05-04    3   \n",
       "11635   92336159128874      M 2016-05-20 14:11:26      2016-05-25   38   \n",
       "65870     352216741419      F 2016-05-06 11:17:34      2016-05-06   10   \n",
       "43408     692248461344      F 2016-04-26 17:56:37      2016-05-05   74   \n",
       "\n",
       "          neighbourhood  scholarship  hipertension  diabetes  alcoholism  \\\n",
       "89587            BONFIM            0             0         0           0   \n",
       "92942       SANTA LÚCIA            0             0         0           0   \n",
       "103847      SANTO ANDRÉ            1             0         0           0   \n",
       "28947             ROMÃO            0             0         0           0   \n",
       "76572        ANDORINHAS            1             1         0           0   \n",
       "49338   JARDIM DA PENHA            0             0         0           0   \n",
       "63637    NOVA PALESTINA            0             0         0           0   \n",
       "11635           MARUÍPE            0             0         0           0   \n",
       "65870     SÃO CRISTÓVÃO            0             0         0           0   \n",
       "43408        GOIABEIRAS            0             0         0           0   \n",
       "\n",
       "        handicap  received_sms no_show appointment_week_day  \\\n",
       "89587          0             0     yes            Wednesday   \n",
       "92942          0             1     yes            Wednesday   \n",
       "103847         0             0      no            Wednesday   \n",
       "28947          0             1      no             Thursday   \n",
       "76572          0             0      no               Friday   \n",
       "49338          0             0     yes               Friday   \n",
       "63637          0             0      no            Wednesday   \n",
       "11635          0             1      no            Wednesday   \n",
       "65870          0             0      no               Friday   \n",
       "43408          0             1      no             Thursday   \n",
       "\n",
       "        appointment_waiting_days  \n",
       "89587                         36  \n",
       "92942                          8  \n",
       "103847                         0  \n",
       "28947                          9  \n",
       "76572                          0  \n",
       "49338                         24  \n",
       "63637                          0  \n",
       "11635                          4  \n",
       "65870                          0  \n",
       "43408                          8  "
      ]
     },
     "execution_count": 27,
     "metadata": {},
     "output_type": "execute_result"
    }
   ],
   "source": [
    "df.sample(10)"
   ]
  },
  {
   "cell_type": "code",
   "execution_count": 28,
   "metadata": {},
   "outputs": [
    {
     "name": "stdout",
     "output_type": "stream",
     "text": [
      "<class 'pandas.core.frame.DataFrame'>\n",
      "Int64Index: 110526 entries, 0 to 110526\n",
      "Data columns (total 15 columns):\n",
      "patient_id                  110526 non-null object\n",
      "gender                      110526 non-null object\n",
      "scheduled_day               110526 non-null datetime64[ns]\n",
      "appointment_day             110526 non-null datetime64[ns]\n",
      "age                         110526 non-null int64\n",
      "neighbourhood               110526 non-null object\n",
      "scholarship                 110526 non-null int64\n",
      "hipertension                110526 non-null int64\n",
      "diabetes                    110526 non-null int64\n",
      "alcoholism                  110526 non-null int64\n",
      "handicap                    110526 non-null int64\n",
      "received_sms                110526 non-null int64\n",
      "no_show                     110526 non-null object\n",
      "appointment_week_day        110526 non-null object\n",
      "appointment_waiting_days    110526 non-null int64\n",
      "dtypes: datetime64[ns](2), int64(8), object(5)\n",
      "memory usage: 13.5+ MB\n"
     ]
    }
   ],
   "source": [
    "df.info()"
   ]
  },
  {
   "cell_type": "code",
   "execution_count": 29,
   "metadata": {},
   "outputs": [
    {
     "data": {
      "text/plain": [
       "Index(['patient_id', 'gender', 'neighbourhood', 'no_show',\n",
       "       'appointment_week_day'],\n",
       "      dtype='object')"
      ]
     },
     "execution_count": 29,
     "metadata": {},
     "output_type": "execute_result"
    }
   ],
   "source": [
    "df.select_dtypes(include=[np.object]).columns"
   ]
  },
  {
   "cell_type": "code",
   "execution_count": 30,
   "metadata": {},
   "outputs": [],
   "source": [
    "#ekstratction caterogical features form object columns \n",
    "cat_feats = df.select_dtypes(include=[np.object]).columns\n",
    "for cat_feat in cat_feats:\n",
    "    df['{0}_cat'.format(cat_feat)] = pd.factorize(df[cat_feat])[0]"
   ]
  },
  {
   "cell_type": "code",
   "execution_count": 31,
   "metadata": {},
   "outputs": [
    {
     "name": "stdout",
     "output_type": "stream",
     "text": [
      "<class 'pandas.core.frame.DataFrame'>\n",
      "Int64Index: 110526 entries, 0 to 110526\n",
      "Data columns (total 20 columns):\n",
      "patient_id                  110526 non-null object\n",
      "gender                      110526 non-null object\n",
      "scheduled_day               110526 non-null datetime64[ns]\n",
      "appointment_day             110526 non-null datetime64[ns]\n",
      "age                         110526 non-null int64\n",
      "neighbourhood               110526 non-null object\n",
      "scholarship                 110526 non-null int64\n",
      "hipertension                110526 non-null int64\n",
      "diabetes                    110526 non-null int64\n",
      "alcoholism                  110526 non-null int64\n",
      "handicap                    110526 non-null int64\n",
      "received_sms                110526 non-null int64\n",
      "no_show                     110526 non-null object\n",
      "appointment_week_day        110526 non-null object\n",
      "appointment_waiting_days    110526 non-null int64\n",
      "patient_id_cat              110526 non-null int64\n",
      "gender_cat                  110526 non-null int64\n",
      "neighbourhood_cat           110526 non-null int64\n",
      "no_show_cat                 110526 non-null int64\n",
      "appointment_week_day_cat    110526 non-null int64\n",
      "dtypes: datetime64[ns](2), int64(13), object(5)\n",
      "memory usage: 17.7+ MB\n"
     ]
    }
   ],
   "source": [
    "df.info()"
   ]
  },
  {
   "cell_type": "code",
   "execution_count": null,
   "metadata": {
    "jupyter": {
     "source_hidden": true
    }
   },
   "outputs": [],
   "source": []
  },
  {
   "cell_type": "code",
   "execution_count": 32,
   "metadata": {},
   "outputs": [
    {
     "data": {
      "text/plain": [
       "['age',\n",
       " 'scholarship',\n",
       " 'hipertension',\n",
       " 'diabetes',\n",
       " 'alcoholism',\n",
       " 'handicap',\n",
       " 'received_sms',\n",
       " 'appointment_waiting_days',\n",
       " 'gender_cat',\n",
       " 'neighbourhood_cat',\n",
       " 'appointment_week_day_cat']"
      ]
     },
     "execution_count": 32,
     "metadata": {},
     "output_type": "execute_result"
    }
   ],
   "source": [
    "### Geting all numeric feats and return X and y for basic predict\n",
    "\n",
    "def get_feats(df, black_list=['no_show_cat', 'patient_id_cat']):\n",
    "#def get_feats(df, black_list=['no_show_cat', 'patient_id_cat']):\n",
    "    feats = df.select_dtypes(np.number).columns\n",
    "    return [x for x in feats if x not in black_list]\n",
    "\n",
    "def get_X_y(df, feats=None):\n",
    "    if feats is None:\n",
    "        feats = get_feats(df)\n",
    "        \n",
    "    X = df[feats].values\n",
    "    y = df['no_show'].values\n",
    "    \n",
    "    return X, y\n",
    "\n",
    "X, y = get_X_y(df)\n",
    "feats = get_feats(df)\n",
    "feats "
   ]
  },
  {
   "cell_type": "markdown",
   "metadata": {},
   "source": [
    "## 4. Oversampling on predicting Show-Up/No-Show."
   ]
  },
  {
   "cell_type": "code",
   "execution_count": 33,
   "metadata": {},
   "outputs": [],
   "source": [
    "#pip install imbalanced-learn - only install library\n",
    "from collections import Counter\n",
    "from imblearn.over_sampling import RandomOverSampler\n",
    "\n",
    "#Laadind modeland validations metod\n",
    "from numpy import mean\n",
    "from sklearn.model_selection import train_test_split, KFold, StratifiedKFold, cross_val_score, cross_validate, cross_val_predict\n",
    "from sklearn.metrics import accuracy_score\n",
    "from sklearn.metrics import f1_score\n",
    "from sklearn.model_selection import RepeatedStratifiedKFold\n",
    "\n",
    "\n",
    "#models\n",
    "from sklearn.dummy import DummyClassifier\n",
    "from sklearn.linear_model import LogisticRegression\n",
    "from sklearn.tree import DecisionTreeClassifier\n",
    "from sklearn.ensemble import RandomForestClassifier, ExtraTreesClassifier\n",
    "import xgboost as xgb \n",
    "\n",
    "\n",
    "import scikitplot as skplt #vizualization learning courve etc.\n",
    "\n",
    "#from imblearn.pipeline import Pipeline\n"
   ]
  },
  {
   "cell_type": "code",
   "execution_count": 34,
   "metadata": {},
   "outputs": [
    {
     "name": "stdout",
     "output_type": "stream",
     "text": [
      "size of inbalaced dataset Counter({0: 9900, 1: 100})\n",
      "size of oversmapled dataset Counter({0: 9900, 1: 9900})\n"
     ]
    }
   ],
   "source": [
    "# Basic example of random oversampling \n",
    "\n",
    "from sklearn.datasets import make_classification\n",
    "# define dataset\n",
    "X_test, y_test = make_classification(n_samples=10000, weights=[0.99], flip_y=0)\n",
    "# summarize class distribution\n",
    "print('size of inbalaced dataset',Counter(y_test))\n",
    "# define oversampling strategy\n",
    "oversample = RandomOverSampler(sampling_strategy='minority')\n",
    "#oversample = RandomOverSampler(sampling_strategy='auto')\n",
    "#oversample = RandomOverSampler(sampling_strategy=0.5)\n",
    "# fit and apply the transform\n",
    "X_over, y_over = oversample.fit_resample(X_test, y_test)\n",
    "# summarize class distribution\n",
    "print('size of oversmapled dataset',Counter(y_over))"
   ]
  },
  {
   "cell_type": "code",
   "execution_count": 35,
   "metadata": {},
   "outputs": [
    {
     "data": {
      "text/plain": [
       "no     88207\n",
       "yes    22319\n",
       "Name: no_show, dtype: int64"
      ]
     },
     "execution_count": 35,
     "metadata": {},
     "output_type": "execute_result"
    }
   ],
   "source": [
    "# sisze of ours inbalacnced datset  - target value 'no_show' column\n",
    "df['no_show'].value_counts()"
   ]
  },
  {
   "cell_type": "code",
   "execution_count": 36,
   "metadata": {},
   "outputs": [
    {
     "data": {
      "image/png": "[encoded data removed]",
      "text/plain": [
       "<Figure size 432x288 with 1 Axes>"
      ]
     },
     "metadata": {
      "needs_background": "light"
     },
     "output_type": "display_data"
    }
   ],
   "source": [
    "plt.hist(y, bins=3);"
   ]
  },
  {
   "cell_type": "code",
   "execution_count": 37,
   "metadata": {},
   "outputs": [
    {
     "name": "stdout",
     "output_type": "stream",
     "text": [
      "X shape (110526, 11)\n",
      "y shape (110526,)\n",
      "accuracy: 0.731\n",
      "y_pred shape (110526,)\n"
     ]
    },
    {
     "data": {
      "image/png": "[encoded data removed]",
      "text/plain": [
       "<Figure size 432x288 with 1 Axes>"
      ]
     },
     "metadata": {
      "needs_background": "light"
     },
     "output_type": "display_data"
    },
    {
     "data": {
      "image/png": "[encoded data removed]",
      "text/plain": [
       "<Figure size 1080x360 with 1 Axes>"
      ]
     },
     "metadata": {
      "needs_background": "light"
     },
     "output_type": "display_data"
    }
   ],
   "source": [
    "## Predict of sisze inbalacnced datset(No-Show). We use F1 score \n",
    "model =  DecisionTreeClassifier()\n",
    "\n",
    "\n",
    "#plt.legend(loc='best')\n",
    "plt.hist(y, bins=3)\n",
    "#plt.plot(y, label=\"attended\")\n",
    "#plt.show();\n",
    "# evaluate \n",
    "cv = RepeatedStratifiedKFold(n_splits=5, n_repeats=1, random_state=1)\n",
    "scores = cross_val_score(model, X, y, scoring='accuracy', cv=cv, n_jobs=-1)\n",
    "score = mean(scores)\n",
    "\n",
    "print('X shape',X.shape)\n",
    "print('y shape',y.shape)\n",
    "#print('y shape',y.unique)\n",
    "\n",
    "print('accuracy: %.3f' % score)\n",
    "\n",
    "\n",
    "skplt.estimators.plot_learning_curve(model, X, y,figsize=(15,5), cv=cv,  scoring='accuracy');\n",
    "y_pred = cross_val_predict(model,X,y, cv=cv)\n",
    "print('y_pred shape',y_pred.shape)\n",
    "# plt.hist(y_pred, bins=3); \n",
    "# plt.schow"
   ]
  },
  {
   "cell_type": "code",
   "execution_count": 38,
   "metadata": {},
   "outputs": [
    {
     "data": {
      "image/png": "[encoded data removed]",
      "text/plain": [
       "<Figure size 432x288 with 1 Axes>"
      ]
     },
     "metadata": {
      "needs_background": "light"
     },
     "output_type": "display_data"
    }
   ],
   "source": [
    "# Distrubytion of prediction value\n",
    "y_pred = cross_val_predict(model,X,y, cv=cv)\n",
    "plt.hist(y_pred, bins=3); "
   ]
  },
  {
   "cell_type": "code",
   "execution_count": 39,
   "metadata": {},
   "outputs": [
    {
     "data": {
      "image/png": "[encoded data removed]",
      "text/plain": [
       "<Figure size 1080x360 with 2 Axes>"
      ]
     },
     "metadata": {
      "needs_background": "light"
     },
     "output_type": "display_data"
    }
   ],
   "source": [
    "title='Confusion Matrix'\n",
    "skplt.metrics.plot_confusion_matrix(y,y_pred,title=title, normalize=True, figsize=(15,5));"
   ]
  },
  {
   "cell_type": "code",
   "execution_count": 40,
   "metadata": {},
   "outputs": [
    {
     "data": {
      "text/plain": [
       "0.7296111322222826"
      ]
     },
     "execution_count": 40,
     "metadata": {},
     "output_type": "execute_result"
    }
   ],
   "source": [
    "accuracy_score(y, y_pred)"
   ]
  },
  {
   "cell_type": "code",
   "execution_count": 41,
   "metadata": {},
   "outputs": [
    {
     "name": "stdout",
     "output_type": "stream",
     "text": [
      "Distribution of target value  Counter({'no': 88207, 'yes': 88207})\n",
      "X shape (110526, 11)\n",
      "X_over shape (176414, 11)\n",
      "y shape (110526,)\n",
      "y_over shape (176414,)\n",
      "accuracy: 0.870\n",
      "y_pred shape (176414,)\n"
     ]
    },
    {
     "data": {
      "image/png": "[encoded data removed]",
      "text/plain": [
       "<Figure size 432x288 with 1 Axes>"
      ]
     },
     "metadata": {
      "needs_background": "light"
     },
     "output_type": "display_data"
    },
    {
     "data": {
      "image/png": "[encoded data removed]",
      "text/plain": [
       "<Figure size 1080x360 with 1 Axes>"
      ]
     },
     "metadata": {
      "needs_background": "light"
     },
     "output_type": "display_data"
    }
   ],
   "source": [
    "# define model\n",
    "model =  DecisionTreeClassifier()\n",
    "# print  fit and apply the transform\n",
    "oversample = RandomOverSampler(sampling_strategy='auto')\n",
    "X_over, y_over = oversample.fit_resample(X, y)\n",
    "\n",
    "# summarize class distribution\n",
    "print('Distribution of target value ',Counter(y_over))\n",
    "\n",
    "# evaluate \n",
    "cv = RepeatedStratifiedKFold(n_splits=5, n_repeats=1, random_state=1)\n",
    "scores = cross_val_score(model, X_over, y_over, scoring='accuracy', cv=cv, n_jobs=-1)\n",
    "score = mean(scores)\n",
    "\n",
    "print('X shape',X.shape)\n",
    "print('X_over shape',X_over.shape)\n",
    "print('y shape',y.shape)\n",
    "print('y_over shape',y_over.shape)\n",
    "\n",
    "print('accuracy: %.3f' % score)\n",
    "plt.hist(y_over, bins=3);\n",
    "skplt.estimators.plot_learning_curve(model, X_over, y_over,figsize=(15,5), cv=cv,  scoring=None);\n",
    "\n",
    "y_pred = cross_val_predict(model,X_over,y_over, cv=cv)\n",
    "print('y_pred shape',y_pred.shape)"
   ]
  },
  {
   "cell_type": "code",
   "execution_count": 42,
   "metadata": {},
   "outputs": [
    {
     "data": {
      "image/png": "[encoded data removed]",
      "text/plain": [
       "<Figure size 432x288 with 1 Axes>"
      ]
     },
     "metadata": {
      "needs_background": "light"
     },
     "output_type": "display_data"
    }
   ],
   "source": [
    "# Distribution of prediction value\n",
    "y_pred = cross_val_predict(model,X_over,y_over, cv=cv)\n",
    "plt.hist(y_pred, bins=3); "
   ]
  },
  {
   "cell_type": "code",
   "execution_count": 43,
   "metadata": {},
   "outputs": [
    {
     "data": {
      "text/plain": [
       "(176414,)"
      ]
     },
     "execution_count": 43,
     "metadata": {},
     "output_type": "execute_result"
    }
   ],
   "source": [
    "y_pred.shape"
   ]
  },
  {
   "cell_type": "code",
   "execution_count": 44,
   "metadata": {},
   "outputs": [
    {
     "data": {
      "text/plain": [
       "(176414,)"
      ]
     },
     "execution_count": 44,
     "metadata": {},
     "output_type": "execute_result"
    }
   ],
   "source": [
    "y_over.shape"
   ]
  },
  {
   "cell_type": "code",
   "execution_count": 45,
   "metadata": {},
   "outputs": [
    {
     "data": {
      "image/png": "[encoded data removed]",
      "text/plain": [
       "<Figure size 1080x360 with 2 Axes>"
      ]
     },
     "metadata": {
      "needs_background": "light"
     },
     "output_type": "display_data"
    }
   ],
   "source": [
    "title='Confusion Matrix'\n",
    "skplt.metrics.plot_confusion_matrix(y_over,y_pred,title=title, normalize=True, figsize=(15,5));"
   ]
  },
  {
   "cell_type": "code",
   "execution_count": 48,
   "metadata": {},
   "outputs": [
    {
     "data": {
      "text/plain": [
       "0.8706791977960933"
      ]
     },
     "execution_count": 48,
     "metadata": {},
     "output_type": "execute_result"
    }
   ],
   "source": [
    "accuracy_score(y_over, y_pred)"
   ]
  },
  {
   "cell_type": "code",
   "execution_count": 52,
   "metadata": {},
   "outputs": [
    {
     "name": "stdout",
     "output_type": "stream",
     "text": [
      "Counter({'no': 88207, 'yes': 88207})\n",
      "X shape (110526, 11)\n",
      "X_over shape (176414, 11)\n",
      "y shape (110526,)\n",
      "y_over shape (176414,)\n",
      "accuracy: 0.678\n"
     ]
    },
    {
     "data": {
      "image/png": "[encoded data removed]",
      "text/plain": [
       "<Figure size 432x288 with 1 Axes>"
      ]
     },
     "metadata": {
      "needs_background": "light"
     },
     "output_type": "display_data"
    },
    {
     "data": {
      "image/png": "[encoded data removed]",
      "text/plain": [
       "<Figure size 1080x360 with 1 Axes>"
      ]
     },
     "metadata": {
      "needs_background": "light"
     },
     "output_type": "display_data"
    }
   ],
   "source": [
    "# define model\n",
    "model =  xgb.XGBClassifier(random_state=0, n_estimators=40, max_depth = 4)\n",
    "# print  fit and apply the transform\n",
    "X_over, y_over = oversample.fit_resample(X, y)\n",
    "# summarize class distribution\n",
    "print(Counter(y_over))\n",
    "\n",
    "# evaluate \n",
    "cv = RepeatedStratifiedKFold(n_splits=5, n_repeats=1, random_state=1)\n",
    "scores = cross_val_score(model, X_over, y_over, scoring='accuracy', cv=cv, n_jobs=-1)\n",
    "score = mean(scores)\n",
    "\n",
    "\n",
    "print('X shape',X.shape)\n",
    "print('X_over shape',X_over.shape)\n",
    "print('y shape',y.shape)\n",
    "print('y_over shape',y_over.shape)\n",
    "\n",
    "\n",
    "print('accuracy: %.3f' % score)\n",
    "plt.hist(y_over, bins=3);\n",
    "skplt.estimators.plot_learning_curve(model, X_over, y_over,figsize=(15,5), cv=cv,  scoring=None);"
   ]
  },
  {
   "cell_type": "code",
   "execution_count": 53,
   "metadata": {},
   "outputs": [
    {
     "data": {
      "image/png": "[encoded data removed]",
      "text/plain": [
       "<Figure size 432x288 with 1 Axes>"
      ]
     },
     "metadata": {
      "needs_background": "light"
     },
     "output_type": "display_data"
    }
   ],
   "source": [
    "# Distribution of prediction value\n",
    "y_pred = cross_val_predict(model,X_over,y_over, cv=cv)\n",
    "plt.hist(y_pred, bins=3); "
   ]
  },
  {
   "cell_type": "code",
   "execution_count": 54,
   "metadata": {},
   "outputs": [
    {
     "data": {
      "image/png": "[encoded data removed]",
      "text/plain": [
       "<Figure size 1080x360 with 2 Axes>"
      ]
     },
     "metadata": {
      "needs_background": "light"
     },
     "output_type": "display_data"
    }
   ],
   "source": [
    "title='Confusion Matrix'\n",
    "skplt.metrics.plot_confusion_matrix(y_over,y_pred,title=title, normalize=True, figsize=(15,5));"
   ]
  },
  {
   "cell_type": "code",
   "execution_count": null,
   "metadata": {},
   "outputs": [],
   "source": [
    "def run_cv_model_normal_sampling(model_cls, model_params, X,y,feats,cv=3, scoring = 'accuracy', plot_learning_curve= True, plot_confusion_matrix = True, plot_feature_importances = True, plot_no_show_disb=True, plot_no_show_disb_pred = False):\n",
    "    \n",
    "    scores= cross_val_score(model_cls(**model_params),X,y, cv=cv, scoring=scoring)\n",
    "    print('mean{}, std={}, scores{}'.format(np.round(np.mean(scores),2), np.round(np.std(scores), 2), scores))\n",
    "    \n",
    "    model = None\n",
    "    if plot_no_show_disb:\n",
    "        plt.hist(y, bins=3);\n",
    "    if plot_no_show_disb_pred:\n",
    "        y_pred = cross_val_predict(model_cls(**model_params),X,y, cv=cv)\n",
    "        plt.hist(y_pred, bins=3); \n",
    "    if plot_learning_curve:\n",
    "        model = model_cls(**model_params)\n",
    "        model.fit(X,y)\n",
    "        title ='Learning Curve. {0}: {1}'.format(model_cls.__name__, model_params)\n",
    "        skplt.estimators.plot_learning_curve(model, X, y, title=title,figsize=(15,5), cv=cv, scoring=scoring);\n",
    "         \n",
    "    if plot_confusion_matrix:\n",
    "        y_pred = cross_val_predict(model_cls(**model_params),X,y, cv=cv)\n",
    "        title='Confusion Matrix. {0}: {1}'.format(model_cls.__name__, model_params)\n",
    "        skplt.metrics.plot_confusion_matrix(y,y_pred,title=title, normalize=True, figsize=(15,5));\n",
    "        \n",
    "    if plot_feature_importances:\n",
    "        if model is None:\n",
    "            model = model_cls(**model_params)\n",
    "            model.fit(X,y)\n",
    "        title ='Feature Importtance. {0}: {1}'.format(model_cls.__name__, model_params)\n",
    "        skplt.estimators.plot_feature_importances(model, feature_names= feats,title=title, x_tick_rotation = 90, figsize =(14,5));\n"
   ]
  },
  {
   "cell_type": "code",
   "execution_count": null,
   "metadata": {},
   "outputs": [],
   "source": [
    "def run_cv_model_oversampling(model_cls, model_params, X,y, feats,cv=3, scoring = 'accuracy', plot_learning_curve= True, plot_confusion_matrix = True, plot_feature_importances = True, plot_no_show_disb=True, plot_no_show_disb_pred = False, sampling_strategy= 'minority',):\n",
    "    #oversample = RandomOverSampler(sampling_strategy='minority')\n",
    "    #oversample = RandomOverSampler(sampling_strategy=0.5)\n",
    "    oversample = RandomOverSampler(sampling_strategy=sampling_strategy)\n",
    "    X_over, y_over = oversample.fit_resample(X, y)\n",
    "    \n",
    "    \n",
    "    scores= cross_val_score(model_cls(**model_params),X_over,y_over, cv=cv, scoring=scoring)\n",
    "    print('mean{}, std={}, scores{}'.format(np.round(np.mean(scores),2), np.round(np.std(scores), 2), scores))\n",
    "    \n",
    "    model = None\n",
    "    if plot_no_show_disb:\n",
    "        plt.hist(y_over, bins=3);\n",
    "#     if plot_no_show_disb_pred:\n",
    "#         y_pred = cross_val_predict(model_cls(**model_params),X_over,y_over, cv=cv)\n",
    "#         plt.hist(y_pred, bins=3); \n",
    "    if plot_learning_curve:\n",
    "        model = model_cls(**model_params)\n",
    "        model.fit(X_over,y_over)\n",
    "        title ='Learning Curve. {0}: {1}'.format(model_cls.__name__, model_params)\n",
    "        skplt.estimators.plot_learning_curve(model, X_over, y_over, title=title,figsize=(15,5), cv=cv, scoring=scoring);\n",
    "         \n",
    "    if plot_confusion_matrix:\n",
    "        y_pred = cross_val_predict(model_cls(**model_params),X_over,y_over, cv=cv)\n",
    "        title='Confusion Matrix. {0}: {1}'.format(model_cls.__name__, model_params)\n",
    "        skplt.metrics.plot_confusion_matrix(y_over,y_pred,title=title, normalize=True, figsize=(15,5));\n",
    "        \n",
    "    if plot_feature_importances:\n",
    "        if model is None:\n",
    "            model = model_cls(**model_params)\n",
    "            model.fit(X_over,y_over)\n",
    "        title ='Feature Importtance. {0}: {1}'.format(model_cls.__name__, model_params)\n",
    "        skplt.estimators.plot_feature_importances(model, feature_names= feats,title=title, x_tick_rotation = 90, figsize =(14,5));\n"
   ]
  },
  {
   "cell_type": "code",
   "execution_count": 63,
   "metadata": {},
   "outputs": [
    {
     "name": "stdout",
     "output_type": "stream",
     "text": [
      "mean0.71, std=0.0, scores[0.7105206  0.7107106  0.71662776]\n"
     ]
    },
    {
     "data": {
      "image/png": "[encoded data removed]",
      "text/plain": [
       "<Figure size 432x288 with 1 Axes>"
      ]
     },
     "metadata": {
      "needs_background": "light"
     },
     "output_type": "display_data"
    },
    {
     "data": {
      "image/png": "[encoded data removed]",
      "text/plain": [
       "<Figure size 1080x360 with 1 Axes>"
      ]
     },
     "metadata": {
      "needs_background": "light"
     },
     "output_type": "display_data"
    },
    {
     "data": {
      "image/png": "[encoded data removed]",
      "text/plain": [
       "<Figure size 1080x360 with 2 Axes>"
      ]
     },
     "metadata": {
      "needs_background": "light"
     },
     "output_type": "display_data"
    },
    {
     "data": {
      "image/png": "[encoded data removed]",
      "text/plain": [
       "<Figure size 1008x360 with 1 Axes>"
      ]
     },
     "metadata": {
      "needs_background": "light"
     },
     "output_type": "display_data"
    }
   ],
   "source": [
    "run_cv_model_normal_sampling(DecisionTreeClassifier, {}, X, y, feats,cv =3, scoring = 'accuracy')"
   ]
  },
  {
   "cell_type": "code",
   "execution_count": 64,
   "metadata": {},
   "outputs": [
    {
     "name": "stdout",
     "output_type": "stream",
     "text": [
      "mean0.83, std=0.01, scores[0.81722643 0.83197007 0.84409224]\n"
     ]
    },
    {
     "data": {
      "image/png": "[encoded data removed]",
      "text/plain": [
       "<Figure size 432x288 with 1 Axes>"
      ]
     },
     "metadata": {
      "needs_background": "light"
     },
     "output_type": "display_data"
    },
    {
     "data": {
      "image/png": "[encoded data removed]",
      "text/plain": [
       "<Figure size 1080x360 with 1 Axes>"
      ]
     },
     "metadata": {
      "needs_background": "light"
     },
     "output_type": "display_data"
    },
    {
     "data": {
      "image/png": "[encoded data removed]",
      "text/plain": [
       "<Figure size 1080x360 with 2 Axes>"
      ]
     },
     "metadata": {
      "needs_background": "light"
     },
     "output_type": "display_data"
    },
    {
     "data": {
      "image/png": "[encoded data removed]",
      "text/plain": [
       "<Figure size 1008x360 with 1 Axes>"
      ]
     },
     "metadata": {
      "needs_background": "light"
     },
     "output_type": "display_data"
    }
   ],
   "source": [
    "run_cv_model_oversampling(DecisionTreeClassifier, {}, X, y, feats)"
   ]
  },
  {
   "cell_type": "code",
   "execution_count": 65,
   "metadata": {},
   "outputs": [
    {
     "name": "stdout",
     "output_type": "stream",
     "text": [
      "mean0.8, std=0.0, scores[0.79808371 0.79805657 0.79805657]\n"
     ]
    },
    {
     "data": {
      "image/png": "[encoded data removed]",
      "text/plain": [
       "<Figure size 432x288 with 1 Axes>"
      ]
     },
     "metadata": {
      "needs_background": "light"
     },
     "output_type": "display_data"
    },
    {
     "data": {
      "image/png": "[encoded data removed]",
      "text/plain": [
       "<Figure size 1080x360 with 1 Axes>"
      ]
     },
     "metadata": {
      "needs_background": "light"
     },
     "output_type": "display_data"
    },
    {
     "data": {
      "image/png": "[encoded data removed]",
      "text/plain": [
       "<Figure size 1080x360 with 2 Axes>"
      ]
     },
     "metadata": {
      "needs_background": "light"
     },
     "output_type": "display_data"
    },
    {
     "data": {
      "image/png": "[encoded data removed]",
      "text/plain": [
       "<Figure size 1008x360 with 1 Axes>"
      ]
     },
     "metadata": {
      "needs_background": "light"
     },
     "output_type": "display_data"
    }
   ],
   "source": [
    "run_cv_model_normal_sampling(RandomForestClassifier, {'max_depth': 4, 'n_estimators': 40, 'random_state': 0}, X, y, feats)"
   ]
  },
  {
   "cell_type": "code",
   "execution_count": null,
   "metadata": {},
   "outputs": [
    {
     "name": "stdout",
     "output_type": "stream",
     "text": [
      "mean0.66, std=0.01, scores[0.64807414 0.67393929 0.67071968]\n"
     ]
    }
   ],
   "source": [
    "run_cv_model_oversampling(RandomForestClassifier, {'max_depth': 4, 'n_estimators': 40, accuracy_scoredom_state': 0}, X, y, feats)"
   ]
  },
  {
   "cell_type": "markdown",
   "metadata": {},
   "source": [
    "## References\n",
    "\n",
    "- Wikipedia - Sistema Único de Saúde (SUS). https://en.wikipedia.org/wiki/Sistema_%C3%9Anico_de_Sa%C3%BAde. Accessed in April, 2018.\n",
    "- Kaggle Data Analyst Nanodegree project - first attempt- https://www.kaggle.com/kuroski/data-analyst-nanodegree-project-first-attempt/notebook\n",
    "- https://machinelearningmastery.com/random-oversampling-and-undersampling-for-imbalanced-classification/\n"
   ]
  },
  {
   "cell_type": "markdown",
   "metadata": {},
   "source": [
    "## Trash"
   ]
  },
  {
   "cell_type": "code",
   "execution_count": null,
   "metadata": {},
   "outputs": [],
   "source": [
    "y_pred = cross_val_predict(RandomForestClassifier(max_depth =8, n_estimators = 80, max_features=11),X,y, cv=3)\n",
    "skplt.metrics.plot_confusion_matrix(y,y_pred, normalize=True, figsize=(10,10));"
   ]
  },
  {
   "cell_type": "code",
   "execution_count": null,
   "metadata": {},
   "outputs": [],
   "source": [
    "y_pred = cross_val_predict(RandomForestClassifier(max_depth =8, n_estimators = 80, max_features=11),X,y, cv=3)\n",
    "skplt.metrics.plot_confusion_matrix(y,y_pred, normalize=True, figsize=(10,10));"
   ]
  },
  {
   "cell_type": "code",
   "execution_count": null,
   "metadata": {},
   "outputs": [],
   "source": [
    "# define model\n",
    "model =  xgb.XGBClassifier(random_state=0, n_estimators=100)\n",
    "# print  fit and apply the transform\n",
    "X_over, y_over = oversample.fit_resample(X, y)\n",
    "# summarize class distribution\n",
    "print(Counter(y_over))\n",
    "\n",
    "# evaluate \n",
    "cv = RepeatedStratifiedKFold(n_splits=10, n_repeats=3, random_state=1)\n",
    "scores = cross_val_score(model, X_over, y_over, scoring='f1_micro', cv=cv, n_jobs=-1)\n",
    "score = mean(scores)\n",
    "\n",
    "\n",
    "print('X shape',X.shape)\n",
    "print('X_over shape',X_over.shape)\n",
    "print('y shape',y.shape)\n",
    "print('y_over shape',y_over.shape)\n",
    "\n",
    "\n",
    "print('F1 Score: %.3f' % score)\n",
    "plt.hist(y_over, bins=3);\n",
    "skplt.estimators.plot_learning_curve(model, X_over, y_over,figsize=(15,5), cv=cv,  scoring=None);"
   ]
  },
  {
   "cell_type": "markdown",
   "metadata": {},
   "source": []
  },
  {
   "cell_type": "code",
   "execution_count": null,
   "metadata": {},
   "outputs": [],
   "source": [
    "\n",
    "y_pred = cross_val_predict(model_cls(**model_params),X,y, cv=cv)\n",
    "title='Confusion Matrix. {0}: {1}'.format(model_cls.__name__, model_params)\n",
    "        skplt.metrics.plot_confusion_matrix(y,y_pred,title=title, normalize=True, figsize=(15,5));\n",
    "\n",
    "\n",
    "# example of evaluating a decision tree with random oversampling\n",
    "# define pipeline\n",
    "steps = [('over', RandomOverSampler()), ('model', DecisionTreeClassifier())]\n",
    "pipeline = Pipeline(steps=steps)\n",
    "# print  fit and apply the transform\n",
    "X_over, y_over = oversample.fit_resample(X, y)\n",
    "# summarize class distribution\n",
    "print(Counter(y_over))\n",
    "# evaluate pipeline\n",
    "cv = RepeatedStratifiedKFold(n_splits=10, n_repeats=3, random_state=1)\n",
    "scores = cross_val_score(pipeline, X, y, scoring='f1_micro', cv=cv, n_jobs=-1)\n",
    "score = mean(scores)\n",
    "print('F1 Score: %.3f' % score)"
   ]
  },
  {
   "cell_type": "code",
   "execution_count": null,
   "metadata": {},
   "outputs": [],
   "source": [
    "# example of evaluating a decision tree withot random oversampling\n",
    "# define pipeline\n",
    "steps = [ ('model', DecisionTreeClassifier())]\n",
    "pipeline = Pipeline(steps=steps)\n",
    "# print  fit and apply the transform\n",
    "#X_over, y_over = oversample.fit_resample(X, y)\n",
    "# summarize class distribution\n",
    "print(Counter(y_over))\n",
    "# evaluate pipeline\n",
    "cv = RepeatedStratifiedKFold(n_splits=10, n_repeats=3, random_state=1)\n",
    "scores = cross_val_score(pipeline, X, y, scoring='f1_micro', cv=cv, n_jobs=-1)\n",
    "score = mean(scores)\n",
    "print('F1 Score: %.3f' % score)"
   ]
  },
  {
   "cell_type": "code",
   "execution_count": null,
   "metadata": {},
   "outputs": [],
   "source": [
    "# define model\n",
    "model =  DecisionTreeClassifier()\n",
    "# print  fit and apply the transform\n",
    "X_over, y_over = oversample.fit_resample(X, y)\n",
    "# summarize class distribution\n",
    "print(Counter(y_over))\n",
    "\n",
    "# evaluate \n",
    "cv = RepeatedStratifiedKFold(n_splits=10, n_repeats=3, random_state=1)\n",
    "scores = cross_val_score(model, X_over, y_over, scoring='f1_micro', cv=cv, n_jobs=-1)\n",
    "score = mean(scores)\n",
    "\n",
    "print('X shape',X.shape)\n",
    "print('X_over shape',X_over.shape)\n",
    "print('F1 Score: %.3f' % score)\n",
    "plt.hist(y_over, bins=3);\n",
    "#skplt.estimators.plot_learning_curve(model, X_over, y_over,figsize=(15,5), cv=cv,  scoring=None);"
   ]
  },
  {
   "cell_type": "code",
   "execution_count": null,
   "metadata": {},
   "outputs": [],
   "source": [
    "# example of evaluating a decision tree with random oversampling\n",
    "from numpy import mean\n",
    "from sklearn.model_selection import cross_val_score\n",
    "from sklearn.model_selection import RepeatedStratifiedKFold\n",
    "from sklearn.tree import DecisionTreeClassifier\n",
    "from imblearn.pipeline import Pipeline\n",
    "import scikitplot as skplt\n",
    "\n",
    "# define pipeline\n",
    "steps = [('over', RandomOverSampler()), ('model', DecisionTreeClassifier())]\n",
    "pipeline = Pipeline(steps=steps)\n",
    "# print  fit and apply the transform\n",
    "X_over, y_over = oversample.fit_resample(X, y)\n",
    "# summarize class distribution\n",
    "print(Counter(y_over))\n",
    "\n",
    "# evaluate pipeline\n",
    "cv = RepeatedStratifiedKFold(n_splits=10, n_repeats=3, random_state=1)\n",
    "scores = cross_val_score(pipeline, X, y, scoring='f1_micro', cv=cv, n_jobs=-1)\n",
    "score = mean(scores)\n",
    "\n",
    "print('X shape',X.shape)\n",
    "print('X_over shape',X_over.shape)\n",
    "print('F1 Score: %.3f' % score)\n",
    "plt.hist(y, bins=3);\n",
    "#Learning Curve - it will take much time. it schould be  \n",
    "skplt.estimators.plot_learning_curve(pipeline, X, y,figsize=(15,5), cv=cv,  scoring=None);"
   ]
  },
  {
   "cell_type": "code",
   "execution_count": null,
   "metadata": {},
   "outputs": [],
   "source": [
    "\n",
    "# pipeline?!\n",
    "pipeline = Pipeline([ \n",
    "    ('someName', someFunction(some args)),\n",
    "    ('next Name', nextFuntion())\n",
    "])\n",
    "\n",
    "data = pipeline.fit_transform(dataframe)"
   ]
  },
  {
   "cell_type": "markdown",
   "metadata": {},
   "source": [
    "## References\n",
    "\n",
    "- Wikipedia - Sistema Único de Saúde (SUS). https://en.wikipedia.org/wiki/Sistema_%C3%9Anico_de_Sa%C3%BAde. Accessed in April, 2018.\n",
    "- Kaggle Data Analyst Nanodegree project - first attempt- https://www.kaggle.com/kuroski/data-analyst-nanodegree-project-first-attempt/notebook\n",
    "- https://machinelearningmastery.com/random-oversampling-and-undersampling-for-imbalanced-classification/\n"
   ]
  },
  {
   "cell_type": "code",
   "execution_count": null,
   "metadata": {},
   "outputs": [],
   "source": [
    "## Predict of sisze of ours inbalacnced datset. We use F1 score \n",
    "model =  DecisionTreeClassifier()\n",
    "\n",
    "\n",
    "#plt.legend(loc='best')\n",
    "plt.hist(y, bins=3)\n",
    "#plt.plot(y, label=\"attended\")\n",
    "#plt.show();\n",
    "# evaluate \n",
    "cv = RepeatedStratifiedKFold(n_splits=5, n_repeats=1, random_state=1)\n",
    "scores = cross_val_score(model, X, y, scoring='f1_micro', cv=cv, n_jobs=-1)\n",
    "score = mean(scores)\n",
    "\n",
    "print('X shape',X.shape)\n",
    "print('y shape',y.shape)\n",
    "#print('y shape',y.unique)\n",
    "\n",
    "print('F1 Score: %.3f' % score)\n",
    "\n",
    "\n",
    "skplt.estimators.plot_learning_curve(model, X, y,figsize=(15,5), cv=cv,  scoring=None);\n",
    "y_pred = cross_val_predict(model,X,y, cv=cv)\n",
    "print('y_pred shape',y_pred.shape)\n",
    "# plt.hist(y_pred, bins=3); \n",
    "# plt.schow"
   ]
  },
  {
   "cell_type": "code",
   "execution_count": null,
   "metadata": {},
   "outputs": [],
   "source": [
    "## Predict of sisze of ours inbalacnced datset. We use F1 score \n",
    "model =  DecisionTreeClassifier()\n",
    "\n",
    "# evaluate \n",
    "cv = RepeatedStratifiedKFold(n_splits=5, n_repeats=1, random_state=1)\n",
    "scores = cross_val_score(model, X, y, scoring='accuracy', cv=cv, n_jobs=-1)\n",
    "score = mean(scores)\n",
    "\n",
    "print('X shape',X.shape)\n",
    "print('y shape',y.shape)\n",
    "\n",
    "print('F1 Score: %.3f' % score)\n",
    "plt.plot(y, label=\"attended\")\n",
    "plt.legend(loc='best'); \n",
    "plt.hist(y, bins=3);\n",
    "skplt.estimators.plot_learning_curve(model, X, y,figsize=(15,5), cv=cv,  scoring=None);"
   ]
  },
  {
   "cell_type": "code",
   "execution_count": null,
   "metadata": {},
   "outputs": [],
   "source": [
    "## Predict of sisze of ours inbalacnced datset. We use F1 score \n",
    "model =  DecisionTreeClassifier()\n",
    "\n",
    "\n",
    "#plt.legend(loc='best')\n",
    "plt.hist(y, bins=3)\n",
    "#plt.plot(y, label=\"attended\")\n",
    "#plt.show();\n",
    "# evaluate \n",
    "cv = RepeatedStratifiedKFold(n_splits=5, n_repeats=1, random_state=1)\n",
    "scores = cross_val_score(model, X, y, scoring='f1_micro', cv=cv, n_jobs=-1)\n",
    "score = mean(scores)\n",
    "\n",
    "print('X shape',X.shape)\n",
    "print('y shape',y.shape)\n",
    "#print('y shape',y.unique)\n",
    "\n",
    "print('F1 Score: %.3f' % score)\n",
    "\n",
    "\n",
    "skplt.estimators.plot_learning_curve(model, X, y,figsize=(15,5), cv=cv,  scoring='f1_micro');\n",
    "y_pred = cross_val_predict(model,X,y, cv=cv)\n",
    "print('y_pred shape',y_pred.shape)\n",
    "# plt.hist(y_pred, bins=3); \n",
    "# plt.schow"
   ]
  }
 ],
 "metadata": {
  "kernelspec": {
   "display_name": "Python 3",
   "language": "python",
   "name": "python3"
  },
  "language_info": {
   "codemirror_mode": {
    "name": "ipython",
    "version": 3
   },
   "file_extension": ".py",
   "mimetype": "text/x-python",
   "name": "python",
   "nbconvert_exporter": "python",
   "pygments_lexer": "ipython3",
   "version": "3.7.4"
  }
 },
 "nbformat": 4,
 "nbformat_minor": 4
}
