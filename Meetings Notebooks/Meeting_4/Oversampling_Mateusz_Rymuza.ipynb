{
 "cells": [
  {
   "cell_type": "code",
   "execution_count": 684,
   "metadata": {},
   "outputs": [],
   "source": [
    "import pandas as pd\n",
    "import numpy as np\n",
    "import imblearn.over_sampling as imb\n",
    "import matplotlib.pyplot as plt\n",
    "import seaborn as sns\n",
    "from sklearn.tree import DecisionTreeClassifier\n",
    "from sklearn.model_selection import cross_val_score\n",
    "from sklearn.ensemble import RandomForestClassifier"
   ]
  },
  {
   "cell_type": "markdown",
   "metadata": {},
   "source": [
    "## Wczytanie danych"
   ]
  },
  {
   "cell_type": "code",
   "execution_count": 594,
   "metadata": {},
   "outputs": [],
   "source": [
    "df = pd.read_csv('input/KaggleV2-May-2016.csv')"
   ]
  },
  {
   "cell_type": "markdown",
   "metadata": {},
   "source": [
    "## Podstawowe informacje o danych"
   ]
  },
  {
   "cell_type": "code",
   "execution_count": 595,
   "metadata": {
    "scrolled": true
   },
   "outputs": [
    {
     "data": {
      "text/html": [
       "<div>\n",
       "<style scoped>\n",
       "    .dataframe tbody tr th:only-of-type {\n",
       "        vertical-align: middle;\n",
       "    }\n",
       "\n",
       "    .dataframe tbody tr th {\n",
       "        vertical-align: top;\n",
       "    }\n",
       "\n",
       "    .dataframe thead th {\n",
       "        text-align: right;\n",
       "    }\n",
       "</style>\n",
       "<table border=\"1\" class=\"dataframe\">\n",
       "  <thead>\n",
       "    <tr style=\"text-align: right;\">\n",
       "      <th></th>\n",
       "      <th>PatientId</th>\n",
       "      <th>AppointmentID</th>\n",
       "      <th>Gender</th>\n",
       "      <th>ScheduledDay</th>\n",
       "      <th>AppointmentDay</th>\n",
       "      <th>Age</th>\n",
       "      <th>Neighbourhood</th>\n",
       "      <th>Scholarship</th>\n",
       "      <th>Hipertension</th>\n",
       "      <th>Diabetes</th>\n",
       "      <th>Alcoholism</th>\n",
       "      <th>Handcap</th>\n",
       "      <th>SMS_received</th>\n",
       "      <th>No-show</th>\n",
       "    </tr>\n",
       "  </thead>\n",
       "  <tbody>\n",
       "    <tr>\n",
       "      <th>0</th>\n",
       "      <td>2.987250e+13</td>\n",
       "      <td>5642903</td>\n",
       "      <td>F</td>\n",
       "      <td>2016-04-29T18:38:08Z</td>\n",
       "      <td>2016-04-29T00:00:00Z</td>\n",
       "      <td>62</td>\n",
       "      <td>JARDIM DA PENHA</td>\n",
       "      <td>0</td>\n",
       "      <td>1</td>\n",
       "      <td>0</td>\n",
       "      <td>0</td>\n",
       "      <td>0</td>\n",
       "      <td>0</td>\n",
       "      <td>No</td>\n",
       "    </tr>\n",
       "    <tr>\n",
       "      <th>1</th>\n",
       "      <td>5.589978e+14</td>\n",
       "      <td>5642503</td>\n",
       "      <td>M</td>\n",
       "      <td>2016-04-29T16:08:27Z</td>\n",
       "      <td>2016-04-29T00:00:00Z</td>\n",
       "      <td>56</td>\n",
       "      <td>JARDIM DA PENHA</td>\n",
       "      <td>0</td>\n",
       "      <td>0</td>\n",
       "      <td>0</td>\n",
       "      <td>0</td>\n",
       "      <td>0</td>\n",
       "      <td>0</td>\n",
       "      <td>No</td>\n",
       "    </tr>\n",
       "    <tr>\n",
       "      <th>2</th>\n",
       "      <td>4.262962e+12</td>\n",
       "      <td>5642549</td>\n",
       "      <td>F</td>\n",
       "      <td>2016-04-29T16:19:04Z</td>\n",
       "      <td>2016-04-29T00:00:00Z</td>\n",
       "      <td>62</td>\n",
       "      <td>MATA DA PRAIA</td>\n",
       "      <td>0</td>\n",
       "      <td>0</td>\n",
       "      <td>0</td>\n",
       "      <td>0</td>\n",
       "      <td>0</td>\n",
       "      <td>0</td>\n",
       "      <td>No</td>\n",
       "    </tr>\n",
       "    <tr>\n",
       "      <th>3</th>\n",
       "      <td>8.679512e+11</td>\n",
       "      <td>5642828</td>\n",
       "      <td>F</td>\n",
       "      <td>2016-04-29T17:29:31Z</td>\n",
       "      <td>2016-04-29T00:00:00Z</td>\n",
       "      <td>8</td>\n",
       "      <td>PONTAL DE CAMBURI</td>\n",
       "      <td>0</td>\n",
       "      <td>0</td>\n",
       "      <td>0</td>\n",
       "      <td>0</td>\n",
       "      <td>0</td>\n",
       "      <td>0</td>\n",
       "      <td>No</td>\n",
       "    </tr>\n",
       "    <tr>\n",
       "      <th>4</th>\n",
       "      <td>8.841186e+12</td>\n",
       "      <td>5642494</td>\n",
       "      <td>F</td>\n",
       "      <td>2016-04-29T16:07:23Z</td>\n",
       "      <td>2016-04-29T00:00:00Z</td>\n",
       "      <td>56</td>\n",
       "      <td>JARDIM DA PENHA</td>\n",
       "      <td>0</td>\n",
       "      <td>1</td>\n",
       "      <td>1</td>\n",
       "      <td>0</td>\n",
       "      <td>0</td>\n",
       "      <td>0</td>\n",
       "      <td>No</td>\n",
       "    </tr>\n",
       "  </tbody>\n",
       "</table>\n",
       "</div>"
      ],
      "text/plain": [
       "      PatientId  AppointmentID Gender          ScheduledDay  ... Alcoholism  Handcap SMS_received  No-show\n",
       "0  2.987250e+13        5642903      F  2016-04-29T18:38:08Z  ...          0        0            0       No\n",
       "1  5.589978e+14        5642503      M  2016-04-29T16:08:27Z  ...          0        0            0       No\n",
       "2  4.262962e+12        5642549      F  2016-04-29T16:19:04Z  ...          0        0            0       No\n",
       "3  8.679512e+11        5642828      F  2016-04-29T17:29:31Z  ...          0        0            0       No\n",
       "4  8.841186e+12        5642494      F  2016-04-29T16:07:23Z  ...          0        0            0       No\n",
       "\n",
       "[5 rows x 14 columns]"
      ]
     },
     "execution_count": 595,
     "metadata": {},
     "output_type": "execute_result"
    }
   ],
   "source": [
    "df.head()"
   ]
  },
  {
   "cell_type": "code",
   "execution_count": 255,
   "metadata": {
    "scrolled": true
   },
   "outputs": [
    {
     "name": "stdout",
     "output_type": "stream",
     "text": [
      "<class 'pandas.core.frame.DataFrame'>\n",
      "RangeIndex: 110527 entries, 0 to 110526\n",
      "Data columns (total 14 columns):\n",
      "PatientId         110527 non-null float64\n",
      "AppointmentID     110527 non-null int64\n",
      "Gender            110527 non-null object\n",
      "ScheduledDay      110527 non-null object\n",
      "AppointmentDay    110527 non-null object\n",
      "Age               110527 non-null int64\n",
      "Neighbourhood     110527 non-null object\n",
      "Scholarship       110527 non-null int64\n",
      "Hipertension      110527 non-null int64\n",
      "Diabetes          110527 non-null int64\n",
      "Alcoholism        110527 non-null int64\n",
      "Handcap           110527 non-null int64\n",
      "SMS_received      110527 non-null int64\n",
      "No-show           110527 non-null object\n",
      "dtypes: float64(1), int64(8), object(5)\n",
      "memory usage: 11.8+ MB\n"
     ]
    }
   ],
   "source": [
    "df.info()"
   ]
  },
  {
   "cell_type": "code",
   "execution_count": 256,
   "metadata": {
    "scrolled": false
   },
   "outputs": [
    {
     "data": {
      "text/html": [
       "<div>\n",
       "<style scoped>\n",
       "    .dataframe tbody tr th:only-of-type {\n",
       "        vertical-align: middle;\n",
       "    }\n",
       "\n",
       "    .dataframe tbody tr th {\n",
       "        vertical-align: top;\n",
       "    }\n",
       "\n",
       "    .dataframe thead th {\n",
       "        text-align: right;\n",
       "    }\n",
       "</style>\n",
       "<table border=\"1\" class=\"dataframe\">\n",
       "  <thead>\n",
       "    <tr style=\"text-align: right;\">\n",
       "      <th></th>\n",
       "      <th>Age</th>\n",
       "      <th>Scholarship</th>\n",
       "      <th>Hipertension</th>\n",
       "      <th>Diabetes</th>\n",
       "      <th>Alcoholism</th>\n",
       "      <th>Handcap</th>\n",
       "      <th>SMS_received</th>\n",
       "    </tr>\n",
       "  </thead>\n",
       "  <tbody>\n",
       "    <tr>\n",
       "      <th>count</th>\n",
       "      <td>110527.000000</td>\n",
       "      <td>110527.000000</td>\n",
       "      <td>110527.000000</td>\n",
       "      <td>110527.000000</td>\n",
       "      <td>110527.000000</td>\n",
       "      <td>110527.000000</td>\n",
       "      <td>110527.000000</td>\n",
       "    </tr>\n",
       "    <tr>\n",
       "      <th>mean</th>\n",
       "      <td>37.088874</td>\n",
       "      <td>0.098266</td>\n",
       "      <td>0.197246</td>\n",
       "      <td>0.071865</td>\n",
       "      <td>0.030400</td>\n",
       "      <td>0.022248</td>\n",
       "      <td>0.321026</td>\n",
       "    </tr>\n",
       "    <tr>\n",
       "      <th>std</th>\n",
       "      <td>23.110205</td>\n",
       "      <td>0.297675</td>\n",
       "      <td>0.397921</td>\n",
       "      <td>0.258265</td>\n",
       "      <td>0.171686</td>\n",
       "      <td>0.161543</td>\n",
       "      <td>0.466873</td>\n",
       "    </tr>\n",
       "    <tr>\n",
       "      <th>min</th>\n",
       "      <td>-1.000000</td>\n",
       "      <td>0.000000</td>\n",
       "      <td>0.000000</td>\n",
       "      <td>0.000000</td>\n",
       "      <td>0.000000</td>\n",
       "      <td>0.000000</td>\n",
       "      <td>0.000000</td>\n",
       "    </tr>\n",
       "    <tr>\n",
       "      <th>25%</th>\n",
       "      <td>18.000000</td>\n",
       "      <td>0.000000</td>\n",
       "      <td>0.000000</td>\n",
       "      <td>0.000000</td>\n",
       "      <td>0.000000</td>\n",
       "      <td>0.000000</td>\n",
       "      <td>0.000000</td>\n",
       "    </tr>\n",
       "    <tr>\n",
       "      <th>50%</th>\n",
       "      <td>37.000000</td>\n",
       "      <td>0.000000</td>\n",
       "      <td>0.000000</td>\n",
       "      <td>0.000000</td>\n",
       "      <td>0.000000</td>\n",
       "      <td>0.000000</td>\n",
       "      <td>0.000000</td>\n",
       "    </tr>\n",
       "    <tr>\n",
       "      <th>75%</th>\n",
       "      <td>55.000000</td>\n",
       "      <td>0.000000</td>\n",
       "      <td>0.000000</td>\n",
       "      <td>0.000000</td>\n",
       "      <td>0.000000</td>\n",
       "      <td>0.000000</td>\n",
       "      <td>1.000000</td>\n",
       "    </tr>\n",
       "    <tr>\n",
       "      <th>max</th>\n",
       "      <td>115.000000</td>\n",
       "      <td>1.000000</td>\n",
       "      <td>1.000000</td>\n",
       "      <td>1.000000</td>\n",
       "      <td>1.000000</td>\n",
       "      <td>4.000000</td>\n",
       "      <td>1.000000</td>\n",
       "    </tr>\n",
       "  </tbody>\n",
       "</table>\n",
       "</div>"
      ],
      "text/plain": [
       "                 Age    Scholarship   Hipertension       Diabetes     Alcoholism        Handcap   SMS_received\n",
       "count  110527.000000  110527.000000  110527.000000  110527.000000  110527.000000  110527.000000  110527.000000\n",
       "mean       37.088874       0.098266       0.197246       0.071865       0.030400       0.022248       0.321026\n",
       "std        23.110205       0.297675       0.397921       0.258265       0.171686       0.161543       0.466873\n",
       "min        -1.000000       0.000000       0.000000       0.000000       0.000000       0.000000       0.000000\n",
       "25%        18.000000       0.000000       0.000000       0.000000       0.000000       0.000000       0.000000\n",
       "50%        37.000000       0.000000       0.000000       0.000000       0.000000       0.000000       0.000000\n",
       "75%        55.000000       0.000000       0.000000       0.000000       0.000000       0.000000       1.000000\n",
       "max       115.000000       1.000000       1.000000       1.000000       1.000000       4.000000       1.000000"
      ]
     },
     "execution_count": 256,
     "metadata": {},
     "output_type": "execute_result"
    }
   ],
   "source": [
    "df[['Age','Scholarship', 'Hipertension', 'Diabetes', 'Alcoholism', 'Handcap', 'SMS_received']].describe()"
   ]
  },
  {
   "cell_type": "code",
   "execution_count": 654,
   "metadata": {},
   "outputs": [
    {
     "data": {
      "text/plain": [
       "No     0.798067\n",
       "Yes    0.201933\n",
       "Name: No-show, dtype: float64"
      ]
     },
     "execution_count": 654,
     "metadata": {},
     "output_type": "execute_result"
    }
   ],
   "source": [
    "df['No-show'].value_counts(normalize=True)"
   ]
  },
  {
   "cell_type": "code",
   "execution_count": 258,
   "metadata": {
    "scrolled": true
   },
   "outputs": [
    {
     "data": {
      "text/plain": [
       "F    0.649977\n",
       "M    0.350023\n",
       "Name: Gender, dtype: float64"
      ]
     },
     "execution_count": 258,
     "metadata": {},
     "output_type": "execute_result"
    }
   ],
   "source": [
    "df['Gender'].value_counts(normalize=True)"
   ]
  },
  {
   "cell_type": "markdown",
   "metadata": {},
   "source": [
    "## Przygotnowanie danych \n"
   ]
  },
  {
   "cell_type": "code",
   "execution_count": 612,
   "metadata": {},
   "outputs": [],
   "source": [
    "df['ScheduledDay_dt'] = pd.to_datetime(df['ScheduledDay'])"
   ]
  },
  {
   "cell_type": "code",
   "execution_count": 613,
   "metadata": {},
   "outputs": [],
   "source": [
    "df['AppointmentDay_dt'] = pd.to_datetime(df['AppointmentDay'])"
   ]
  },
  {
   "cell_type": "code",
   "execution_count": 614,
   "metadata": {},
   "outputs": [],
   "source": [
    "df['SHour'] = df['ScheduledDay_dt'].dt.hour\n",
    "df['SMinute'] = df['ScheduledDay_dt'].dt.minute\n",
    "df['SSecond'] = df['ScheduledDay_dt'].dt.second"
   ]
  },
  {
   "cell_type": "code",
   "execution_count": 615,
   "metadata": {},
   "outputs": [],
   "source": [
    "df['Gender_maped'] = df['Gender'].map({'M':0, 'F':1})\n",
    "\n",
    "appointment_day_dict = {name:i for i, name in enumerate(df['AppointmentDay'].unique())}\n",
    "df['AppD'] = df['AppointmentDay'].map(appointment_day_dict)\n",
    "\n",
    "Neighb_dict = {name:i for i, name in enumerate(df['Neighbourhood'].unique())}\n",
    "df['Neigh'] = df['Neighbourhood'].map(Neighb_dict)"
   ]
  },
  {
   "cell_type": "code",
   "execution_count": 616,
   "metadata": {},
   "outputs": [],
   "source": [
    "features = ['Gender_maped','Age', 'AppD', 'Neigh', 'Scholarship',\n",
    "            'Hipertension', 'Diabetes', 'Alcoholism','Handcap',\n",
    "            'SMS_received', 'SHour', 'SMinute', 'SSecond']"
   ]
  },
  {
   "cell_type": "markdown",
   "metadata": {},
   "source": [
    "## Prosty model"
   ]
  },
  {
   "cell_type": "code",
   "execution_count": 637,
   "metadata": {},
   "outputs": [],
   "source": [
    "X = df[features]\n",
    "y = df['No-show'].map({'No': 0, 'Yes': 1})"
   ]
  },
  {
   "cell_type": "code",
   "execution_count": 681,
   "metadata": {},
   "outputs": [],
   "source": [
    "tree = DecisionTreeClassifier(max_depth=7)\n",
    "cv = cross_val_score(tree, X, y,cv=10, scoring='f1')"
   ]
  },
  {
   "cell_type": "code",
   "execution_count": 682,
   "metadata": {},
   "outputs": [
    {
     "data": {
      "text/plain": [
       "(0.004345342415064771, 0.00190388743763885)"
      ]
     },
     "execution_count": 682,
     "metadata": {},
     "output_type": "execute_result"
    }
   ],
   "source": [
    "cv.mean(), cv.std()"
   ]
  },
  {
   "cell_type": "markdown",
   "metadata": {},
   "source": [
    "# Oversampling"
   ]
  },
  {
   "cell_type": "code",
   "execution_count": 685,
   "metadata": {},
   "outputs": [],
   "source": [
    "def resample_data(method, X, y, estimator=DecisionTreeClassifier(max_depth=7), metric='f1'):\n",
    "    X_set = X.copy()\n",
    "    y_set = y.copy()\n",
    "    X_res, y_res = method.fit_resample(X_set, y_set)\n",
    "    df = pd.DataFrame(X_res, columns=features)\n",
    "    \n",
    "    ratios =[]\n",
    "    for feat in features:\n",
    "        if len(df[feat].unique()) <=3:\n",
    "            print(feat)\n",
    "            print(df[feat].value_counts(normalize=True))\n",
    "            ratios.append(df[feat].value_counts(normalize=True).values)\n",
    "    cv = cross_val_score(estimator, X_res, y_res, cv=10, scoring=metric)\n",
    "    \n",
    "    print('....................')\n",
    "    print('Sredni f1 po cv: {}'.format(cv.mean()))\n",
    "    print('Std f1 po cv: {}'.format(cv.std()))\n",
    "    return ratios, cv"
   ]
  },
  {
   "cell_type": "markdown",
   "metadata": {},
   "source": [
    "## Random oversampling"
   ]
  },
  {
   "cell_type": "code",
   "execution_count": 674,
   "metadata": {},
   "outputs": [
    {
     "name": "stdout",
     "output_type": "stream",
     "text": [
      "Gender_maped\n",
      "1    0.65129\n",
      "0    0.34871\n",
      "Name: Gender_maped, dtype: float64\n",
      "Scholarship\n",
      "0    0.89552\n",
      "1    0.10448\n",
      "Name: Scholarship, dtype: float64\n",
      "Hipertension\n",
      "0    0.813815\n",
      "1    0.186185\n",
      "Name: Hipertension, dtype: float64\n",
      "Diabetes\n",
      "0    0.931106\n",
      "1    0.068894\n",
      "Name: Diabetes, dtype: float64\n",
      "Alcoholism\n",
      "0    0.969425\n",
      "1    0.030575\n",
      "Name: Alcoholism, dtype: float64\n",
      "SMS_received\n",
      "0    0.635968\n",
      "1    0.364032\n",
      "Name: SMS_received, dtype: float64\n",
      "....................\n",
      "Sredni f1 po cv: 0.5743053057990612\n",
      "Std f1 po cv: 0.03110137927815009\n"
     ]
    }
   ],
   "source": [
    "RAND_r, RAND_cv = resample_data(imb.RandomOverSampler(random_state=42), X, y)"
   ]
  },
  {
   "cell_type": "markdown",
   "metadata": {},
   "source": [
    "## SMOTE"
   ]
  },
  {
   "cell_type": "markdown",
   "metadata": {},
   "source": [
    "### Zwykły SMOTE"
   ]
  },
  {
   "cell_type": "code",
   "execution_count": 575,
   "metadata": {
    "scrolled": false
   },
   "outputs": [
    {
     "name": "stdout",
     "output_type": "stream",
     "text": [
      "Gender_maped\n",
      "1    0.573485\n",
      "0    0.426515\n",
      "Name: Gender_maped, dtype: float64\n",
      "Scholarship\n",
      "0    0.930953\n",
      "1    0.069047\n",
      "Name: Scholarship, dtype: float64\n",
      "Hipertension\n",
      "0    0.846567\n",
      "1    0.153433\n",
      "Name: Hipertension, dtype: float64\n",
      "Diabetes\n",
      "0    0.950056\n",
      "1    0.049944\n",
      "Name: Diabetes, dtype: float64\n",
      "Alcoholism\n",
      "0    0.980172\n",
      "1    0.019828\n",
      "Name: Alcoholism, dtype: float64\n",
      "SMS_received\n",
      "0    0.719436\n",
      "1    0.280564\n",
      "Name: SMS_received, dtype: float64\n",
      "....................\n",
      "Sredni f1 po cv: 0.6141770333132482\n",
      "Std f1 po cv: 0.07939338979539619\n"
     ]
    }
   ],
   "source": [
    "SMOTE_r, SMOTE_cv = resample_data(imb.SMOTE(random_state=42), X, y)"
   ]
  },
  {
   "cell_type": "markdown",
   "metadata": {},
   "source": [
    "### SVMSMOTE"
   ]
  },
  {
   "cell_type": "code",
   "execution_count": 411,
   "metadata": {},
   "outputs": [
    {
     "name": "stdout",
     "output_type": "stream",
     "text": [
      "Gender_maped\n",
      "1    0.61304\n",
      "0    0.38696\n",
      "Name: Gender_maped, dtype: float64\n",
      "Scholarship\n",
      "0    0.906148\n",
      "1    0.093852\n",
      "Name: Scholarship, dtype: float64\n",
      "Hipertension\n",
      "0    0.829125\n",
      "1    0.170875\n",
      "Name: Hipertension, dtype: float64\n",
      "Diabetes\n",
      "0    0.93983\n",
      "1    0.06017\n",
      "Name: Diabetes, dtype: float64\n",
      "Alcoholism\n",
      "0    0.973772\n",
      "1    0.026228\n",
      "Name: Alcoholism, dtype: float64\n",
      "SMS_received\n",
      "0    0.686157\n",
      "1    0.313843\n",
      "Name: SMS_received, dtype: float64\n",
      "....................\n",
      "Sredni f1 po cv: 0.5760532342796613\n",
      "Std f1 po cv: 0.10790443948415585\n"
     ]
    }
   ],
   "source": [
    "resample_data(imb.SVMSMOTE(random_state=42), X, y)"
   ]
  },
  {
   "cell_type": "markdown",
   "metadata": {},
   "source": [
    "### BORDERLINESMOTE"
   ]
  },
  {
   "cell_type": "code",
   "execution_count": 678,
   "metadata": {},
   "outputs": [
    {
     "name": "stdout",
     "output_type": "stream",
     "text": [
      "Gender_maped\n",
      "1    0.573791\n",
      "0    0.426209\n",
      "Name: Gender_maped, dtype: float64\n",
      "Scholarship\n",
      "0    0.930772\n",
      "1    0.069228\n",
      "Name: Scholarship, dtype: float64\n",
      "Hipertension\n",
      "0    0.849027\n",
      "1    0.150973\n",
      "Name: Hipertension, dtype: float64\n",
      "Diabetes\n",
      "0    0.950441\n",
      "1    0.049559\n",
      "Name: Diabetes, dtype: float64\n",
      "Alcoholism\n",
      "0    0.980127\n",
      "1    0.019873\n",
      "Name: Alcoholism, dtype: float64\n",
      "SMS_received\n",
      "0    0.719623\n",
      "1    0.280377\n",
      "Name: SMS_received, dtype: float64\n",
      "....................\n",
      "Sredni f1 po cv: 0.6228002764746743\n",
      "Std f1 po cv: 0.07937549774024352\n"
     ]
    }
   ],
   "source": [
    "SMOTEB_r, SMOTEB_cv = resample_data(imb.BorderlineSMOTE(random_state=42), X, y )"
   ]
  },
  {
   "cell_type": "markdown",
   "metadata": {},
   "source": [
    "## ADASYN"
   ]
  },
  {
   "cell_type": "code",
   "execution_count": 578,
   "metadata": {
    "scrolled": false
   },
   "outputs": [
    {
     "name": "stdout",
     "output_type": "stream",
     "text": [
      "Gender_maped\n",
      "1    0.57326\n",
      "0    0.42674\n",
      "Name: Gender_maped, dtype: float64\n",
      "Scholarship\n",
      "0    0.93132\n",
      "1    0.06868\n",
      "Name: Scholarship, dtype: float64\n",
      "Hipertension\n",
      "0    0.845724\n",
      "1    0.154276\n",
      "Name: Hipertension, dtype: float64\n",
      "Diabetes\n",
      "0    0.950141\n",
      "1    0.049859\n",
      "Name: Diabetes, dtype: float64\n",
      "Alcoholism\n",
      "0    0.980124\n",
      "1    0.019876\n",
      "Name: Alcoholism, dtype: float64\n",
      "SMS_received\n",
      "0    0.719759\n",
      "1    0.280241\n",
      "Name: SMS_received, dtype: float64\n",
      "....................\n",
      "Sredni f1 po cv: 0.6054581029085302\n",
      "Std f1 po cv: 0.11812672016053938\n"
     ]
    }
   ],
   "source": [
    "ADASYN_r, ADASYN_cv = resample_data(imb.ADASYN(random_state=42), X, y)"
   ]
  },
  {
   "cell_type": "markdown",
   "metadata": {},
   "source": [
    "## Porownanie graficzne"
   ]
  },
  {
   "cell_type": "code",
   "execution_count": 686,
   "metadata": {},
   "outputs": [],
   "source": [
    "base = [df['Gender_maped'].value_counts(normalize=True).values,\n",
    "        df['Scholarship'].value_counts(normalize=True).values,\n",
    "        df['Hipertension'].value_counts(normalize=True).values,\n",
    "        df['Diabetes'].value_counts(normalize=True).values,\n",
    "        df['Alcoholism'].value_counts(normalize=True).values,\n",
    "        df['SMS_received'].value_counts(normalize=True).values,\n",
    "       ]"
   ]
  },
  {
   "cell_type": "code",
   "execution_count": 583,
   "metadata": {
    "scrolled": false
   },
   "outputs": [
    {
     "data": {
      "image/png": "[encoded data removed]",
      "text/plain": [
       "<Figure size 1440x1224 with 30 Axes>"
      ]
     },
     "metadata": {
      "needs_background": "light"
     },
     "output_type": "display_data"
    }
   ],
   "source": [
    "fig, ax = plt.subplots(5, 6, figsize=(20,17), )\n",
    "methods = [base, RAND_r, SMOTE_r, SMOTEB_r, ADASYN_r]\n",
    "\n",
    "for i, method in enumerate(methods):\n",
    "    for j, score, in enumerate(method):\n",
    "        sns.barplot([0,1], score, ax=ax[i, j])\n",
    "        \n",
    "ax[0,0].set_title('Gender')\n",
    "ax[0,1].set_title('Scholarship')\n",
    "ax[0,2].set_title('Hipertension')\n",
    "ax[0,3].set_title('Diabetes')\n",
    "ax[0,4].set_title('Alcoholism')\n",
    "ax[0,5].set_title('SMS_reveived')\n",
    "ax[0,0].set_xlabel('Base')\n",
    "ax[1,0].set_xlabel('Random')\n",
    "ax[2,0].set_xlabel('SMOTE')\n",
    "ax[3,0].set_xlabel('BlineSMOTE')\n",
    "ax[4,0].set_xlabel('ADASYN')\n",
    "\n",
    "\n",
    "plt.subplots_adjust(wspace=0.3)        \n",
    "plt.show()        "
   ]
  },
  {
   "cell_type": "markdown",
   "metadata": {},
   "source": [
    "## Rozne proporcje wilekości wygenerowanych danych  "
   ]
  },
  {
   "cell_type": "code",
   "execution_count": 688,
   "metadata": {},
   "outputs": [
    {
     "name": "stdout",
     "output_type": "stream",
     "text": [
      "Gender_maped\n",
      "1    0.580471\n",
      "0    0.419529\n",
      "Name: Gender_maped, dtype: float64\n",
      "Scholarship\n",
      "0    0.928435\n",
      "1    0.071565\n",
      "Name: Scholarship, dtype: float64\n",
      "Hipertension\n",
      "0    0.845115\n",
      "1    0.154885\n",
      "Name: Hipertension, dtype: float64\n",
      "Diabetes\n",
      "0    0.948519\n",
      "1    0.051481\n",
      "Name: Diabetes, dtype: float64\n",
      "Alcoholism\n",
      "0    0.9792\n",
      "1    0.0208\n",
      "Name: Alcoholism, dtype: float64\n",
      "SMS_received\n",
      "0    0.71594\n",
      "1    0.28406\n",
      "Name: SMS_received, dtype: float64\n",
      "....................\n",
      "Sredni f1 po cv: 0.5539684642503452\n",
      "Std f1 po cv: 0.1088495782982089\n"
     ]
    }
   ],
   "source": [
    "SMOTEB_r_09, SMOTEB_cv_09 = resample_data(imb.BorderlineSMOTE(sampling_strategy=0.9,random_state=42), X, y)"
   ]
  },
  {
   "cell_type": "code",
   "execution_count": 585,
   "metadata": {},
   "outputs": [
    {
     "name": "stdout",
     "output_type": "stream",
     "text": [
      "Gender_maped\n",
      "1    0.600544\n",
      "0    0.399456\n",
      "Name: Gender_maped, dtype: float64\n",
      "Scholarship\n",
      "0    0.920697\n",
      "1    0.079303\n",
      "Name: Scholarship, dtype: float64\n",
      "Hipertension\n",
      "0    0.832572\n",
      "1    0.167428\n",
      "Name: Hipertension, dtype: float64\n",
      "Diabetes\n",
      "0    0.942732\n",
      "1    0.057268\n",
      "Name: Diabetes, dtype: float64\n",
      "Alcoholism\n",
      "0    0.976399\n",
      "1    0.023601\n",
      "Name: Alcoholism, dtype: float64\n",
      "SMS_received\n",
      "0    0.704816\n",
      "1    0.295184\n",
      "Name: SMS_received, dtype: float64\n",
      "....................\n",
      "Sredni f1 po cv: 0.356244348829833\n",
      "Std f1 po cv: 0.11765217204349668\n"
     ]
    }
   ],
   "source": [
    "SMOTEB_r065, SMOTEB_cv_065 = resample_data(imb.BorderlineSMOTE(sampling_strategy=0.65,random_state=42), X, y)"
   ]
  },
  {
   "cell_type": "markdown",
   "metadata": {},
   "source": [
    "# Linki"
   ]
  },
  {
   "cell_type": "markdown",
   "metadata": {},
   "source": [
    "https://imbalanced-learn.readthedocs.io/en/stable/index.html"
   ]
  },
  {
   "cell_type": "markdown",
   "metadata": {},
   "source": [
    "https://machinelearningmastery.com/smote-oversampling-for-imbalanced-classification/"
   ]
  }
 ],
 "metadata": {
  "kernelspec": {
   "display_name": "Python 3",
   "language": "python",
   "name": "python3"
  },
  "language_info": {
   "codemirror_mode": {
    "name": "ipython",
    "version": 3
   },
   "file_extension": ".py",
   "mimetype": "text/x-python",
   "name": "python",
   "nbconvert_exporter": "python",
   "pygments_lexer": "ipython3",
   "version": "3.7.1"
  }
 },
 "nbformat": 4,
 "nbformat_minor": 2
}
