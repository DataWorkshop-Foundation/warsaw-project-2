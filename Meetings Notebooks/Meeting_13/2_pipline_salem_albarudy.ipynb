{
 "cells": [
  {
   "cell_type": "code",
   "execution_count": 1,
   "metadata": {},
   "outputs": [],
   "source": [
    "# To support both python 2 and python 3\n",
    "from __future__ import division, print_function, unicode_literals\n",
    "\n",
    "# Common imports\n",
    "import numpy as np\n",
    "import pandas as pd\n",
    "import os\n",
    "import time\n",
    "from tqdm import tqdm\n",
    "\n",
    "# to make this notebook's output stable across runs\n",
    "np.random.seed(42)\n",
    "\n",
    "# To plot pretty figures\n",
    "%matplotlib inline\n",
    "import matplotlib as mpl\n",
    "import matplotlib.pyplot as plt\n",
    "\n",
    "import seaborn as sns\n",
    "sns.set()\n",
    "\n",
    "\n",
    "# Ignore useless warnings (see SciPy issue #5998)\n",
    "# import warnings\n",
    "# warnings.filterwarnings(action=\"ignore\", message=\"^internal gelsd\")\n",
    "\n",
    "\n",
    "# ...\n",
    "from sklearn.pipeline import FeatureUnion\n",
    "from sklearn.pipeline import Pipeline\n",
    "# from sklearn.model_selection import train_test_split\n",
    "\n",
    "from sklearn.impute import SimpleImputer\n",
    "from sklearn.preprocessing import StandardScaler\n",
    "# from sklearn.preprocessing import LabelEncoder\n",
    "# from sklearn.preprocessing import OneHotEncoder\n",
    "\n",
    "from sklearn.linear_model import LogisticRegression\n",
    "from sklearn.neighbors import KNeighborsClassifier\n",
    "from sklearn.tree import DecisionTreeClassifier\n",
    "from sklearn.ensemble import RandomForestClassifier\n",
    "from sklearn.ensemble import AdaBoostClassifier\n",
    "from sklearn.ensemble import GradientBoostingClassifier\n",
    "from sklearn.svm import SVC\n",
    "from sklearn.svm import LinearSVC\n",
    "from sklearn.svm import NuSVC\n",
    "from sklearn.discriminant_analysis import LinearDiscriminantAnalysis\n",
    "from sklearn.discriminant_analysis import QuadraticDiscriminantAnalysis\n",
    "\n",
    "# from sklearn import metrics\n",
    "from sklearn.metrics import recall_score, precision_score, f1_score\n",
    "from sklearn.metrics import plot_confusion_matrix\n",
    "\n",
    "\n",
    "# import category_encoders as ce\n",
    "# from category_encoders import BinaryEncoder"
   ]
  },
  {
   "cell_type": "code",
   "execution_count": 16,
   "metadata": {},
   "outputs": [
    {
     "data": {
      "text/plain": [
       "'..\\\\..\\\\Data'"
      ]
     },
     "execution_count": 16,
     "metadata": {},
     "output_type": "execute_result"
    }
   ],
   "source": [
    "# Paths ...\n",
    "PATH_TO_DATA_DIR = os.path.join('..', '..', 'Data')\n",
    "\n",
    "# ...\n",
    "ADASYB_DATASET_TRAIN = os.path.join(PATH_TO_DATA_DIR, 'Adasyn_train.csv')\n",
    "ADASYB_DATASET_TEST = os.path.join(PATH_TO_DATA_DIR, 'Adasyn_test.csv')\n",
    "\n",
    "NEARMISS_DATASET_TRAIN = os.path.join(PATH_TO_DATA_DIR, 'Nearmiss_train.csv')\n",
    "NEARMISS_DATASET_TEST = os.path.join(PATH_TO_DATA_DIR, 'Nearmiss_test.csv')\n",
    "\n",
    "\n",
    "SMOTE_TOMEK_DATASET_TRAIN = os.path.join(PATH_TO_DATA_DIR, 'SMOTETomek_train.csv')\n",
    "SMOTE_TOMEK_DATASET_TEST = os.path.join(PATH_TO_DATA_DIR, 'SMOTETomek_test.csv')\n",
    "\n",
    "PATH_TO_DATA_DIR"
   ]
  },
  {
   "cell_type": "code",
   "execution_count": 4,
   "metadata": {},
   "outputs": [],
   "source": [
    "classifiers = [\n",
    "    LogisticRegression(),\n",
    "    #KNeighborsClassifier(4),  # Take too long time at this moment\n",
    "    #SVC(kernel=\"rbf\", C=0.025, probability=True), # Take too long time at this moment\n",
    "    #NuSVC(probability=True), # Take too long time at this moment\n",
    "    DecisionTreeClassifier(),\n",
    "    RandomForestClassifier(),\n",
    "    AdaBoostClassifier(),\n",
    "    GradientBoostingClassifier(),\n",
    "]"
   ]
  },
  {
   "cell_type": "markdown",
   "metadata": {},
   "source": [
    "## Model Selector"
   ]
  },
  {
   "cell_type": "code",
   "execution_count": 9,
   "metadata": {},
   "outputs": [],
   "source": [
    "def plot_hist(dataFrame, feature, title='Histogram'):\n",
    "    sns.set(style=\"ticks\", color_codes=True)\n",
    "    sns.distplot(dataFrame[feature], color='red', kde=False, bins=5)\n",
    "\n",
    "    plt.title(title)\n",
    "    plt.xlim(-0.5, 1.5)\n",
    "    plt.tight_layout();\n",
    "\n",
    "    # plt.savefig('./imgs/barplot_price_bin.png', dpi=300);\n",
    "\n",
    "    \n",
    "def split_data_set(df_train_, df_test_):\n",
    "    print(df_train_.shape)\n",
    "    print(df_test_.shape)\n",
    "    X_train_ = df_train_.loc[:, df_train_.columns != 'NoShow'] \n",
    "    y_train_ = df_train_[['NoShow']].values\n",
    "\n",
    "    X_test_ = df_test_.loc[:, df_test_.columns != 'NoShow'] \n",
    "    y_test_ = df_test_[['NoShow']].values\n",
    "\n",
    "    return X_train_, y_train_, X_test_, y_test_\n",
    "\n",
    "class ModelSelector:\n",
    "    def __init__(self, dataset):\n",
    "        self.X_train, self.y_train, self.X_test, self.y_test = dataset\n",
    "        #self.X_train = X_train\n",
    "        #self.y_train = y_train\n",
    "        #self.X_test = X_test\n",
    "        #self.y_test = y_test\n",
    "\n",
    "    def __get_processing_full_pipeline(self):\n",
    "        # ...\n",
    "        numeric_transformer = Pipeline(steps=[\n",
    "            ('imputer', SimpleImputer(strategy='median')),\n",
    "            ('scaler', StandardScaler())\n",
    "        ])\n",
    "        # ...\n",
    "        categorical_transformer = None\n",
    "\n",
    "        # ...\n",
    "        return FeatureUnion(transformer_list=[\n",
    "            (\"num_pipeline\", numeric_transformer),\n",
    "#             (\"cat_pipeline\", categorical_transformer),\n",
    "        ])\n",
    "\n",
    "\n",
    "    def __get_pipline(self, classifier):\n",
    "        return Pipeline(steps = [\n",
    "                ('processing_full_pipeline', self.__get_processing_full_pipeline()),\n",
    "                ('classifier', classifier)\n",
    "            ]\n",
    "        )\n",
    "\n",
    "    def __make_plots(self, pipe):\n",
    "        plot_confusion_matrix(\n",
    "            pipe, \n",
    "            self.X_test,\n",
    "            self.y_test,\n",
    "            cmap=\"BuGn\",\n",
    "            normalize='true',\n",
    "            #ax=ax6\n",
    "        );\n",
    "        print('='*50)\n",
    "\n",
    "    def start(self, classifiers):\n",
    "        print('===================  START  ===================')\n",
    "        df_models_performence = []\n",
    "        for classifier in classifiers:\n",
    "            print('START ', type(classifier).__name__)\n",
    "            pipe = self.__get_pipline(classifier)\n",
    "            pipe.fit(self.X_train, self.y_train)\n",
    "            \n",
    "            # ...\n",
    "            y_pred_ = pipe.predict(self.X_test)\n",
    "            train_score = pipe.score(self.X_train, self.y_train)\n",
    "            test_score = pipe.score(self.X_test, self.y_test)\n",
    "            precision_score_ = round(precision_score(self.y_test, y_pred_), 3)\n",
    "            recall_score_ = round(recall_score(self.y_test, y_pred_), 3)\n",
    "            f1_score_ = round(f1_score(self.y_test, y_pred_), 3)\n",
    "\n",
    "            # ...\n",
    "            df_models_performence.append({\n",
    "                'name': type(classifier).__name__,\n",
    "                'train_score': train_score,\n",
    "                'test_score': test_score,\n",
    "                'precision_score': precision_score_,\n",
    "                'recall_score': recall_score_,\n",
    "                'f1_score': f1_score_,\n",
    "            })\n",
    "            self.__make_plots(pipe)\n",
    "            print('END ', type(classifier).__name__)\n",
    "\n",
    "        print('===================  END  ===================')\n",
    "        return pd.DataFrame(df_models_performence)"
   ]
  },
  {
   "cell_type": "markdown",
   "metadata": {},
   "source": [
    "## Adasyn"
   ]
  },
  {
   "cell_type": "code",
   "execution_count": 7,
   "metadata": {},
   "outputs": [
    {
     "name": "stdout",
     "output_type": "stream",
     "text": [
      "(123381, 43)\n",
      "(34937, 43)\n"
     ]
    }
   ],
   "source": [
    "adasyn_dataset = split_data_set(\n",
    "    pd.read_csv(ADASYB_DATASET_TRAIN),\n",
    "    pd.read_csv(ADASYB_DATASET_TEST)\n",
    ")"
   ]
  },
  {
   "cell_type": "code",
   "execution_count": 10,
   "metadata": {},
   "outputs": [
    {
     "data": {
      "text/plain": [
       "<__main__.ModelSelector at 0x24d785b0>"
      ]
     },
     "execution_count": 10,
     "metadata": {},
     "output_type": "execute_result"
    }
   ],
   "source": [
    "model_selector_adasyn = ModelSelector(adasyn_dataset)\n",
    "model_selector_adasyn"
   ]
  },
  {
   "cell_type": "code",
   "execution_count": 11,
   "metadata": {},
   "outputs": [
    {
     "name": "stdout",
     "output_type": "stream",
     "text": [
      "===================  START  ===================\n",
      "START  LogisticRegression\n"
     ]
    },
    {
     "name": "stderr",
     "output_type": "stream",
     "text": [
      "c:\\worspace\\python\\venv\\lib\\site-packages\\sklearn\\utils\\validation.py:72: DataConversionWarning: A column-vector y was passed when a 1d array was expected. Please change the shape of y to (n_samples, ), for example using ravel().\n",
      "  return f(**kwargs)\n"
     ]
    },
    {
     "name": "stdout",
     "output_type": "stream",
     "text": [
      "==================================================\n",
      "END  LogisticRegression\n",
      "START  DecisionTreeClassifier\n",
      "==================================================\n",
      "END  DecisionTreeClassifier\n",
      "START  RandomForestClassifier\n"
     ]
    },
    {
     "name": "stderr",
     "output_type": "stream",
     "text": [
      "c:\\worspace\\python\\venv\\lib\\site-packages\\sklearn\\pipeline.py:335: DataConversionWarning: A column-vector y was passed when a 1d array was expected. Please change the shape of y to (n_samples,), for example using ravel().\n",
      "  self._final_estimator.fit(Xt, y, **fit_params_last_step)\n"
     ]
    },
    {
     "name": "stdout",
     "output_type": "stream",
     "text": [
      "==================================================\n",
      "END  RandomForestClassifier\n",
      "START  AdaBoostClassifier\n"
     ]
    },
    {
     "name": "stderr",
     "output_type": "stream",
     "text": [
      "c:\\worspace\\python\\venv\\lib\\site-packages\\sklearn\\utils\\validation.py:72: DataConversionWarning: A column-vector y was passed when a 1d array was expected. Please change the shape of y to (n_samples, ), for example using ravel().\n",
      "  return f(**kwargs)\n"
     ]
    },
    {
     "name": "stdout",
     "output_type": "stream",
     "text": [
      "==================================================\n",
      "END  AdaBoostClassifier\n",
      "START  GradientBoostingClassifier\n"
     ]
    },
    {
     "name": "stderr",
     "output_type": "stream",
     "text": [
      "c:\\worspace\\python\\venv\\lib\\site-packages\\sklearn\\utils\\validation.py:72: DataConversionWarning: A column-vector y was passed when a 1d array was expected. Please change the shape of y to (n_samples, ), for example using ravel().\n",
      "  return f(**kwargs)\n"
     ]
    },
    {
     "name": "stdout",
     "output_type": "stream",
     "text": [
      "==================================================\n",
      "END  GradientBoostingClassifier\n",
      "===================  END  ===================\n"
     ]
    },
    {
     "data": {
      "image/png": "[encoded data removed]",
      "text/plain": [
       "<Figure size 432x288 with 2 Axes>"
      ]
     },
     "metadata": {},
     "output_type": "display_data"
    },
    {
     "data": {
      "image/png": "[encoded data removed]",
      "text/plain": [
       "<Figure size 432x288 with 2 Axes>"
      ]
     },
     "metadata": {},
     "output_type": "display_data"
    },
    {
     "data": {
      "image/png": "[encoded data removed]",
      "text/plain": [
       "<Figure size 432x288 with 2 Axes>"
      ]
     },
     "metadata": {},
     "output_type": "display_data"
    },
    {
     "data": {
      "image/png": "[encoded data removed]",
      "text/plain": [
       "<Figure size 432x288 with 2 Axes>"
      ]
     },
     "metadata": {},
     "output_type": "display_data"
    },
    {
     "data": {
      "image/png": "[encoded data removed]",
      "text/plain": [
       "<Figure size 432x288 with 2 Axes>"
      ]
     },
     "metadata": {},
     "output_type": "display_data"
    }
   ],
   "source": [
    "df_ = model_selector_adasyn.start(classifiers)"
   ]
  },
  {
   "cell_type": "code",
   "execution_count": 13,
   "metadata": {},
   "outputs": [
    {
     "data": {
      "text/html": [
       "<div>\n",
       "<style scoped>\n",
       "    .dataframe tbody tr th:only-of-type {\n",
       "        vertical-align: middle;\n",
       "    }\n",
       "\n",
       "    .dataframe tbody tr th {\n",
       "        vertical-align: top;\n",
       "    }\n",
       "\n",
       "    .dataframe thead th {\n",
       "        text-align: right;\n",
       "    }\n",
       "</style>\n",
       "<table border=\"1\" class=\"dataframe\">\n",
       "  <thead>\n",
       "    <tr style=\"text-align: right;\">\n",
       "      <th></th>\n",
       "      <th>name</th>\n",
       "      <th>train_score</th>\n",
       "      <th>test_score</th>\n",
       "      <th>precision_score</th>\n",
       "      <th>recall_score</th>\n",
       "      <th>f1_score</th>\n",
       "    </tr>\n",
       "  </thead>\n",
       "  <tbody>\n",
       "    <tr>\n",
       "      <th>0</th>\n",
       "      <td>LogisticRegression</td>\n",
       "      <td>0.821010</td>\n",
       "      <td>0.823597</td>\n",
       "      <td>0.856</td>\n",
       "      <td>0.778</td>\n",
       "      <td>0.815</td>\n",
       "    </tr>\n",
       "    <tr>\n",
       "      <th>1</th>\n",
       "      <td>DecisionTreeClassifier</td>\n",
       "      <td>0.998436</td>\n",
       "      <td>0.801586</td>\n",
       "      <td>0.804</td>\n",
       "      <td>0.798</td>\n",
       "      <td>0.801</td>\n",
       "    </tr>\n",
       "    <tr>\n",
       "      <th>2</th>\n",
       "      <td>RandomForestClassifier</td>\n",
       "      <td>0.998420</td>\n",
       "      <td>0.859032</td>\n",
       "      <td>0.916</td>\n",
       "      <td>0.791</td>\n",
       "      <td>0.849</td>\n",
       "    </tr>\n",
       "    <tr>\n",
       "      <th>3</th>\n",
       "      <td>AdaBoostClassifier</td>\n",
       "      <td>0.814129</td>\n",
       "      <td>0.815267</td>\n",
       "      <td>0.813</td>\n",
       "      <td>0.819</td>\n",
       "      <td>0.816</td>\n",
       "    </tr>\n",
       "    <tr>\n",
       "      <th>4</th>\n",
       "      <td>GradientBoostingClassifier</td>\n",
       "      <td>0.840032</td>\n",
       "      <td>0.840284</td>\n",
       "      <td>0.884</td>\n",
       "      <td>0.783</td>\n",
       "      <td>0.831</td>\n",
       "    </tr>\n",
       "  </tbody>\n",
       "</table>\n",
       "</div>"
      ],
      "text/plain": [
       "                         name  train_score  test_score  precision_score  \\\n",
       "0          LogisticRegression     0.821010    0.823597            0.856   \n",
       "1      DecisionTreeClassifier     0.998436    0.801586            0.804   \n",
       "2      RandomForestClassifier     0.998420    0.859032            0.916   \n",
       "3          AdaBoostClassifier     0.814129    0.815267            0.813   \n",
       "4  GradientBoostingClassifier     0.840032    0.840284            0.884   \n",
       "\n",
       "   recall_score  f1_score  \n",
       "0         0.778     0.815  \n",
       "1         0.798     0.801  \n",
       "2         0.791     0.849  \n",
       "3         0.819     0.816  \n",
       "4         0.783     0.831  "
      ]
     },
     "execution_count": 13,
     "metadata": {},
     "output_type": "execute_result"
    }
   ],
   "source": [
    "df_"
   ]
  },
  {
   "cell_type": "markdown",
   "metadata": {},
   "source": [
    "## Nearmiss"
   ]
  },
  {
   "cell_type": "code",
   "execution_count": 12,
   "metadata": {},
   "outputs": [
    {
     "name": "stdout",
     "output_type": "stream",
     "text": [
      "(31328, 43)\n",
      "(8836, 43)\n"
     ]
    }
   ],
   "source": [
    "nearmiss_dataset = split_data_set(\n",
    "    pd.read_csv(NEARMISS_DATASET_TRAIN),\n",
    "    pd.read_csv(NEARMISS_DATASET_TEST)\n",
    ")"
   ]
  },
  {
   "cell_type": "code",
   "execution_count": 14,
   "metadata": {},
   "outputs": [
    {
     "name": "stdout",
     "output_type": "stream",
     "text": [
      "===================  START  ===================\n",
      "START  LogisticRegression\n"
     ]
    },
    {
     "name": "stderr",
     "output_type": "stream",
     "text": [
      "c:\\worspace\\python\\venv\\lib\\site-packages\\sklearn\\utils\\validation.py:72: DataConversionWarning: A column-vector y was passed when a 1d array was expected. Please change the shape of y to (n_samples, ), for example using ravel().\n",
      "  return f(**kwargs)\n"
     ]
    },
    {
     "name": "stdout",
     "output_type": "stream",
     "text": [
      "==================================================\n",
      "END  LogisticRegression\n",
      "START  DecisionTreeClassifier\n",
      "==================================================\n",
      "END  DecisionTreeClassifier\n",
      "START  RandomForestClassifier\n"
     ]
    },
    {
     "name": "stderr",
     "output_type": "stream",
     "text": [
      "c:\\worspace\\python\\venv\\lib\\site-packages\\sklearn\\pipeline.py:335: DataConversionWarning: A column-vector y was passed when a 1d array was expected. Please change the shape of y to (n_samples,), for example using ravel().\n",
      "  self._final_estimator.fit(Xt, y, **fit_params_last_step)\n"
     ]
    },
    {
     "name": "stdout",
     "output_type": "stream",
     "text": [
      "==================================================\n",
      "END  RandomForestClassifier\n",
      "START  AdaBoostClassifier\n"
     ]
    },
    {
     "name": "stderr",
     "output_type": "stream",
     "text": [
      "c:\\worspace\\python\\venv\\lib\\site-packages\\sklearn\\utils\\validation.py:72: DataConversionWarning: A column-vector y was passed when a 1d array was expected. Please change the shape of y to (n_samples, ), for example using ravel().\n",
      "  return f(**kwargs)\n"
     ]
    },
    {
     "name": "stdout",
     "output_type": "stream",
     "text": [
      "==================================================\n",
      "END  AdaBoostClassifier\n",
      "START  GradientBoostingClassifier\n"
     ]
    },
    {
     "name": "stderr",
     "output_type": "stream",
     "text": [
      "c:\\worspace\\python\\venv\\lib\\site-packages\\sklearn\\utils\\validation.py:72: DataConversionWarning: A column-vector y was passed when a 1d array was expected. Please change the shape of y to (n_samples, ), for example using ravel().\n",
      "  return f(**kwargs)\n"
     ]
    },
    {
     "name": "stdout",
     "output_type": "stream",
     "text": [
      "==================================================\n",
      "END  GradientBoostingClassifier\n",
      "===================  END  ===================\n"
     ]
    },
    {
     "data": {
      "image/png": "[encoded data removed]",
      "text/plain": [
       "<Figure size 432x288 with 2 Axes>"
      ]
     },
     "metadata": {},
     "output_type": "display_data"
    },
    {
     "data": {
      "image/png": "[encoded data removed]",
      "text/plain": [
       "<Figure size 432x288 with 2 Axes>"
      ]
     },
     "metadata": {},
     "output_type": "display_data"
    },
    {
     "data": {
      "image/png": "[encoded data removed]",
      "text/plain": [
       "<Figure size 432x288 with 2 Axes>"
      ]
     },
     "metadata": {},
     "output_type": "display_data"
    },
    {
     "data": {
      "image/png": "[encoded data removed]",
      "text/plain": [
       "<Figure size 432x288 with 2 Axes>"
      ]
     },
     "metadata": {},
     "output_type": "display_data"
    },
    {
     "data": {
      "image/png": "[encoded data removed]",
      "text/plain": [
       "<Figure size 432x288 with 2 Axes>"
      ]
     },
     "metadata": {},
     "output_type": "display_data"
    }
   ],
   "source": [
    "model_selector_nearmiss = ModelSelector(nearmiss_dataset)\n",
    "df_2_ = model_selector_nearmiss.start(classifiers)"
   ]
  },
  {
   "cell_type": "code",
   "execution_count": 15,
   "metadata": {},
   "outputs": [
    {
     "data": {
      "text/html": [
       "<div>\n",
       "<style scoped>\n",
       "    .dataframe tbody tr th:only-of-type {\n",
       "        vertical-align: middle;\n",
       "    }\n",
       "\n",
       "    .dataframe tbody tr th {\n",
       "        vertical-align: top;\n",
       "    }\n",
       "\n",
       "    .dataframe thead th {\n",
       "        text-align: right;\n",
       "    }\n",
       "</style>\n",
       "<table border=\"1\" class=\"dataframe\">\n",
       "  <thead>\n",
       "    <tr style=\"text-align: right;\">\n",
       "      <th></th>\n",
       "      <th>name</th>\n",
       "      <th>train_score</th>\n",
       "      <th>test_score</th>\n",
       "      <th>precision_score</th>\n",
       "      <th>recall_score</th>\n",
       "      <th>f1_score</th>\n",
       "    </tr>\n",
       "  </thead>\n",
       "  <tbody>\n",
       "    <tr>\n",
       "      <th>0</th>\n",
       "      <td>LogisticRegression</td>\n",
       "      <td>0.702311</td>\n",
       "      <td>0.701675</td>\n",
       "      <td>0.748</td>\n",
       "      <td>0.608</td>\n",
       "      <td>0.671</td>\n",
       "    </tr>\n",
       "    <tr>\n",
       "      <th>1</th>\n",
       "      <td>DecisionTreeClassifier</td>\n",
       "      <td>0.996808</td>\n",
       "      <td>0.743436</td>\n",
       "      <td>0.744</td>\n",
       "      <td>0.741</td>\n",
       "      <td>0.743</td>\n",
       "    </tr>\n",
       "    <tr>\n",
       "      <th>2</th>\n",
       "      <td>RandomForestClassifier</td>\n",
       "      <td>0.996808</td>\n",
       "      <td>0.799909</td>\n",
       "      <td>0.835</td>\n",
       "      <td>0.747</td>\n",
       "      <td>0.789</td>\n",
       "    </tr>\n",
       "    <tr>\n",
       "      <th>3</th>\n",
       "      <td>AdaBoostClassifier</td>\n",
       "      <td>0.786102</td>\n",
       "      <td>0.799796</td>\n",
       "      <td>0.835</td>\n",
       "      <td>0.747</td>\n",
       "      <td>0.789</td>\n",
       "    </tr>\n",
       "    <tr>\n",
       "      <th>4</th>\n",
       "      <td>GradientBoostingClassifier</td>\n",
       "      <td>0.790379</td>\n",
       "      <td>0.799457</td>\n",
       "      <td>0.831</td>\n",
       "      <td>0.752</td>\n",
       "      <td>0.789</td>\n",
       "    </tr>\n",
       "  </tbody>\n",
       "</table>\n",
       "</div>"
      ],
      "text/plain": [
       "                         name  train_score  test_score  precision_score  \\\n",
       "0          LogisticRegression     0.702311    0.701675            0.748   \n",
       "1      DecisionTreeClassifier     0.996808    0.743436            0.744   \n",
       "2      RandomForestClassifier     0.996808    0.799909            0.835   \n",
       "3          AdaBoostClassifier     0.786102    0.799796            0.835   \n",
       "4  GradientBoostingClassifier     0.790379    0.799457            0.831   \n",
       "\n",
       "   recall_score  f1_score  \n",
       "0         0.608     0.671  \n",
       "1         0.741     0.743  \n",
       "2         0.747     0.789  \n",
       "3         0.747     0.789  \n",
       "4         0.752     0.789  "
      ]
     },
     "execution_count": 15,
     "metadata": {},
     "output_type": "execute_result"
    }
   ],
   "source": [
    "df_2_"
   ]
  },
  {
   "cell_type": "markdown",
   "metadata": {},
   "source": [
    "## SMOTETomek"
   ]
  },
  {
   "cell_type": "code",
   "execution_count": 17,
   "metadata": {},
   "outputs": [
    {
     "name": "stdout",
     "output_type": "stream",
     "text": [
      "(101432, 43)\n",
      "(27032, 43)\n"
     ]
    }
   ],
   "source": [
    "smote_tomek_dataset = split_data_set(\n",
    "    pd.read_csv(SMOTE_TOMEK_DATASET_TRAIN),\n",
    "    pd.read_csv(SMOTE_TOMEK_DATASET_TEST)\n",
    ")"
   ]
  },
  {
   "cell_type": "code",
   "execution_count": 19,
   "metadata": {},
   "outputs": [
    {
     "name": "stdout",
     "output_type": "stream",
     "text": [
      "===================  START  ===================\n",
      "START  LogisticRegression\n"
     ]
    },
    {
     "name": "stderr",
     "output_type": "stream",
     "text": [
      "c:\\worspace\\python\\venv\\lib\\site-packages\\sklearn\\utils\\validation.py:72: DataConversionWarning: A column-vector y was passed when a 1d array was expected. Please change the shape of y to (n_samples, ), for example using ravel().\n",
      "  return f(**kwargs)\n"
     ]
    },
    {
     "name": "stdout",
     "output_type": "stream",
     "text": [
      "==================================================\n",
      "END  LogisticRegression\n",
      "START  DecisionTreeClassifier\n",
      "==================================================\n",
      "END  DecisionTreeClassifier\n",
      "START  RandomForestClassifier\n"
     ]
    },
    {
     "name": "stderr",
     "output_type": "stream",
     "text": [
      "c:\\worspace\\python\\venv\\lib\\site-packages\\sklearn\\pipeline.py:335: DataConversionWarning: A column-vector y was passed when a 1d array was expected. Please change the shape of y to (n_samples,), for example using ravel().\n",
      "  self._final_estimator.fit(Xt, y, **fit_params_last_step)\n"
     ]
    },
    {
     "name": "stdout",
     "output_type": "stream",
     "text": [
      "==================================================\n",
      "END  RandomForestClassifier\n",
      "START  AdaBoostClassifier\n"
     ]
    },
    {
     "name": "stderr",
     "output_type": "stream",
     "text": [
      "c:\\worspace\\python\\venv\\lib\\site-packages\\sklearn\\utils\\validation.py:72: DataConversionWarning: A column-vector y was passed when a 1d array was expected. Please change the shape of y to (n_samples, ), for example using ravel().\n",
      "  return f(**kwargs)\n"
     ]
    },
    {
     "name": "stdout",
     "output_type": "stream",
     "text": [
      "==================================================\n",
      "END  AdaBoostClassifier\n",
      "START  GradientBoostingClassifier\n"
     ]
    },
    {
     "name": "stderr",
     "output_type": "stream",
     "text": [
      "c:\\worspace\\python\\venv\\lib\\site-packages\\sklearn\\utils\\validation.py:72: DataConversionWarning: A column-vector y was passed when a 1d array was expected. Please change the shape of y to (n_samples, ), for example using ravel().\n",
      "  return f(**kwargs)\n"
     ]
    },
    {
     "name": "stdout",
     "output_type": "stream",
     "text": [
      "==================================================\n",
      "END  GradientBoostingClassifier\n",
      "===================  END  ===================\n"
     ]
    },
    {
     "data": {
      "image/png": "[encoded data removed]",
      "text/plain": [
       "<Figure size 432x288 with 2 Axes>"
      ]
     },
     "metadata": {},
     "output_type": "display_data"
    },
    {
     "data": {
      "image/png": "[encoded data removed]",
      "text/plain": [
       "<Figure size 432x288 with 2 Axes>"
      ]
     },
     "metadata": {},
     "output_type": "display_data"
    },
    {
     "data": {
      "image/png": "[encoded data removed]",
      "text/plain": [
       "<Figure size 432x288 with 2 Axes>"
      ]
     },
     "metadata": {},
     "output_type": "display_data"
    },
    {
     "data": {
      "image/png": "[encoded data removed]",
      "text/plain": [
       "<Figure size 432x288 with 2 Axes>"
      ]
     },
     "metadata": {},
     "output_type": "display_data"
    },
    {
     "data": {
      "image/png": "[encoded data removed]",
      "text/plain": [
       "<Figure size 432x288 with 2 Axes>"
      ]
     },
     "metadata": {},
     "output_type": "display_data"
    }
   ],
   "source": [
    "model_selector_smote_tomek = ModelSelector(smote_tomek_dataset)\n",
    "df_3_ = model_selector_nearmiss.start(classifiers)"
   ]
  },
  {
   "cell_type": "code",
   "execution_count": 20,
   "metadata": {},
   "outputs": [
    {
     "data": {
      "text/html": [
       "<div>\n",
       "<style scoped>\n",
       "    .dataframe tbody tr th:only-of-type {\n",
       "        vertical-align: middle;\n",
       "    }\n",
       "\n",
       "    .dataframe tbody tr th {\n",
       "        vertical-align: top;\n",
       "    }\n",
       "\n",
       "    .dataframe thead th {\n",
       "        text-align: right;\n",
       "    }\n",
       "</style>\n",
       "<table border=\"1\" class=\"dataframe\">\n",
       "  <thead>\n",
       "    <tr style=\"text-align: right;\">\n",
       "      <th></th>\n",
       "      <th>name</th>\n",
       "      <th>train_score</th>\n",
       "      <th>test_score</th>\n",
       "      <th>precision_score</th>\n",
       "      <th>recall_score</th>\n",
       "      <th>f1_score</th>\n",
       "    </tr>\n",
       "  </thead>\n",
       "  <tbody>\n",
       "    <tr>\n",
       "      <th>0</th>\n",
       "      <td>LogisticRegression</td>\n",
       "      <td>0.702311</td>\n",
       "      <td>0.701675</td>\n",
       "      <td>0.748</td>\n",
       "      <td>0.608</td>\n",
       "      <td>0.671</td>\n",
       "    </tr>\n",
       "    <tr>\n",
       "      <th>1</th>\n",
       "      <td>DecisionTreeClassifier</td>\n",
       "      <td>0.996808</td>\n",
       "      <td>0.743889</td>\n",
       "      <td>0.744</td>\n",
       "      <td>0.744</td>\n",
       "      <td>0.744</td>\n",
       "    </tr>\n",
       "    <tr>\n",
       "      <th>2</th>\n",
       "      <td>RandomForestClassifier</td>\n",
       "      <td>0.996808</td>\n",
       "      <td>0.798325</td>\n",
       "      <td>0.830</td>\n",
       "      <td>0.751</td>\n",
       "      <td>0.788</td>\n",
       "    </tr>\n",
       "    <tr>\n",
       "      <th>3</th>\n",
       "      <td>AdaBoostClassifier</td>\n",
       "      <td>0.786102</td>\n",
       "      <td>0.799796</td>\n",
       "      <td>0.835</td>\n",
       "      <td>0.747</td>\n",
       "      <td>0.789</td>\n",
       "    </tr>\n",
       "    <tr>\n",
       "      <th>4</th>\n",
       "      <td>GradientBoostingClassifier</td>\n",
       "      <td>0.790379</td>\n",
       "      <td>0.799457</td>\n",
       "      <td>0.831</td>\n",
       "      <td>0.752</td>\n",
       "      <td>0.789</td>\n",
       "    </tr>\n",
       "  </tbody>\n",
       "</table>\n",
       "</div>"
      ],
      "text/plain": [
       "                         name  train_score  test_score  precision_score  \\\n",
       "0          LogisticRegression     0.702311    0.701675            0.748   \n",
       "1      DecisionTreeClassifier     0.996808    0.743889            0.744   \n",
       "2      RandomForestClassifier     0.996808    0.798325            0.830   \n",
       "3          AdaBoostClassifier     0.786102    0.799796            0.835   \n",
       "4  GradientBoostingClassifier     0.790379    0.799457            0.831   \n",
       "\n",
       "   recall_score  f1_score  \n",
       "0         0.608     0.671  \n",
       "1         0.744     0.744  \n",
       "2         0.751     0.788  \n",
       "3         0.747     0.789  \n",
       "4         0.752     0.789  "
      ]
     },
     "execution_count": 20,
     "metadata": {},
     "output_type": "execute_result"
    }
   ],
   "source": [
    "df_3_"
   ]
  },
  {
   "cell_type": "markdown",
   "metadata": {},
   "source": [
    "## Summary"
   ]
  },
  {
   "cell_type": "code",
   "execution_count": 26,
   "metadata": {},
   "outputs": [
    {
     "name": "stdout",
     "output_type": "stream",
     "text": [
      ">> Adasyn <<\n"
     ]
    },
    {
     "data": {
      "text/html": [
       "<div>\n",
       "<style scoped>\n",
       "    .dataframe tbody tr th:only-of-type {\n",
       "        vertical-align: middle;\n",
       "    }\n",
       "\n",
       "    .dataframe tbody tr th {\n",
       "        vertical-align: top;\n",
       "    }\n",
       "\n",
       "    .dataframe thead th {\n",
       "        text-align: right;\n",
       "    }\n",
       "</style>\n",
       "<table border=\"1\" class=\"dataframe\">\n",
       "  <thead>\n",
       "    <tr style=\"text-align: right;\">\n",
       "      <th></th>\n",
       "      <th>name</th>\n",
       "      <th>train_score</th>\n",
       "      <th>test_score</th>\n",
       "      <th>precision_score</th>\n",
       "      <th>recall_score</th>\n",
       "      <th>f1_score</th>\n",
       "    </tr>\n",
       "  </thead>\n",
       "  <tbody>\n",
       "    <tr>\n",
       "      <th>0</th>\n",
       "      <td>LogisticRegression</td>\n",
       "      <td>0.821010</td>\n",
       "      <td>0.823597</td>\n",
       "      <td>0.856</td>\n",
       "      <td>0.778</td>\n",
       "      <td>0.815</td>\n",
       "    </tr>\n",
       "    <tr>\n",
       "      <th>1</th>\n",
       "      <td>DecisionTreeClassifier</td>\n",
       "      <td>0.998436</td>\n",
       "      <td>0.801586</td>\n",
       "      <td>0.804</td>\n",
       "      <td>0.798</td>\n",
       "      <td>0.801</td>\n",
       "    </tr>\n",
       "    <tr>\n",
       "      <th>2</th>\n",
       "      <td>RandomForestClassifier</td>\n",
       "      <td>0.998420</td>\n",
       "      <td>0.859032</td>\n",
       "      <td>0.916</td>\n",
       "      <td>0.791</td>\n",
       "      <td>0.849</td>\n",
       "    </tr>\n",
       "    <tr>\n",
       "      <th>3</th>\n",
       "      <td>AdaBoostClassifier</td>\n",
       "      <td>0.814129</td>\n",
       "      <td>0.815267</td>\n",
       "      <td>0.813</td>\n",
       "      <td>0.819</td>\n",
       "      <td>0.816</td>\n",
       "    </tr>\n",
       "    <tr>\n",
       "      <th>4</th>\n",
       "      <td>GradientBoostingClassifier</td>\n",
       "      <td>0.840032</td>\n",
       "      <td>0.840284</td>\n",
       "      <td>0.884</td>\n",
       "      <td>0.783</td>\n",
       "      <td>0.831</td>\n",
       "    </tr>\n",
       "  </tbody>\n",
       "</table>\n",
       "</div>"
      ],
      "text/plain": [
       "                         name  train_score  test_score  precision_score  \\\n",
       "0          LogisticRegression     0.821010    0.823597            0.856   \n",
       "1      DecisionTreeClassifier     0.998436    0.801586            0.804   \n",
       "2      RandomForestClassifier     0.998420    0.859032            0.916   \n",
       "3          AdaBoostClassifier     0.814129    0.815267            0.813   \n",
       "4  GradientBoostingClassifier     0.840032    0.840284            0.884   \n",
       "\n",
       "   recall_score  f1_score  \n",
       "0         0.778     0.815  \n",
       "1         0.798     0.801  \n",
       "2         0.791     0.849  \n",
       "3         0.819     0.816  \n",
       "4         0.783     0.831  "
      ]
     },
     "execution_count": 26,
     "metadata": {},
     "output_type": "execute_result"
    }
   ],
   "source": [
    "print('>> Adasyn <<')\n",
    "df_"
   ]
  },
  {
   "cell_type": "code",
   "execution_count": 28,
   "metadata": {},
   "outputs": [
    {
     "name": "stdout",
     "output_type": "stream",
     "text": [
      ">> Nearmiss <<\n"
     ]
    },
    {
     "data": {
      "text/html": [
       "<div>\n",
       "<style scoped>\n",
       "    .dataframe tbody tr th:only-of-type {\n",
       "        vertical-align: middle;\n",
       "    }\n",
       "\n",
       "    .dataframe tbody tr th {\n",
       "        vertical-align: top;\n",
       "    }\n",
       "\n",
       "    .dataframe thead th {\n",
       "        text-align: right;\n",
       "    }\n",
       "</style>\n",
       "<table border=\"1\" class=\"dataframe\">\n",
       "  <thead>\n",
       "    <tr style=\"text-align: right;\">\n",
       "      <th></th>\n",
       "      <th>name</th>\n",
       "      <th>train_score</th>\n",
       "      <th>test_score</th>\n",
       "      <th>precision_score</th>\n",
       "      <th>recall_score</th>\n",
       "      <th>f1_score</th>\n",
       "    </tr>\n",
       "  </thead>\n",
       "  <tbody>\n",
       "    <tr>\n",
       "      <th>0</th>\n",
       "      <td>LogisticRegression</td>\n",
       "      <td>0.702311</td>\n",
       "      <td>0.701675</td>\n",
       "      <td>0.748</td>\n",
       "      <td>0.608</td>\n",
       "      <td>0.671</td>\n",
       "    </tr>\n",
       "    <tr>\n",
       "      <th>1</th>\n",
       "      <td>DecisionTreeClassifier</td>\n",
       "      <td>0.996808</td>\n",
       "      <td>0.743436</td>\n",
       "      <td>0.744</td>\n",
       "      <td>0.741</td>\n",
       "      <td>0.743</td>\n",
       "    </tr>\n",
       "    <tr>\n",
       "      <th>2</th>\n",
       "      <td>RandomForestClassifier</td>\n",
       "      <td>0.996808</td>\n",
       "      <td>0.799909</td>\n",
       "      <td>0.835</td>\n",
       "      <td>0.747</td>\n",
       "      <td>0.789</td>\n",
       "    </tr>\n",
       "    <tr>\n",
       "      <th>3</th>\n",
       "      <td>AdaBoostClassifier</td>\n",
       "      <td>0.786102</td>\n",
       "      <td>0.799796</td>\n",
       "      <td>0.835</td>\n",
       "      <td>0.747</td>\n",
       "      <td>0.789</td>\n",
       "    </tr>\n",
       "    <tr>\n",
       "      <th>4</th>\n",
       "      <td>GradientBoostingClassifier</td>\n",
       "      <td>0.790379</td>\n",
       "      <td>0.799457</td>\n",
       "      <td>0.831</td>\n",
       "      <td>0.752</td>\n",
       "      <td>0.789</td>\n",
       "    </tr>\n",
       "  </tbody>\n",
       "</table>\n",
       "</div>"
      ],
      "text/plain": [
       "                         name  train_score  test_score  precision_score  \\\n",
       "0          LogisticRegression     0.702311    0.701675            0.748   \n",
       "1      DecisionTreeClassifier     0.996808    0.743436            0.744   \n",
       "2      RandomForestClassifier     0.996808    0.799909            0.835   \n",
       "3          AdaBoostClassifier     0.786102    0.799796            0.835   \n",
       "4  GradientBoostingClassifier     0.790379    0.799457            0.831   \n",
       "\n",
       "   recall_score  f1_score  \n",
       "0         0.608     0.671  \n",
       "1         0.741     0.743  \n",
       "2         0.747     0.789  \n",
       "3         0.747     0.789  \n",
       "4         0.752     0.789  "
      ]
     },
     "execution_count": 28,
     "metadata": {},
     "output_type": "execute_result"
    }
   ],
   "source": [
    "print('>> Nearmiss <<')\n",
    "df_2_"
   ]
  },
  {
   "cell_type": "code",
   "execution_count": 27,
   "metadata": {},
   "outputs": [
    {
     "name": "stdout",
     "output_type": "stream",
     "text": [
      ">> SMOTETomek <<\n"
     ]
    },
    {
     "data": {
      "text/html": [
       "<div>\n",
       "<style scoped>\n",
       "    .dataframe tbody tr th:only-of-type {\n",
       "        vertical-align: middle;\n",
       "    }\n",
       "\n",
       "    .dataframe tbody tr th {\n",
       "        vertical-align: top;\n",
       "    }\n",
       "\n",
       "    .dataframe thead th {\n",
       "        text-align: right;\n",
       "    }\n",
       "</style>\n",
       "<table border=\"1\" class=\"dataframe\">\n",
       "  <thead>\n",
       "    <tr style=\"text-align: right;\">\n",
       "      <th></th>\n",
       "      <th>name</th>\n",
       "      <th>train_score</th>\n",
       "      <th>test_score</th>\n",
       "      <th>precision_score</th>\n",
       "      <th>recall_score</th>\n",
       "      <th>f1_score</th>\n",
       "    </tr>\n",
       "  </thead>\n",
       "  <tbody>\n",
       "    <tr>\n",
       "      <th>0</th>\n",
       "      <td>LogisticRegression</td>\n",
       "      <td>0.702311</td>\n",
       "      <td>0.701675</td>\n",
       "      <td>0.748</td>\n",
       "      <td>0.608</td>\n",
       "      <td>0.671</td>\n",
       "    </tr>\n",
       "    <tr>\n",
       "      <th>1</th>\n",
       "      <td>DecisionTreeClassifier</td>\n",
       "      <td>0.996808</td>\n",
       "      <td>0.743889</td>\n",
       "      <td>0.744</td>\n",
       "      <td>0.744</td>\n",
       "      <td>0.744</td>\n",
       "    </tr>\n",
       "    <tr>\n",
       "      <th>2</th>\n",
       "      <td>RandomForestClassifier</td>\n",
       "      <td>0.996808</td>\n",
       "      <td>0.798325</td>\n",
       "      <td>0.830</td>\n",
       "      <td>0.751</td>\n",
       "      <td>0.788</td>\n",
       "    </tr>\n",
       "    <tr>\n",
       "      <th>3</th>\n",
       "      <td>AdaBoostClassifier</td>\n",
       "      <td>0.786102</td>\n",
       "      <td>0.799796</td>\n",
       "      <td>0.835</td>\n",
       "      <td>0.747</td>\n",
       "      <td>0.789</td>\n",
       "    </tr>\n",
       "    <tr>\n",
       "      <th>4</th>\n",
       "      <td>GradientBoostingClassifier</td>\n",
       "      <td>0.790379</td>\n",
       "      <td>0.799457</td>\n",
       "      <td>0.831</td>\n",
       "      <td>0.752</td>\n",
       "      <td>0.789</td>\n",
       "    </tr>\n",
       "  </tbody>\n",
       "</table>\n",
       "</div>"
      ],
      "text/plain": [
       "                         name  train_score  test_score  precision_score  \\\n",
       "0          LogisticRegression     0.702311    0.701675            0.748   \n",
       "1      DecisionTreeClassifier     0.996808    0.743889            0.744   \n",
       "2      RandomForestClassifier     0.996808    0.798325            0.830   \n",
       "3          AdaBoostClassifier     0.786102    0.799796            0.835   \n",
       "4  GradientBoostingClassifier     0.790379    0.799457            0.831   \n",
       "\n",
       "   recall_score  f1_score  \n",
       "0         0.608     0.671  \n",
       "1         0.744     0.744  \n",
       "2         0.751     0.788  \n",
       "3         0.747     0.789  \n",
       "4         0.752     0.789  "
      ]
     },
     "execution_count": 27,
     "metadata": {},
     "output_type": "execute_result"
    }
   ],
   "source": [
    "print('>> SMOTETomek <<')\n",
    "df_3_"
   ]
  }
 ],
 "metadata": {
  "kernelspec": {
   "display_name": "Python 3",
   "language": "python",
   "name": "python3"
  },
  "language_info": {
   "codemirror_mode": {
    "name": "ipython",
    "version": 3
   },
   "file_extension": ".py",
   "mimetype": "text/x-python",
   "name": "python",
   "nbconvert_exporter": "python",
   "pygments_lexer": "ipython3",
   "version": "3.6.8"
  }
 },
 "nbformat": 4,
 "nbformat_minor": 4
}
