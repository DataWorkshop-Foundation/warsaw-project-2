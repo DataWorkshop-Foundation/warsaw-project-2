{
 "cells": [
  {
   "cell_type": "code",
   "execution_count": 51,
   "metadata": {},
   "outputs": [],
   "source": [
    "# To support both python 2 and python 3\n",
    "from __future__ import division, print_function, unicode_literals\n",
    "\n",
    "# Common imports\n",
    "import numpy as np\n",
    "import pandas as pd\n",
    "import os\n",
    "import time\n",
    "from tqdm import tqdm\n",
    "\n",
    "# to make this notebook's output stable across runs\n",
    "np.random.seed(42)\n",
    "\n",
    "# To plot pretty figures\n",
    "%matplotlib inline\n",
    "import matplotlib as mpl\n",
    "import matplotlib.pyplot as plt\n",
    "\n",
    "import seaborn as sns\n",
    "sns.set()\n",
    "\n",
    "\n",
    "# Ignore useless warnings (see SciPy issue #5998)\n",
    "# import warnings\n",
    "# warnings.filterwarnings(action=\"ignore\", message=\"^internal gelsd\")\n",
    "\n",
    "\n",
    "# ...\n",
    "from sklearn.pipeline import FeatureUnion\n",
    "from sklearn.pipeline import Pipeline\n",
    "# from sklearn.model_selection import train_test_split\n",
    "\n",
    "from sklearn.impute import SimpleImputer\n",
    "from sklearn.preprocessing import StandardScaler\n",
    "# from sklearn.preprocessing import LabelEncoder\n",
    "# from sklearn.preprocessing import OneHotEncoder\n",
    "\n",
    "from sklearn.linear_model import LogisticRegression\n",
    "from sklearn.neighbors import KNeighborsClassifier\n",
    "from sklearn.tree import DecisionTreeClassifier\n",
    "from sklearn.ensemble import RandomForestClassifier\n",
    "from sklearn.ensemble import AdaBoostClassifier\n",
    "from sklearn.ensemble import GradientBoostingClassifier\n",
    "from sklearn.svm import SVC\n",
    "from sklearn.svm import LinearSVC\n",
    "from sklearn.svm import NuSVC\n",
    "from sklearn.discriminant_analysis import LinearDiscriminantAnalysis\n",
    "from sklearn.discriminant_analysis import QuadraticDiscriminantAnalysis\n",
    "\n",
    "# from sklearn import metrics\n",
    "from sklearn.metrics import recall_score, precision_score, f1_score\n",
    "from sklearn.metrics import plot_confusion_matrix\n",
    "\n",
    "\n",
    "# import category_encoders as ce\n",
    "# from category_encoders import BinaryEncoder"
   ]
  },
  {
   "cell_type": "code",
   "execution_count": 2,
   "metadata": {},
   "outputs": [
    {
     "data": {
      "text/plain": [
       "'..\\\\..\\\\..\\\\Data'"
      ]
     },
     "execution_count": 2,
     "metadata": {},
     "output_type": "execute_result"
    }
   ],
   "source": [
    "# Paths ...\n",
    "PATH_TO_DATA_DIR = os.path.join('..', '..', '..', 'Data')\n",
    "\n",
    "# ...\n",
    "ADASYB_DATASET_TRAIN = os.path.join(PATH_TO_DATA_DIR, 'Adasyn_train.csv')\n",
    "ADASYB_DATASET_TEST = os.path.join(PATH_TO_DATA_DIR, 'Adasyn_test.csv')\n",
    "\n",
    "PATH_TO_DATA_DIR"
   ]
  },
  {
   "cell_type": "code",
   "execution_count": 3,
   "metadata": {},
   "outputs": [
    {
     "data": {
      "text/html": [
       "<div>\n",
       "<style scoped>\n",
       "    .dataframe tbody tr th:only-of-type {\n",
       "        vertical-align: middle;\n",
       "    }\n",
       "\n",
       "    .dataframe tbody tr th {\n",
       "        vertical-align: top;\n",
       "    }\n",
       "\n",
       "    .dataframe thead th {\n",
       "        text-align: right;\n",
       "    }\n",
       "</style>\n",
       "<table border=\"1\" class=\"dataframe\">\n",
       "  <thead>\n",
       "    <tr style=\"text-align: right;\">\n",
       "      <th></th>\n",
       "      <th>PatientId</th>\n",
       "      <th>Gender</th>\n",
       "      <th>Age</th>\n",
       "      <th>Neighbourhood_0</th>\n",
       "      <th>Neighbourhood_1</th>\n",
       "      <th>Neighbourhood_2</th>\n",
       "      <th>Neighbourhood_3</th>\n",
       "      <th>Neighbourhood_4</th>\n",
       "      <th>Neighbourhood_5</th>\n",
       "      <th>Neighbourhood_6</th>\n",
       "      <th>...</th>\n",
       "      <th>DayAppointmentDate_3</th>\n",
       "      <th>DayAppointmentDate_4</th>\n",
       "      <th>DayAppointmentDate_5</th>\n",
       "      <th>HourOfDayBooking_0</th>\n",
       "      <th>DaysToAppointment</th>\n",
       "      <th>AppointmentWeekDay_0</th>\n",
       "      <th>AppointmentWeekDay_1</th>\n",
       "      <th>AppointmentWeekDay_2</th>\n",
       "      <th>AppointmentWeekDay_3</th>\n",
       "      <th>NoShow</th>\n",
       "    </tr>\n",
       "  </thead>\n",
       "  <tbody>\n",
       "    <tr>\n",
       "      <th>0</th>\n",
       "      <td>4652519881919</td>\n",
       "      <td>0</td>\n",
       "      <td>8</td>\n",
       "      <td>0</td>\n",
       "      <td>0</td>\n",
       "      <td>0</td>\n",
       "      <td>1</td>\n",
       "      <td>0</td>\n",
       "      <td>1</td>\n",
       "      <td>1</td>\n",
       "      <td>...</td>\n",
       "      <td>0</td>\n",
       "      <td>1</td>\n",
       "      <td>0</td>\n",
       "      <td>1</td>\n",
       "      <td>1</td>\n",
       "      <td>0</td>\n",
       "      <td>0</td>\n",
       "      <td>1</td>\n",
       "      <td>0</td>\n",
       "      <td>0</td>\n",
       "    </tr>\n",
       "    <tr>\n",
       "      <th>1</th>\n",
       "      <td>81431485833737</td>\n",
       "      <td>0</td>\n",
       "      <td>74</td>\n",
       "      <td>0</td>\n",
       "      <td>0</td>\n",
       "      <td>1</td>\n",
       "      <td>0</td>\n",
       "      <td>1</td>\n",
       "      <td>0</td>\n",
       "      <td>0</td>\n",
       "      <td>...</td>\n",
       "      <td>0</td>\n",
       "      <td>0</td>\n",
       "      <td>1</td>\n",
       "      <td>1</td>\n",
       "      <td>12</td>\n",
       "      <td>0</td>\n",
       "      <td>0</td>\n",
       "      <td>1</td>\n",
       "      <td>1</td>\n",
       "      <td>0</td>\n",
       "    </tr>\n",
       "    <tr>\n",
       "      <th>2</th>\n",
       "      <td>555956674526286</td>\n",
       "      <td>0</td>\n",
       "      <td>50</td>\n",
       "      <td>0</td>\n",
       "      <td>0</td>\n",
       "      <td>1</td>\n",
       "      <td>0</td>\n",
       "      <td>1</td>\n",
       "      <td>0</td>\n",
       "      <td>1</td>\n",
       "      <td>...</td>\n",
       "      <td>0</td>\n",
       "      <td>0</td>\n",
       "      <td>1</td>\n",
       "      <td>1</td>\n",
       "      <td>31</td>\n",
       "      <td>0</td>\n",
       "      <td>0</td>\n",
       "      <td>0</td>\n",
       "      <td>1</td>\n",
       "      <td>0</td>\n",
       "    </tr>\n",
       "  </tbody>\n",
       "</table>\n",
       "<p>3 rows × 43 columns</p>\n",
       "</div>"
      ],
      "text/plain": [
       "         PatientId  Gender  Age  Neighbourhood_0  Neighbourhood_1  \\\n",
       "0    4652519881919       0    8                0                0   \n",
       "1   81431485833737       0   74                0                0   \n",
       "2  555956674526286       0   50                0                0   \n",
       "\n",
       "   Neighbourhood_2  Neighbourhood_3  Neighbourhood_4  Neighbourhood_5  \\\n",
       "0                0                1                0                1   \n",
       "1                1                0                1                0   \n",
       "2                1                0                1                0   \n",
       "\n",
       "   Neighbourhood_6  ...  DayAppointmentDate_3  DayAppointmentDate_4  \\\n",
       "0                1  ...                     0                     1   \n",
       "1                0  ...                     0                     0   \n",
       "2                1  ...                     0                     0   \n",
       "\n",
       "   DayAppointmentDate_5  HourOfDayBooking_0  DaysToAppointment  \\\n",
       "0                     0                   1                  1   \n",
       "1                     1                   1                 12   \n",
       "2                     1                   1                 31   \n",
       "\n",
       "   AppointmentWeekDay_0  AppointmentWeekDay_1  AppointmentWeekDay_2  \\\n",
       "0                     0                     0                     1   \n",
       "1                     0                     0                     1   \n",
       "2                     0                     0                     0   \n",
       "\n",
       "   AppointmentWeekDay_3  NoShow  \n",
       "0                     0       0  \n",
       "1                     1       0  \n",
       "2                     1       0  \n",
       "\n",
       "[3 rows x 43 columns]"
      ]
     },
     "execution_count": 3,
     "metadata": {},
     "output_type": "execute_result"
    }
   ],
   "source": [
    "df_train = pd.read_csv(ADASYB_DATASET_TRAIN)\n",
    "df_train.head(3)"
   ]
  },
  {
   "cell_type": "code",
   "execution_count": 4,
   "metadata": {},
   "outputs": [
    {
     "data": {
      "text/plain": [
       "((123381, 42), (123381, 1))"
      ]
     },
     "execution_count": 4,
     "metadata": {},
     "output_type": "execute_result"
    }
   ],
   "source": [
    "X_train = df_train.loc[:, df_train.columns != 'NoShow'] \n",
    "y_train = df_train[['NoShow']].values\n",
    "\n",
    "X_train.shape, y_train.shape"
   ]
  },
  {
   "cell_type": "code",
   "execution_count": 5,
   "metadata": {},
   "outputs": [
    {
     "data": {
      "text/html": [
       "<div>\n",
       "<style scoped>\n",
       "    .dataframe tbody tr th:only-of-type {\n",
       "        vertical-align: middle;\n",
       "    }\n",
       "\n",
       "    .dataframe tbody tr th {\n",
       "        vertical-align: top;\n",
       "    }\n",
       "\n",
       "    .dataframe thead th {\n",
       "        text-align: right;\n",
       "    }\n",
       "</style>\n",
       "<table border=\"1\" class=\"dataframe\">\n",
       "  <thead>\n",
       "    <tr style=\"text-align: right;\">\n",
       "      <th></th>\n",
       "      <th>PatientId</th>\n",
       "      <th>Gender</th>\n",
       "      <th>Age</th>\n",
       "      <th>Neighbourhood_0</th>\n",
       "      <th>Neighbourhood_1</th>\n",
       "      <th>Neighbourhood_2</th>\n",
       "      <th>Neighbourhood_3</th>\n",
       "      <th>Neighbourhood_4</th>\n",
       "      <th>Neighbourhood_5</th>\n",
       "      <th>Neighbourhood_6</th>\n",
       "      <th>...</th>\n",
       "      <th>DayAppointmentDate_3</th>\n",
       "      <th>DayAppointmentDate_4</th>\n",
       "      <th>DayAppointmentDate_5</th>\n",
       "      <th>HourOfDayBooking_0</th>\n",
       "      <th>DaysToAppointment</th>\n",
       "      <th>AppointmentWeekDay_0</th>\n",
       "      <th>AppointmentWeekDay_1</th>\n",
       "      <th>AppointmentWeekDay_2</th>\n",
       "      <th>AppointmentWeekDay_3</th>\n",
       "      <th>NoShow</th>\n",
       "    </tr>\n",
       "  </thead>\n",
       "  <tbody>\n",
       "    <tr>\n",
       "      <th>0</th>\n",
       "      <td>836957433187</td>\n",
       "      <td>0</td>\n",
       "      <td>7</td>\n",
       "      <td>0</td>\n",
       "      <td>0</td>\n",
       "      <td>0</td>\n",
       "      <td>1</td>\n",
       "      <td>0</td>\n",
       "      <td>1</td>\n",
       "      <td>1</td>\n",
       "      <td>...</td>\n",
       "      <td>0</td>\n",
       "      <td>0</td>\n",
       "      <td>1</td>\n",
       "      <td>1</td>\n",
       "      <td>46</td>\n",
       "      <td>0</td>\n",
       "      <td>0</td>\n",
       "      <td>1</td>\n",
       "      <td>1</td>\n",
       "      <td>1</td>\n",
       "    </tr>\n",
       "    <tr>\n",
       "      <th>1</th>\n",
       "      <td>791415392462</td>\n",
       "      <td>0</td>\n",
       "      <td>27</td>\n",
       "      <td>0</td>\n",
       "      <td>0</td>\n",
       "      <td>0</td>\n",
       "      <td>1</td>\n",
       "      <td>1</td>\n",
       "      <td>1</td>\n",
       "      <td>1</td>\n",
       "      <td>...</td>\n",
       "      <td>1</td>\n",
       "      <td>1</td>\n",
       "      <td>0</td>\n",
       "      <td>1</td>\n",
       "      <td>0</td>\n",
       "      <td>0</td>\n",
       "      <td>0</td>\n",
       "      <td>0</td>\n",
       "      <td>1</td>\n",
       "      <td>0</td>\n",
       "    </tr>\n",
       "    <tr>\n",
       "      <th>2</th>\n",
       "      <td>4131646379876</td>\n",
       "      <td>0</td>\n",
       "      <td>47</td>\n",
       "      <td>0</td>\n",
       "      <td>0</td>\n",
       "      <td>0</td>\n",
       "      <td>1</td>\n",
       "      <td>0</td>\n",
       "      <td>1</td>\n",
       "      <td>1</td>\n",
       "      <td>...</td>\n",
       "      <td>1</td>\n",
       "      <td>1</td>\n",
       "      <td>0</td>\n",
       "      <td>1</td>\n",
       "      <td>1</td>\n",
       "      <td>0</td>\n",
       "      <td>0</td>\n",
       "      <td>1</td>\n",
       "      <td>0</td>\n",
       "      <td>1</td>\n",
       "    </tr>\n",
       "  </tbody>\n",
       "</table>\n",
       "<p>3 rows × 43 columns</p>\n",
       "</div>"
      ],
      "text/plain": [
       "       PatientId  Gender  Age  Neighbourhood_0  Neighbourhood_1  \\\n",
       "0   836957433187       0    7                0                0   \n",
       "1   791415392462       0   27                0                0   \n",
       "2  4131646379876       0   47                0                0   \n",
       "\n",
       "   Neighbourhood_2  Neighbourhood_3  Neighbourhood_4  Neighbourhood_5  \\\n",
       "0                0                1                0                1   \n",
       "1                0                1                1                1   \n",
       "2                0                1                0                1   \n",
       "\n",
       "   Neighbourhood_6  ...  DayAppointmentDate_3  DayAppointmentDate_4  \\\n",
       "0                1  ...                     0                     0   \n",
       "1                1  ...                     1                     1   \n",
       "2                1  ...                     1                     1   \n",
       "\n",
       "   DayAppointmentDate_5  HourOfDayBooking_0  DaysToAppointment  \\\n",
       "0                     1                   1                 46   \n",
       "1                     0                   1                  0   \n",
       "2                     0                   1                  1   \n",
       "\n",
       "   AppointmentWeekDay_0  AppointmentWeekDay_1  AppointmentWeekDay_2  \\\n",
       "0                     0                     0                     1   \n",
       "1                     0                     0                     0   \n",
       "2                     0                     0                     1   \n",
       "\n",
       "   AppointmentWeekDay_3  NoShow  \n",
       "0                     1       1  \n",
       "1                     1       0  \n",
       "2                     0       1  \n",
       "\n",
       "[3 rows x 43 columns]"
      ]
     },
     "execution_count": 5,
     "metadata": {},
     "output_type": "execute_result"
    }
   ],
   "source": [
    "df_test = pd.read_csv(ADASYB_DATASET_TEST)\n",
    "df_test.head(3)"
   ]
  },
  {
   "cell_type": "code",
   "execution_count": 6,
   "metadata": {},
   "outputs": [
    {
     "data": {
      "text/plain": [
       "((34937, 42), (34937, 1))"
      ]
     },
     "execution_count": 6,
     "metadata": {},
     "output_type": "execute_result"
    }
   ],
   "source": [
    "X_test = df_test.loc[:, df_train.columns != 'NoShow'] \n",
    "y_test = df_test[['NoShow']].values\n",
    "\n",
    "X_test.shape, y_test.shape"
   ]
  },
  {
   "cell_type": "markdown",
   "metadata": {},
   "source": [
    "## Utils"
   ]
  },
  {
   "cell_type": "code",
   "execution_count": 7,
   "metadata": {},
   "outputs": [],
   "source": [
    "def plot_hist(dataFrame, feature, title='Histogram'):\n",
    "    sns.set(style=\"ticks\", color_codes=True)\n",
    "    sns.distplot(dataFrame[feature], color='red', kde=False, bins=5)\n",
    "\n",
    "    plt.title(title)\n",
    "    plt.xlim(-0.5, 1.5)\n",
    "    plt.tight_layout();\n",
    "\n",
    "    # plt.savefig('./imgs/barplot_price_bin.png', dpi=300);"
   ]
  },
  {
   "cell_type": "markdown",
   "metadata": {},
   "source": [
    "## Preprocessing"
   ]
  },
  {
   "cell_type": "code",
   "execution_count": 8,
   "metadata": {},
   "outputs": [
    {
     "name": "stdout",
     "output_type": "stream",
     "text": [
      "<class 'pandas.core.frame.DataFrame'>\n",
      "RangeIndex: 123381 entries, 0 to 123380\n",
      "Data columns (total 43 columns):\n",
      " #   Column                  Non-Null Count   Dtype\n",
      "---  ------                  --------------   -----\n",
      " 0   PatientId               123381 non-null  int64\n",
      " 1   Gender                  123381 non-null  int64\n",
      " 2   Age                     123381 non-null  int64\n",
      " 3   Neighbourhood_0         123381 non-null  int64\n",
      " 4   Neighbourhood_1         123381 non-null  int64\n",
      " 5   Neighbourhood_2         123381 non-null  int64\n",
      " 6   Neighbourhood_3         123381 non-null  int64\n",
      " 7   Neighbourhood_4         123381 non-null  int64\n",
      " 8   Neighbourhood_5         123381 non-null  int64\n",
      " 9   Neighbourhood_6         123381 non-null  int64\n",
      " 10  Neighbourhood_7         123381 non-null  int64\n",
      " 11  Scholarship             123381 non-null  int64\n",
      " 12  Hypertension            123381 non-null  int64\n",
      " 13  Diabetes                123381 non-null  int64\n",
      " 14  Alcoholism              123381 non-null  int64\n",
      " 15  Handicap                123381 non-null  int64\n",
      " 16  SMSReceived             123381 non-null  int64\n",
      " 17  MonthBookingDate_0      123381 non-null  int64\n",
      " 18  MonthBookingDate_1      123381 non-null  int64\n",
      " 19  MonthBookingDate_2      123381 non-null  int64\n",
      " 20  MonthBookingDate_3      123381 non-null  int64\n",
      " 21  DayBookingDate_0        123381 non-null  int64\n",
      " 22  DayBookingDate_1        123381 non-null  int64\n",
      " 23  DayBookingDate_2        123381 non-null  int64\n",
      " 24  DayBookingDate_3        123381 non-null  int64\n",
      " 25  DayBookingDate_4        123381 non-null  int64\n",
      " 26  DayBookingDate_5        123381 non-null  int64\n",
      " 27  MonthAppointmentDate_0  123381 non-null  int64\n",
      " 28  MonthAppointmentDate_1  123381 non-null  int64\n",
      " 29  MonthAppointmentDate_2  123381 non-null  int64\n",
      " 30  DayAppointmentDate_0    123381 non-null  int64\n",
      " 31  DayAppointmentDate_1    123381 non-null  int64\n",
      " 32  DayAppointmentDate_2    123381 non-null  int64\n",
      " 33  DayAppointmentDate_3    123381 non-null  int64\n",
      " 34  DayAppointmentDate_4    123381 non-null  int64\n",
      " 35  DayAppointmentDate_5    123381 non-null  int64\n",
      " 36  HourOfDayBooking_0      123381 non-null  int64\n",
      " 37  DaysToAppointment       123381 non-null  int64\n",
      " 38  AppointmentWeekDay_0    123381 non-null  int64\n",
      " 39  AppointmentWeekDay_1    123381 non-null  int64\n",
      " 40  AppointmentWeekDay_2    123381 non-null  int64\n",
      " 41  AppointmentWeekDay_3    123381 non-null  int64\n",
      " 42  NoShow                  123381 non-null  int64\n",
      "dtypes: int64(43)\n",
      "memory usage: 40.5 MB\n"
     ]
    }
   ],
   "source": [
    "df_train.info()"
   ]
  },
  {
   "cell_type": "code",
   "execution_count": 9,
   "metadata": {},
   "outputs": [
    {
     "data": {
      "text/html": [
       "<div>\n",
       "<style scoped>\n",
       "    .dataframe tbody tr th:only-of-type {\n",
       "        vertical-align: middle;\n",
       "    }\n",
       "\n",
       "    .dataframe tbody tr th {\n",
       "        vertical-align: top;\n",
       "    }\n",
       "\n",
       "    .dataframe thead th {\n",
       "        text-align: right;\n",
       "    }\n",
       "</style>\n",
       "<table border=\"1\" class=\"dataframe\">\n",
       "  <thead>\n",
       "    <tr style=\"text-align: right;\">\n",
       "      <th></th>\n",
       "      <th>PatientId</th>\n",
       "      <th>Gender</th>\n",
       "      <th>Age</th>\n",
       "      <th>Neighbourhood_0</th>\n",
       "      <th>Neighbourhood_1</th>\n",
       "      <th>Neighbourhood_2</th>\n",
       "      <th>Neighbourhood_3</th>\n",
       "      <th>Neighbourhood_4</th>\n",
       "      <th>Neighbourhood_5</th>\n",
       "      <th>Neighbourhood_6</th>\n",
       "      <th>...</th>\n",
       "      <th>DayAppointmentDate_3</th>\n",
       "      <th>DayAppointmentDate_4</th>\n",
       "      <th>DayAppointmentDate_5</th>\n",
       "      <th>HourOfDayBooking_0</th>\n",
       "      <th>DaysToAppointment</th>\n",
       "      <th>AppointmentWeekDay_0</th>\n",
       "      <th>AppointmentWeekDay_1</th>\n",
       "      <th>AppointmentWeekDay_2</th>\n",
       "      <th>AppointmentWeekDay_3</th>\n",
       "      <th>NoShow</th>\n",
       "    </tr>\n",
       "  </thead>\n",
       "  <tbody>\n",
       "    <tr>\n",
       "      <th>count</th>\n",
       "      <td>1.233810e+05</td>\n",
       "      <td>123381.000000</td>\n",
       "      <td>123381.000000</td>\n",
       "      <td>123381.0</td>\n",
       "      <td>123381.000000</td>\n",
       "      <td>123381.000000</td>\n",
       "      <td>123381.000000</td>\n",
       "      <td>123381.000000</td>\n",
       "      <td>123381.000000</td>\n",
       "      <td>123381.000000</td>\n",
       "      <td>...</td>\n",
       "      <td>123381.000000</td>\n",
       "      <td>123381.000000</td>\n",
       "      <td>123381.000000</td>\n",
       "      <td>123381.0</td>\n",
       "      <td>123381.000000</td>\n",
       "      <td>123381.0</td>\n",
       "      <td>123381.000000</td>\n",
       "      <td>123381.000000</td>\n",
       "      <td>123381.000000</td>\n",
       "      <td>123381.000000</td>\n",
       "    </tr>\n",
       "    <tr>\n",
       "      <th>mean</th>\n",
       "      <td>1.468649e+14</td>\n",
       "      <td>0.269239</td>\n",
       "      <td>35.969477</td>\n",
       "      <td>0.0</td>\n",
       "      <td>0.070529</td>\n",
       "      <td>0.252446</td>\n",
       "      <td>0.376306</td>\n",
       "      <td>0.370762</td>\n",
       "      <td>0.384532</td>\n",
       "      <td>0.478258</td>\n",
       "      <td>...</td>\n",
       "      <td>0.409058</td>\n",
       "      <td>0.444785</td>\n",
       "      <td>0.410938</td>\n",
       "      <td>1.0</td>\n",
       "      <td>12.147964</td>\n",
       "      <td>0.0</td>\n",
       "      <td>0.298920</td>\n",
       "      <td>0.349689</td>\n",
       "      <td>0.446925</td>\n",
       "      <td>0.498132</td>\n",
       "    </tr>\n",
       "    <tr>\n",
       "      <th>std</th>\n",
       "      <td>2.552446e+14</td>\n",
       "      <td>0.443566</td>\n",
       "      <td>21.443056</td>\n",
       "      <td>0.0</td>\n",
       "      <td>0.256038</td>\n",
       "      <td>0.434417</td>\n",
       "      <td>0.484460</td>\n",
       "      <td>0.483011</td>\n",
       "      <td>0.486487</td>\n",
       "      <td>0.499529</td>\n",
       "      <td>...</td>\n",
       "      <td>0.491662</td>\n",
       "      <td>0.496944</td>\n",
       "      <td>0.492006</td>\n",
       "      <td>0.0</td>\n",
       "      <td>14.829341</td>\n",
       "      <td>0.0</td>\n",
       "      <td>0.457786</td>\n",
       "      <td>0.476874</td>\n",
       "      <td>0.497177</td>\n",
       "      <td>0.499999</td>\n",
       "    </tr>\n",
       "    <tr>\n",
       "      <th>min</th>\n",
       "      <td>3.921700e+04</td>\n",
       "      <td>0.000000</td>\n",
       "      <td>0.000000</td>\n",
       "      <td>0.0</td>\n",
       "      <td>0.000000</td>\n",
       "      <td>0.000000</td>\n",
       "      <td>0.000000</td>\n",
       "      <td>0.000000</td>\n",
       "      <td>0.000000</td>\n",
       "      <td>0.000000</td>\n",
       "      <td>...</td>\n",
       "      <td>0.000000</td>\n",
       "      <td>0.000000</td>\n",
       "      <td>0.000000</td>\n",
       "      <td>1.0</td>\n",
       "      <td>0.000000</td>\n",
       "      <td>0.0</td>\n",
       "      <td>0.000000</td>\n",
       "      <td>0.000000</td>\n",
       "      <td>0.000000</td>\n",
       "      <td>0.000000</td>\n",
       "    </tr>\n",
       "    <tr>\n",
       "      <th>25%</th>\n",
       "      <td>4.212193e+12</td>\n",
       "      <td>0.000000</td>\n",
       "      <td>19.000000</td>\n",
       "      <td>0.0</td>\n",
       "      <td>0.000000</td>\n",
       "      <td>0.000000</td>\n",
       "      <td>0.000000</td>\n",
       "      <td>0.000000</td>\n",
       "      <td>0.000000</td>\n",
       "      <td>0.000000</td>\n",
       "      <td>...</td>\n",
       "      <td>0.000000</td>\n",
       "      <td>0.000000</td>\n",
       "      <td>0.000000</td>\n",
       "      <td>1.0</td>\n",
       "      <td>1.000000</td>\n",
       "      <td>0.0</td>\n",
       "      <td>0.000000</td>\n",
       "      <td>0.000000</td>\n",
       "      <td>0.000000</td>\n",
       "      <td>0.000000</td>\n",
       "    </tr>\n",
       "    <tr>\n",
       "      <th>50%</th>\n",
       "      <td>3.165008e+13</td>\n",
       "      <td>0.000000</td>\n",
       "      <td>35.000000</td>\n",
       "      <td>0.0</td>\n",
       "      <td>0.000000</td>\n",
       "      <td>0.000000</td>\n",
       "      <td>0.000000</td>\n",
       "      <td>0.000000</td>\n",
       "      <td>0.000000</td>\n",
       "      <td>0.000000</td>\n",
       "      <td>...</td>\n",
       "      <td>0.000000</td>\n",
       "      <td>0.000000</td>\n",
       "      <td>0.000000</td>\n",
       "      <td>1.0</td>\n",
       "      <td>7.000000</td>\n",
       "      <td>0.0</td>\n",
       "      <td>0.000000</td>\n",
       "      <td>0.000000</td>\n",
       "      <td>0.000000</td>\n",
       "      <td>0.000000</td>\n",
       "    </tr>\n",
       "    <tr>\n",
       "      <th>75%</th>\n",
       "      <td>9.438855e+13</td>\n",
       "      <td>1.000000</td>\n",
       "      <td>52.000000</td>\n",
       "      <td>0.0</td>\n",
       "      <td>0.000000</td>\n",
       "      <td>1.000000</td>\n",
       "      <td>1.000000</td>\n",
       "      <td>1.000000</td>\n",
       "      <td>1.000000</td>\n",
       "      <td>1.000000</td>\n",
       "      <td>...</td>\n",
       "      <td>1.000000</td>\n",
       "      <td>1.000000</td>\n",
       "      <td>1.000000</td>\n",
       "      <td>1.0</td>\n",
       "      <td>19.000000</td>\n",
       "      <td>0.0</td>\n",
       "      <td>1.000000</td>\n",
       "      <td>1.000000</td>\n",
       "      <td>1.000000</td>\n",
       "      <td>1.000000</td>\n",
       "    </tr>\n",
       "    <tr>\n",
       "      <th>max</th>\n",
       "      <td>9.999816e+14</td>\n",
       "      <td>1.000000</td>\n",
       "      <td>115.000000</td>\n",
       "      <td>0.0</td>\n",
       "      <td>1.000000</td>\n",
       "      <td>1.000000</td>\n",
       "      <td>1.000000</td>\n",
       "      <td>1.000000</td>\n",
       "      <td>1.000000</td>\n",
       "      <td>1.000000</td>\n",
       "      <td>...</td>\n",
       "      <td>1.000000</td>\n",
       "      <td>1.000000</td>\n",
       "      <td>1.000000</td>\n",
       "      <td>1.0</td>\n",
       "      <td>179.000000</td>\n",
       "      <td>0.0</td>\n",
       "      <td>1.000000</td>\n",
       "      <td>1.000000</td>\n",
       "      <td>1.000000</td>\n",
       "      <td>1.000000</td>\n",
       "    </tr>\n",
       "  </tbody>\n",
       "</table>\n",
       "<p>8 rows × 43 columns</p>\n",
       "</div>"
      ],
      "text/plain": [
       "          PatientId         Gender            Age  Neighbourhood_0  \\\n",
       "count  1.233810e+05  123381.000000  123381.000000         123381.0   \n",
       "mean   1.468649e+14       0.269239      35.969477              0.0   \n",
       "std    2.552446e+14       0.443566      21.443056              0.0   \n",
       "min    3.921700e+04       0.000000       0.000000              0.0   \n",
       "25%    4.212193e+12       0.000000      19.000000              0.0   \n",
       "50%    3.165008e+13       0.000000      35.000000              0.0   \n",
       "75%    9.438855e+13       1.000000      52.000000              0.0   \n",
       "max    9.999816e+14       1.000000     115.000000              0.0   \n",
       "\n",
       "       Neighbourhood_1  Neighbourhood_2  Neighbourhood_3  Neighbourhood_4  \\\n",
       "count    123381.000000    123381.000000    123381.000000    123381.000000   \n",
       "mean          0.070529         0.252446         0.376306         0.370762   \n",
       "std           0.256038         0.434417         0.484460         0.483011   \n",
       "min           0.000000         0.000000         0.000000         0.000000   \n",
       "25%           0.000000         0.000000         0.000000         0.000000   \n",
       "50%           0.000000         0.000000         0.000000         0.000000   \n",
       "75%           0.000000         1.000000         1.000000         1.000000   \n",
       "max           1.000000         1.000000         1.000000         1.000000   \n",
       "\n",
       "       Neighbourhood_5  Neighbourhood_6  ...  DayAppointmentDate_3  \\\n",
       "count    123381.000000    123381.000000  ...         123381.000000   \n",
       "mean          0.384532         0.478258  ...              0.409058   \n",
       "std           0.486487         0.499529  ...              0.491662   \n",
       "min           0.000000         0.000000  ...              0.000000   \n",
       "25%           0.000000         0.000000  ...              0.000000   \n",
       "50%           0.000000         0.000000  ...              0.000000   \n",
       "75%           1.000000         1.000000  ...              1.000000   \n",
       "max           1.000000         1.000000  ...              1.000000   \n",
       "\n",
       "       DayAppointmentDate_4  DayAppointmentDate_5  HourOfDayBooking_0  \\\n",
       "count         123381.000000         123381.000000            123381.0   \n",
       "mean               0.444785              0.410938                 1.0   \n",
       "std                0.496944              0.492006                 0.0   \n",
       "min                0.000000              0.000000                 1.0   \n",
       "25%                0.000000              0.000000                 1.0   \n",
       "50%                0.000000              0.000000                 1.0   \n",
       "75%                1.000000              1.000000                 1.0   \n",
       "max                1.000000              1.000000                 1.0   \n",
       "\n",
       "       DaysToAppointment  AppointmentWeekDay_0  AppointmentWeekDay_1  \\\n",
       "count      123381.000000              123381.0         123381.000000   \n",
       "mean           12.147964                   0.0              0.298920   \n",
       "std            14.829341                   0.0              0.457786   \n",
       "min             0.000000                   0.0              0.000000   \n",
       "25%             1.000000                   0.0              0.000000   \n",
       "50%             7.000000                   0.0              0.000000   \n",
       "75%            19.000000                   0.0              1.000000   \n",
       "max           179.000000                   0.0              1.000000   \n",
       "\n",
       "       AppointmentWeekDay_2  AppointmentWeekDay_3         NoShow  \n",
       "count         123381.000000         123381.000000  123381.000000  \n",
       "mean               0.349689              0.446925       0.498132  \n",
       "std                0.476874              0.497177       0.499999  \n",
       "min                0.000000              0.000000       0.000000  \n",
       "25%                0.000000              0.000000       0.000000  \n",
       "50%                0.000000              0.000000       0.000000  \n",
       "75%                1.000000              1.000000       1.000000  \n",
       "max                1.000000              1.000000       1.000000  \n",
       "\n",
       "[8 rows x 43 columns]"
      ]
     },
     "execution_count": 9,
     "metadata": {},
     "output_type": "execute_result"
    }
   ],
   "source": [
    "df_train.describe()"
   ]
  },
  {
   "cell_type": "code",
   "execution_count": 10,
   "metadata": {},
   "outputs": [
    {
     "name": "stderr",
     "output_type": "stream",
     "text": [
      "c:\\worspace\\python\\venv\\lib\\site-packages\\seaborn\\distributions.py:2551: FutureWarning: `distplot` is a deprecated function and will be removed in a future version. Please adapt your code to use either `displot` (a figure-level function with similar flexibility) or `histplot` (an axes-level function for histograms).\n",
      "  warnings.warn(msg, FutureWarning)\n"
     ]
    },
    {
     "data": {
      "image/png": "[encoded data removed]",
      "text/plain": [
       "<Figure size 432x288 with 1 Axes>"
      ]
     },
     "metadata": {},
     "output_type": "display_data"
    }
   ],
   "source": [
    "plot_hist(df_train, 'NoShow', title='Histogram NoShow (train dataset)')"
   ]
  },
  {
   "cell_type": "code",
   "execution_count": 11,
   "metadata": {},
   "outputs": [
    {
     "data": {
      "image/png": "[encoded data removed]",
      "text/plain": [
       "<Figure size 432x288 with 1 Axes>"
      ]
     },
     "metadata": {},
     "output_type": "display_data"
    }
   ],
   "source": [
    "plot_hist(df_test, 'NoShow', title='Histogram NoShow (test dataset)')"
   ]
  },
  {
   "cell_type": "code",
   "execution_count": 12,
   "metadata": {},
   "outputs": [
    {
     "data": {
      "text/plain": [
       "(123381, 92377)"
      ]
     },
     "execution_count": 12,
     "metadata": {},
     "output_type": "execute_result"
    }
   ],
   "source": [
    "number_of_all_rows = df_train.shape[0]\n",
    "number_of_patient = df_train['PatientId'].value_counts().shape[0]\n",
    "\n",
    "number_of_all_rows, number_of_patient"
   ]
  },
  {
   "cell_type": "code",
   "execution_count": 13,
   "metadata": {},
   "outputs": [
    {
     "data": {
      "text/plain": [
       "99637671331        65\n",
       "822145925426128    63\n",
       "26886125921145     53\n",
       "258424392677       47\n",
       "871374938638855    47\n",
       "                   ..\n",
       "773721544671816     1\n",
       "323327834217463     1\n",
       "748782826973263     1\n",
       "746599523281        1\n",
       "9251376286330       1\n",
       "Name: PatientId, Length: 92377, dtype: int64"
      ]
     },
     "execution_count": 13,
     "metadata": {},
     "output_type": "execute_result"
    }
   ],
   "source": [
    "df_train['PatientId'].value_counts()"
   ]
  },
  {
   "cell_type": "code",
   "execution_count": 14,
   "metadata": {},
   "outputs": [
    {
     "data": {
      "text/plain": [
       "Pipeline(steps=[('imputer', SimpleImputer(strategy='median')),\n",
       "                ('scaler', StandardScaler())])"
      ]
     },
     "execution_count": 14,
     "metadata": {},
     "output_type": "execute_result"
    }
   ],
   "source": [
    "# https://medium.com/vickdata/a-simple-guide-to-scikit-learn-pipelines-4ac0d974bdcf\n",
    "# https://towardsdatascience.com/a-simple-example-of-pipeline-in-machine-learning-with-scikit-learn-e726ffbb6976\n",
    "# https://iaml.it/blog/optimizing-sklearn-pipelines\n",
    "\n",
    "\n",
    "# ...\n",
    "numeric_transformer = Pipeline(steps=[\n",
    "    ('imputer', SimpleImputer(strategy='median')),\n",
    "    ('scaler', StandardScaler())\n",
    "])\n",
    "numeric_transformer"
   ]
  },
  {
   "cell_type": "code",
   "execution_count": 15,
   "metadata": {},
   "outputs": [],
   "source": [
    "# ...\n",
    "# categorical_transformer = Pipeline(steps=[\n",
    "#     ('imputer', SimpleImputer(strategy='constant', fill_value='missing')),\n",
    "#     ('onehot', OneHotEncoder(handle_unknown='ignore'))\n",
    "# ])"
   ]
  },
  {
   "cell_type": "code",
   "execution_count": 16,
   "metadata": {},
   "outputs": [
    {
     "data": {
      "text/plain": [
       "FeatureUnion(transformer_list=[('num_pipeline',\n",
       "                                Pipeline(steps=[('imputer',\n",
       "                                                 SimpleImputer(strategy='median')),\n",
       "                                                ('scaler',\n",
       "                                                 StandardScaler())]))])"
      ]
     },
     "execution_count": 16,
     "metadata": {},
     "output_type": "execute_result"
    }
   ],
   "source": [
    "processing_full_pipeline = FeatureUnion(transformer_list=[\n",
    "    (\"num_pipeline\", numeric_transformer),\n",
    "#     (\"cat_pipeline\", categorical_transformer),\n",
    "])\n",
    "processing_full_pipeline"
   ]
  },
  {
   "cell_type": "markdown",
   "metadata": {},
   "source": [
    "## Fitting the classifier"
   ]
  },
  {
   "cell_type": "code",
   "execution_count": 17,
   "metadata": {},
   "outputs": [
    {
     "data": {
      "text/plain": [
       "Pipeline(steps=[('processing_full_pipeline',\n",
       "                 FeatureUnion(transformer_list=[('num_pipeline',\n",
       "                                                 Pipeline(steps=[('imputer',\n",
       "                                                                  SimpleImputer(strategy='median')),\n",
       "                                                                 ('scaler',\n",
       "                                                                  StandardScaler())]))])),\n",
       "                ('classifier', LogisticRegression())])"
      ]
     },
     "execution_count": 17,
     "metadata": {},
     "output_type": "execute_result"
    }
   ],
   "source": [
    "full_pipeline_ = Pipeline(\n",
    "    steps = [ \n",
    "        ('processing_full_pipeline', processing_full_pipeline),\n",
    "        ('classifier', LogisticRegression() ) \n",
    "    ]\n",
    ")\n",
    "\n",
    "full_pipeline_"
   ]
  },
  {
   "cell_type": "code",
   "execution_count": 18,
   "metadata": {},
   "outputs": [
    {
     "name": "stderr",
     "output_type": "stream",
     "text": [
      "c:\\worspace\\python\\venv\\lib\\site-packages\\sklearn\\utils\\validation.py:72: DataConversionWarning: A column-vector y was passed when a 1d array was expected. Please change the shape of y to (n_samples, ), for example using ravel().\n",
      "  return f(**kwargs)\n"
     ]
    }
   ],
   "source": [
    "_ = full_pipeline_.fit(X_train, y_train)"
   ]
  },
  {
   "cell_type": "code",
   "execution_count": 19,
   "metadata": {},
   "outputs": [
    {
     "name": "stdout",
     "output_type": "stream",
     "text": [
      "Train accuracy: 82.1%\n",
      "Test accuracy: 82.36%\n"
     ]
    }
   ],
   "source": [
    "train_score = full_pipeline_.score(X_train, y_train)\n",
    "test_score = full_pipeline_.score(X_test, y_test)\n",
    "\n",
    "print('Train accuracy: {}%'.format(round(train_score * 100, 2)))\n",
    "print('Test accuracy: {}%'.format(round(test_score * 100, 2)))"
   ]
  },
  {
   "cell_type": "code",
   "execution_count": 20,
   "metadata": {},
   "outputs": [
    {
     "data": {
      "text/plain": [
       "array([0, 0, 0, ..., 1, 1, 1], dtype=int64)"
      ]
     },
     "execution_count": 20,
     "metadata": {},
     "output_type": "execute_result"
    }
   ],
   "source": [
    "y_pred = full_pipeline_.predict(X_test)\n",
    "y_pred"
   ]
  },
  {
   "cell_type": "code",
   "execution_count": 21,
   "metadata": {},
   "outputs": [
    {
     "data": {
      "image/png": "[encoded data removed]",
      "text/plain": [
       "<Figure size 432x288 with 2 Axes>"
      ]
     },
     "metadata": {},
     "output_type": "display_data"
    }
   ],
   "source": [
    "plot_confusion_matrix(\n",
    "    full_pipeline_, \n",
    "    X_test,\n",
    "    y_test,\n",
    "    cmap=\"BuGn\",\n",
    "    normalize='true',\n",
    "#     ax=ax6\n",
    ");"
   ]
  },
  {
   "cell_type": "code",
   "execution_count": 22,
   "metadata": {},
   "outputs": [
    {
     "data": {
      "image/png": "[encoded data removed]",
      "text/plain": [
       "<Figure size 432x288 with 2 Axes>"
      ]
     },
     "metadata": {},
     "output_type": "display_data"
    }
   ],
   "source": [
    "plot_confusion_matrix(\n",
    "    full_pipeline_, \n",
    "    X_test,\n",
    "    y_test,\n",
    "    cmap=\"BuGn\",\n",
    "#     normalize='true',\n",
    "#     ax=ax6\n",
    ");"
   ]
  },
  {
   "cell_type": "code",
   "execution_count": 57,
   "metadata": {},
   "outputs": [
    {
     "name": "stderr",
     "output_type": "stream",
     "text": [
      "c:\\worspace\\python\\venv\\lib\\site-packages\\sklearn\\utils\\validation.py:72: DataConversionWarning: A column-vector y was passed when a 1d array was expected. Please change the shape of y to (n_samples, ), for example using ravel().\n",
      "  return f(**kwargs)\n"
     ]
    },
    {
     "name": "stdout",
     "output_type": "stream",
     "text": [
      "==================================================\n",
      "LogisticRegression()\n",
      "model train score: 0.821\n",
      "model test score: 0.824\n",
      "precision score:  0.856\n",
      "recall score:  0.778\n",
      "f1 score:  0.815\n",
      "==================================================\n",
      "==================================================\n",
      "DecisionTreeClassifier()\n",
      "model train score: 0.998\n",
      "model test score: 0.802\n",
      "precision score:  0.804\n",
      "recall score:  0.798\n",
      "f1 score:  0.801\n",
      "==================================================\n"
     ]
    },
    {
     "name": "stderr",
     "output_type": "stream",
     "text": [
      "c:\\worspace\\python\\venv\\lib\\site-packages\\sklearn\\pipeline.py:335: DataConversionWarning: A column-vector y was passed when a 1d array was expected. Please change the shape of y to (n_samples,), for example using ravel().\n",
      "  self._final_estimator.fit(Xt, y, **fit_params_last_step)\n"
     ]
    },
    {
     "name": "stdout",
     "output_type": "stream",
     "text": [
      "==================================================\n",
      "RandomForestClassifier()\n",
      "model train score: 0.998\n",
      "model test score: 0.859\n",
      "precision score:  0.916\n",
      "recall score:  0.791\n",
      "f1 score:  0.849\n",
      "==================================================\n"
     ]
    },
    {
     "name": "stderr",
     "output_type": "stream",
     "text": [
      "c:\\worspace\\python\\venv\\lib\\site-packages\\sklearn\\utils\\validation.py:72: DataConversionWarning: A column-vector y was passed when a 1d array was expected. Please change the shape of y to (n_samples, ), for example using ravel().\n",
      "  return f(**kwargs)\n"
     ]
    },
    {
     "name": "stdout",
     "output_type": "stream",
     "text": [
      "==================================================\n",
      "AdaBoostClassifier()\n",
      "model train score: 0.814\n",
      "model test score: 0.815\n",
      "precision score:  0.813\n",
      "recall score:  0.819\n",
      "f1 score:  0.816\n",
      "==================================================\n"
     ]
    },
    {
     "name": "stderr",
     "output_type": "stream",
     "text": [
      "c:\\worspace\\python\\venv\\lib\\site-packages\\sklearn\\utils\\validation.py:72: DataConversionWarning: A column-vector y was passed when a 1d array was expected. Please change the shape of y to (n_samples, ), for example using ravel().\n",
      "  return f(**kwargs)\n"
     ]
    },
    {
     "name": "stdout",
     "output_type": "stream",
     "text": [
      "==================================================\n",
      "GradientBoostingClassifier()\n",
      "model train score: 0.840\n",
      "model test score: 0.840\n",
      "precision score:  0.884\n",
      "recall score:  0.783\n",
      "f1 score:  0.831\n",
      "==================================================\n",
      "Wall time: 58.1 s\n"
     ]
    },
    {
     "data": {
      "text/html": [
       "<div>\n",
       "<style scoped>\n",
       "    .dataframe tbody tr th:only-of-type {\n",
       "        vertical-align: middle;\n",
       "    }\n",
       "\n",
       "    .dataframe tbody tr th {\n",
       "        vertical-align: top;\n",
       "    }\n",
       "\n",
       "    .dataframe thead th {\n",
       "        text-align: right;\n",
       "    }\n",
       "</style>\n",
       "<table border=\"1\" class=\"dataframe\">\n",
       "  <thead>\n",
       "    <tr style=\"text-align: right;\">\n",
       "      <th></th>\n",
       "      <th>name</th>\n",
       "      <th>train_score</th>\n",
       "      <th>test_score</th>\n",
       "      <th>precision_score</th>\n",
       "      <th>recall_score</th>\n",
       "      <th>f1_score</th>\n",
       "    </tr>\n",
       "  </thead>\n",
       "  <tbody>\n",
       "    <tr>\n",
       "      <th>0</th>\n",
       "      <td>LogisticRegression</td>\n",
       "      <td>0.821010</td>\n",
       "      <td>0.823597</td>\n",
       "      <td>0.856</td>\n",
       "      <td>0.778</td>\n",
       "      <td>0.815</td>\n",
       "    </tr>\n",
       "    <tr>\n",
       "      <th>1</th>\n",
       "      <td>DecisionTreeClassifier</td>\n",
       "      <td>0.998436</td>\n",
       "      <td>0.801586</td>\n",
       "      <td>0.804</td>\n",
       "      <td>0.798</td>\n",
       "      <td>0.801</td>\n",
       "    </tr>\n",
       "    <tr>\n",
       "      <th>2</th>\n",
       "      <td>RandomForestClassifier</td>\n",
       "      <td>0.998420</td>\n",
       "      <td>0.859032</td>\n",
       "      <td>0.916</td>\n",
       "      <td>0.791</td>\n",
       "      <td>0.849</td>\n",
       "    </tr>\n",
       "    <tr>\n",
       "      <th>3</th>\n",
       "      <td>AdaBoostClassifier</td>\n",
       "      <td>0.814129</td>\n",
       "      <td>0.815267</td>\n",
       "      <td>0.813</td>\n",
       "      <td>0.819</td>\n",
       "      <td>0.816</td>\n",
       "    </tr>\n",
       "    <tr>\n",
       "      <th>4</th>\n",
       "      <td>GradientBoostingClassifier</td>\n",
       "      <td>0.840032</td>\n",
       "      <td>0.840284</td>\n",
       "      <td>0.884</td>\n",
       "      <td>0.783</td>\n",
       "      <td>0.831</td>\n",
       "    </tr>\n",
       "  </tbody>\n",
       "</table>\n",
       "</div>"
      ],
      "text/plain": [
       "                         name  train_score  test_score  precision_score  \\\n",
       "0          LogisticRegression     0.821010    0.823597            0.856   \n",
       "1      DecisionTreeClassifier     0.998436    0.801586            0.804   \n",
       "2      RandomForestClassifier     0.998420    0.859032            0.916   \n",
       "3          AdaBoostClassifier     0.814129    0.815267            0.813   \n",
       "4  GradientBoostingClassifier     0.840032    0.840284            0.884   \n",
       "\n",
       "   recall_score  f1_score  \n",
       "0         0.778     0.815  \n",
       "1         0.798     0.801  \n",
       "2         0.791     0.849  \n",
       "3         0.819     0.816  \n",
       "4         0.783     0.831  "
      ]
     },
     "execution_count": 57,
     "metadata": {},
     "output_type": "execute_result"
    },
    {
     "data": {
      "image/png": "[encoded data removed]",
      "text/plain": [
       "<Figure size 432x288 with 2 Axes>"
      ]
     },
     "metadata": {},
     "output_type": "display_data"
    },
    {
     "data": {
      "image/png": "[encoded data removed]",
      "text/plain": [
       "<Figure size 432x288 with 2 Axes>"
      ]
     },
     "metadata": {},
     "output_type": "display_data"
    },
    {
     "data": {
      "image/png": "[encoded data removed]",
      "text/plain": [
       "<Figure size 432x288 with 2 Axes>"
      ]
     },
     "metadata": {},
     "output_type": "display_data"
    },
    {
     "data": {
      "image/png": "[encoded data removed]",
      "text/plain": [
       "<Figure size 432x288 with 2 Axes>"
      ]
     },
     "metadata": {},
     "output_type": "display_data"
    },
    {
     "data": {
      "image/png": "[encoded data removed]",
      "text/plain": [
       "<Figure size 432x288 with 2 Axes>"
      ]
     },
     "metadata": {},
     "output_type": "display_data"
    }
   ],
   "source": [
    "%%time\n",
    "\n",
    "df_models_performence = []\n",
    "classifiers = [\n",
    "    LogisticRegression(),\n",
    "    #KNeighborsClassifier(4),  # Take too long time at this moment\n",
    "    #SVC(kernel=\"rbf\", C=0.025, probability=True), # Take too long time at this moment\n",
    "    #NuSVC(probability=True), # Take too long time at this moment\n",
    "    DecisionTreeClassifier(),\n",
    "    RandomForestClassifier(),\n",
    "    AdaBoostClassifier(),\n",
    "    GradientBoostingClassifier(),\n",
    "]\n",
    "\n",
    "\n",
    "for classifier in classifiers:\n",
    "    # ...\n",
    "    pipe = Pipeline(steps = [ \n",
    "            ('processing_full_pipeline', processing_full_pipeline),\n",
    "            ('classifier', classifier) \n",
    "        ]\n",
    "    )\n",
    "    # ...\n",
    "    pipe.fit(X_train, y_train)\n",
    "\n",
    "    # ...\n",
    "    y_pred_ = pipe.predict(X_test)\n",
    "    train_score = pipe.score(X_train, y_train)\n",
    "    test_score = pipe.score(X_test, y_test)\n",
    "    precision_score_ = round(precision_score(y_test.T[0], y_pred_), 3)\n",
    "    recall_score_ = round(recall_score(y_test.T[0], y_pred_), 3)\n",
    "    f1_score_ = round(f1_score(y_test.T[0], y_pred_), 3)\n",
    "\n",
    "    # ...\n",
    "    df_models_performence.append({\n",
    "        'name': type(classifier).__name__,\n",
    "        'train_score': train_score,\n",
    "        'test_score': test_score,\n",
    "        'precision_score': precision_score_,\n",
    "        'recall_score': recall_score_,\n",
    "        'f1_score': f1_score_,\n",
    "    })\n",
    "\n",
    "    # ...\n",
    "    print('='*50)\n",
    "    print(classifier)\n",
    "    print(\"model train score: %.3f\" % train_score)\n",
    "    print(\"model test score: %.3f\" % test_score)\n",
    "    print('precision score: ', precision_score_)\n",
    "    print('recall score: ', recall_score_)\n",
    "    print('f1 score: ', f1_score_)\n",
    "    plot_confusion_matrix(\n",
    "        pipe, \n",
    "        X_test,\n",
    "        y_test,\n",
    "        cmap=\"BuGn\",\n",
    "        normalize='true',\n",
    "        #ax=ax6\n",
    "    );\n",
    "    print('='*50)\n",
    "\n",
    "    \n",
    "\n",
    "df_models_performence = pd.DataFrame(df_models_performence)\n",
    "df_models_performence"
   ]
  },
  {
   "cell_type": "code",
   "execution_count": 58,
   "metadata": {},
   "outputs": [
    {
     "data": {
      "text/html": [
       "<div>\n",
       "<style scoped>\n",
       "    .dataframe tbody tr th:only-of-type {\n",
       "        vertical-align: middle;\n",
       "    }\n",
       "\n",
       "    .dataframe tbody tr th {\n",
       "        vertical-align: top;\n",
       "    }\n",
       "\n",
       "    .dataframe thead th {\n",
       "        text-align: right;\n",
       "    }\n",
       "</style>\n",
       "<table border=\"1\" class=\"dataframe\">\n",
       "  <thead>\n",
       "    <tr style=\"text-align: right;\">\n",
       "      <th></th>\n",
       "      <th>name</th>\n",
       "      <th>train_score</th>\n",
       "      <th>test_score</th>\n",
       "      <th>precision_score</th>\n",
       "      <th>recall_score</th>\n",
       "      <th>f1_score</th>\n",
       "    </tr>\n",
       "  </thead>\n",
       "  <tbody>\n",
       "    <tr>\n",
       "      <th>0</th>\n",
       "      <td>LogisticRegression</td>\n",
       "      <td>0.821010</td>\n",
       "      <td>0.823597</td>\n",
       "      <td>0.856</td>\n",
       "      <td>0.778</td>\n",
       "      <td>0.815</td>\n",
       "    </tr>\n",
       "    <tr>\n",
       "      <th>1</th>\n",
       "      <td>DecisionTreeClassifier</td>\n",
       "      <td>0.998436</td>\n",
       "      <td>0.801586</td>\n",
       "      <td>0.804</td>\n",
       "      <td>0.798</td>\n",
       "      <td>0.801</td>\n",
       "    </tr>\n",
       "    <tr>\n",
       "      <th>2</th>\n",
       "      <td>RandomForestClassifier</td>\n",
       "      <td>0.998420</td>\n",
       "      <td>0.859032</td>\n",
       "      <td>0.916</td>\n",
       "      <td>0.791</td>\n",
       "      <td>0.849</td>\n",
       "    </tr>\n",
       "    <tr>\n",
       "      <th>3</th>\n",
       "      <td>AdaBoostClassifier</td>\n",
       "      <td>0.814129</td>\n",
       "      <td>0.815267</td>\n",
       "      <td>0.813</td>\n",
       "      <td>0.819</td>\n",
       "      <td>0.816</td>\n",
       "    </tr>\n",
       "    <tr>\n",
       "      <th>4</th>\n",
       "      <td>GradientBoostingClassifier</td>\n",
       "      <td>0.840032</td>\n",
       "      <td>0.840284</td>\n",
       "      <td>0.884</td>\n",
       "      <td>0.783</td>\n",
       "      <td>0.831</td>\n",
       "    </tr>\n",
       "  </tbody>\n",
       "</table>\n",
       "</div>"
      ],
      "text/plain": [
       "                         name  train_score  test_score  precision_score  \\\n",
       "0          LogisticRegression     0.821010    0.823597            0.856   \n",
       "1      DecisionTreeClassifier     0.998436    0.801586            0.804   \n",
       "2      RandomForestClassifier     0.998420    0.859032            0.916   \n",
       "3          AdaBoostClassifier     0.814129    0.815267            0.813   \n",
       "4  GradientBoostingClassifier     0.840032    0.840284            0.884   \n",
       "\n",
       "   recall_score  f1_score  \n",
       "0         0.778     0.815  \n",
       "1         0.798     0.801  \n",
       "2         0.791     0.849  \n",
       "3         0.819     0.816  \n",
       "4         0.783     0.831  "
      ]
     },
     "execution_count": 58,
     "metadata": {},
     "output_type": "execute_result"
    }
   ],
   "source": [
    "df_models_performence"
   ]
  }
 ],
 "metadata": {
  "kernelspec": {
   "display_name": "Python 3",
   "language": "python",
   "name": "python3"
  },
  "language_info": {
   "codemirror_mode": {
    "name": "ipython",
    "version": 3
   },
   "file_extension": ".py",
   "mimetype": "text/x-python",
   "name": "python",
   "nbconvert_exporter": "python",
   "pygments_lexer": "ipython3",
   "version": "3.6.8"
  }
 },
 "nbformat": 4,
 "nbformat_minor": 4
}
