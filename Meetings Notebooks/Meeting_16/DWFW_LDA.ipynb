{
  "nbformat": 4,
  "nbformat_minor": 0,
  "metadata": {
    "colab": {
      "name": "DWFW - LDA.ipynb",
      "provenance": []
    },
    "kernelspec": {
      "name": "python3",
      "display_name": "Python 3"
    }
  },
  "cells": [
    {
      "cell_type": "code",
      "metadata": {
        "id": "rxFvId8DU6Eq"
      },
      "source": [
        "import pandas as pd\r\n",
        "import numpy as np\r\n",
        "\r\n",
        "\r\n",
        "from sklearn.metrics import make_scorer, f1_score, precision_score, recall_score, accuracy_score, roc_curve, roc_auc_score\r\n",
        "from sklearn.model_selection import cross_val_score, KFold\r\n",
        "from sklearn.ensemble import RandomForestClassifier\r\n",
        "\r\n",
        "from time import time\r\n",
        "import scipy.stats as stats\r\n",
        "from sklearn.utils.fixes import loguniform\r\n",
        "from scipy.stats import uniform\r\n",
        "import matplotlib.pyplot as plt\r\n",
        "\r\n",
        "from hyperopt import fmin, tpe, hp, STATUS_OK, Trials"
      ],
      "execution_count": null,
      "outputs": []
    },
    {
      "cell_type": "code",
      "metadata": {
        "id": "N74GrXd4VCEm"
      },
      "source": [
        "raw_train = pd.read_csv('/content/drive/My Drive/Colab Notebooks/Cancellation/data/Raw_test.csv')\r\n",
        "raw_test = pd.read_csv('/content/drive/My Drive/Colab Notebooks/Cancellation/data/Raw_train.csv')\r\n",
        "\r\n",
        "Adasyn_train = pd.read_csv('/content/drive/My Drive/Colab Notebooks/Cancellation/data/Adasyn_train.csv')\r\n",
        "Adasyn_test = pd.read_csv('/content/drive/My Drive/Colab Notebooks/Cancellation/data/Adasyn_test.csv')\r\n",
        "\r\n",
        "Nearmiss_train = pd.read_csv('/content/drive/My Drive/Colab Notebooks/Cancellation/data/Nearmiss_train.csv')\r\n",
        "Nearmiss_test = pd.read_csv('/content/drive/My Drive/Colab Notebooks/Cancellation/data/Nearmiss_test.csv')\r\n",
        "\r\n",
        "ROS_train = pd.read_csv('/content/drive/My Drive/Colab Notebooks/Cancellation/data/ROS_train.csv')\r\n",
        "ROS_test = pd.read_csv('/content/drive/My Drive/Colab Notebooks/Cancellation/data/ROS_test.csv')\r\n",
        "\r\n",
        "RUS_train = pd.read_csv('/content/drive/My Drive/Colab Notebooks/Cancellation/data/RUS_train.csv')\r\n",
        "RUS_test = pd.read_csv('/content/drive/My Drive/Colab Notebooks/Cancellation/data/RUS_test.csv')\r\n",
        "\r\n",
        "SMOTETomek_train = pd.read_csv('/content/drive/My Drive/Colab Notebooks/Cancellation/data/SMOTETomek_train.csv')\r\n",
        "SMOTETomek_test = pd.read_csv('/content/drive/My Drive/Colab Notebooks/Cancellation/data/SMOTETomek_test.csv')"
      ],
      "execution_count": null,
      "outputs": []
    },
    {
      "cell_type": "markdown",
      "metadata": {
        "id": "mJ0D-zkF7t8X"
      },
      "source": [
        "PURE RANDOM FOREST"
      ]
    },
    {
      "cell_type": "code",
      "metadata": {
        "colab": {
          "base_uri": "https://localhost:8080/"
        },
        "id": "MxxTHs57tET4",
        "outputId": "d003176b-813d-4513-b5af-a0c28134cb5f"
      },
      "source": [
        "train = Adasyn_train \r\n",
        "test = Adasyn_test\r\n",
        "y_train = train[\"NoShow\"]\r\n",
        "y_test = test[\"NoShow\"]\r\n",
        "\r\n",
        "X_train = train.loc[:, train.columns != 'NoShow']\r\n",
        "X_test = test.loc[:, test.columns != 'NoShow']\r\n",
        "\r\n",
        "model = RandomForestClassifier(random_state=666)\r\n",
        "model.fit(X_train, y_train)\r\n",
        "\r\n",
        "y_pred = model.predict(X_test)\r\n",
        "accuracy = accuracy_score(y_test, y_pred)\r\n",
        "print(\"Accuracy: %.2f%%\" % (accuracy * 100.0))\r\n",
        "print(' f1 ', f1_score(y_test, y_pred), '\\n',\r\n",
        "        'recall', recall_score(y_test, y_pred), '\\n',\r\n",
        "        'precision', precision_score(y_test, y_pred) )"
      ],
      "execution_count": null,
      "outputs": [
        {
          "output_type": "stream",
          "text": [
            "Accuracy: 85.99%\n",
            " f1  0.8498849516797053 \n",
            " recall 0.7927541208791209 \n",
            " precision 0.9158897044237254\n"
          ],
          "name": "stdout"
        }
      ]
    },
    {
      "cell_type": "markdown",
      "metadata": {
        "id": "IfsA2pUQ7yO9"
      },
      "source": [
        "RANDOM FOREST + SCALING"
      ]
    },
    {
      "cell_type": "code",
      "metadata": {
        "id": "AtfL1YSiwEgb"
      },
      "source": [
        "from sklearn.preprocessing import StandardScaler\r\n",
        "\r\n",
        "sc = StandardScaler()\r\n",
        "X_train = sc.fit_transform(X_train)\r\n",
        "X_test = sc.transform(X_test)"
      ],
      "execution_count": null,
      "outputs": []
    },
    {
      "cell_type": "code",
      "metadata": {
        "colab": {
          "base_uri": "https://localhost:8080/"
        },
        "id": "7qY6HIdZwr2h",
        "outputId": "87c7b045-5e87-4067-b423-9ad1e166d301"
      },
      "source": [
        "model.fit(X_train, y_train)\r\n",
        "\r\n",
        "y_pred = model.predict(X_test)\r\n",
        "accuracy = accuracy_score(y_test, y_pred)\r\n",
        "print(\"Accuracy: %.2f%%\" % (accuracy * 100.0))\r\n",
        "print(' f1 ', f1_score(y_test, y_pred), '\\n',\r\n",
        "        'recall', recall_score(y_test, y_pred), '\\n',\r\n",
        "        'precision', precision_score(y_test, y_pred) )"
      ],
      "execution_count": null,
      "outputs": [
        {
          "output_type": "stream",
          "text": [
            "Accuracy: 85.99%\n",
            " f1  0.8499156829679595 \n",
            " recall 0.7932692307692307 \n",
            " precision 0.9152743842039226\n"
          ],
          "name": "stdout"
        }
      ]
    },
    {
      "cell_type": "markdown",
      "metadata": {
        "id": "hP02XXIz8djq"
      },
      "source": [
        "RF + SCALING + LDA"
      ]
    },
    {
      "cell_type": "code",
      "metadata": {
        "id": "655NgEUmwtPJ"
      },
      "source": [
        "from sklearn.discriminant_analysis import LinearDiscriminantAnalysis as LDA\r\n",
        "\r\n",
        "lda = LDA()\r\n",
        "X_train = lda.fit_transform(X_train, y_train)\r\n",
        "X_test = lda.transform(X_test)"
      ],
      "execution_count": null,
      "outputs": []
    },
    {
      "cell_type": "code",
      "metadata": {
        "colab": {
          "base_uri": "https://localhost:8080/"
        },
        "id": "Sf1vLUPAw1x8",
        "outputId": "9ac30cdd-20ec-4294-bd3e-85fc4ebe8f68"
      },
      "source": [
        "model.fit(X_train, y_train)\r\n",
        "\r\n",
        "y_pred = model.predict(X_test)\r\n",
        "accuracy = accuracy_score(y_test, y_pred)\r\n",
        "print(\"Accuracy: %.2f%%\" % (accuracy * 100.0))\r\n",
        "print(' f1 ', f1_score(y_test, y_pred), '\\n',\r\n",
        "        'recall', recall_score(y_test, y_pred), '\\n',\r\n",
        "        'precision', precision_score(y_test, y_pred) )"
      ],
      "execution_count": null,
      "outputs": [
        {
          "output_type": "stream",
          "text": [
            "Accuracy: 76.28%\n",
            " f1  0.7624426605504588 \n",
            " recall 0.7610462454212454 \n",
            " precision 0.7638442095588235\n"
          ],
          "name": "stdout"
        }
      ]
    },
    {
      "cell_type": "markdown",
      "metadata": {
        "id": "vySUCegj8T3r"
      },
      "source": [
        "RF + LDA - NO SCALING"
      ]
    },
    {
      "cell_type": "code",
      "metadata": {
        "colab": {
          "base_uri": "https://localhost:8080/"
        },
        "id": "CnqxOFhk7rjI",
        "outputId": "04b95c9e-a697-4025-98a3-8ad3b5f05d80"
      },
      "source": [
        "train = Adasyn_train \r\n",
        "test = Adasyn_test\r\n",
        "y_train = train[\"NoShow\"]\r\n",
        "y_test = test[\"NoShow\"]\r\n",
        "\r\n",
        "X_train = train.loc[:, train.columns != 'NoShow']\r\n",
        "X_test = test.loc[:, test.columns != 'NoShow']\r\n",
        "\r\n",
        "lda = LDA()\r\n",
        "X_train = lda.fit_transform(X_train, y_train)\r\n",
        "X_test = lda.transform(X_test)\r\n",
        "\r\n",
        "model = RandomForestClassifier(random_state=666)\r\n",
        "model.fit(X_train, y_train)\r\n",
        "\r\n",
        "y_pred = model.predict(X_test)\r\n",
        "accuracy = accuracy_score(y_test, y_pred)\r\n",
        "print(\"Accuracy: %.2f%%\" % (accuracy * 100.0))\r\n",
        "print(' f1 ', f1_score(y_test, y_pred), '\\n',\r\n",
        "        'recall', recall_score(y_test, y_pred), '\\n',\r\n",
        "        'precision', precision_score(y_test, y_pred) )"
      ],
      "execution_count": null,
      "outputs": [
        {
          "output_type": "stream",
          "text": [
            "Accuracy: 76.28%\n",
            " f1  0.7624426605504588 \n",
            " recall 0.7610462454212454 \n",
            " precision 0.7638442095588235\n"
          ],
          "name": "stdout"
        }
      ]
    },
    {
      "cell_type": "markdown",
      "metadata": {
        "id": "GPCOsQXYCA4j"
      },
      "source": [
        "PURE LDA"
      ]
    },
    {
      "cell_type": "code",
      "metadata": {
        "colab": {
          "base_uri": "https://localhost:8080/"
        },
        "id": "X6qA8BhxCAcM",
        "outputId": "608a527c-e46d-40ab-d48b-5a07a608cf87"
      },
      "source": [
        "train = Adasyn_train \r\n",
        "test = Adasyn_test\r\n",
        "y_train = train[\"NoShow\"]\r\n",
        "y_test = test[\"NoShow\"]\r\n",
        "\r\n",
        "X_train = train.loc[:, train.columns != 'NoShow']\r\n",
        "X_test = test.loc[:, test.columns != 'NoShow']\r\n",
        "\r\n",
        "sc = StandardScaler()\r\n",
        "X_train = sc.fit_transform(X_train)\r\n",
        "X_test = sc.transform(X_test)\r\n",
        "\r\n",
        "lda = LDA()\r\n",
        "lda.fit(X_train, y_train)\r\n",
        "\r\n",
        "y_pred = lda.predict(X_test)\r\n",
        "accuracy = accuracy_score(y_test, y_pred)\r\n",
        "print(\"Accuracy: %.2f%%\" % (accuracy * 100.0))\r\n",
        "print(' f1 ', f1_score(y_test, y_pred), '\\n',\r\n",
        "        'recall', recall_score(y_test, y_pred), '\\n',\r\n",
        "        'precision', precision_score(y_test, y_pred) )"
      ],
      "execution_count": null,
      "outputs": [
        {
          "output_type": "stream",
          "text": [
            "Accuracy: 82.74%\n",
            " f1  0.8160263647737329 \n",
            " recall 0.7652815934065934 \n",
            " precision 0.8739786914177398\n"
          ],
          "name": "stdout"
        }
      ]
    },
    {
      "cell_type": "markdown",
      "metadata": {
        "id": "-vE1_0O88zTf"
      },
      "source": [
        "PURE QDA"
      ]
    },
    {
      "cell_type": "code",
      "metadata": {
        "colab": {
          "base_uri": "https://localhost:8080/"
        },
        "id": "ooeYrGTV8gvC",
        "outputId": "ef9c964d-8dba-4857-ddf7-36b11d3d1bf7"
      },
      "source": [
        "from sklearn.discriminant_analysis import QuadraticDiscriminantAnalysis as QDA\r\n",
        "\r\n",
        "train = Adasyn_train \r\n",
        "test = Adasyn_test\r\n",
        "y_train = train[\"NoShow\"]\r\n",
        "y_test = test[\"NoShow\"]\r\n",
        "\r\n",
        "X_train = train.loc[:, train.columns != 'NoShow']\r\n",
        "X_test = test.loc[:, test.columns != 'NoShow']\r\n",
        "\r\n",
        "sc = StandardScaler()\r\n",
        "X_train = sc.fit_transform(X_train)\r\n",
        "X_test = sc.transform(X_test)\r\n",
        "\r\n",
        "qda = QDA()\r\n",
        "X_train = qda.fit(X_train, y_train)\r\n",
        "\r\n",
        "y_pred = qda.predict(X_test)\r\n",
        "accuracy = accuracy_score(y_test, y_pred)\r\n",
        "print(\"Accuracy: %.2f%%\" % (accuracy * 100.0))\r\n",
        "print(' f1 ', f1_score(y_test, y_pred), '\\n',\r\n",
        "        'recall', recall_score(y_test, y_pred), '\\n',\r\n",
        "        'precision', precision_score(y_test, y_pred) )"
      ],
      "execution_count": null,
      "outputs": [
        {
          "output_type": "stream",
          "text": [
            "/usr/local/lib/python3.6/dist-packages/sklearn/discriminant_analysis.py:691: UserWarning: Variables are collinear\n",
            "  warnings.warn(\"Variables are collinear\")\n"
          ],
          "name": "stderr"
        },
        {
          "output_type": "stream",
          "text": [
            "Accuracy: 68.65%\n",
            " f1  0.6402811535177034 \n",
            " recall 0.557864010989011 \n",
            " precision 0.7512717743178665\n"
          ],
          "name": "stdout"
        }
      ]
    },
    {
      "cell_type": "markdown",
      "metadata": {
        "id": "E3OrvDebIpSG"
      },
      "source": [
        "SIMPLE TREE"
      ]
    },
    {
      "cell_type": "code",
      "metadata": {
        "colab": {
          "base_uri": "https://localhost:8080/"
        },
        "id": "WxKD6ul3Hufg",
        "outputId": "4691640b-7d0c-4544-9c81-7365af1bddc8"
      },
      "source": [
        "from sklearn.tree import DecisionTreeClassifier\r\n",
        "\r\n",
        "train = Adasyn_train \r\n",
        "test = Adasyn_test\r\n",
        "y_train = train[\"NoShow\"]\r\n",
        "y_test = test[\"NoShow\"]\r\n",
        "\r\n",
        "X_train = train.loc[:, train.columns != 'NoShow']\r\n",
        "X_test = test.loc[:, test.columns != 'NoShow']\r\n",
        "\r\n",
        "model = DecisionTreeClassifier(max_depth=2)\r\n",
        "model.fit(X_train, y_train)\r\n",
        "\r\n",
        "y_pred = model.predict(X_test)\r\n",
        "accuracy = accuracy_score(y_test, y_pred)\r\n",
        "print(\"Accuracy: %.2f%%\" % (accuracy * 100.0))\r\n",
        "print(' f1 ', f1_score(y_test, y_pred), '\\n',\r\n",
        "        'recall', recall_score(y_test, y_pred), '\\n',\r\n",
        "        'precision', precision_score(y_test, y_pred) )"
      ],
      "execution_count": null,
      "outputs": [
        {
          "output_type": "stream",
          "text": [
            "Accuracy: 70.32%\n",
            " f1  0.7016857488061675 \n",
            " recall 0.6980311355311355 \n",
            " precision 0.7053788316946211\n"
          ],
          "name": "stdout"
        }
      ]
    },
    {
      "cell_type": "markdown",
      "metadata": {
        "id": "EDZq46y4Irm8"
      },
      "source": [
        "SIMPLE TREE + LDA"
      ]
    },
    {
      "cell_type": "code",
      "metadata": {
        "colab": {
          "base_uri": "https://localhost:8080/"
        },
        "id": "jSIv5mywILkt",
        "outputId": "0cf30fda-5fe4-46b7-ea81-88293c6a5d5e"
      },
      "source": [
        "sc = StandardScaler()\r\n",
        "X_train = sc.fit_transform(X_train)\r\n",
        "X_test = sc.transform(X_test)\r\n",
        "\r\n",
        "lda = LDA()\r\n",
        "X_train = lda.fit_transform(X_train, y_train)\r\n",
        "X_test = lda.transform(X_test)\r\n",
        "\r\n",
        "model.fit(X_train, y_train)\r\n",
        "\r\n",
        "y_pred = model.predict(X_test)\r\n",
        "accuracy = accuracy_score(y_test, y_pred)\r\n",
        "print(\"Accuracy: %.2f%%\" % (accuracy * 100.0))\r\n",
        "print(' f1 ', f1_score(y_test, y_pred), '\\n',\r\n",
        "        'recall', recall_score(y_test, y_pred), '\\n',\r\n",
        "        'precision', precision_score(y_test, y_pred) )\r\n"
      ],
      "execution_count": null,
      "outputs": [
        {
          "output_type": "stream",
          "text": [
            "Accuracy: 83.07%\n",
            " f1  0.8065149136577708 \n",
            " recall 0.7057005494505495 \n",
            " precision 0.9409340659340659\n"
          ],
          "name": "stdout"
        }
      ]
    }
  ]
}