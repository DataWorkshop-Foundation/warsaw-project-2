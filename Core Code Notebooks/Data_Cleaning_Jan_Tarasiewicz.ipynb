{
 "cells": [
  {
   "cell_type": "markdown",
   "metadata": {},
   "source": [
    "<h1 align=\"center\">DataWorkshop Foundation | Warsaw Team | Project: No-shows</h1>\n",
    "<h2 align=\"center\">Notebook 001: Data cleaning</h2>\n",
    "\n",
    "Cleaning and processing data to create baseline data file.\n",
    "\n",
    "Raw data source: [Kaggle Dataset](https://www.kaggle.com/joniarroba/noshowappointments)\n",
    "\n",
    "Author: [Jan Tarasiewicz](https://github.com/JBalcony)"
   ]
  },
  {
   "cell_type": "markdown",
   "metadata": {},
   "source": [
    "## Table of contents\n",
    "\n",
    "1. [Data overwiew](#Data-overview)\n",
    "2. [Data processing](#Data-processing)\n",
    "<br>2.1 [PatientId](#PatientId)\n",
    "<br>2.2 [AppointmentID](#AppointmentID)\n",
    "<br>2.3 [Gender](#Gender)\n",
    "<br>2.4 [BookingDate](#BookingDate)\n",
    "<br>2.5 [AppointmentDate](#AppointmentDate)\n",
    "<br>2.6 [Age](#Age)\n",
    "<br>2.7 [Neighbourhood](#Neighbourhood)\n",
    "<br>2.8 [Scholarship](#Scholarship)\n",
    "<br>2.9 [Hypertension](#Hypertension)\n",
    "<br>2.10 [Diabetes](#Diabetes)\n",
    "<br>2.11 [Alcoholism](#Alcoholism)\n",
    "<br>2.12 [Handicap](#Handicap)\n",
    "<br>2.13 [SMSReceived](#SMSReceived)\n",
    "<br>2.14 [NoShow](#NoShow)\n",
    "<br>2.15 [YearBookingDate](#YearBookingDate)\n",
    "<br>2.16 [MonthBookingDate](#MonthBookingDate)\n",
    "<br>2.17 [DayBookingDate](#DayBookingDate)\n",
    "<br>2.18 [YearAppointmentDate](#YearAppointmentDate)\n",
    "<br>2.19 [MonthAppointmentDate](#MonthAppointmentDate)\n",
    "<br>2.20 [DayAppointmentDate](#DayAppointmentDate)\n",
    "<br>2.21 [HourOfDayBooking](#HourOfDayBooking)\n",
    "<br>2.22 [DaysToAppointment](#DaysToAppointment)\n",
    "<br>2.23 [AppointmentWeekDay](#AppointmentWeekDay)\n",
    "<br>2.24 [Removing redundant columns](#Removing-redundant-columns)\n",
    "3. [Final DataFrame view](Final-DataFrame-view)\n",
    "4. [Saving output](#Saving-output)\n"
   ]
  },
  {
   "cell_type": "markdown",
   "metadata": {},
   "source": [
    "---\n",
    "## Data overview\n",
    "[Table of contents](#Table-of-contents)\n",
    "\n",
    "Basic data info."
   ]
  },
  {
   "cell_type": "code",
   "execution_count": 29,
   "metadata": {},
   "outputs": [],
   "source": [
    "## Importing Libraries\n",
    "import numpy as np\n",
    "import pandas as pd"
   ]
  },
  {
   "cell_type": "code",
   "execution_count": 30,
   "metadata": {
    "scrolled": true
   },
   "outputs": [
    {
     "data": {
      "text/html": [
       "<div>\n",
       "<style scoped>\n",
       "    .dataframe tbody tr th:only-of-type {\n",
       "        vertical-align: middle;\n",
       "    }\n",
       "\n",
       "    .dataframe tbody tr th {\n",
       "        vertical-align: top;\n",
       "    }\n",
       "\n",
       "    .dataframe thead th {\n",
       "        text-align: right;\n",
       "    }\n",
       "</style>\n",
       "<table border=\"1\" class=\"dataframe\">\n",
       "  <thead>\n",
       "    <tr style=\"text-align: right;\">\n",
       "      <th></th>\n",
       "      <th>PatientId</th>\n",
       "      <th>AppointmentID</th>\n",
       "      <th>Gender</th>\n",
       "      <th>ScheduledDay</th>\n",
       "      <th>AppointmentDay</th>\n",
       "      <th>Age</th>\n",
       "      <th>Neighbourhood</th>\n",
       "      <th>Scholarship</th>\n",
       "      <th>Hipertension</th>\n",
       "      <th>Diabetes</th>\n",
       "      <th>Alcoholism</th>\n",
       "      <th>Handcap</th>\n",
       "      <th>SMS_received</th>\n",
       "      <th>No-show</th>\n",
       "    </tr>\n",
       "  </thead>\n",
       "  <tbody>\n",
       "    <tr>\n",
       "      <td>94898</td>\n",
       "      <td>9.862672e+10</td>\n",
       "      <td>5734873</td>\n",
       "      <td>F</td>\n",
       "      <td>2016-05-24T16:20:16Z</td>\n",
       "      <td>2016-06-02T00:00:00Z</td>\n",
       "      <td>49</td>\n",
       "      <td>GURIGICA</td>\n",
       "      <td>0</td>\n",
       "      <td>0</td>\n",
       "      <td>0</td>\n",
       "      <td>0</td>\n",
       "      <td>0</td>\n",
       "      <td>1</td>\n",
       "      <td>No</td>\n",
       "    </tr>\n",
       "    <tr>\n",
       "      <td>31064</td>\n",
       "      <td>3.146154e+13</td>\n",
       "      <td>5632319</td>\n",
       "      <td>M</td>\n",
       "      <td>2016-04-28T07:52:35Z</td>\n",
       "      <td>2016-05-10T00:00:00Z</td>\n",
       "      <td>49</td>\n",
       "      <td>BENTO FERREIRA</td>\n",
       "      <td>0</td>\n",
       "      <td>0</td>\n",
       "      <td>0</td>\n",
       "      <td>0</td>\n",
       "      <td>0</td>\n",
       "      <td>1</td>\n",
       "      <td>No</td>\n",
       "    </tr>\n",
       "    <tr>\n",
       "      <td>45146</td>\n",
       "      <td>8.361971e+14</td>\n",
       "      <td>5673802</td>\n",
       "      <td>F</td>\n",
       "      <td>2016-05-09T09:52:58Z</td>\n",
       "      <td>2016-05-09T00:00:00Z</td>\n",
       "      <td>3</td>\n",
       "      <td>BELA VISTA</td>\n",
       "      <td>0</td>\n",
       "      <td>0</td>\n",
       "      <td>0</td>\n",
       "      <td>0</td>\n",
       "      <td>0</td>\n",
       "      <td>0</td>\n",
       "      <td>No</td>\n",
       "    </tr>\n",
       "    <tr>\n",
       "      <td>41288</td>\n",
       "      <td>2.615966e+11</td>\n",
       "      <td>5530957</td>\n",
       "      <td>F</td>\n",
       "      <td>2016-03-31T08:57:11Z</td>\n",
       "      <td>2016-05-13T00:00:00Z</td>\n",
       "      <td>86</td>\n",
       "      <td>JOANA D´ARC</td>\n",
       "      <td>0</td>\n",
       "      <td>1</td>\n",
       "      <td>0</td>\n",
       "      <td>0</td>\n",
       "      <td>0</td>\n",
       "      <td>0</td>\n",
       "      <td>No</td>\n",
       "    </tr>\n",
       "    <tr>\n",
       "      <td>72718</td>\n",
       "      <td>1.286299e+13</td>\n",
       "      <td>5659717</td>\n",
       "      <td>F</td>\n",
       "      <td>2016-05-04T14:35:05Z</td>\n",
       "      <td>2016-05-11T00:00:00Z</td>\n",
       "      <td>75</td>\n",
       "      <td>DO QUADRO</td>\n",
       "      <td>0</td>\n",
       "      <td>0</td>\n",
       "      <td>0</td>\n",
       "      <td>0</td>\n",
       "      <td>0</td>\n",
       "      <td>0</td>\n",
       "      <td>No</td>\n",
       "    </tr>\n",
       "  </tbody>\n",
       "</table>\n",
       "</div>"
      ],
      "text/plain": [
       "          PatientId  AppointmentID Gender          ScheduledDay  \\\n",
       "94898  9.862672e+10        5734873      F  2016-05-24T16:20:16Z   \n",
       "31064  3.146154e+13        5632319      M  2016-04-28T07:52:35Z   \n",
       "45146  8.361971e+14        5673802      F  2016-05-09T09:52:58Z   \n",
       "41288  2.615966e+11        5530957      F  2016-03-31T08:57:11Z   \n",
       "72718  1.286299e+13        5659717      F  2016-05-04T14:35:05Z   \n",
       "\n",
       "             AppointmentDay  Age   Neighbourhood  Scholarship  Hipertension  \\\n",
       "94898  2016-06-02T00:00:00Z   49        GURIGICA            0             0   \n",
       "31064  2016-05-10T00:00:00Z   49  BENTO FERREIRA            0             0   \n",
       "45146  2016-05-09T00:00:00Z    3      BELA VISTA            0             0   \n",
       "41288  2016-05-13T00:00:00Z   86     JOANA D´ARC            0             1   \n",
       "72718  2016-05-11T00:00:00Z   75       DO QUADRO            0             0   \n",
       "\n",
       "       Diabetes  Alcoholism  Handcap  SMS_received No-show  \n",
       "94898         0           0        0             1      No  \n",
       "31064         0           0        0             1      No  \n",
       "45146         0           0        0             0      No  \n",
       "41288         0           0        0             0      No  \n",
       "72718         0           0        0             0      No  "
      ]
     },
     "execution_count": 30,
     "metadata": {},
     "output_type": "execute_result"
    }
   ],
   "source": [
    "# Reading data from hair_salon_no_show_wrangled_df.csv file\n",
    "df = pd.read_csv(\"Medical_Data/KaggleV2-May-2016.csv\")\n",
    "df.sample(5)"
   ]
  },
  {
   "cell_type": "code",
   "execution_count": 33,
   "metadata": {},
   "outputs": [
    {
     "name": "stdout",
     "output_type": "stream",
     "text": [
      "<class 'pandas.core.frame.DataFrame'>\n",
      "RangeIndex: 110527 entries, 0 to 110526\n",
      "Data columns (total 14 columns):\n",
      "PatientId         110527 non-null float64\n",
      "AppointmentID     110527 non-null int64\n",
      "Gender            110527 non-null object\n",
      "ScheduledDay      110527 non-null object\n",
      "AppointmentDay    110527 non-null object\n",
      "Age               110527 non-null int64\n",
      "Neighbourhood     110527 non-null object\n",
      "Scholarship       110527 non-null int64\n",
      "Hipertension      110527 non-null int64\n",
      "Diabetes          110527 non-null int64\n",
      "Alcoholism        110527 non-null int64\n",
      "Handcap           110527 non-null int64\n",
      "SMS_received      110527 non-null int64\n",
      "No-show           110527 non-null object\n",
      "dtypes: float64(1), int64(8), object(5)\n",
      "memory usage: 11.8+ MB\n"
     ]
    }
   ],
   "source": [
    "# Basic info about data frame \n",
    "# Number of observations, number of null values and data type of column\n",
    "df.info(verbose=True)"
   ]
  },
  {
   "cell_type": "code",
   "execution_count": 4,
   "metadata": {},
   "outputs": [
    {
     "name": "stdout",
     "output_type": "stream",
     "text": [
      "PatientId 62299\n",
      "AppointmentID 110527\n",
      "Gender 2\n",
      "ScheduledDay 103549\n",
      "AppointmentDay 27\n",
      "Age 104\n",
      "Neighbourhood 81\n",
      "Scholarship 2\n",
      "Hipertension 2\n",
      "Diabetes 2\n",
      "Alcoholism 2\n",
      "Handcap 5\n",
      "SMS_received 2\n",
      "No-show 2\n"
     ]
    }
   ],
   "source": [
    "# Checking the number of unique values in each column\n",
    "for i in df.columns:\n",
    "    print(i,len(df[i].value_counts()))"
   ]
  },
  {
   "cell_type": "code",
   "execution_count": 5,
   "metadata": {
    "scrolled": true
   },
   "outputs": [
    {
     "name": "stdout",
     "output_type": "stream",
     "text": [
      "\n",
      "\n",
      "---- PatientId ---\n",
      "\n",
      "8.221459e+14    88\n",
      "9.963767e+10    84\n",
      "2.688613e+13    70\n",
      "3.353478e+13    65\n",
      "2.584244e+11    62\n",
      "                ..\n",
      "1.222828e+13     1\n",
      "6.821231e+11     1\n",
      "7.163981e+14     1\n",
      "9.798964e+14     1\n",
      "2.724571e+11     1\n",
      "Name: PatientId, Length: 62299, dtype: int64\n",
      "\n",
      "\n",
      "---- AppointmentID ---\n",
      "\n",
      "5769215    1\n",
      "5731652    1\n",
      "5707080    1\n",
      "5702986    1\n",
      "5715276    1\n",
      "          ..\n",
      "5586290    1\n",
      "5584243    1\n",
      "5598584    1\n",
      "5602682    1\n",
      "5771266    1\n",
      "Name: AppointmentID, Length: 110527, dtype: int64\n",
      "\n",
      "\n",
      "---- Gender ---\n",
      "\n",
      "F    71840\n",
      "M    38687\n",
      "Name: Gender, dtype: int64\n",
      "\n",
      "\n",
      "---- ScheduledDay ---\n",
      "\n",
      "2016-05-06T07:09:54Z    24\n",
      "2016-05-06T07:09:53Z    23\n",
      "2016-04-25T17:17:46Z    22\n",
      "2016-04-25T17:18:27Z    22\n",
      "2016-04-25T17:17:23Z    19\n",
      "                        ..\n",
      "2016-05-10T08:52:00Z     1\n",
      "2016-05-09T10:11:46Z     1\n",
      "2016-04-08T09:30:48Z     1\n",
      "2016-05-12T15:33:14Z     1\n",
      "2016-05-16T11:11:39Z     1\n",
      "Name: ScheduledDay, Length: 103549, dtype: int64\n",
      "\n",
      "\n",
      "---- AppointmentDay ---\n",
      "\n",
      "2016-06-06T00:00:00Z    4692\n",
      "2016-05-16T00:00:00Z    4613\n",
      "2016-05-09T00:00:00Z    4520\n",
      "2016-05-30T00:00:00Z    4514\n",
      "2016-06-08T00:00:00Z    4479\n",
      "2016-05-11T00:00:00Z    4474\n",
      "2016-06-01T00:00:00Z    4464\n",
      "2016-06-07T00:00:00Z    4416\n",
      "2016-05-12T00:00:00Z    4394\n",
      "2016-05-02T00:00:00Z    4376\n",
      "2016-05-18T00:00:00Z    4373\n",
      "2016-05-17T00:00:00Z    4372\n",
      "2016-06-02T00:00:00Z    4310\n",
      "2016-05-10T00:00:00Z    4308\n",
      "2016-05-31T00:00:00Z    4279\n",
      "2016-05-05T00:00:00Z    4273\n",
      "2016-05-19T00:00:00Z    4270\n",
      "2016-05-03T00:00:00Z    4256\n",
      "2016-05-04T00:00:00Z    4168\n",
      "2016-06-03T00:00:00Z    4090\n",
      "2016-05-24T00:00:00Z    4009\n",
      "2016-05-13T00:00:00Z    3987\n",
      "2016-05-25T00:00:00Z    3909\n",
      "2016-05-06T00:00:00Z    3879\n",
      "2016-05-20T00:00:00Z    3828\n",
      "2016-04-29T00:00:00Z    3235\n",
      "2016-05-14T00:00:00Z      39\n",
      "Name: AppointmentDay, dtype: int64\n",
      "\n",
      "\n",
      "---- Age ---\n",
      "\n",
      " 0      3539\n",
      " 1      2273\n",
      " 52     1746\n",
      " 49     1652\n",
      " 53     1651\n",
      "        ... \n",
      " 115       5\n",
      " 100       4\n",
      " 102       2\n",
      " 99        1\n",
      "-1         1\n",
      "Name: Age, Length: 104, dtype: int64\n",
      "\n",
      "\n",
      "---- Neighbourhood ---\n",
      "\n",
      "JARDIM CAMBURI                 7717\n",
      "MARIA ORTIZ                    5805\n",
      "RESISTÊNCIA                    4431\n",
      "JARDIM DA PENHA                3877\n",
      "ITARARÉ                        3514\n",
      "                               ... \n",
      "ILHA DO BOI                      35\n",
      "ILHA DO FRADE                    10\n",
      "AEROPORTO                         8\n",
      "ILHAS OCEÂNICAS DE TRINDADE       2\n",
      "PARQUE INDUSTRIAL                 1\n",
      "Name: Neighbourhood, Length: 81, dtype: int64\n",
      "\n",
      "\n",
      "---- Scholarship ---\n",
      "\n",
      "0    99666\n",
      "1    10861\n",
      "Name: Scholarship, dtype: int64\n",
      "\n",
      "\n",
      "---- Hipertension ---\n",
      "\n",
      "0    88726\n",
      "1    21801\n",
      "Name: Hipertension, dtype: int64\n",
      "\n",
      "\n",
      "---- Diabetes ---\n",
      "\n",
      "0    102584\n",
      "1      7943\n",
      "Name: Diabetes, dtype: int64\n",
      "\n",
      "\n",
      "---- Alcoholism ---\n",
      "\n",
      "0    107167\n",
      "1      3360\n",
      "Name: Alcoholism, dtype: int64\n",
      "\n",
      "\n",
      "---- Handcap ---\n",
      "\n",
      "0    108286\n",
      "1      2042\n",
      "2       183\n",
      "3        13\n",
      "4         3\n",
      "Name: Handcap, dtype: int64\n",
      "\n",
      "\n",
      "---- SMS_received ---\n",
      "\n",
      "0    75045\n",
      "1    35482\n",
      "Name: SMS_received, dtype: int64\n",
      "\n",
      "\n",
      "---- No-show ---\n",
      "\n",
      "No     88208\n",
      "Yes    22319\n",
      "Name: No-show, dtype: int64\n"
     ]
    }
   ],
   "source": [
    "# Examining all columns for their value ranges, quantities and irregularities \n",
    "for c in df.columns:\n",
    "    print (\"\\n\\n---- %s ---\\n\" % c)\n",
    "    print (df[c].value_counts())"
   ]
  },
  {
   "cell_type": "markdown",
   "metadata": {},
   "source": [
    "---\n",
    "## Data processing\n",
    "[Table of contents](#Table-of-contents)\n",
    "\n",
    "Cleaning and processing data to be fit for modelling."
   ]
  },
  {
   "cell_type": "markdown",
   "metadata": {},
   "source": [
    "|#| Final Column Name |Default Column Name| Default data type | Final Data type | Description | Changes |\n",
    "| :-: | :-: | :-: | :-: | :-: | :- | :- |\n",
    "|1| [PatientId](#PatientId) | PatientId | float64 | object | 62298 unique values| Data type changed to object (string)|\n",
    "|2| [AppointmentID](#AppointmentID) | AppointmentID | int64 | -  | All values are unique | __Removed__ |\n",
    "|3| [Gender](#Gender) | Gender| object | int64 | Binary category | Converted to 0/1 int64 |\n",
    "|4| [BookingDate](#BookingDate) | ScheduledDay | object | - | Booking date in string |  __Removed__. Renamed to BookingDate. Converted to 3 int64 columns with year/day/month.|\n",
    "|5| [AppointmentDate](#AppointmentDate) | AppointmentDay | object | - | Date in string | __Removed__. Renamed to AppointmentDate. Converted to 3 int64 columns with year/day/month\n",
    "|6| [Age](#Age) | Age | float64 | int64 | 103 unique values | Data type changed to int64. Removed negative values |\n",
    "|7| [Neighbourhood](#Neighbourhood) | Neighbourhood | object | int64 | 81 unique values| Data type changed to int64 |\n",
    "|8| [Scholarship](#Scholarship) | Scholarship | int64 | int64 | Binary category | - |\n",
    "|9| [Hypertension](#Hipertension) | Hypertension | int64 | int64 | Binary category | Renamed to Hypertension |\n",
    "|10| [Diabetes](#Diabetes) | Diabetes | int64 | int64 | Binary category | - |\n",
    "|11| [Alcoholism](#Alcoholism) | Alcoholism | int64 | int64 |Binary category | - |\n",
    "|12| [Handicap](#Handicap) | Handcap| int64 | int64 | 5 unique values | Renamed to Handicap |\n",
    "|13| [SMSReceived](#SMSReceived) | SMS_received | int64 | int64 |Binary category | Renamed to SMSReceived |\n",
    "|14| [NoShow](#NoShow) | No-show | object | int64 | Binary category | Converted to 0/1 int64. Renamed to NoShow |\n",
    "|15| [YearBookingDate](#YearBookingDate) | - | -| int64 | Booking year | __New Column__ from BookingDate |\n",
    "|16| [MonthBookingDate](#MonthBookingDate) | - | - | int64 | Booking month | __New Column__ from BookingDate |\n",
    "|17| [DayBookingDate](#DayBookingDate) | - | - | int64 | Booking day of month | __New Column__ from BookingDate |\n",
    "|18| [YearAppointmentDate](#YearAppointmentDate) | - | - | int64 | Appointment year | __New Column__ from AppointmentDate |\n",
    "|19| [MonthAppointmentDate](#MonthAppointmentDate) | - | - | int64 | Appointment month | __New Column__ from AppointmentDate |\n",
    "|20| [DayAppointmentDate](#DayAppointmentDate) | - | - | int64 | Appointment day of month | __New Column__ from AppointmentDate |\n",
    "|21| [HourOfDayBooking](#HourOfDayBooking) | - | - | int64 | Booking hour of day| __New Column__ from BookingDate |\n",
    "|22| [DaysToAppointment](#DaysToAppointment) | - | - | int64 | Days from booking to appointment | __New Column__ from AppointmentDate - BookingDate, 5 negative records removed |\n",
    "|23| [AppointmentWeekDay](#AppointmentWeekDay) | - | - | int64 | Appointment day of week| __New Column__ from AppointmentDay |"
   ]
  },
  {
   "cell_type": "markdown",
   "metadata": {},
   "source": [
    "### PatientId"
   ]
  },
  {
   "cell_type": "code",
   "execution_count": 6,
   "metadata": {},
   "outputs": [],
   "source": [
    "df['PatientId'] = df['PatientId'].astype('int64') \n",
    "df['PatientId'] = df['PatientId'].astype('str')"
   ]
  },
  {
   "cell_type": "markdown",
   "metadata": {},
   "source": [
    "### AppointmentID"
   ]
  },
  {
   "cell_type": "code",
   "execution_count": 7,
   "metadata": {},
   "outputs": [],
   "source": [
    "df.drop(['AppointmentID'], axis=1, inplace=True)"
   ]
  },
  {
   "cell_type": "markdown",
   "metadata": {},
   "source": [
    "### Gender"
   ]
  },
  {
   "cell_type": "code",
   "execution_count": 8,
   "metadata": {},
   "outputs": [],
   "source": [
    "df['Gender'] = df['Gender'].factorize()[0]"
   ]
  },
  {
   "cell_type": "markdown",
   "metadata": {},
   "source": [
    "### BookingDate"
   ]
  },
  {
   "cell_type": "code",
   "execution_count": 9,
   "metadata": {},
   "outputs": [],
   "source": [
    "df.rename(columns = {'ScheduledDay': 'BookingDate',}, inplace = True)\n",
    "df['BookingDate'] = pd.to_datetime(df['BookingDate']).dt.date.astype('datetime64[ns]')"
   ]
  },
  {
   "cell_type": "markdown",
   "metadata": {},
   "source": [
    "### AppointmentDate"
   ]
  },
  {
   "cell_type": "code",
   "execution_count": 10,
   "metadata": {},
   "outputs": [],
   "source": [
    "df.rename(columns = {'AppointmentDay' : 'AppointmentDate'}, inplace = True)\n",
    "df['AppointmentDate'] = pd.to_datetime(df['AppointmentDate']).dt.date.astype('datetime64[ns]')"
   ]
  },
  {
   "cell_type": "markdown",
   "metadata": {},
   "source": [
    "### Age"
   ]
  },
  {
   "cell_type": "code",
   "execution_count": 11,
   "metadata": {},
   "outputs": [],
   "source": [
    "df.drop(df[df['Age'] < 0].index, inplace = True) "
   ]
  },
  {
   "cell_type": "markdown",
   "metadata": {},
   "source": [
    "### Neighbourhood"
   ]
  },
  {
   "cell_type": "code",
   "execution_count": 12,
   "metadata": {},
   "outputs": [],
   "source": [
    "df['Neighbourhood'] = df['Neighbourhood'].factorize()[0]"
   ]
  },
  {
   "cell_type": "markdown",
   "metadata": {},
   "source": [
    "### Hypertension"
   ]
  },
  {
   "cell_type": "code",
   "execution_count": 13,
   "metadata": {},
   "outputs": [],
   "source": [
    "df.rename(columns = {'Hipertension': 'Hypertension'},inplace = True)"
   ]
  },
  {
   "cell_type": "markdown",
   "metadata": {},
   "source": [
    "### Handicap"
   ]
  },
  {
   "cell_type": "code",
   "execution_count": 14,
   "metadata": {},
   "outputs": [],
   "source": [
    "df.rename(columns = {'Handcap': 'Handicap'}, inplace = True)"
   ]
  },
  {
   "cell_type": "markdown",
   "metadata": {},
   "source": [
    "### SMSReceived"
   ]
  },
  {
   "cell_type": "code",
   "execution_count": 15,
   "metadata": {},
   "outputs": [],
   "source": [
    "df.rename(columns = {'SMS_received': 'SMSReceived'}, inplace = True)"
   ]
  },
  {
   "cell_type": "markdown",
   "metadata": {},
   "source": [
    "### NoShow"
   ]
  },
  {
   "cell_type": "code",
   "execution_count": 16,
   "metadata": {},
   "outputs": [],
   "source": [
    "df.rename(columns = {'No-show': 'NoShow'}, inplace = True)\n",
    "df['NoShow'] = df['NoShow'].map({'Yes':1, 'No':0})"
   ]
  },
  {
   "cell_type": "markdown",
   "metadata": {},
   "source": [
    "### YearBookingDate \t"
   ]
  },
  {
   "cell_type": "code",
   "execution_count": 17,
   "metadata": {},
   "outputs": [],
   "source": [
    "df['YearBookingDate'] = df['BookingDate'].dt.year"
   ]
  },
  {
   "cell_type": "markdown",
   "metadata": {},
   "source": [
    "### MonthBookingDate \t"
   ]
  },
  {
   "cell_type": "code",
   "execution_count": 18,
   "metadata": {},
   "outputs": [],
   "source": [
    "df['MonthBookingDate'] = df['BookingDate'].dt.month"
   ]
  },
  {
   "cell_type": "markdown",
   "metadata": {},
   "source": [
    "### DayBookingDate \t"
   ]
  },
  {
   "cell_type": "code",
   "execution_count": 19,
   "metadata": {},
   "outputs": [],
   "source": [
    "df['DayBookingDate'] = df['BookingDate'].dt.day"
   ]
  },
  {
   "cell_type": "markdown",
   "metadata": {},
   "source": [
    "### YearAppointmentDate"
   ]
  },
  {
   "cell_type": "code",
   "execution_count": 20,
   "metadata": {},
   "outputs": [],
   "source": [
    "df['YearAppointmentDate'] = df['AppointmentDate'].dt.year"
   ]
  },
  {
   "cell_type": "markdown",
   "metadata": {},
   "source": [
    "### MonthAppointmentDate \t"
   ]
  },
  {
   "cell_type": "code",
   "execution_count": 21,
   "metadata": {},
   "outputs": [],
   "source": [
    "df['MonthAppointmentDate'] = df['AppointmentDate'].dt.month"
   ]
  },
  {
   "cell_type": "markdown",
   "metadata": {},
   "source": [
    "### DayAppointmentDate \t"
   ]
  },
  {
   "cell_type": "code",
   "execution_count": 22,
   "metadata": {},
   "outputs": [],
   "source": [
    "df['DayAppointmentDate'] = df['AppointmentDate'].dt.day"
   ]
  },
  {
   "cell_type": "markdown",
   "metadata": {},
   "source": [
    "### HourOfDayBooking"
   ]
  },
  {
   "cell_type": "code",
   "execution_count": 23,
   "metadata": {},
   "outputs": [],
   "source": [
    "# Date  format in string:: 2016-04-29T18:38:08Z\n",
    "\n",
    "def calculateHour(ts):\n",
    "    ts = str(ts)\n",
    "    h = int(ts[11:13])\n",
    "    m = int(ts[14:16])\n",
    "    s = int(ts[17:19])\n",
    "    return round(h + m/60 + s/3600)\n",
    "\n",
    "df['HourOfDayBooking'] = df['BookingDate'].apply(calculateHour)"
   ]
  },
  {
   "cell_type": "markdown",
   "metadata": {},
   "source": [
    "### DaysToAppointment"
   ]
  },
  {
   "cell_type": "code",
   "execution_count": 24,
   "metadata": {},
   "outputs": [],
   "source": [
    "df['DaysToAppointment'] = df.AppointmentDate - df.BookingDate\n",
    "df['DaysToAppointment'] = df['DaysToAppointment'].apply(lambda x: x.total_seconds() / (3600 * 24))\n",
    "df['DaysToAppointment'] = df['DaysToAppointment'].astype('int64')\n",
    "df.drop(df[df['DaysToAppointment'] < 0].index, inplace = True) "
   ]
  },
  {
   "cell_type": "markdown",
   "metadata": {},
   "source": [
    "### AppointmentWeekDay"
   ]
  },
  {
   "cell_type": "code",
   "execution_count": 25,
   "metadata": {},
   "outputs": [],
   "source": [
    "df['AppointmentWeekDay'] = df['AppointmentDate'].dt.dayofweek"
   ]
  },
  {
   "cell_type": "markdown",
   "metadata": {},
   "source": [
    "### Removing redundant columns"
   ]
  },
  {
   "cell_type": "code",
   "execution_count": 26,
   "metadata": {},
   "outputs": [],
   "source": [
    "df.drop(['BookingDate','AppointmentDate'], axis=1, inplace=True)"
   ]
  },
  {
   "cell_type": "markdown",
   "metadata": {},
   "source": [
    "---\n",
    "### Final DataFrame view"
   ]
  },
  {
   "cell_type": "code",
   "execution_count": 27,
   "metadata": {},
   "outputs": [
    {
     "data": {
      "text/html": [
       "<div>\n",
       "<style scoped>\n",
       "    .dataframe tbody tr th:only-of-type {\n",
       "        vertical-align: middle;\n",
       "    }\n",
       "\n",
       "    .dataframe tbody tr th {\n",
       "        vertical-align: top;\n",
       "    }\n",
       "\n",
       "    .dataframe thead th {\n",
       "        text-align: right;\n",
       "    }\n",
       "</style>\n",
       "<table border=\"1\" class=\"dataframe\">\n",
       "  <thead>\n",
       "    <tr style=\"text-align: right;\">\n",
       "      <th></th>\n",
       "      <th>PatientId</th>\n",
       "      <th>Gender</th>\n",
       "      <th>Age</th>\n",
       "      <th>Neighbourhood</th>\n",
       "      <th>Scholarship</th>\n",
       "      <th>Hypertension</th>\n",
       "      <th>Diabetes</th>\n",
       "      <th>Alcoholism</th>\n",
       "      <th>Handicap</th>\n",
       "      <th>SMSReceived</th>\n",
       "      <th>NoShow</th>\n",
       "      <th>YearBookingDate</th>\n",
       "      <th>MonthBookingDate</th>\n",
       "      <th>DayBookingDate</th>\n",
       "      <th>YearAppointmentDate</th>\n",
       "      <th>MonthAppointmentDate</th>\n",
       "      <th>DayAppointmentDate</th>\n",
       "      <th>HourOfDayBooking</th>\n",
       "      <th>DaysToAppointment</th>\n",
       "      <th>AppointmentWeekDay</th>\n",
       "    </tr>\n",
       "  </thead>\n",
       "  <tbody>\n",
       "    <tr>\n",
       "      <td>0</td>\n",
       "      <td>29872499824296</td>\n",
       "      <td>0</td>\n",
       "      <td>62</td>\n",
       "      <td>0</td>\n",
       "      <td>0</td>\n",
       "      <td>1</td>\n",
       "      <td>0</td>\n",
       "      <td>0</td>\n",
       "      <td>0</td>\n",
       "      <td>0</td>\n",
       "      <td>0</td>\n",
       "      <td>2016</td>\n",
       "      <td>4</td>\n",
       "      <td>29</td>\n",
       "      <td>2016</td>\n",
       "      <td>4</td>\n",
       "      <td>29</td>\n",
       "      <td>0</td>\n",
       "      <td>0</td>\n",
       "      <td>4</td>\n",
       "    </tr>\n",
       "    <tr>\n",
       "      <td>1</td>\n",
       "      <td>558997776694438</td>\n",
       "      <td>1</td>\n",
       "      <td>56</td>\n",
       "      <td>0</td>\n",
       "      <td>0</td>\n",
       "      <td>0</td>\n",
       "      <td>0</td>\n",
       "      <td>0</td>\n",
       "      <td>0</td>\n",
       "      <td>0</td>\n",
       "      <td>0</td>\n",
       "      <td>2016</td>\n",
       "      <td>4</td>\n",
       "      <td>29</td>\n",
       "      <td>2016</td>\n",
       "      <td>4</td>\n",
       "      <td>29</td>\n",
       "      <td>0</td>\n",
       "      <td>0</td>\n",
       "      <td>4</td>\n",
       "    </tr>\n",
       "    <tr>\n",
       "      <td>2</td>\n",
       "      <td>4262962299951</td>\n",
       "      <td>0</td>\n",
       "      <td>62</td>\n",
       "      <td>1</td>\n",
       "      <td>0</td>\n",
       "      <td>0</td>\n",
       "      <td>0</td>\n",
       "      <td>0</td>\n",
       "      <td>0</td>\n",
       "      <td>0</td>\n",
       "      <td>0</td>\n",
       "      <td>2016</td>\n",
       "      <td>4</td>\n",
       "      <td>29</td>\n",
       "      <td>2016</td>\n",
       "      <td>4</td>\n",
       "      <td>29</td>\n",
       "      <td>0</td>\n",
       "      <td>0</td>\n",
       "      <td>4</td>\n",
       "    </tr>\n",
       "    <tr>\n",
       "      <td>3</td>\n",
       "      <td>867951213174</td>\n",
       "      <td>0</td>\n",
       "      <td>8</td>\n",
       "      <td>2</td>\n",
       "      <td>0</td>\n",
       "      <td>0</td>\n",
       "      <td>0</td>\n",
       "      <td>0</td>\n",
       "      <td>0</td>\n",
       "      <td>0</td>\n",
       "      <td>0</td>\n",
       "      <td>2016</td>\n",
       "      <td>4</td>\n",
       "      <td>29</td>\n",
       "      <td>2016</td>\n",
       "      <td>4</td>\n",
       "      <td>29</td>\n",
       "      <td>0</td>\n",
       "      <td>0</td>\n",
       "      <td>4</td>\n",
       "    </tr>\n",
       "    <tr>\n",
       "      <td>4</td>\n",
       "      <td>8841186448183</td>\n",
       "      <td>0</td>\n",
       "      <td>56</td>\n",
       "      <td>0</td>\n",
       "      <td>0</td>\n",
       "      <td>1</td>\n",
       "      <td>1</td>\n",
       "      <td>0</td>\n",
       "      <td>0</td>\n",
       "      <td>0</td>\n",
       "      <td>0</td>\n",
       "      <td>2016</td>\n",
       "      <td>4</td>\n",
       "      <td>29</td>\n",
       "      <td>2016</td>\n",
       "      <td>4</td>\n",
       "      <td>29</td>\n",
       "      <td>0</td>\n",
       "      <td>0</td>\n",
       "      <td>4</td>\n",
       "    </tr>\n",
       "    <tr>\n",
       "      <td>...</td>\n",
       "      <td>...</td>\n",
       "      <td>...</td>\n",
       "      <td>...</td>\n",
       "      <td>...</td>\n",
       "      <td>...</td>\n",
       "      <td>...</td>\n",
       "      <td>...</td>\n",
       "      <td>...</td>\n",
       "      <td>...</td>\n",
       "      <td>...</td>\n",
       "      <td>...</td>\n",
       "      <td>...</td>\n",
       "      <td>...</td>\n",
       "      <td>...</td>\n",
       "      <td>...</td>\n",
       "      <td>...</td>\n",
       "      <td>...</td>\n",
       "      <td>...</td>\n",
       "      <td>...</td>\n",
       "      <td>...</td>\n",
       "    </tr>\n",
       "    <tr>\n",
       "      <td>110522</td>\n",
       "      <td>2572134369293</td>\n",
       "      <td>0</td>\n",
       "      <td>56</td>\n",
       "      <td>22</td>\n",
       "      <td>0</td>\n",
       "      <td>0</td>\n",
       "      <td>0</td>\n",
       "      <td>0</td>\n",
       "      <td>0</td>\n",
       "      <td>1</td>\n",
       "      <td>0</td>\n",
       "      <td>2016</td>\n",
       "      <td>5</td>\n",
       "      <td>3</td>\n",
       "      <td>2016</td>\n",
       "      <td>6</td>\n",
       "      <td>7</td>\n",
       "      <td>0</td>\n",
       "      <td>35</td>\n",
       "      <td>1</td>\n",
       "    </tr>\n",
       "    <tr>\n",
       "      <td>110523</td>\n",
       "      <td>3596266328735</td>\n",
       "      <td>0</td>\n",
       "      <td>51</td>\n",
       "      <td>22</td>\n",
       "      <td>0</td>\n",
       "      <td>0</td>\n",
       "      <td>0</td>\n",
       "      <td>0</td>\n",
       "      <td>0</td>\n",
       "      <td>1</td>\n",
       "      <td>0</td>\n",
       "      <td>2016</td>\n",
       "      <td>5</td>\n",
       "      <td>3</td>\n",
       "      <td>2016</td>\n",
       "      <td>6</td>\n",
       "      <td>7</td>\n",
       "      <td>0</td>\n",
       "      <td>35</td>\n",
       "      <td>1</td>\n",
       "    </tr>\n",
       "    <tr>\n",
       "      <td>110524</td>\n",
       "      <td>15576631729893</td>\n",
       "      <td>0</td>\n",
       "      <td>21</td>\n",
       "      <td>22</td>\n",
       "      <td>0</td>\n",
       "      <td>0</td>\n",
       "      <td>0</td>\n",
       "      <td>0</td>\n",
       "      <td>0</td>\n",
       "      <td>1</td>\n",
       "      <td>0</td>\n",
       "      <td>2016</td>\n",
       "      <td>4</td>\n",
       "      <td>27</td>\n",
       "      <td>2016</td>\n",
       "      <td>6</td>\n",
       "      <td>7</td>\n",
       "      <td>0</td>\n",
       "      <td>41</td>\n",
       "      <td>1</td>\n",
       "    </tr>\n",
       "    <tr>\n",
       "      <td>110525</td>\n",
       "      <td>92134931435557</td>\n",
       "      <td>0</td>\n",
       "      <td>38</td>\n",
       "      <td>22</td>\n",
       "      <td>0</td>\n",
       "      <td>0</td>\n",
       "      <td>0</td>\n",
       "      <td>0</td>\n",
       "      <td>0</td>\n",
       "      <td>1</td>\n",
       "      <td>0</td>\n",
       "      <td>2016</td>\n",
       "      <td>4</td>\n",
       "      <td>27</td>\n",
       "      <td>2016</td>\n",
       "      <td>6</td>\n",
       "      <td>7</td>\n",
       "      <td>0</td>\n",
       "      <td>41</td>\n",
       "      <td>1</td>\n",
       "    </tr>\n",
       "    <tr>\n",
       "      <td>110526</td>\n",
       "      <td>377511518121127</td>\n",
       "      <td>0</td>\n",
       "      <td>54</td>\n",
       "      <td>22</td>\n",
       "      <td>0</td>\n",
       "      <td>0</td>\n",
       "      <td>0</td>\n",
       "      <td>0</td>\n",
       "      <td>0</td>\n",
       "      <td>1</td>\n",
       "      <td>0</td>\n",
       "      <td>2016</td>\n",
       "      <td>4</td>\n",
       "      <td>27</td>\n",
       "      <td>2016</td>\n",
       "      <td>6</td>\n",
       "      <td>7</td>\n",
       "      <td>0</td>\n",
       "      <td>41</td>\n",
       "      <td>1</td>\n",
       "    </tr>\n",
       "  </tbody>\n",
       "</table>\n",
       "<p>110521 rows × 20 columns</p>\n",
       "</div>"
      ],
      "text/plain": [
       "              PatientId  Gender  Age  Neighbourhood  Scholarship  \\\n",
       "0        29872499824296       0   62              0            0   \n",
       "1       558997776694438       1   56              0            0   \n",
       "2         4262962299951       0   62              1            0   \n",
       "3          867951213174       0    8              2            0   \n",
       "4         8841186448183       0   56              0            0   \n",
       "...                 ...     ...  ...            ...          ...   \n",
       "110522    2572134369293       0   56             22            0   \n",
       "110523    3596266328735       0   51             22            0   \n",
       "110524   15576631729893       0   21             22            0   \n",
       "110525   92134931435557       0   38             22            0   \n",
       "110526  377511518121127       0   54             22            0   \n",
       "\n",
       "        Hypertension  Diabetes  Alcoholism  Handicap  SMSReceived  NoShow  \\\n",
       "0                  1         0           0         0            0       0   \n",
       "1                  0         0           0         0            0       0   \n",
       "2                  0         0           0         0            0       0   \n",
       "3                  0         0           0         0            0       0   \n",
       "4                  1         1           0         0            0       0   \n",
       "...              ...       ...         ...       ...          ...     ...   \n",
       "110522             0         0           0         0            1       0   \n",
       "110523             0         0           0         0            1       0   \n",
       "110524             0         0           0         0            1       0   \n",
       "110525             0         0           0         0            1       0   \n",
       "110526             0         0           0         0            1       0   \n",
       "\n",
       "        YearBookingDate  MonthBookingDate  DayBookingDate  \\\n",
       "0                  2016                 4              29   \n",
       "1                  2016                 4              29   \n",
       "2                  2016                 4              29   \n",
       "3                  2016                 4              29   \n",
       "4                  2016                 4              29   \n",
       "...                 ...               ...             ...   \n",
       "110522             2016                 5               3   \n",
       "110523             2016                 5               3   \n",
       "110524             2016                 4              27   \n",
       "110525             2016                 4              27   \n",
       "110526             2016                 4              27   \n",
       "\n",
       "        YearAppointmentDate  MonthAppointmentDate  DayAppointmentDate  \\\n",
       "0                      2016                     4                  29   \n",
       "1                      2016                     4                  29   \n",
       "2                      2016                     4                  29   \n",
       "3                      2016                     4                  29   \n",
       "4                      2016                     4                  29   \n",
       "...                     ...                   ...                 ...   \n",
       "110522                 2016                     6                   7   \n",
       "110523                 2016                     6                   7   \n",
       "110524                 2016                     6                   7   \n",
       "110525                 2016                     6                   7   \n",
       "110526                 2016                     6                   7   \n",
       "\n",
       "        HourOfDayBooking  DaysToAppointment  AppointmentWeekDay  \n",
       "0                      0                  0                   4  \n",
       "1                      0                  0                   4  \n",
       "2                      0                  0                   4  \n",
       "3                      0                  0                   4  \n",
       "4                      0                  0                   4  \n",
       "...                  ...                ...                 ...  \n",
       "110522                 0                 35                   1  \n",
       "110523                 0                 35                   1  \n",
       "110524                 0                 41                   1  \n",
       "110525                 0                 41                   1  \n",
       "110526                 0                 41                   1  \n",
       "\n",
       "[110521 rows x 20 columns]"
      ]
     },
     "execution_count": 27,
     "metadata": {},
     "output_type": "execute_result"
    }
   ],
   "source": [
    "df"
   ]
  },
  {
   "cell_type": "markdown",
   "metadata": {},
   "source": [
    "---\n",
    "## Saving output\n",
    "[Table of contents](#Table-of-contents)"
   ]
  },
  {
   "cell_type": "code",
   "execution_count": 28,
   "metadata": {},
   "outputs": [],
   "source": [
    "df.to_csv('noshow_processed_data.csv')"
   ]
  }
 ],
 "metadata": {
  "kernelspec": {
   "display_name": "Python 3",
   "language": "python",
   "name": "python3"
  },
  "language_info": {
   "codemirror_mode": {
    "name": "ipython",
    "version": 3
   },
   "file_extension": ".py",
   "mimetype": "text/x-python",
   "name": "python",
   "nbconvert_exporter": "python",
   "pygments_lexer": "ipython3",
   "version": "3.7.3"
  }
 },
 "nbformat": 4,
 "nbformat_minor": 2
}
